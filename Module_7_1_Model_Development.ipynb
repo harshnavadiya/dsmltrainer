{
  "nbformat": 4,
  "nbformat_minor": 0,
  "metadata": {
    "colab": {
      "name": "Module 7.1 - Model-Development.ipynb",
      "version": "0.3.2",
      "provenance": [],
      "collapsed_sections": [],
      "include_colab_link": true
    },
    "language_info": {
      "codemirror_mode": {
        "name": "ipython",
        "version": 3
      },
      "file_extension": ".py",
      "mimetype": "text/x-python",
      "name": "python",
      "nbconvert_exporter": "python",
      "pygments_lexer": "ipython3",
      "version": "3.6.6"
    },
    "kernelspec": {
      "display_name": "Python 3",
      "language": "python",
      "name": "python3"
    }
  },
  "cells": [
    {
      "cell_type": "markdown",
      "metadata": {
        "id": "view-in-github",
        "colab_type": "text"
      },
      "source": [
        "<a href=\"https://colab.research.google.com/github/harshnavadiya/dsmltrainer/blob/master/Module_7_1_Model_Development.ipynb\" target=\"_parent\"><img src=\"https://colab.research.google.com/assets/colab-badge.svg\" alt=\"Open In Colab\"/></a>"
      ]
    },
    {
      "cell_type": "markdown",
      "metadata": {
        "id": "cvtGae2qH3k5",
        "colab_type": "text"
      },
      "source": [
        "<h1>Module 4: Model Development</h1>"
      ]
    },
    {
      "cell_type": "markdown",
      "metadata": {
        "id": "2msH9sXlH3k5",
        "colab_type": "text"
      },
      "source": [
        "<p>In this section, we will develop several models that will predict the price of the car using the variables or features. This is just an estimate but should give us an objective idea of how much the car should cost.</p>"
      ]
    },
    {
      "cell_type": "markdown",
      "metadata": {
        "id": "cgZHPxaUH3k6",
        "colab_type": "text"
      },
      "source": [
        "Some questions we want to ask in this module\n",
        "<ul>\n",
        "    <li>do I know if the dealer is offering fair value for my trade-in?</li>\n",
        "    <li>do I know if I put a fair value on my car?</li>\n",
        "</ul>\n",
        "<p>Data Analytics, we often use <b>Model Development</b> to help us predict future observations from the data we have.</p>\n",
        "\n",
        "<p>A Model will help us understand the exact relationship between different variables and how these variables are used to predict the result.</p>"
      ]
    },
    {
      "cell_type": "markdown",
      "metadata": {
        "id": "Ux4yXBfNH3k7",
        "colab_type": "text"
      },
      "source": [
        "<h4>Setup</h4>"
      ]
    },
    {
      "cell_type": "markdown",
      "metadata": {
        "id": "6-K3ttD1H3k7",
        "colab_type": "text"
      },
      "source": [
        " Import libraries"
      ]
    },
    {
      "cell_type": "code",
      "metadata": {
        "id": "PbHHhx6AH3k8",
        "colab_type": "code",
        "colab": {}
      },
      "source": [
        "import pandas as pd\n",
        "import numpy as np\n",
        "import matplotlib.pyplot as plt"
      ],
      "execution_count": 0,
      "outputs": []
    },
    {
      "cell_type": "markdown",
      "metadata": {
        "id": "E7BKIanJH3k-",
        "colab_type": "text"
      },
      "source": [
        "load data and store in dataframe df:"
      ]
    },
    {
      "cell_type": "code",
      "metadata": {
        "id": "RjJPlbkOH3k_",
        "colab_type": "code",
        "outputId": "9d8563b0-9ab1-434d-b9c1-5c8e5e0b4108",
        "colab": {
          "base_uri": "https://localhost:8080/",
          "height": 300
        }
      },
      "source": [
        "# path of data \n",
        "path = 'https://s3-api.us-geo.objectstorage.softlayer.net/cf-courses-data/CognitiveClass/DA0101EN/automobileEDA.csv'\n",
        "df = pd.read_csv(path)\n",
        "df.head()"
      ],
      "execution_count": 2,
      "outputs": [
        {
          "output_type": "execute_result",
          "data": {
            "text/html": [
              "<div>\n",
              "<style scoped>\n",
              "    .dataframe tbody tr th:only-of-type {\n",
              "        vertical-align: middle;\n",
              "    }\n",
              "\n",
              "    .dataframe tbody tr th {\n",
              "        vertical-align: top;\n",
              "    }\n",
              "\n",
              "    .dataframe thead th {\n",
              "        text-align: right;\n",
              "    }\n",
              "</style>\n",
              "<table border=\"1\" class=\"dataframe\">\n",
              "  <thead>\n",
              "    <tr style=\"text-align: right;\">\n",
              "      <th></th>\n",
              "      <th>symboling</th>\n",
              "      <th>normalized-losses</th>\n",
              "      <th>make</th>\n",
              "      <th>aspiration</th>\n",
              "      <th>num-of-doors</th>\n",
              "      <th>body-style</th>\n",
              "      <th>drive-wheels</th>\n",
              "      <th>engine-location</th>\n",
              "      <th>wheel-base</th>\n",
              "      <th>length</th>\n",
              "      <th>width</th>\n",
              "      <th>height</th>\n",
              "      <th>curb-weight</th>\n",
              "      <th>engine-type</th>\n",
              "      <th>num-of-cylinders</th>\n",
              "      <th>engine-size</th>\n",
              "      <th>fuel-system</th>\n",
              "      <th>bore</th>\n",
              "      <th>stroke</th>\n",
              "      <th>compression-ratio</th>\n",
              "      <th>horsepower</th>\n",
              "      <th>peak-rpm</th>\n",
              "      <th>city-mpg</th>\n",
              "      <th>highway-mpg</th>\n",
              "      <th>price</th>\n",
              "      <th>city-L/100km</th>\n",
              "      <th>horsepower-binned</th>\n",
              "      <th>diesel</th>\n",
              "      <th>gas</th>\n",
              "    </tr>\n",
              "  </thead>\n",
              "  <tbody>\n",
              "    <tr>\n",
              "      <th>0</th>\n",
              "      <td>3</td>\n",
              "      <td>122</td>\n",
              "      <td>alfa-romero</td>\n",
              "      <td>std</td>\n",
              "      <td>two</td>\n",
              "      <td>convertible</td>\n",
              "      <td>rwd</td>\n",
              "      <td>front</td>\n",
              "      <td>88.6</td>\n",
              "      <td>0.811148</td>\n",
              "      <td>0.890278</td>\n",
              "      <td>48.8</td>\n",
              "      <td>2548</td>\n",
              "      <td>dohc</td>\n",
              "      <td>four</td>\n",
              "      <td>130</td>\n",
              "      <td>mpfi</td>\n",
              "      <td>3.47</td>\n",
              "      <td>2.68</td>\n",
              "      <td>9.0</td>\n",
              "      <td>111.0</td>\n",
              "      <td>5000.0</td>\n",
              "      <td>21</td>\n",
              "      <td>27</td>\n",
              "      <td>13495.0</td>\n",
              "      <td>11.190476</td>\n",
              "      <td>Medium</td>\n",
              "      <td>0</td>\n",
              "      <td>1</td>\n",
              "    </tr>\n",
              "    <tr>\n",
              "      <th>1</th>\n",
              "      <td>3</td>\n",
              "      <td>122</td>\n",
              "      <td>alfa-romero</td>\n",
              "      <td>std</td>\n",
              "      <td>two</td>\n",
              "      <td>convertible</td>\n",
              "      <td>rwd</td>\n",
              "      <td>front</td>\n",
              "      <td>88.6</td>\n",
              "      <td>0.811148</td>\n",
              "      <td>0.890278</td>\n",
              "      <td>48.8</td>\n",
              "      <td>2548</td>\n",
              "      <td>dohc</td>\n",
              "      <td>four</td>\n",
              "      <td>130</td>\n",
              "      <td>mpfi</td>\n",
              "      <td>3.47</td>\n",
              "      <td>2.68</td>\n",
              "      <td>9.0</td>\n",
              "      <td>111.0</td>\n",
              "      <td>5000.0</td>\n",
              "      <td>21</td>\n",
              "      <td>27</td>\n",
              "      <td>16500.0</td>\n",
              "      <td>11.190476</td>\n",
              "      <td>Medium</td>\n",
              "      <td>0</td>\n",
              "      <td>1</td>\n",
              "    </tr>\n",
              "    <tr>\n",
              "      <th>2</th>\n",
              "      <td>1</td>\n",
              "      <td>122</td>\n",
              "      <td>alfa-romero</td>\n",
              "      <td>std</td>\n",
              "      <td>two</td>\n",
              "      <td>hatchback</td>\n",
              "      <td>rwd</td>\n",
              "      <td>front</td>\n",
              "      <td>94.5</td>\n",
              "      <td>0.822681</td>\n",
              "      <td>0.909722</td>\n",
              "      <td>52.4</td>\n",
              "      <td>2823</td>\n",
              "      <td>ohcv</td>\n",
              "      <td>six</td>\n",
              "      <td>152</td>\n",
              "      <td>mpfi</td>\n",
              "      <td>2.68</td>\n",
              "      <td>3.47</td>\n",
              "      <td>9.0</td>\n",
              "      <td>154.0</td>\n",
              "      <td>5000.0</td>\n",
              "      <td>19</td>\n",
              "      <td>26</td>\n",
              "      <td>16500.0</td>\n",
              "      <td>12.368421</td>\n",
              "      <td>Medium</td>\n",
              "      <td>0</td>\n",
              "      <td>1</td>\n",
              "    </tr>\n",
              "    <tr>\n",
              "      <th>3</th>\n",
              "      <td>2</td>\n",
              "      <td>164</td>\n",
              "      <td>audi</td>\n",
              "      <td>std</td>\n",
              "      <td>four</td>\n",
              "      <td>sedan</td>\n",
              "      <td>fwd</td>\n",
              "      <td>front</td>\n",
              "      <td>99.8</td>\n",
              "      <td>0.848630</td>\n",
              "      <td>0.919444</td>\n",
              "      <td>54.3</td>\n",
              "      <td>2337</td>\n",
              "      <td>ohc</td>\n",
              "      <td>four</td>\n",
              "      <td>109</td>\n",
              "      <td>mpfi</td>\n",
              "      <td>3.19</td>\n",
              "      <td>3.40</td>\n",
              "      <td>10.0</td>\n",
              "      <td>102.0</td>\n",
              "      <td>5500.0</td>\n",
              "      <td>24</td>\n",
              "      <td>30</td>\n",
              "      <td>13950.0</td>\n",
              "      <td>9.791667</td>\n",
              "      <td>Medium</td>\n",
              "      <td>0</td>\n",
              "      <td>1</td>\n",
              "    </tr>\n",
              "    <tr>\n",
              "      <th>4</th>\n",
              "      <td>2</td>\n",
              "      <td>164</td>\n",
              "      <td>audi</td>\n",
              "      <td>std</td>\n",
              "      <td>four</td>\n",
              "      <td>sedan</td>\n",
              "      <td>4wd</td>\n",
              "      <td>front</td>\n",
              "      <td>99.4</td>\n",
              "      <td>0.848630</td>\n",
              "      <td>0.922222</td>\n",
              "      <td>54.3</td>\n",
              "      <td>2824</td>\n",
              "      <td>ohc</td>\n",
              "      <td>five</td>\n",
              "      <td>136</td>\n",
              "      <td>mpfi</td>\n",
              "      <td>3.19</td>\n",
              "      <td>3.40</td>\n",
              "      <td>8.0</td>\n",
              "      <td>115.0</td>\n",
              "      <td>5500.0</td>\n",
              "      <td>18</td>\n",
              "      <td>22</td>\n",
              "      <td>17450.0</td>\n",
              "      <td>13.055556</td>\n",
              "      <td>Medium</td>\n",
              "      <td>0</td>\n",
              "      <td>1</td>\n",
              "    </tr>\n",
              "  </tbody>\n",
              "</table>\n",
              "</div>"
            ],
            "text/plain": [
              "   symboling  normalized-losses         make  ... horsepower-binned diesel gas\n",
              "0          3                122  alfa-romero  ...            Medium      0   1\n",
              "1          3                122  alfa-romero  ...            Medium      0   1\n",
              "2          1                122  alfa-romero  ...            Medium      0   1\n",
              "3          2                164         audi  ...            Medium      0   1\n",
              "4          2                164         audi  ...            Medium      0   1\n",
              "\n",
              "[5 rows x 29 columns]"
            ]
          },
          "metadata": {
            "tags": []
          },
          "execution_count": 2
        }
      ]
    },
    {
      "cell_type": "markdown",
      "metadata": {
        "id": "NHMG422BH3lD",
        "colab_type": "text"
      },
      "source": [
        "<h3>1. Linear Regression and Multiple Linear Regression</h3>"
      ]
    },
    {
      "cell_type": "markdown",
      "metadata": {
        "id": "1LyODHWBH3lD",
        "colab_type": "text"
      },
      "source": [
        "<h4>Linear Regression</h4>"
      ]
    },
    {
      "cell_type": "markdown",
      "metadata": {
        "id": "kb-I_NHPH3lE",
        "colab_type": "text"
      },
      "source": [
        "\n",
        "<p>One example of a Data  Model that we will be using is</p>\n",
        "<b>Simple Linear Regression</b>.\n",
        "\n",
        "<br>\n",
        "<p>Simple Linear Regression is a method to help us understand the relationship between two variables:</p>\n",
        "<ul>\n",
        "    <li>The predictor/independent variable (X)</li>\n",
        "    <li>The response/dependent variable (that we want to predict)(Y)</li>\n",
        "</ul>\n",
        "\n",
        "<p>The result of Linear Regression is a <b>linear function</b> that predicts the response (dependent) variable as a function of the predictor (independent) variable.</p>\n",
        "\n"
      ]
    },
    {
      "cell_type": "markdown",
      "metadata": {
        "id": "C_JngVPXH3lF",
        "colab_type": "text"
      },
      "source": [
        "$$\n",
        " Y: Response \\ Variable\\\\\n",
        " X: Predictor \\ Variables\n",
        "$$\n"
      ]
    },
    {
      "cell_type": "markdown",
      "metadata": {
        "id": "Pqv5d905H3lF",
        "colab_type": "text"
      },
      "source": [
        " <b>Linear function:</b>\n",
        "$$\n",
        "Yhat = a + b  X\n",
        "$$"
      ]
    },
    {
      "cell_type": "markdown",
      "metadata": {
        "id": "YWHq_5m1H3lG",
        "colab_type": "text"
      },
      "source": [
        "<ul>\n",
        "    <li>a refers to the <b>intercept</b> of the regression line0, in other words: the value of Y when X is 0</li>\n",
        "    <li>b refers to the <b>slope</b> of the regression line, in other words: the value with which Y changes when X increases by 1 unit</li>\n",
        "</ul>"
      ]
    },
    {
      "cell_type": "markdown",
      "metadata": {
        "id": "u9exWl8KH3lG",
        "colab_type": "text"
      },
      "source": [
        "<h4>Lets load the modules for linear regression</h4>"
      ]
    },
    {
      "cell_type": "code",
      "metadata": {
        "id": "Fhy6E_mKH3lH",
        "colab_type": "code",
        "colab": {}
      },
      "source": [
        "from sklearn.linear_model import LinearRegression"
      ],
      "execution_count": 0,
      "outputs": []
    },
    {
      "cell_type": "markdown",
      "metadata": {
        "id": "qM7xT2cBH3lI",
        "colab_type": "text"
      },
      "source": [
        "<h4>Create the linear regression object</h4>"
      ]
    },
    {
      "cell_type": "code",
      "metadata": {
        "id": "mXJDjvCYH3lJ",
        "colab_type": "code",
        "outputId": "f2f57853-4823-4488-c173-dbb76e1aa17d",
        "colab": {
          "base_uri": "https://localhost:8080/",
          "height": 33
        }
      },
      "source": [
        "lm = LinearRegression()\n",
        "lm"
      ],
      "execution_count": 4,
      "outputs": [
        {
          "output_type": "execute_result",
          "data": {
            "text/plain": [
              "LinearRegression(copy_X=True, fit_intercept=True, n_jobs=None, normalize=False)"
            ]
          },
          "metadata": {
            "tags": []
          },
          "execution_count": 4
        }
      ]
    },
    {
      "cell_type": "markdown",
      "metadata": {
        "id": "pwmn30fAH3lL",
        "colab_type": "text"
      },
      "source": [
        "<h4>How could Highway-mpg help us predict car price?</h4>"
      ]
    },
    {
      "cell_type": "markdown",
      "metadata": {
        "id": "Y97VJ3iZH3lM",
        "colab_type": "text"
      },
      "source": [
        "For this example, we want to look at how highway-mpg can help us predict car price.\n",
        "Using simple linear regression, we will create a linear function with \"highway-mpg\" as the predictor variable and the \"price\" as the response variable."
      ]
    },
    {
      "cell_type": "code",
      "metadata": {
        "id": "2GG8lr-sH3lM",
        "colab_type": "code",
        "colab": {}
      },
      "source": [
        "X = df[['highway-mpg']]\n",
        "Y = df['price']"
      ],
      "execution_count": 0,
      "outputs": []
    },
    {
      "cell_type": "markdown",
      "metadata": {
        "id": "jLwXVCMZH3lO",
        "colab_type": "text"
      },
      "source": [
        "Fit the linear model using highway-mpg."
      ]
    },
    {
      "cell_type": "code",
      "metadata": {
        "id": "AueqLa0wH3lP",
        "colab_type": "code",
        "outputId": "a144f74b-e856-4993-ae86-04684a24e50a",
        "colab": {
          "base_uri": "https://localhost:8080/",
          "height": 33
        }
      },
      "source": [
        "lm.fit(X,Y)"
      ],
      "execution_count": 6,
      "outputs": [
        {
          "output_type": "execute_result",
          "data": {
            "text/plain": [
              "LinearRegression(copy_X=True, fit_intercept=True, n_jobs=None, normalize=False)"
            ]
          },
          "metadata": {
            "tags": []
          },
          "execution_count": 6
        }
      ]
    },
    {
      "cell_type": "markdown",
      "metadata": {
        "id": "ggJ9-dx9H3lR",
        "colab_type": "text"
      },
      "source": [
        " We can output a prediction "
      ]
    },
    {
      "cell_type": "code",
      "metadata": {
        "id": "HtEYzqHCH3lR",
        "colab_type": "code",
        "outputId": "9d9390ea-7d2a-423b-bf41-2987e4b2b75e",
        "colab": {
          "base_uri": "https://localhost:8080/",
          "height": 50
        }
      },
      "source": [
        "Yhat=lm.predict(X)\n",
        "Yhat[0:5] "
      ],
      "execution_count": 13,
      "outputs": [
        {
          "output_type": "execute_result",
          "data": {
            "text/plain": [
              "array([16236.50464347, 16236.50464347, 17058.23802179, 13771.3045085 ,\n",
              "       20345.17153508])"
            ]
          },
          "metadata": {
            "tags": []
          },
          "execution_count": 13
        }
      ]
    },
    {
      "cell_type": "markdown",
      "metadata": {
        "id": "acnYYCtWH3lU",
        "colab_type": "text"
      },
      "source": [
        "<h4>What is the value of the intercept (a)?</h4>"
      ]
    },
    {
      "cell_type": "code",
      "metadata": {
        "id": "RvGWRyI7H3lU",
        "colab_type": "code",
        "outputId": "9283448b-1ff3-4b8e-fdd6-9e43544da894",
        "colab": {
          "base_uri": "https://localhost:8080/",
          "height": 33
        }
      },
      "source": [
        "lm.intercept_"
      ],
      "execution_count": 14,
      "outputs": [
        {
          "output_type": "execute_result",
          "data": {
            "text/plain": [
              "38423.3058581574"
            ]
          },
          "metadata": {
            "tags": []
          },
          "execution_count": 14
        }
      ]
    },
    {
      "cell_type": "markdown",
      "metadata": {
        "id": "LDCHxN8TH3lX",
        "colab_type": "text"
      },
      "source": [
        "<h4>What is the value of the Slope (b)?</h4>"
      ]
    },
    {
      "cell_type": "code",
      "metadata": {
        "scrolled": true,
        "id": "3l6-1MjkH3lX",
        "colab_type": "code",
        "outputId": "3c1ddb2c-04e4-4d9a-fa95-b72ad6b0ea5d",
        "colab": {
          "base_uri": "https://localhost:8080/",
          "height": 33
        }
      },
      "source": [
        "lm.coef_"
      ],
      "execution_count": 15,
      "outputs": [
        {
          "output_type": "execute_result",
          "data": {
            "text/plain": [
              "array([-821.73337832])"
            ]
          },
          "metadata": {
            "tags": []
          },
          "execution_count": 15
        }
      ]
    },
    {
      "cell_type": "markdown",
      "metadata": {
        "id": "NhthC8KMH3la",
        "colab_type": "text"
      },
      "source": [
        "<h3>What is the final estimated linear model we get?</h3>"
      ]
    },
    {
      "cell_type": "markdown",
      "metadata": {
        "id": "fs_A-L9tH3la",
        "colab_type": "text"
      },
      "source": [
        "As we saw above, we should get a final linear model with the structure:"
      ]
    },
    {
      "cell_type": "markdown",
      "metadata": {
        "id": "R-Ic_4CNH3lb",
        "colab_type": "text"
      },
      "source": [
        "$$\n",
        "Yhat = a + b  X\n",
        "$$"
      ]
    },
    {
      "cell_type": "markdown",
      "metadata": {
        "id": "gQHE7axtH3lb",
        "colab_type": "text"
      },
      "source": [
        "Plugging in the actual values we get:"
      ]
    },
    {
      "cell_type": "markdown",
      "metadata": {
        "id": "FeLT1HEaH3lc",
        "colab_type": "text"
      },
      "source": [
        "<b>price</b> = 38423.31 - 821.73 x  <b>highway-mpg</b>"
      ]
    },
    {
      "cell_type": "markdown",
      "metadata": {
        "id": "8NqDrp0MH3lc",
        "colab_type": "text"
      },
      "source": [
        "<div class=\"alert alert-danger alertdanger\" style=\"margin-top: 20px\">\n",
        "<h1>Question #1 a): </h1>\n",
        "\n",
        "<b>Create a linear regression object?</b>\n",
        "</div>"
      ]
    },
    {
      "cell_type": "code",
      "metadata": {
        "id": "_LeXYYKeH3ld",
        "colab_type": "code",
        "colab": {}
      },
      "source": [
        "# Write your code below and press Shift+Enter to execute \n",
        "from sklearn.linear_model import LinearRegression\n",
        "lm1 = LinearRegression()\n"
      ],
      "execution_count": 0,
      "outputs": []
    },
    {
      "cell_type": "markdown",
      "metadata": {
        "id": "1el0D9PQH3lg",
        "colab_type": "text"
      },
      "source": [
        "Double-click <b>here</b> for the solution.\n",
        "\n",
        "<!-- The answer is below:\n",
        "\n",
        "lm1 = LinearRegression()\n",
        "lm1 \n",
        "\n",
        "-->"
      ]
    },
    {
      "cell_type": "markdown",
      "metadata": {
        "id": "exOPBT3RH3lh",
        "colab_type": "text"
      },
      "source": [
        "<div class=\"alert alert-danger alertdanger\" style=\"margin-top: 20px\">\n",
        "<h1> Question #1 b): </h1>\n",
        "\n",
        "<b>Train the model using 'engine-size' as the independent variable and 'price' as the dependent variable?</b>\n",
        "</div>"
      ]
    },
    {
      "cell_type": "code",
      "metadata": {
        "id": "I4TVeBEtH3li",
        "colab_type": "code",
        "colab": {}
      },
      "source": [
        "# Write your code below and press Shift+Enter to execute \n",
        "X = df[['engine-size']]\n",
        "Y = df['price']\n",
        "\n",
        "lm1.fit(X,Y)\n",
        "Y_hat = lm1.predict(X)\n",
        "\n",
        "# Y_hat[0:5]\n"
      ],
      "execution_count": 0,
      "outputs": []
    },
    {
      "cell_type": "markdown",
      "metadata": {
        "id": "DkstaH3sH3lk",
        "colab_type": "text"
      },
      "source": [
        "Double-click <b>here</b> for the solution.\n",
        "\n",
        "<!-- The answer is below:\n",
        "\n",
        "lm1.fit(df[['highway-mpg']], df[['price']])\n",
        "lm1\n",
        "\n",
        "-->\n"
      ]
    },
    {
      "cell_type": "markdown",
      "metadata": {
        "id": "HMFcg7aaH3ll",
        "colab_type": "text"
      },
      "source": [
        "<div class=\"alert alert-danger alertdanger\" style=\"margin-top: 20px\">\n",
        "<h1>Question #1 c):</h1>\n",
        "\n",
        "<b>Find the slope and intercept of the model?</b>\n",
        "</div>"
      ]
    },
    {
      "cell_type": "markdown",
      "metadata": {
        "id": "JG1sqeCwH3lm",
        "colab_type": "text"
      },
      "source": [
        "<h4>Slope</h4>"
      ]
    },
    {
      "cell_type": "code",
      "metadata": {
        "id": "60V3dnzOH3lm",
        "colab_type": "code",
        "outputId": "b033717a-7681-46cd-b190-fb6695fe6df4",
        "colab": {
          "base_uri": "https://localhost:8080/",
          "height": 33
        }
      },
      "source": [
        "# Write your code below and press Shift+Enter to execute \n",
        "lm1.coef_"
      ],
      "execution_count": 34,
      "outputs": [
        {
          "output_type": "execute_result",
          "data": {
            "text/plain": [
              "array([166.86001569])"
            ]
          },
          "metadata": {
            "tags": []
          },
          "execution_count": 34
        }
      ]
    },
    {
      "cell_type": "markdown",
      "metadata": {
        "id": "btdsuhGaH3lp",
        "colab_type": "text"
      },
      "source": [
        "<h4>Intercept</h4>"
      ]
    },
    {
      "cell_type": "code",
      "metadata": {
        "id": "D33VMJ0GH3lp",
        "colab_type": "code",
        "outputId": "badbc7ea-092b-4dc9-a776-bdd33315ca22",
        "colab": {
          "base_uri": "https://localhost:8080/",
          "height": 33
        }
      },
      "source": [
        "# Write your code below and press Shift+Enter to execute \n",
        "lm1.intercept_"
      ],
      "execution_count": 35,
      "outputs": [
        {
          "output_type": "execute_result",
          "data": {
            "text/plain": [
              "-7963.338906281042"
            ]
          },
          "metadata": {
            "tags": []
          },
          "execution_count": 35
        }
      ]
    },
    {
      "cell_type": "markdown",
      "metadata": {
        "id": "X8VXzrVhH3lr",
        "colab_type": "text"
      },
      "source": [
        "Double-click <b>here</b> for the solution.\n",
        "\n",
        "<!-- The answer is below:\n",
        "\n",
        "# Slope \n",
        "lm1.coef_\n",
        "# Intercept\n",
        "lm1.intercept_\n",
        "\n",
        "-->"
      ]
    },
    {
      "cell_type": "markdown",
      "metadata": {
        "id": "LaV_ra1QH3lu",
        "colab_type": "text"
      },
      "source": [
        "<div class=\"alert alert-danger alertdanger\" style=\"margin-top: 20px\">\n",
        "<h1>Question #1 d): </h1>\n",
        "\n",
        "<b>What is the equation of the predicted line. You can use x and yhat or 'engine-size' or 'price'?</b>\n",
        "</div>"
      ]
    },
    {
      "cell_type": "code",
      "metadata": {
        "id": "LuverLZlPlTU",
        "colab_type": "code",
        "colab": {}
      },
      "source": [
        ""
      ],
      "execution_count": 0,
      "outputs": []
    },
    {
      "cell_type": "markdown",
      "metadata": {
        "id": "NG4Va7o6Pm3c",
        "colab_type": "text"
      },
      "source": [
        "y=a+bx\n",
        "a=166.860\n",
        "b=-7963.3389\n",
        "x=20"
      ]
    },
    {
      "cell_type": "markdown",
      "metadata": {
        "id": "6pc3jNanH3lu",
        "colab_type": "text"
      },
      "source": [
        "# You can type you answer here\n"
      ]
    },
    {
      "cell_type": "markdown",
      "metadata": {
        "id": "-y8YvSJCH3lu",
        "colab_type": "text"
      },
      "source": [
        "**Double**-click <b>here</b> for the solution.\n",
        "\n",
        "<!-- The answer is below:\n",
        "\n",
        "# using X and Y  \n",
        "Yhat=*38423*.31-821.733*X\n",
        "\n",
        "Price=38423.31-821.733*engine-size\n",
        "\n",
        "-->"
      ]
    },
    {
      "cell_type": "markdown",
      "metadata": {
        "id": "_2-8rWjrH3lv",
        "colab_type": "text"
      },
      "source": [
        "<h4>Multiple Linear Regression</h4>"
      ]
    },
    {
      "cell_type": "markdown",
      "metadata": {
        "id": "sx5rHuXiH3lv",
        "colab_type": "text"
      },
      "source": [
        "<p>What if we want to predict car price using more than one variable?</p>\n",
        "\n",
        "<p>If we want to use more variables in our model to predict car price, we can use <b>Multiple Linear Regression</b>.\n",
        "Multiple Linear Regression is very similar to Simple Linear Regression, but this method is used to explain the relationship between one continuous response (dependent) variable and <b>two or more</b> predictor (independent) variables.\n",
        "Most of the real-world regression models involve multiple predictors. We will illustrate the structure by using four predictor variables, but these results can generalize to any integer:</p>"
      ]
    },
    {
      "cell_type": "markdown",
      "metadata": {
        "id": "HfA8no00H3lw",
        "colab_type": "text"
      },
      "source": [
        "$$\n",
        "Y: Response \\ Variable\\\\\n",
        "X_1 :Predictor\\ Variable \\ 1\\\\\n",
        "X_2: Predictor\\ Variable \\ 2\\\\\n",
        "X_3: Predictor\\ Variable \\ 3\\\\\n",
        "X_4: Predictor\\ Variable \\ 4\\\\\n",
        "$$"
      ]
    },
    {
      "cell_type": "markdown",
      "metadata": {
        "id": "v-mhvisiH3lw",
        "colab_type": "text"
      },
      "source": [
        "$$\n",
        "a: intercept\\\\\n",
        "b_1 :coefficients \\ of\\ Variable \\ 1\\\\\n",
        "b_2: coefficients \\ of\\ Variable \\ 2\\\\\n",
        "b_3: coefficients \\ of\\ Variable \\ 3\\\\\n",
        "b_4: coefficients \\ of\\ Variable \\ 4\\\\\n",
        "$$"
      ]
    },
    {
      "cell_type": "markdown",
      "metadata": {
        "id": "Xf_44t4XH3lx",
        "colab_type": "text"
      },
      "source": [
        "The equation is given by"
      ]
    },
    {
      "cell_type": "markdown",
      "metadata": {
        "id": "OarJjEPIH3lx",
        "colab_type": "text"
      },
      "source": [
        "$$\n",
        "Yhat = a + b_1 X_1 + b_2 X_2 + b_3 X_3 + b_4 X_4\n",
        "$$"
      ]
    },
    {
      "cell_type": "markdown",
      "metadata": {
        "id": "9tQ9xROWH3ly",
        "colab_type": "text"
      },
      "source": [
        "<p>From the previous section  we know that other good predictors of price could be:</p>\n",
        "<ul>\n",
        "    <li>Horsepower</li>\n",
        "    <li>Curb-weight</li>\n",
        "    <li>Engine-size</li>\n",
        "    <li>Highway-mpg</li>\n",
        "</ul>\n",
        "Let's develop a model using these variables as the predictor variables."
      ]
    },
    {
      "cell_type": "code",
      "metadata": {
        "id": "nKFq3NetH3ly",
        "colab_type": "code",
        "colab": {}
      },
      "source": [
        "Z = df[['horsepower', 'curb-weight', 'engine-size', 'highway-mpg']]"
      ],
      "execution_count": 0,
      "outputs": []
    },
    {
      "cell_type": "markdown",
      "metadata": {
        "id": "XH3K685SH3l0",
        "colab_type": "text"
      },
      "source": [
        "Fit the linear model using the four above-mentioned variables."
      ]
    },
    {
      "cell_type": "code",
      "metadata": {
        "id": "W2FOHemhH3l1",
        "colab_type": "code",
        "outputId": "9a8f7c85-779a-4ffd-f26f-654d6729cd39",
        "colab": {
          "base_uri": "https://localhost:8080/",
          "height": 33
        }
      },
      "source": [
        "lm.fit(Z, df['price'])"
      ],
      "execution_count": 58,
      "outputs": [
        {
          "output_type": "execute_result",
          "data": {
            "text/plain": [
              "LinearRegression(copy_X=True, fit_intercept=True, n_jobs=None, normalize=False)"
            ]
          },
          "metadata": {
            "tags": []
          },
          "execution_count": 58
        }
      ]
    },
    {
      "cell_type": "markdown",
      "metadata": {
        "id": "W5RtYgi4H3l3",
        "colab_type": "text"
      },
      "source": [
        "What is the value of the intercept(a)?"
      ]
    },
    {
      "cell_type": "code",
      "metadata": {
        "id": "B0TTPxaeH3l3",
        "colab_type": "code",
        "outputId": "88116154-1fc1-4131-ad7a-49cba8dbc860",
        "colab": {
          "base_uri": "https://localhost:8080/",
          "height": 33
        }
      },
      "source": [
        "lm.intercept_"
      ],
      "execution_count": 59,
      "outputs": [
        {
          "output_type": "execute_result",
          "data": {
            "text/plain": [
              "-15806.62462632922"
            ]
          },
          "metadata": {
            "tags": []
          },
          "execution_count": 59
        }
      ]
    },
    {
      "cell_type": "markdown",
      "metadata": {
        "id": "XnVYr6cyH3l6",
        "colab_type": "text"
      },
      "source": [
        "What are the values of the coefficients (b1, b2, b3, b4)?"
      ]
    },
    {
      "cell_type": "code",
      "metadata": {
        "id": "J-MgAJ2mH3l6",
        "colab_type": "code",
        "outputId": "0b0b3049-6679-40ea-f30a-64d986d8d4dc",
        "colab": {
          "base_uri": "https://localhost:8080/",
          "height": 33
        }
      },
      "source": [
        "lm.coef_"
      ],
      "execution_count": 60,
      "outputs": [
        {
          "output_type": "execute_result",
          "data": {
            "text/plain": [
              "array([53.49574423,  4.70770099, 81.53026382, 36.05748882])"
            ]
          },
          "metadata": {
            "tags": []
          },
          "execution_count": 60
        }
      ]
    },
    {
      "cell_type": "markdown",
      "metadata": {
        "id": "5TqQO1VOH3l8",
        "colab_type": "text"
      },
      "source": [
        " What is the final estimated linear model that we get?"
      ]
    },
    {
      "cell_type": "markdown",
      "metadata": {
        "id": "1hI5J1f_H3l9",
        "colab_type": "text"
      },
      "source": [
        "As we saw above, we should get a final linear function with the structure:\n",
        "\n",
        "$$\n",
        "Yhat = a + b_1 X_1 + b_2 X_2 + b_3 X_3 + b_4 X_4\n",
        "$$\n",
        "\n",
        "What is the linear function we get in this example?"
      ]
    },
    {
      "cell_type": "markdown",
      "metadata": {
        "id": "M4fm-WpTH3l-",
        "colab_type": "text"
      },
      "source": [
        "<b>Price</b> = -15678.742628061467 + 52.65851272 x <b>horsepower</b> + 4.69878948 x <b>curb-weight</b> + 81.95906216 x <b>engine-size</b> + 33.58258185 x <b>highway-mpg</b>"
      ]
    },
    {
      "cell_type": "markdown",
      "metadata": {
        "id": "UfkZ4mjAH3l-",
        "colab_type": "text"
      },
      "source": [
        "<div class=\"alert alert-danger alertdanger\" style=\"margin-top: 20px\">\n",
        "<h1> Question  #2 a): </h1>\n",
        "Create and train a Multiple Linear Regression model \"lm2\" where the response variable is price, and the predictor variable is 'normalized-losses' and  'highway-mpg'.\n",
        "</div>"
      ]
    },
    {
      "cell_type": "code",
      "metadata": {
        "id": "Tk0fUo8oH3l_",
        "colab_type": "code",
        "outputId": "aeb5d72a-bc43-446d-c9ce-49eba91d6531",
        "colab": {
          "base_uri": "https://localhost:8080/",
          "height": 50
        }
      },
      "source": [
        "# Write your code below and press Shift+Enter to execute \n",
        "X = df[[\"normalized-losses\",\"highway-mpg\"]]\n",
        "Y = df[\"price\"]\n",
        "\n",
        "lm2 = LinearRegression()\n",
        "lm2.fit(X,Y)\n",
        "yhat=lm2.predict(X)\n",
        "yhat[0:5]\n",
        "\n"
      ],
      "execution_count": 40,
      "outputs": [
        {
          "output_type": "execute_result",
          "data": {
            "text/plain": [
              "array([16231.78938339, 16231.78938339, 17052.24372355, 13833.33798916,\n",
              "       20396.97271047])"
            ]
          },
          "metadata": {
            "tags": []
          },
          "execution_count": 40
        }
      ]
    },
    {
      "cell_type": "markdown",
      "metadata": {
        "id": "vntMfCCDH3mB",
        "colab_type": "text"
      },
      "source": [
        "***Double***-click <b>here</b> for the solution.\n",
        "\n",
        "<!-- The answer is below:\n",
        "\n",
        "lm2 = LinearRegression()\n",
        "lm2.fit(df[['normalized-losses' , 'highway-mpg']],df['price'])\n",
        "\n",
        "-->"
      ]
    },
    {
      "cell_type": "markdown",
      "metadata": {
        "id": "EhNPnL-uH3mC",
        "colab_type": "text"
      },
      "source": [
        "<div class=\"alert alert-danger alertdanger\" style=\"margin-top: 20px\">\n",
        "<h1>Question  #2 b): </h1>\n",
        "<b>Find the coefficient of the model?</b>\n",
        "</div>"
      ]
    },
    {
      "cell_type": "code",
      "metadata": {
        "id": "BtdrBbBxH3mD",
        "colab_type": "code",
        "outputId": "d75648f1-c536-436a-c04a-175fc0b4471a",
        "colab": {
          "base_uri": "https://localhost:8080/",
          "height": 33
        }
      },
      "source": [
        "# Write your code below and press Shift+Enter to execute \n",
        "\n",
        "lm2.coef_"
      ],
      "execution_count": 37,
      "outputs": [
        {
          "output_type": "execute_result",
          "data": {
            "text/plain": [
              "array([   1.49789586, -820.45434016])"
            ]
          },
          "metadata": {
            "tags": []
          },
          "execution_count": 37
        }
      ]
    },
    {
      "cell_type": "markdown",
      "metadata": {
        "id": "HF1NTQ4oH3mE",
        "colab_type": "text"
      },
      "source": [
        "Double-click <b>here</b> for the solution.\n",
        "\n",
        "<!-- The answer is below:\n",
        "\n",
        "lm2.coef_\n",
        "\n",
        "-->"
      ]
    },
    {
      "cell_type": "code",
      "metadata": {
        "id": "pLTLxbMcRxdE",
        "colab_type": "code",
        "colab": {
          "base_uri": "https://localhost:8080/",
          "height": 33
        },
        "outputId": "112576e3-b054-4e2b-9162-f1c92814dd04"
      },
      "source": [
        "lm2.intercept_"
      ],
      "execution_count": 41,
      "outputs": [
        {
          "output_type": "execute_result",
          "data": {
            "text/plain": [
              "38201.31327245728"
            ]
          },
          "metadata": {
            "tags": []
          },
          "execution_count": 41
        }
      ]
    },
    {
      "cell_type": "markdown",
      "metadata": {
        "id": "b5hRhj4RH3mF",
        "colab_type": "text"
      },
      "source": [
        "<h3>2)  Model Evaluation using Visualization</h3>"
      ]
    },
    {
      "cell_type": "markdown",
      "metadata": {
        "id": "scFVQhsDH3mF",
        "colab_type": "text"
      },
      "source": [
        "Now that we've developed some models, how do we evaluate our models and how do we choose the best one? One way to do this is by using visualization."
      ]
    },
    {
      "cell_type": "markdown",
      "metadata": {
        "id": "o41KbtTkH3mG",
        "colab_type": "text"
      },
      "source": [
        "import the visualization package: seaborn"
      ]
    },
    {
      "cell_type": "code",
      "metadata": {
        "id": "TIIuWYzRH3mG",
        "colab_type": "code",
        "colab": {}
      },
      "source": [
        "# import the visualization package: seaborn\n",
        "import seaborn as sns\n",
        "%matplotlib inline "
      ],
      "execution_count": 0,
      "outputs": []
    },
    {
      "cell_type": "markdown",
      "metadata": {
        "id": "K4VGp6YIH3mH",
        "colab_type": "text"
      },
      "source": [
        "<h3>Regression Plot</h3>"
      ]
    },
    {
      "cell_type": "markdown",
      "metadata": {
        "id": "_7JDV28LH3mI",
        "colab_type": "text"
      },
      "source": [
        "<p>When it comes to simple linear regression, an excellent way to visualize the fit of our model is by using <b>regression plots</b>.</p>\n",
        "\n",
        "<p>This plot will show a combination of a scattered data points (a <b>scatter plot</b>), as well as the fitted <b>linear regression</b> line going through the data. This will give us a reasonable estimate of the relationship between the two variables, the strength of the correlation, as well as the direction (positive or negative correlation).</p>"
      ]
    },
    {
      "cell_type": "markdown",
      "metadata": {
        "id": "gdYf7PrwH3mJ",
        "colab_type": "text"
      },
      "source": [
        " Let's visualize Horsepower as potential predictor variable of price:"
      ]
    },
    {
      "cell_type": "code",
      "metadata": {
        "scrolled": false,
        "id": "uce-YQ_MH3mK",
        "colab_type": "code",
        "outputId": "1db9a814-7a13-4260-b8f1-d35cc12cc43c",
        "colab": {
          "base_uri": "https://localhost:8080/",
          "height": 625
        }
      },
      "source": [
        "width = 12\n",
        "height = 10\n",
        "plt.figure(figsize=(width, height))\n",
        "sns.regplot(x=\"highway-mpg\", y=\"price\", data=df)\n",
        "plt.ylim(0,)"
      ],
      "execution_count": 51,
      "outputs": [
        {
          "output_type": "execute_result",
          "data": {
            "text/plain": [
              "(0, 48276.23385670691)"
            ]
          },
          "metadata": {
            "tags": []
          },
          "execution_count": 51
        },
        {
          "output_type": "display_data",
          "data": {
            "image/png": "[encoded data removed]",
            "text/plain": [
              "<Figure size 864x720 with 1 Axes>"
            ]
          },
          "metadata": {
            "tags": []
          }
        }
      ]
    },
    {
      "cell_type": "markdown",
      "metadata": {
        "id": "TEETlmZZH3mP",
        "colab_type": "text"
      },
      "source": [
        "<p>We can see from this plot that price is negatively correlated to highway-mpg, since the regression slope is negative.\n",
        "One thing to keep in mind when looking at a regression plot is to pay attention to how scattered the data points are around the regression line. This will give you a good indication of the variance of the data, and whether a linear model would be the best fit or not. If the data is too far off from the line, this linear model might not be the best model for this data. Let's compare this plot to the regression plot of \"peak-rpm\".</p>"
      ]
    },
    {
      "cell_type": "code",
      "metadata": {
        "id": "w001GuavH3mQ",
        "colab_type": "code",
        "outputId": "c0320303-b4f4-45c9-fb7c-85f24b79990f",
        "colab": {
          "base_uri": "https://localhost:8080/",
          "height": 625
        }
      },
      "source": [
        "plt.figure(figsize=(width, height))\n",
        "sns.regplot(x=\"peak-rpm\", y=\"price\", data=df)\n",
        "plt.ylim(0,)"
      ],
      "execution_count": 52,
      "outputs": [
        {
          "output_type": "execute_result",
          "data": {
            "text/plain": [
              "(0, 47422.919330307624)"
            ]
          },
          "metadata": {
            "tags": []
          },
          "execution_count": 52
        },
        {
          "output_type": "display_data",
          "data": {
            "image/png": "[encoded data removed]",
            "text/plain": [
              "<Figure size 864x720 with 1 Axes>"
            ]
          },
          "metadata": {
            "tags": []
          }
        }
      ]
    },
    {
      "cell_type": "markdown",
      "metadata": {
        "id": "i2cOXRJLH3mS",
        "colab_type": "text"
      },
      "source": [
        "<p>Comparing the regression plot of \"peak-rpm\" and \"highway-mpg\" we see that the points for \"highway-mpg\" are much closer to the generated line and on the average decrease. The points for \"peak-rpm\" have more spread around the predicted line, and it is much harder to determine if the points are decreasing or increasing as the \"highway-mpg\" increases.</p>"
      ]
    },
    {
      "cell_type": "markdown",
      "metadata": {
        "id": "fuir3tJdH3mT",
        "colab_type": "text"
      },
      "source": [
        "<div class=\"alert alert-danger alertdanger\" style=\"margin-top: 20px\">\n",
        "<h1>Question #3:</h1>\n",
        "<b>Given the regression plots above is \"peak-rpm\" or \"highway-mpg\" more strongly correlated with \"price\". Use the method  \".corr()\" to verify your answer.</b>\n",
        "</div>"
      ]
    },
    {
      "cell_type": "code",
      "metadata": {
        "id": "_FDvEaIjH3mT",
        "colab_type": "code",
        "outputId": "970abe0f-1e6c-4cb8-bb86-266d2e365145",
        "colab": {
          "base_uri": "https://localhost:8080/",
          "height": 137
        }
      },
      "source": [
        "# Write your code below and press Shift+Enter to execute \n",
        "df[[\"peak-rpm\",\"highway-mpg\",\"price\"]].corr()"
      ],
      "execution_count": 53,
      "outputs": [
        {
          "output_type": "execute_result",
          "data": {
            "text/html": [
              "<div>\n",
              "<style scoped>\n",
              "    .dataframe tbody tr th:only-of-type {\n",
              "        vertical-align: middle;\n",
              "    }\n",
              "\n",
              "    .dataframe tbody tr th {\n",
              "        vertical-align: top;\n",
              "    }\n",
              "\n",
              "    .dataframe thead th {\n",
              "        text-align: right;\n",
              "    }\n",
              "</style>\n",
              "<table border=\"1\" class=\"dataframe\">\n",
              "  <thead>\n",
              "    <tr style=\"text-align: right;\">\n",
              "      <th></th>\n",
              "      <th>peak-rpm</th>\n",
              "      <th>highway-mpg</th>\n",
              "      <th>price</th>\n",
              "    </tr>\n",
              "  </thead>\n",
              "  <tbody>\n",
              "    <tr>\n",
              "      <th>peak-rpm</th>\n",
              "      <td>1.000000</td>\n",
              "      <td>-0.058598</td>\n",
              "      <td>-0.101616</td>\n",
              "    </tr>\n",
              "    <tr>\n",
              "      <th>highway-mpg</th>\n",
              "      <td>-0.058598</td>\n",
              "      <td>1.000000</td>\n",
              "      <td>-0.704692</td>\n",
              "    </tr>\n",
              "    <tr>\n",
              "      <th>price</th>\n",
              "      <td>-0.101616</td>\n",
              "      <td>-0.704692</td>\n",
              "      <td>1.000000</td>\n",
              "    </tr>\n",
              "  </tbody>\n",
              "</table>\n",
              "</div>"
            ],
            "text/plain": [
              "             peak-rpm  highway-mpg     price\n",
              "peak-rpm     1.000000    -0.058598 -0.101616\n",
              "highway-mpg -0.058598     1.000000 -0.704692\n",
              "price       -0.101616    -0.704692  1.000000"
            ]
          },
          "metadata": {
            "tags": []
          },
          "execution_count": 53
        }
      ]
    },
    {
      "cell_type": "markdown",
      "metadata": {
        "id": "Eya4_25DH3mV",
        "colab_type": "text"
      },
      "source": [
        "**Double**-click <b>here</b> for the solution.\n",
        "\n",
        "<!-- The answer is below:\n",
        "\n",
        "The variable \"highway-mpg\" has a stronger correlation with \"price\", it is approximate -0.704692  compared to   \"peak-rpm\" which is approximate     -0.101616. You can verify it using the following command:\n",
        "df[[\"peak-rpm\",\"highway-mpg\",\"price\"]].corr()\n",
        "\n",
        "-->"
      ]
    },
    {
      "cell_type": "markdown",
      "metadata": {
        "id": "rDQ20LBjH3mW",
        "colab_type": "text"
      },
      "source": [
        "<h3>Residual Plot</h3>\n",
        "\n",
        "<p>A good way to visualize the variance of the data is to use a residual plot.</p>\n",
        "\n",
        "<p>What is a <b>residual</b>?</p>\n",
        "\n",
        "<p>The difference between the observed value (y) and the predicted value (Yhat) is called the residual (e). When we look at a regression plot, the residual is the distance from the data point to the fitted regression line.</p>\n",
        "\n",
        "<p>So what is a <b>residual plot</b>?</p>\n",
        "\n",
        "<p>A residual plot is a graph that shows the residuals on the vertical y-axis and the independent variable on the horizontal x-axis.</p>\n",
        "\n",
        "<p>What do we pay attention to when looking at a residual plot?</p>\n",
        "\n",
        "<p>We look at the spread of the residuals:</p>\n",
        "\n",
        "<p>- If the points in a residual plot are <b>randomly spread out around the x-axis</b>, then a <b>linear model is appropriate</b> for the data. Why is that? Randomly spread out residuals means that the variance is constant, and thus the linear model is a good fit for this data.</p>"
      ]
    },
    {
      "cell_type": "code",
      "metadata": {
        "scrolled": false,
        "id": "zEvbjPmsH3mW",
        "colab_type": "code",
        "outputId": "0147becc-0cfb-4739-a418-4fd69bfd35e3",
        "colab": {}
      },
      "source": [
        "width = 12\n",
        "height = 10\n",
        "plt.figure(figsize=(width, height))\n",
        "sns.residplot(df['highway-mpg'], df['price'])\n",
        "plt.show()"
      ],
      "execution_count": 0,
      "outputs": [
        {
          "output_type": "display_data",
          "data": {
            "image/png": "[encoded data removed]",
            "text/plain": [
              "<Figure size 864x720 with 1 Axes>"
            ]
          },
          "metadata": {
            "tags": [],
            "needs_background": "light"
          }
        }
      ]
    },
    {
      "cell_type": "markdown",
      "metadata": {
        "id": "8-_czP8iH3mZ",
        "colab_type": "text"
      },
      "source": [
        "<i>What is this plot telling us?</i>\n",
        "\n",
        "<p>We can see from this residual plot that the residuals are not randomly spread around the x-axis, which leads us to believe that maybe a non-linear model is more appropriate for this data.</p>"
      ]
    },
    {
      "cell_type": "markdown",
      "metadata": {
        "id": "GmgC8SrVH3mZ",
        "colab_type": "text"
      },
      "source": [
        "<h3>Multiple Linear Regression</h3>"
      ]
    },
    {
      "cell_type": "markdown",
      "metadata": {
        "id": "-8Aqn-kiH3ma",
        "colab_type": "text"
      },
      "source": [
        "<p>How do we visualize a model for Multiple Linear Regression? This gets a bit more complicated because you can't visualize it with regression or residual plot.</p>\n",
        "\n",
        "<p>One way to look at the fit of the model is by looking at the <b>distribution plot</b>: We can look at the distribution of the fitted values that result from the model and compare it to the distribution of the actual values.</p>"
      ]
    },
    {
      "cell_type": "markdown",
      "metadata": {
        "id": "ab2ViE9NH3ma",
        "colab_type": "text"
      },
      "source": [
        "First lets make a prediction "
      ]
    },
    {
      "cell_type": "code",
      "metadata": {
        "id": "3CVdshoNH3ma",
        "colab_type": "code",
        "colab": {}
      },
      "source": [
        "Y_hat = lm.predict(Z)"
      ],
      "execution_count": 0,
      "outputs": []
    },
    {
      "cell_type": "code",
      "metadata": {
        "scrolled": false,
        "id": "jtbiC3d3H3mc",
        "colab_type": "code",
        "outputId": "f2936a08-7921-42dd-b620-f4a490c2b0b5",
        "colab": {
          "base_uri": "https://localhost:8080/",
          "height": 621
        }
      },
      "source": [
        "plt.figure(figsize=(width, height))\n",
        "\n",
        "\n",
        "ax1 = sns.distplot(df['price'], hist=False, color=\"r\", label=\"Actual Value\")\n",
        "sns.distplot(Yhat, hist=False, color=\"b\", label=\"Fitted Values\" , ax=ax1)\n",
        "\n",
        "\n",
        "plt.title('Actual vs Fitted Values for Price')\n",
        "plt.xlabel('Price (in dollars)')\n",
        "plt.ylabel('Proportion of Cars')\n",
        "\n",
        "plt.show()\n",
        "plt.close()"
      ],
      "execution_count": 63,
      "outputs": [
        {
          "output_type": "display_data",
          "data": {
            "image/png": "[encoded data removed]",
            "text/plain": [
              "<Figure size 864x720 with 1 Axes>"
            ]
          },
          "metadata": {
            "tags": []
          }
        }
      ]
    },
    {
      "cell_type": "markdown",
      "metadata": {
        "id": "EI38MzfqH3me",
        "colab_type": "text"
      },
      "source": [
        "<p>We can see that the fitted values are reasonably close to the actual values, since the two distributions overlap a bit. However, there is definitely some room for improvement.</p>"
      ]
    },
    {
      "cell_type": "markdown",
      "metadata": {
        "id": "KgKQyNP7H3me",
        "colab_type": "text"
      },
      "source": [
        "<h2>Part 3: Polynomial Regression and Pipelines</h2>"
      ]
    },
    {
      "cell_type": "markdown",
      "metadata": {
        "id": "JzoPqZSDH3mf",
        "colab_type": "text"
      },
      "source": [
        "<p><b>Polynomial regression</b> is a particular case of the general linear regression model or multiple linear regression models.</p> \n",
        "<p>We get non-linear relationships by squaring or setting higher-order terms of the predictor variables.</p>\n",
        "\n",
        "<p>There are different orders of polynomial regression:</p>"
      ]
    },
    {
      "cell_type": "markdown",
      "metadata": {
        "id": "jUCji-USH3mf",
        "colab_type": "text"
      },
      "source": [
        "<center><b>Quadratic - 2nd order</b></center>\n",
        "$$\n",
        "Yhat = a + b_1 X^2 +b_2 X^2 \n",
        "$$\n",
        "\n",
        "\n",
        "<center><b>Cubic - 3rd order</b></center>\n",
        "$$\n",
        "Yhat = a + b_1 X^2 +b_2 X^2 +b_3 X^3\\\\\n",
        "$$\n",
        "\n",
        "\n",
        "<center><b>Higher order</b>:</center>\n",
        "$$\n",
        "Y = a + b_1 X^2 +b_2 X^2 +b_3 X^3 ....\\\\\n",
        "$$"
      ]
    },
    {
      "cell_type": "markdown",
      "metadata": {
        "id": "3K7ejNZxH3mf",
        "colab_type": "text"
      },
      "source": [
        "<p>We saw earlier that a linear model did not provide the best fit while using highway-mpg as the predictor variable. Let's see if we can try fitting a polynomial model to the data instead.</p>"
      ]
    },
    {
      "cell_type": "markdown",
      "metadata": {
        "id": "_5qHh2mwH3mg",
        "colab_type": "text"
      },
      "source": [
        "<p>We will use the following function to plot the data:</p>"
      ]
    },
    {
      "cell_type": "code",
      "metadata": {
        "id": "GYntqizFH3mh",
        "colab_type": "code",
        "colab": {}
      },
      "source": [
        "def PlotPolly(model, independent_variable, dependent_variabble, Name):\n",
        "    x_new = np.linspace(15, 55, 100)\n",
        "    y_new = model(x_new)\n",
        "\n",
        "    plt.plot(independent_variable, dependent_variabble, '.', x_new, y_new, '-')\n",
        "    plt.title('Polynomial Fit with Matplotlib for Price ~ Length')\n",
        "    ax = plt.gca()\n",
        "    ax.set_facecolor((0.898, 0.898, 0.898))\n",
        "    fig = plt.gcf()\n",
        "    plt.xlabel(Name)\n",
        "    plt.ylabel('Price of Cars')\n",
        "\n",
        "    plt.show()\n",
        "    plt.close()"
      ],
      "execution_count": 0,
      "outputs": []
    },
    {
      "cell_type": "markdown",
      "metadata": {
        "id": "eiguYRxuH3mj",
        "colab_type": "text"
      },
      "source": [
        "lets get the variables"
      ]
    },
    {
      "cell_type": "code",
      "metadata": {
        "id": "97_KZN_SH3mj",
        "colab_type": "code",
        "colab": {}
      },
      "source": [
        "x = df['highway-mpg']\n",
        "y = df['price']"
      ],
      "execution_count": 0,
      "outputs": []
    },
    {
      "cell_type": "markdown",
      "metadata": {
        "id": "8LXvx5ZaH3mm",
        "colab_type": "text"
      },
      "source": [
        "Let's fit the polynomial using the function <b>polyfit</b>, then use the function <b>poly1d</b> to display the polynomial function."
      ]
    },
    {
      "cell_type": "code",
      "metadata": {
        "id": "70OA0s3SH3mm",
        "colab_type": "code",
        "outputId": "d7638537-581d-4a11-92c0-68ac8f5005f5",
        "colab": {
          "base_uri": "https://localhost:8080/",
          "height": 50
        }
      },
      "source": [
        "# Here we use a polynomial of the 3rd order (cubic) \n",
        "f = np.polyfit(x, y, 3)\n",
        "p = np.poly1d(f)\n",
        "print(p)"
      ],
      "execution_count": 66,
      "outputs": [
        {
          "output_type": "stream",
          "text": [
            "        3         2\n",
            "-1.557 x + 204.8 x - 8965 x + 1.379e+05\n"
          ],
          "name": "stdout"
        }
      ]
    },
    {
      "cell_type": "markdown",
      "metadata": {
        "id": "y2w22qMRH3mo",
        "colab_type": "text"
      },
      "source": [
        " Let's plot the function "
      ]
    },
    {
      "cell_type": "code",
      "metadata": {
        "id": "DqzUWcbAH3mo",
        "colab_type": "code",
        "outputId": "d8db50f3-155d-4ab5-9c39-b1681d59c211",
        "colab": {
          "base_uri": "https://localhost:8080/",
          "height": 294
        }
      },
      "source": [
        "PlotPolly(p, x, y, 'highway-mpg')"
      ],
      "execution_count": 67,
      "outputs": [
        {
          "output_type": "display_data",
          "data": {
            "image/png": "[encoded data removed]",
            "text/plain": [
              "<Figure size 432x288 with 1 Axes>"
            ]
          },
          "metadata": {
            "tags": []
          }
        }
      ]
    },
    {
      "cell_type": "code",
      "metadata": {
        "id": "DyxX4p4dH3mr",
        "colab_type": "code",
        "colab": {
          "base_uri": "https://localhost:8080/",
          "height": 33
        },
        "outputId": "f05f44b9-413b-4e9a-db35-6b502c014e5a"
      },
      "source": [
        "np.polyfit(x, y, 3)"
      ],
      "execution_count": 68,
      "outputs": [
        {
          "output_type": "execute_result",
          "data": {
            "text/plain": [
              "array([-1.55663829e+00,  2.04754306e+02, -8.96543312e+03,  1.37923594e+05])"
            ]
          },
          "metadata": {
            "tags": []
          },
          "execution_count": 68
        }
      ]
    },
    {
      "cell_type": "markdown",
      "metadata": {
        "id": "zD_CZh24H3mu",
        "colab_type": "text"
      },
      "source": [
        "<p>We can already see from plotting that this polynomial model performs better than the linear model. This is because the generated polynomial function  \"hits\" more of the data points.</p>"
      ]
    },
    {
      "cell_type": "markdown",
      "metadata": {
        "id": "cWTDzrNzH3mv",
        "colab_type": "text"
      },
      "source": [
        "<div class=\"alert alert-danger alertdanger\" style=\"margin-top: 20px\">\n",
        "<h1>Question  #4:</h1>\n",
        "<b>Create 11 order polynomial model with the variables x and y from above?</b>\n",
        "</div>"
      ]
    },
    {
      "cell_type": "code",
      "metadata": {
        "collapsed": true,
        "id": "1kOqNxvcH3mx",
        "colab_type": "code",
        "outputId": "c440d3dc-5574-4af7-e956-6daced70da28",
        "colab": {
          "base_uri": "https://localhost:8080/",
          "height": 328
        }
      },
      "source": [
        "# Write your code below and press Shift+Enter to execute \n",
        "# calculate polynomial\n",
        "# Here we use a polynomial of the 11rd order (cubic) \n",
        "f1 = np.polyfit(x, y, 11)\n",
        "p1 = np.poly1d(f1)\n",
        "print(p)\n",
        "PlotPolly(p1,x,y, 'Length')\n"
      ],
      "execution_count": 69,
      "outputs": [
        {
          "output_type": "stream",
          "text": [
            "        3         2\n",
            "-1.557 x + 204.8 x - 8965 x + 1.379e+05\n"
          ],
          "name": "stdout"
        },
        {
          "output_type": "display_data",
          "data": {
            "image/png": "[encoded data removed]",
            "text/plain": [
              "<Figure size 432x288 with 1 Axes>"
            ]
          },
          "metadata": {
            "tags": []
          }
        }
      ]
    },
    {
      "cell_type": "markdown",
      "metadata": {
        "id": "wS8lUXQQH3m0",
        "colab_type": "text"
      },
      "source": [
        "Double-click <b>here</b> for the solution.\n",
        "\n",
        "<!-- The answer is below:\n",
        "\n",
        "# calculate polynomial\n",
        "# Here we use a polynomial of the 11rd order (cubic) \n",
        "f1 = np.polyfit(x, y, 11)\n",
        "p1 = np.poly1d(f1)\n",
        "print(p)\n",
        "PlotPolly(p1,x,y, 'Length')\n",
        "\n",
        "-->"
      ]
    },
    {
      "cell_type": "markdown",
      "metadata": {
        "id": "mvRx20bYH3m0",
        "colab_type": "text"
      },
      "source": [
        "<p>The analytical expression for Multivariate Polynomial function gets complicated. For example, the expression for a second-order (degree=2)polynomial with two variables is given by:</p>"
      ]
    },
    {
      "cell_type": "markdown",
      "metadata": {
        "id": "suqP8mRMH3m0",
        "colab_type": "text"
      },
      "source": [
        "$$\n",
        "Yhat = a + b_1 X_1 +b_2 X_2 +b_3 X_1 X_2+b_4 X_1^2+b_5 X_2^2\n",
        "$$"
      ]
    },
    {
      "cell_type": "markdown",
      "metadata": {
        "id": "yxUwKxpDH3m1",
        "colab_type": "text"
      },
      "source": [
        "We can perform a polynomial transform on multiple features. First, we import the module:"
      ]
    },
    {
      "cell_type": "code",
      "metadata": {
        "id": "r3NmG5gKH3m2",
        "colab_type": "code",
        "colab": {}
      },
      "source": [
        "from sklearn.preprocessing import PolynomialFeatures"
      ],
      "execution_count": 0,
      "outputs": []
    },
    {
      "cell_type": "markdown",
      "metadata": {
        "id": "iC-621G7H3m3",
        "colab_type": "text"
      },
      "source": [
        "We create a <b>PolynomialFeatures</b> object of degree 2: "
      ]
    },
    {
      "cell_type": "code",
      "metadata": {
        "id": "oiC1-b1RH3m4",
        "colab_type": "code",
        "outputId": "940a2466-2f0c-4218-9e5c-cb28cab127ea",
        "colab": {
          "base_uri": "https://localhost:8080/",
          "height": 50
        }
      },
      "source": [
        "pr=PolynomialFeatures(degree=2)\n",
        "pr"
      ],
      "execution_count": 71,
      "outputs": [
        {
          "output_type": "execute_result",
          "data": {
            "text/plain": [
              "PolynomialFeatures(degree=2, include_bias=True, interaction_only=False,\n",
              "                   order='C')"
            ]
          },
          "metadata": {
            "tags": []
          },
          "execution_count": 71
        }
      ]
    },
    {
      "cell_type": "code",
      "metadata": {
        "id": "jD3ezHmOH3m5",
        "colab_type": "code",
        "colab": {}
      },
      "source": [
        "Z_pr=pr.fit_transform(Z)"
      ],
      "execution_count": 0,
      "outputs": []
    },
    {
      "cell_type": "markdown",
      "metadata": {
        "id": "79XBP1dZH3m8",
        "colab_type": "text"
      },
      "source": [
        "The original data is of 201 samples and 4 features "
      ]
    },
    {
      "cell_type": "code",
      "metadata": {
        "id": "Dj6u0_IhH3m9",
        "colab_type": "code",
        "outputId": "2d80e7a9-02b6-41c6-d318-68f7de72c201",
        "colab": {
          "base_uri": "https://localhost:8080/",
          "height": 33
        }
      },
      "source": [
        "Z.shape"
      ],
      "execution_count": 74,
      "outputs": [
        {
          "output_type": "execute_result",
          "data": {
            "text/plain": [
              "(201, 4)"
            ]
          },
          "metadata": {
            "tags": []
          },
          "execution_count": 74
        }
      ]
    },
    {
      "cell_type": "markdown",
      "metadata": {
        "id": "_5Xcv2xHH3m-",
        "colab_type": "text"
      },
      "source": [
        "after the transformation, there 201 samples and 15 features"
      ]
    },
    {
      "cell_type": "code",
      "metadata": {
        "id": "UNf_F4NRH3m_",
        "colab_type": "code",
        "outputId": "a23f8098-5468-44f3-cb7d-955a237f0bce",
        "colab": {
          "base_uri": "https://localhost:8080/",
          "height": 33
        }
      },
      "source": [
        "Z_pr.shape"
      ],
      "execution_count": 79,
      "outputs": [
        {
          "output_type": "execute_result",
          "data": {
            "text/plain": [
              "(201, 15)"
            ]
          },
          "metadata": {
            "tags": []
          },
          "execution_count": 79
        }
      ]
    },
    {
      "cell_type": "markdown",
      "metadata": {
        "id": "U-OAuRVEH3nB",
        "colab_type": "text"
      },
      "source": [
        "<h2>Pipeline</h2>"
      ]
    },
    {
      "cell_type": "markdown",
      "metadata": {
        "id": "E_2neQ6dH3nC",
        "colab_type": "text"
      },
      "source": [
        "<p>Data Pipelines simplify the steps of processing the data. We use the module <b>Pipeline</b> to create a pipeline. We also use <b>StandardScaler</b> as a step in our pipeline.</p>"
      ]
    },
    {
      "cell_type": "code",
      "metadata": {
        "id": "KpJhUQ98H3nC",
        "colab_type": "code",
        "colab": {}
      },
      "source": [
        "from sklearn.pipeline import Pipeline\n",
        "from sklearn.preprocessing import StandardScaler"
      ],
      "execution_count": 0,
      "outputs": []
    },
    {
      "cell_type": "markdown",
      "metadata": {
        "id": "aMo68AdEH3nE",
        "colab_type": "text"
      },
      "source": [
        "We create the pipeline, by creating a list of tuples including the name of the model or estimator and its corresponding constructor."
      ]
    },
    {
      "cell_type": "code",
      "metadata": {
        "id": "ZTxbI2BcH3nF",
        "colab_type": "code",
        "colab": {}
      },
      "source": [
        "Input=[('scale',StandardScaler()), ('polynomial', PolynomialFeatures(include_bias=False)), ('model',LinearRegression())]"
      ],
      "execution_count": 0,
      "outputs": []
    },
    {
      "cell_type": "markdown",
      "metadata": {
        "id": "bggcGNQQH3nG",
        "colab_type": "text"
      },
      "source": [
        "we input the list as an argument to the pipeline constructor "
      ]
    },
    {
      "cell_type": "code",
      "metadata": {
        "id": "0vx2sj4hH3nG",
        "colab_type": "code",
        "colab": {
          "base_uri": "https://localhost:8080/",
          "height": 184
        },
        "outputId": "fdb43e83-11a0-4f33-e246-42f434c920c4"
      },
      "source": [
        "pipe=Pipeline(Input)\n",
        "pipe"
      ],
      "execution_count": 82,
      "outputs": [
        {
          "output_type": "execute_result",
          "data": {
            "text/plain": [
              "Pipeline(memory=None,\n",
              "         steps=[('scale',\n",
              "                 StandardScaler(copy=True, with_mean=True, with_std=True)),\n",
              "                ('polynomial',\n",
              "                 PolynomialFeatures(degree=2, include_bias=False,\n",
              "                                    interaction_only=False, order='C')),\n",
              "                ('model',\n",
              "                 LinearRegression(copy_X=True, fit_intercept=True, n_jobs=None,\n",
              "                                  normalize=False))],\n",
              "         verbose=False)"
            ]
          },
          "metadata": {
            "tags": []
          },
          "execution_count": 82
        }
      ]
    },
    {
      "cell_type": "markdown",
      "metadata": {
        "id": "E2StCnj1H3nH",
        "colab_type": "text"
      },
      "source": [
        "We can normalize the data,  perform a transform and fit the model simultaneously. "
      ]
    },
    {
      "cell_type": "code",
      "metadata": {
        "id": "xPYeDE4eH3nI",
        "colab_type": "code",
        "colab": {
          "base_uri": "https://localhost:8080/",
          "height": 184
        },
        "outputId": "18f2153f-1a42-4269-e003-b0d332e74b47"
      },
      "source": [
        "pipe.fit(Z,y)"
      ],
      "execution_count": 83,
      "outputs": [
        {
          "output_type": "execute_result",
          "data": {
            "text/plain": [
              "Pipeline(memory=None,\n",
              "         steps=[('scale',\n",
              "                 StandardScaler(copy=True, with_mean=True, with_std=True)),\n",
              "                ('polynomial',\n",
              "                 PolynomialFeatures(degree=2, include_bias=False,\n",
              "                                    interaction_only=False, order='C')),\n",
              "                ('model',\n",
              "                 LinearRegression(copy_X=True, fit_intercept=True, n_jobs=None,\n",
              "                                  normalize=False))],\n",
              "         verbose=False)"
            ]
          },
          "metadata": {
            "tags": []
          },
          "execution_count": 83
        }
      ]
    },
    {
      "cell_type": "markdown",
      "metadata": {
        "id": "fFVCPgwPH3nJ",
        "colab_type": "text"
      },
      "source": [
        " Similarly,  we can normalize the data, perform a transform and produce a prediction  simultaneously"
      ]
    },
    {
      "cell_type": "code",
      "metadata": {
        "id": "h75W-C0GH3nJ",
        "colab_type": "code",
        "colab": {
          "base_uri": "https://localhost:8080/",
          "height": 33
        },
        "outputId": "091f4421-d728-4323-8055-89a0ef01c9c2"
      },
      "source": [
        "ypipe=pipe.predict(Z)\n",
        "ypipe[0:4]"
      ],
      "execution_count": 84,
      "outputs": [
        {
          "output_type": "execute_result",
          "data": {
            "text/plain": [
              "array([13102.74784201, 13102.74784201, 18225.54572197, 10390.29636555])"
            ]
          },
          "metadata": {
            "tags": []
          },
          "execution_count": 84
        }
      ]
    },
    {
      "cell_type": "markdown",
      "metadata": {
        "id": "te0bU4UpH3nK",
        "colab_type": "text"
      },
      "source": [
        "<div class=\"alert alert-danger alertdanger\" style=\"margin-top: 20px\">\n",
        "<h1>Question #5:</h1>\n",
        "<b>Create a pipeline that Standardizes the data, then perform prediction using a linear regression model using the features Z and targets y</b>\n",
        "</div>"
      ]
    },
    {
      "cell_type": "code",
      "metadata": {
        "id": "fuXkoSRlH3nL",
        "colab_type": "code",
        "colab": {
          "base_uri": "https://localhost:8080/",
          "height": 50
        },
        "outputId": "4b54bb64-dc77-4001-f712-64aa87378e7a"
      },
      "source": [
        "# Write your code below and press Shift+Ente\n",
        "Input=[('scale',StandardScaler()),('model',LinearRegression())] \n",
        "pr_pipe=Pipeline(Input)\n",
        "pr_pipe.fit(Z,y)\n",
        "yhat=pr_pipe.predict(Z)\n",
        "yhat[0:5]"
      ],
      "execution_count": 89,
      "outputs": [
        {
          "output_type": "execute_result",
          "data": {
            "text/plain": [
              "array([13699.11161184, 13699.11161184, 19051.65470233, 10620.36193015,\n",
              "       15521.31420211])"
            ]
          },
          "metadata": {
            "tags": []
          },
          "execution_count": 89
        }
      ]
    },
    {
      "cell_type": "markdown",
      "metadata": {
        "id": "f6yirxOIH3nM",
        "colab_type": "text"
      },
      "source": [
        "italicized text ![alt text](https://)</div>\n",
        "Double-click <b>here</b> for the solution.\n",
        "\n",
        "<!-- The answer is below:\n",
        "\n",
        "Input=[('scale',StandardScaler()),('model',LinearRegression())]\n",
        "\n",
        "pipe=Pipeline(Input)\n",
        "\n",
        "pipe.fit(Z,y)\n",
        "\n",
        "ypipe=pipe.predict(Z)\n",
        "ypipe[0:10]\n",
        "\n",
        "-->"
      ]
    },
    {
      "cell_type": "markdown",
      "metadata": {
        "id": "qbBsrMbYH3nM",
        "colab_type": "text"
      },
      "source": [
        "<h2>Part 4: Measures for In-Sample Evaluation</h2>"
      ]
    },
    {
      "cell_type": "markdown",
      "metadata": {
        "id": "GHOw-cU8H3nM",
        "colab_type": "text"
      },
      "source": [
        "<p>When evaluating our models, not only do we want to visualize the results, but we also want a quantitative measure to determine how accurate the model is.</p>\n",
        "\n",
        "<p>Two very important measures that are often used in Statistics to determine the accuracy of a model are:</p>\n",
        "<ul>\n",
        "    <li><b>R^2 / R-squared</b></li>\n",
        "    <li><b>Mean Squared Error (MSE)</b></li>\n",
        "</ul>\n",
        "    \n",
        "<b>R-squared</b>\n",
        "\n",
        "<p>R squared, also known as the coefficient of determination, is a measure to indicate how close the data is to the fitted regression line.</p>\n",
        "    \n",
        "<p>The value of the R-squared is the percentage of variation of the response variable (y) that is explained by a linear model.</p>\n",
        "\n",
        "\n",
        "\n",
        "<b>Mean Squared Error (MSE)</b>\n",
        "\n",
        "<p>The Mean Squared Error measures the average of the squares of errors, that is, the difference between actual value (y) and the estimated value (ŷ).</p>"
      ]
    },
    {
      "cell_type": "markdown",
      "metadata": {
        "id": "hC7gWmpgH3nN",
        "colab_type": "text"
      },
      "source": [
        "<h3>Model 1: Simple Linear Regression</h3>"
      ]
    },
    {
      "cell_type": "markdown",
      "metadata": {
        "id": "1mOX8A8PH3nO",
        "colab_type": "text"
      },
      "source": [
        "Let's calculate the R^2"
      ]
    },
    {
      "cell_type": "code",
      "metadata": {
        "scrolled": true,
        "id": "AFdb8MB0H3nP",
        "colab_type": "code",
        "colab": {
          "base_uri": "https://localhost:8080/",
          "height": 33
        },
        "outputId": "b6c0ffd7-7740-4edd-a478-057f90fb06fa"
      },
      "source": [
        "#highway_mpg_fit\n",
        "lm.fit(X, Y)\n",
        "# Find the R^2\n",
        "print('The R-square is: ', lm.score(X, Y))"
      ],
      "execution_count": 104,
      "outputs": [
        {
          "output_type": "stream",
          "text": [
            "The R-square is:  0.4966263556974878\n"
          ],
          "name": "stdout"
        }
      ]
    },
    {
      "cell_type": "markdown",
      "metadata": {
        "id": "xE8qVVyHH3nQ",
        "colab_type": "text"
      },
      "source": [
        "We can say that ~ 49.659% of the variation of the price is explained by this simple linear model \"horsepower_fit\"."
      ]
    },
    {
      "cell_type": "markdown",
      "metadata": {
        "id": "PEOx-P-bH3nQ",
        "colab_type": "text"
      },
      "source": [
        "Let's calculate the MSE"
      ]
    },
    {
      "cell_type": "markdown",
      "metadata": {
        "id": "7sraL2F0H3nQ",
        "colab_type": "text"
      },
      "source": [
        "We can predict the output i.e., \"yhat\" using the predict method, where X is the input variable:"
      ]
    },
    {
      "cell_type": "code",
      "metadata": {
        "id": "k6ryyLdsH3nR",
        "colab_type": "code",
        "colab": {
          "base_uri": "https://localhost:8080/",
          "height": 33
        },
        "outputId": "d2860737-c534-4faf-edd5-0de0d44f745b"
      },
      "source": [
        "Yhat=lm.predict(X)\n",
        "print('The output of the first four predicted value is: ', Yhat[0:4])"
      ],
      "execution_count": 105,
      "outputs": [
        {
          "output_type": "stream",
          "text": [
            "The output of the first four predicted value is:  [16231.78938339 16231.78938339 17052.24372355 13833.33798916]\n"
          ],
          "name": "stdout"
        }
      ]
    },
    {
      "cell_type": "markdown",
      "metadata": {
        "id": "42rcwx33H3nS",
        "colab_type": "text"
      },
      "source": [
        "lets import the function <b>mean_squared_error</b> from the module <b>metrics</b>"
      ]
    },
    {
      "cell_type": "code",
      "metadata": {
        "id": "4YrmTOoiH3nS",
        "colab_type": "code",
        "colab": {}
      },
      "source": [
        "from sklearn.metrics import mean_squared_error"
      ],
      "execution_count": 0,
      "outputs": []
    },
    {
      "cell_type": "markdown",
      "metadata": {
        "id": "qt2KVmHHH3nT",
        "colab_type": "text"
      },
      "source": [
        "we compare the predicted results with the actual results "
      ]
    },
    {
      "cell_type": "code",
      "metadata": {
        "id": "TXgO49gMH3nT",
        "colab_type": "code",
        "colab": {}
      },
      "source": [
        "mse = mean_squared_error(df['price'], Yhat)\n",
        "print('The mean square error of price and predicted value is: ', mse)"
      ],
      "execution_count": 0,
      "outputs": []
    },
    {
      "cell_type": "markdown",
      "metadata": {
        "id": "7h-JQmuTH3nU",
        "colab_type": "text"
      },
      "source": [
        "<h3>Model 2: Multiple Linear Regression</h3>"
      ]
    },
    {
      "cell_type": "markdown",
      "metadata": {
        "id": "spj3OrwtH3nV",
        "colab_type": "text"
      },
      "source": [
        "Let's calculate the R^2"
      ]
    },
    {
      "cell_type": "code",
      "metadata": {
        "id": "1fkPhKDnH3nW",
        "colab_type": "code",
        "colab": {}
      },
      "source": [
        "# fit the model \n",
        "lm.fit(Z, df['price'])\n",
        "# Find the R^2\n",
        "print('The R-square is: ', lm.score(Z, df['price']))"
      ],
      "execution_count": 0,
      "outputs": []
    },
    {
      "cell_type": "markdown",
      "metadata": {
        "id": "9HuDHMa1H3nX",
        "colab_type": "text"
      },
      "source": [
        "We can say that ~ 80.896 % of the variation of price is explained by this multiple linear regression \"multi_fit\"."
      ]
    },
    {
      "cell_type": "markdown",
      "metadata": {
        "id": "pSG4x6TgH3nY",
        "colab_type": "text"
      },
      "source": [
        "Let's calculate the MSE"
      ]
    },
    {
      "cell_type": "markdown",
      "metadata": {
        "id": "NC0r9wSfH3nY",
        "colab_type": "text"
      },
      "source": [
        " we produce a prediction "
      ]
    },
    {
      "cell_type": "code",
      "metadata": {
        "id": "Rp2Bi7-4H3nY",
        "colab_type": "code",
        "colab": {}
      },
      "source": [
        "Y_predict_multifit = lm.predict(Z)"
      ],
      "execution_count": 0,
      "outputs": []
    },
    {
      "cell_type": "markdown",
      "metadata": {
        "id": "ruYKhfFCH3nc",
        "colab_type": "text"
      },
      "source": [
        " we compare the predicted results with the actual results "
      ]
    },
    {
      "cell_type": "code",
      "metadata": {
        "id": "flh0XUvGH3nd",
        "colab_type": "code",
        "colab": {}
      },
      "source": [
        "print('The mean square error of price and predicted value using multifit is: ', \\\n",
        "      mean_squared_error(df['price'], Y_predict_multifit))"
      ],
      "execution_count": 0,
      "outputs": []
    },
    {
      "cell_type": "markdown",
      "metadata": {
        "id": "TzJB8IpwH3ne",
        "colab_type": "text"
      },
      "source": [
        "<h3>Model 3: Polynomial Fit</h3>"
      ]
    },
    {
      "cell_type": "markdown",
      "metadata": {
        "id": "5HtR162SH3nf",
        "colab_type": "text"
      },
      "source": [
        "Let's calculate the R^2"
      ]
    },
    {
      "cell_type": "markdown",
      "metadata": {
        "id": "VUqWdBS5H3ng",
        "colab_type": "text"
      },
      "source": [
        "let’s import the function <b>r2_score</b> from the module <b>metrics</b> as we are using a different function"
      ]
    },
    {
      "cell_type": "code",
      "metadata": {
        "id": "G6p9FOf5H3ng",
        "colab_type": "code",
        "colab": {}
      },
      "source": [
        "from sklearn.metrics import r2_score"
      ],
      "execution_count": 0,
      "outputs": []
    },
    {
      "cell_type": "markdown",
      "metadata": {
        "id": "e2TJdWJOH3nh",
        "colab_type": "text"
      },
      "source": [
        "We apply the function to get the value of r^2"
      ]
    },
    {
      "cell_type": "code",
      "metadata": {
        "id": "B8H_cN5JH3ni",
        "colab_type": "code",
        "colab": {
          "base_uri": "https://localhost:8080/",
          "height": 33
        },
        "outputId": "f7e1e187-ff5a-457e-980e-81ac6107070f"
      },
      "source": [
        "r_squared = r2_score(y, p(x))\n",
        "print('The R-square value is: ', r_squared)"
      ],
      "execution_count": 91,
      "outputs": [
        {
          "output_type": "stream",
          "text": [
            "The R-square value is:  0.674194666390652\n"
          ],
          "name": "stdout"
        }
      ]
    },
    {
      "cell_type": "markdown",
      "metadata": {
        "id": "Q9zh_auNH3nj",
        "colab_type": "text"
      },
      "source": [
        "We can say that ~ 67.419 % of the variation of price is explained by this polynomial fit"
      ]
    },
    {
      "cell_type": "markdown",
      "metadata": {
        "id": "w9pHtX5UH3nj",
        "colab_type": "text"
      },
      "source": [
        "<h3>MSE</h3>"
      ]
    },
    {
      "cell_type": "markdown",
      "metadata": {
        "id": "LHOz9JNMH3nj",
        "colab_type": "text"
      },
      "source": [
        "We can also calculate the MSE:  "
      ]
    },
    {
      "cell_type": "code",
      "metadata": {
        "id": "0YJGST4XH3nj",
        "colab_type": "code",
        "colab": {
          "base_uri": "https://localhost:8080/",
          "height": 33
        },
        "outputId": "44e1a6d1-357f-4a5d-c2fa-7958e6a7617d"
      },
      "source": [
        "mean_squared_error(df['price'], p(x))"
      ],
      "execution_count": 94,
      "outputs": [
        {
          "output_type": "execute_result",
          "data": {
            "text/plain": [
              "20474146.426361218"
            ]
          },
          "metadata": {
            "tags": []
          },
          "execution_count": 94
        }
      ]
    },
    {
      "cell_type": "markdown",
      "metadata": {
        "id": "vYPDKrUmH3nk",
        "colab_type": "text"
      },
      "source": [
        "<h2>Part 5: Prediction and Decision Making</h2>\n",
        "<h3>Prediction</h3>\n",
        "\n",
        "<p>In the previous section, we trained the model using the method <b>fit</b>. Now we will use the method <b>predict</b> to produce a prediction. Lets import <b>pyplot</b> for plotting; we will also be using some functions from numpy.</p>"
      ]
    },
    {
      "cell_type": "code",
      "metadata": {
        "id": "oacjBd4AH3nl",
        "colab_type": "code",
        "colab": {}
      },
      "source": [
        "import matplotlib.pyplot as plt\n",
        "import numpy as np\n",
        "\n",
        "%matplotlib inline "
      ],
      "execution_count": 0,
      "outputs": []
    },
    {
      "cell_type": "markdown",
      "metadata": {
        "id": "42WR6748H3nm",
        "colab_type": "text"
      },
      "source": [
        "Create a new input "
      ]
    },
    {
      "cell_type": "code",
      "metadata": {
        "id": "K5thbdaaH3nm",
        "colab_type": "code",
        "colab": {
          "base_uri": "https://localhost:8080/",
          "height": 1000
        },
        "outputId": "86789032-0ddf-484e-8ca8-38fe60222485"
      },
      "source": [
        "new_input=np.arange(1, 202, 1).reshape(-1, 1)\n",
        "new_input"
      ],
      "execution_count": 146,
      "outputs": [
        {
          "output_type": "execute_result",
          "data": {
            "text/plain": [
              "array([[  1],\n",
              "       [  2],\n",
              "       [  3],\n",
              "       [  4],\n",
              "       [  5],\n",
              "       [  6],\n",
              "       [  7],\n",
              "       [  8],\n",
              "       [  9],\n",
              "       [ 10],\n",
              "       [ 11],\n",
              "       [ 12],\n",
              "       [ 13],\n",
              "       [ 14],\n",
              "       [ 15],\n",
              "       [ 16],\n",
              "       [ 17],\n",
              "       [ 18],\n",
              "       [ 19],\n",
              "       [ 20],\n",
              "       [ 21],\n",
              "       [ 22],\n",
              "       [ 23],\n",
              "       [ 24],\n",
              "       [ 25],\n",
              "       [ 26],\n",
              "       [ 27],\n",
              "       [ 28],\n",
              "       [ 29],\n",
              "       [ 30],\n",
              "       [ 31],\n",
              "       [ 32],\n",
              "       [ 33],\n",
              "       [ 34],\n",
              "       [ 35],\n",
              "       [ 36],\n",
              "       [ 37],\n",
              "       [ 38],\n",
              "       [ 39],\n",
              "       [ 40],\n",
              "       [ 41],\n",
              "       [ 42],\n",
              "       [ 43],\n",
              "       [ 44],\n",
              "       [ 45],\n",
              "       [ 46],\n",
              "       [ 47],\n",
              "       [ 48],\n",
              "       [ 49],\n",
              "       [ 50],\n",
              "       [ 51],\n",
              "       [ 52],\n",
              "       [ 53],\n",
              "       [ 54],\n",
              "       [ 55],\n",
              "       [ 56],\n",
              "       [ 57],\n",
              "       [ 58],\n",
              "       [ 59],\n",
              "       [ 60],\n",
              "       [ 61],\n",
              "       [ 62],\n",
              "       [ 63],\n",
              "       [ 64],\n",
              "       [ 65],\n",
              "       [ 66],\n",
              "       [ 67],\n",
              "       [ 68],\n",
              "       [ 69],\n",
              "       [ 70],\n",
              "       [ 71],\n",
              "       [ 72],\n",
              "       [ 73],\n",
              "       [ 74],\n",
              "       [ 75],\n",
              "       [ 76],\n",
              "       [ 77],\n",
              "       [ 78],\n",
              "       [ 79],\n",
              "       [ 80],\n",
              "       [ 81],\n",
              "       [ 82],\n",
              "       [ 83],\n",
              "       [ 84],\n",
              "       [ 85],\n",
              "       [ 86],\n",
              "       [ 87],\n",
              "       [ 88],\n",
              "       [ 89],\n",
              "       [ 90],\n",
              "       [ 91],\n",
              "       [ 92],\n",
              "       [ 93],\n",
              "       [ 94],\n",
              "       [ 95],\n",
              "       [ 96],\n",
              "       [ 97],\n",
              "       [ 98],\n",
              "       [ 99],\n",
              "       [100],\n",
              "       [101],\n",
              "       [102],\n",
              "       [103],\n",
              "       [104],\n",
              "       [105],\n",
              "       [106],\n",
              "       [107],\n",
              "       [108],\n",
              "       [109],\n",
              "       [110],\n",
              "       [111],\n",
              "       [112],\n",
              "       [113],\n",
              "       [114],\n",
              "       [115],\n",
              "       [116],\n",
              "       [117],\n",
              "       [118],\n",
              "       [119],\n",
              "       [120],\n",
              "       [121],\n",
              "       [122],\n",
              "       [123],\n",
              "       [124],\n",
              "       [125],\n",
              "       [126],\n",
              "       [127],\n",
              "       [128],\n",
              "       [129],\n",
              "       [130],\n",
              "       [131],\n",
              "       [132],\n",
              "       [133],\n",
              "       [134],\n",
              "       [135],\n",
              "       [136],\n",
              "       [137],\n",
              "       [138],\n",
              "       [139],\n",
              "       [140],\n",
              "       [141],\n",
              "       [142],\n",
              "       [143],\n",
              "       [144],\n",
              "       [145],\n",
              "       [146],\n",
              "       [147],\n",
              "       [148],\n",
              "       [149],\n",
              "       [150],\n",
              "       [151],\n",
              "       [152],\n",
              "       [153],\n",
              "       [154],\n",
              "       [155],\n",
              "       [156],\n",
              "       [157],\n",
              "       [158],\n",
              "       [159],\n",
              "       [160],\n",
              "       [161],\n",
              "       [162],\n",
              "       [163],\n",
              "       [164],\n",
              "       [165],\n",
              "       [166],\n",
              "       [167],\n",
              "       [168],\n",
              "       [169],\n",
              "       [170],\n",
              "       [171],\n",
              "       [172],\n",
              "       [173],\n",
              "       [174],\n",
              "       [175],\n",
              "       [176],\n",
              "       [177],\n",
              "       [178],\n",
              "       [179],\n",
              "       [180],\n",
              "       [181],\n",
              "       [182],\n",
              "       [183],\n",
              "       [184],\n",
              "       [185],\n",
              "       [186],\n",
              "       [187],\n",
              "       [188],\n",
              "       [189],\n",
              "       [190],\n",
              "       [191],\n",
              "       [192],\n",
              "       [193],\n",
              "       [194],\n",
              "       [195],\n",
              "       [196],\n",
              "       [197],\n",
              "       [198],\n",
              "       [199],\n",
              "       [200],\n",
              "       [201]])"
            ]
          },
          "metadata": {
            "tags": []
          },
          "execution_count": 146
        }
      ]
    },
    {
      "cell_type": "markdown",
      "metadata": {
        "id": "N-xEiGJrH3no",
        "colab_type": "text"
      },
      "source": [
        " Fit the model "
      ]
    },
    {
      "cell_type": "code",
      "metadata": {
        "id": "kcck4uWMH3no",
        "colab_type": "code",
        "colab": {
          "base_uri": "https://localhost:8080/",
          "height": 33
        },
        "outputId": "f91045cf-d49c-40b0-e5d7-6c4cefe247ef"
      },
      "source": [
        "X=df[['highway-mpg']]\n",
        "lm.fit(X, Y)\n",
        "lm"
      ],
      "execution_count": 149,
      "outputs": [
        {
          "output_type": "execute_result",
          "data": {
            "text/plain": [
              "LinearRegression(copy_X=True, fit_intercept=True, n_jobs=None, normalize=False)"
            ]
          },
          "metadata": {
            "tags": []
          },
          "execution_count": 149
        }
      ]
    },
    {
      "cell_type": "code",
      "metadata": {
        "id": "TdR7Wi58qqPW",
        "colab_type": "code",
        "colab": {
          "base_uri": "https://localhost:8080/",
          "height": 33
        },
        "outputId": "40a84899-9086-4f2e-8df1-a05be68cf3ce"
      },
      "source": [
        "X.shape"
      ],
      "execution_count": 127,
      "outputs": [
        {
          "output_type": "execute_result",
          "data": {
            "text/plain": [
              "(201, 2)"
            ]
          },
          "metadata": {
            "tags": []
          },
          "execution_count": 127
        }
      ]
    },
    {
      "cell_type": "markdown",
      "metadata": {
        "id": "Ox7Ps-QOH3np",
        "colab_type": "text"
      },
      "source": [
        "Produce a prediction"
      ]
    },
    {
      "cell_type": "code",
      "metadata": {
        "id": "IEjSwV0eH3np",
        "colab_type": "code",
        "colab": {
          "base_uri": "https://localhost:8080/",
          "height": 50
        },
        "outputId": "c4b082de-a87b-4e3e-9dad-80ee1cae78a4"
      },
      "source": [
        "yhat=lm.predict(new_input)\n",
        "yhat[0:5]"
      ],
      "execution_count": 150,
      "outputs": [
        {
          "output_type": "execute_result",
          "data": {
            "text/plain": [
              "array([37601.57247984, 36779.83910151, 35958.10572319, 35136.37234487,\n",
              "       34314.63896655])"
            ]
          },
          "metadata": {
            "tags": []
          },
          "execution_count": 150
        }
      ]
    },
    {
      "cell_type": "markdown",
      "metadata": {
        "id": "4wqcHo7tH3nq",
        "colab_type": "text"
      },
      "source": [
        "we can plot the data "
      ]
    },
    {
      "cell_type": "code",
      "metadata": {
        "id": "aZ34RlBPH3nr",
        "colab_type": "code",
        "colab": {
          "base_uri": "https://localhost:8080/",
          "height": 269
        },
        "outputId": "ea3d6e30-0a46-42e6-8bba-fce619076744"
      },
      "source": [
        "plt.plot(new_input, yhat)\n",
        "plt.show()"
      ],
      "execution_count": 151,
      "outputs": [
        {
          "output_type": "display_data",
          "data": {
            "image/png": "[encoded data removed]",
            "text/plain": [
              "<Figure size 432x288 with 1 Axes>"
            ]
          },
          "metadata": {
            "tags": []
          }
        }
      ]
    },
    {
      "cell_type": "markdown",
      "metadata": {
        "id": "iwbuRdshH3ns",
        "colab_type": "text"
      },
      "source": [
        "<h3>Decision Making: Determining a Good Model Fit</h3>"
      ]
    },
    {
      "cell_type": "markdown",
      "metadata": {
        "id": "Y1ZvMo6WH3nt",
        "colab_type": "text"
      },
      "source": [
        "<p>Now that we have visualized the different models, and generated the R-squared and MSE values for the fits, how do we determine a good model fit?\n",
        "<ul>\n",
        "    <li><i>What is a good R-squared value?</i></li>\n",
        "</ul>\n",
        "</p>\n",
        "\n",
        "<p>When comparing models, <b>the model with the higher R-squared value is a better fit</b> for the data.\n",
        "<ul>\n",
        "    <li><i>What is a good MSE?</i></li>\n",
        "</ul>\n",
        "</p>\n",
        "\n",
        "<p>When comparing models, <b>the model with the smallest MSE value is a better fit</b> for the data.</p>\n",
        "\n",
        "\n",
        "<h4>Let's take a look at the values for the different models.</h4>\n",
        "<p>Simple Linear Regression: Using Highway-mpg as a Predictor Variable of Price.\n",
        "<ul>\n",
        "    <li>R-squared: 0.49659118843391759</li>\n",
        "    <li>MSE: 3.16 x10^7</li>\n",
        "</ul>\n",
        "</p>\n",
        "    \n",
        "<p>Multiple Linear Regression: Using Horsepower, Curb-weight, Engine-size, and Highway-mpg as Predictor Variables of Price.\n",
        "<ul>\n",
        "    <li>R-squared: 0.80896354913783497</li>\n",
        "    <li>MSE: 1.2 x10^7</li>\n",
        "</ul>\n",
        "</p>\n",
        "    \n",
        "<p>Polynomial Fit: Using Highway-mpg as a Predictor Variable of Price.\n",
        "<ul>\n",
        "    <li>R-squared: 0.6741946663906514</li>\n",
        "    <li>MSE: 2.05 x 10^7</li>\n",
        "</ul>\n",
        "</p>"
      ]
    },
    {
      "cell_type": "markdown",
      "metadata": {
        "id": "qyj4-kLcH3nt",
        "colab_type": "text"
      },
      "source": [
        "<h3>Simple Linear Regression model (SLR) vs Multiple Linear Regression model (MLR)</h3>"
      ]
    },
    {
      "cell_type": "markdown",
      "metadata": {
        "id": "vjTjKmeFH3nu",
        "colab_type": "text"
      },
      "source": [
        "<p>Usually, the more variables you have, the better your model is at predicting, but this is not always true. Sometimes you may not have enough data, you may run into numerical problems, or many of the variables may not be useful and or even act as noise. As a result, you should always check the MSE and R^2.</p>\n",
        "\n",
        "<p>So to be able to compare the results of the MLR vs SLR models, we look at a combination of both the R-squared and MSE to make the best conclusion about the fit of the model.\n",
        "<ul>\n",
        "    <li><b>MSE</b>The MSE of SLR is  3.16x10^7  while MLR has an MSE of 1.2 x10^7.  The MSE of MLR is much smaller.</li>\n",
        "    <li><b>R-squared</b>: In this case, we can also see that there is a big difference between the R-squared of the SLR and the R-squared of the MLR. The R-squared for the SLR (~0.497) is very small compared to the R-squared for the MLR (~0.809).</li>\n",
        "</ul>\n",
        "</p>\n",
        "\n",
        "This R-squared in combination with the MSE show that MLR seems like the better model fit in this case, compared to SLR."
      ]
    },
    {
      "cell_type": "markdown",
      "metadata": {
        "id": "4Dm-GuQ6H3nu",
        "colab_type": "text"
      },
      "source": [
        "<h3>Simple Linear Model (SLR) vs Polynomial Fit</h3>"
      ]
    },
    {
      "cell_type": "markdown",
      "metadata": {
        "id": "hHamNI6lH3nv",
        "colab_type": "text"
      },
      "source": [
        "<ul>\n",
        "    <li><b>MSE</b>: We can see that Polynomial Fit brought down the MSE, since this MSE is smaller than the one from the SLR.</li> \n",
        "    <li><b>R-squared</b>: The R-squared for the Polyfit is larger than the R-squared for the SLR, so the Polynomial Fit also brought up the R-squared quite a bit.</li>\n",
        "</ul>\n",
        "<p>Since the Polynomial Fit resulted in a lower MSE and a higher R-squared, we can conclude that this was a better fit model than the simple linear regression for predicting Price with Highway-mpg as a predictor variable.</p>"
      ]
    },
    {
      "cell_type": "markdown",
      "metadata": {
        "id": "RO78HqopH3nv",
        "colab_type": "text"
      },
      "source": [
        "<h3>Multiple Linear Regression (MLR) vs Polynomial Fit</h3>"
      ]
    },
    {
      "cell_type": "markdown",
      "metadata": {
        "id": "3QkZi0ACH3nv",
        "colab_type": "text"
      },
      "source": [
        "<ul>\n",
        "    <li><b>MSE</b>: The MSE for the MLR is smaller than the MSE for the Polynomial Fit.</li>\n",
        "    <li><b>R-squared</b>: The R-squared for the MLR is also much larger than for the Polynomial Fit.</li>\n",
        "</ul>"
      ]
    },
    {
      "cell_type": "markdown",
      "metadata": {
        "id": "BG4NBkdeH3nw",
        "colab_type": "text"
      },
      "source": [
        "<h2>Conclusion:</h2>"
      ]
    },
    {
      "cell_type": "markdown",
      "metadata": {
        "id": "DxkNFGVZH3nw",
        "colab_type": "text"
      },
      "source": [
        "<p>Comparing these three models, we conclude that <b>the MLR model is the best model</b> to be able to predict price from our dataset. This result makes sense, since we have 27 variables in total, and we know that more than one of those variables are potential predictors of the final car price.</p>"
      ]
    }
  ]
}