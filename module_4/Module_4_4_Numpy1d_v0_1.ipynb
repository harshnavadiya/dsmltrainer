{
  "nbformat": 4,
  "nbformat_minor": 0,
  "metadata": {
    "colab": {
      "name": "Module_4.4_Numpy1d_v0.1.ipynb",
      "version": "0.3.2",
      "provenance": [],
      "include_colab_link": true
    },
    "language_info": {
      "codemirror_mode": {
        "name": "ipython",
        "version": 3
      },
      "file_extension": ".py",
      "mimetype": "text/x-python",
      "name": "python",
      "nbconvert_exporter": "python",
      "pygments_lexer": "ipython3",
      "version": "3.5.2"
    },
    "kernelspec": {
      "display_name": "Python 3",
      "language": "python",
      "name": "python3"
    }
  },
  "cells": [
    {
      "cell_type": "markdown",
      "metadata": {
        "id": "view-in-github",
        "colab_type": "text"
      },
      "source": [
        "<a href=\"https://colab.research.google.com/github/harshnavadiya/dsmltrainer/blob/master/module_4/Module_4_4_Numpy1d_v0_1.ipynb\" target=\"_parent\"><img src=\"https://colab.research.google.com/assets/colab-badge.svg\" alt=\"Open In Colab\"/></a>"
      ]
    },
    {
      "cell_type": "markdown",
      "metadata": {
        "id": "ZdYz3-AoJOJ0",
        "colab_type": "text"
      },
      "source": [
        "#Numpy in Python"
      ]
    },
    {
      "cell_type": "code",
      "metadata": {
        "id": "jiJW8r9WJOJ0",
        "colab_type": "code",
        "colab": {}
      },
      "source": [
        "import time \n",
        "import sys\n",
        "import numpy as np \n",
        "\n",
        "import matplotlib.pyplot as plt\n",
        "%matplotlib inline  "
      ],
      "execution_count": 0,
      "outputs": []
    },
    {
      "cell_type": "code",
      "metadata": {
        "id": "_3FkkvVZJOJ2",
        "colab_type": "code",
        "colab": {}
      },
      "source": [
        "def Plotvec1(u,z,v):\n",
        "    #this function is used in code \n",
        "    ax = plt.axes()\n",
        "    ax.arrow(0, 0, *u, head_width=0.05,color ='r', head_length=0.1)\n",
        "    plt.text(*(u+0.1), 'u')\n",
        "    \n",
        "    ax.arrow(0, 0, *v, head_width=0.05,color ='b', head_length=0.1)\n",
        "    plt.text(*(v+0.1), 'v')\n",
        "    ax.arrow(0, 0, *z, head_width=0.05, head_length=0.1)\n",
        "    plt.text(*(z+0.1), 'z')\n",
        "    plt.ylim(-2,2)\n",
        "    plt.xlim(-2,2)\n",
        "\n",
        "\n",
        "\n",
        "def Plotvec2(a,b):\n",
        "    #this function is used in code \n",
        "    ax = plt.axes()\n",
        "    ax.arrow(0, 0, *a, head_width=0.05,color ='r', head_length=0.1)\n",
        "    plt.text(*(a+0.1), 'a')\n",
        "    ax.arrow(0, 0, *b, head_width=0.05,color ='b', head_length=0.1)\n",
        "    plt.text(*(b+0.1), 'b')\n",
        "\n",
        "    plt.ylim(-2,2)\n",
        "    plt.xlim(-2,2)"
      ],
      "execution_count": 0,
      "outputs": []
    },
    {
      "cell_type": "markdown",
      "metadata": {
        "id": "WTmbUKbyJOJ4",
        "colab_type": "text"
      },
      "source": [
        "If you recall, a  Python list is a container that allows you to store and access data. We can create a Python List as follows:"
      ]
    },
    {
      "cell_type": "code",
      "metadata": {
        "id": "q3SwB-1XJOJ5",
        "colab_type": "code",
        "colab": {}
      },
      "source": [
        "a=[\"0\",1,\"two\",\"3\",4]"
      ],
      "execution_count": 0,
      "outputs": []
    },
    {
      "cell_type": "markdown",
      "metadata": {
        "id": "zBa0AkKUJOJ7",
        "colab_type": "text"
      },
      "source": [
        "We can access the data via an index:"
      ]
    },
    {
      "cell_type": "markdown",
      "metadata": {
        "id": "q-h2UyTzJOJ7",
        "colab_type": "text"
      },
      "source": [
        "<img src = \"https://ibm.box.com/shared/static/myq8bs3maj0g1sqn9yqo910zwparhhtj.png\" width = 660, align = \"center\">\n"
      ]
    },
    {
      "cell_type": "markdown",
      "metadata": {
        "id": "OuzC2RMRJOJ8",
        "colab_type": "text"
      },
      "source": [
        "We can access each element using a square bracket as follows: "
      ]
    },
    {
      "cell_type": "code",
      "metadata": {
        "id": "v4mDbvYKJOJ8",
        "colab_type": "code",
        "colab": {}
      },
      "source": [
        "print(\"a[0]:\",a[0])\n",
        "print(\"a[1]:\",a[1])\n",
        "print(\"a[2]:\",a[2])\n",
        "print(\"a[3]:\",a[3])\n",
        "print(\"a[4]:\",a[4])"
      ],
      "execution_count": 0,
      "outputs": []
    },
    {
      "cell_type": "markdown",
      "metadata": {
        "id": "p7VzvJ4TJOJ-",
        "colab_type": "text"
      },
      "source": [
        "A numpy array is similar to a list, it's usually fixed in size and each element is of the same type. We can cast a list to a numpy array by first importing numpy: "
      ]
    },
    {
      "cell_type": "code",
      "metadata": {
        "id": "35Gi33SeJOJ-",
        "colab_type": "code",
        "colab": {}
      },
      "source": [
        "import numpy as np "
      ],
      "execution_count": 0,
      "outputs": []
    },
    {
      "cell_type": "markdown",
      "metadata": {
        "id": "ZejfN0K_JOKA",
        "colab_type": "text"
      },
      "source": [
        " We then cast the list as follows:"
      ]
    },
    {
      "cell_type": "code",
      "metadata": {
        "id": "8Kn2Cin1JOKB",
        "colab_type": "code",
        "colab": {}
      },
      "source": [
        "a=np.array([0,1,2,3, 4])\n",
        "a"
      ],
      "execution_count": 0,
      "outputs": []
    },
    {
      "cell_type": "markdown",
      "metadata": {
        "id": "iV2gnPHEJOKF",
        "colab_type": "text"
      },
      "source": [
        "Each element is of the same type, in this case integers: "
      ]
    },
    {
      "cell_type": "markdown",
      "metadata": {
        "id": "2KpJ9wonJOKG",
        "colab_type": "text"
      },
      "source": [
        "<img src = \"https://ibm.box.com/shared/static/sb97ysreaayf24b8ece1452e8m5e2vol.png\" width = 500, align = \"center\">\n"
      ]
    },
    {
      "cell_type": "markdown",
      "metadata": {
        "id": "4PHvnO_WJOKH",
        "colab_type": "text"
      },
      "source": [
        " As with lists, we can access each element via a square bracket:"
      ]
    },
    {
      "cell_type": "code",
      "metadata": {
        "id": "kqAHK6vKJOKI",
        "colab_type": "code",
        "colab": {}
      },
      "source": [
        "print(\"a[0]:\",a[0])\n",
        "print(\"a[1]:\",a[1])\n",
        "print(\"a[2]:\",a[2])\n",
        "print(\"a[3]:\",a[3])\n",
        "print(\"a[4]:\",a[4])"
      ],
      "execution_count": 0,
      "outputs": []
    },
    {
      "cell_type": "markdown",
      "metadata": {
        "id": "eXADwZh8JOKK",
        "colab_type": "text"
      },
      "source": [
        "The value of “a” is stored a follows: "
      ]
    },
    {
      "cell_type": "code",
      "metadata": {
        "id": "yWfS7sXSJOKK",
        "colab_type": "code",
        "colab": {}
      },
      "source": [
        "a"
      ],
      "execution_count": 0,
      "outputs": []
    },
    {
      "cell_type": "markdown",
      "metadata": {
        "id": "QvmqWjpOJOKM",
        "colab_type": "text"
      },
      "source": [
        "If we check the type of the array we get \"numpy.ndarray\":"
      ]
    },
    {
      "cell_type": "code",
      "metadata": {
        "id": "ESzaKklNJOKN",
        "colab_type": "code",
        "colab": {}
      },
      "source": [
        "type(a)"
      ],
      "execution_count": 0,
      "outputs": []
    },
    {
      "cell_type": "markdown",
      "metadata": {
        "id": "V8ljhWBFJOKO",
        "colab_type": "text"
      },
      "source": [
        "As numpy arrays contain data of the same type, we can use the attribute \"dtype\" to obtain the Data-type of the array’s elements. In this case a 64-bit integer: \n"
      ]
    },
    {
      "cell_type": "code",
      "metadata": {
        "id": "2VxV7WYhJOKP",
        "colab_type": "code",
        "colab": {}
      },
      "source": [
        "a.dtype"
      ],
      "execution_count": 0,
      "outputs": []
    },
    {
      "cell_type": "markdown",
      "metadata": {
        "id": "rNX-d9gHJOKQ",
        "colab_type": "text"
      },
      "source": [
        "We can create a numpy array with real numbers:"
      ]
    },
    {
      "cell_type": "code",
      "metadata": {
        "id": "KEzDgMpTJOKR",
        "colab_type": "code",
        "colab": {}
      },
      "source": [
        "b=np.array([3.1,11.02,6.2, 213.2,5.2])"
      ],
      "execution_count": 0,
      "outputs": []
    },
    {
      "cell_type": "markdown",
      "metadata": {
        "id": "QicZWkszJOKS",
        "colab_type": "text"
      },
      "source": [
        "When we check the type of the array we get \"numpy.ndarray\":"
      ]
    },
    {
      "cell_type": "code",
      "metadata": {
        "id": "rgfJDhK6JOKT",
        "colab_type": "code",
        "colab": {}
      },
      "source": [
        "type(b)"
      ],
      "execution_count": 0,
      "outputs": []
    },
    {
      "cell_type": "markdown",
      "metadata": {
        "id": "PJ4ePiONJOKV",
        "colab_type": "text"
      },
      "source": [
        "If we examine the attribute \"dtype\" we see float 64, as the elements are not integers: "
      ]
    },
    {
      "cell_type": "code",
      "metadata": {
        "id": "XH0oGjtZJOKV",
        "colab_type": "code",
        "colab": {}
      },
      "source": [
        "b.dtype"
      ],
      "execution_count": 0,
      "outputs": []
    },
    {
      "cell_type": "markdown",
      "metadata": {
        "id": "2yhOENfhJOKX",
        "colab_type": "text"
      },
      "source": [
        "We can change the value of the array, consider the array \"c\":"
      ]
    },
    {
      "cell_type": "code",
      "metadata": {
        "id": "DcdN5mHEJOKY",
        "colab_type": "code",
        "colab": {}
      },
      "source": [
        "c=np.array([20,1,2,3,4])\n",
        "c"
      ],
      "execution_count": 0,
      "outputs": []
    },
    {
      "cell_type": "markdown",
      "metadata": {
        "id": "a8EpImMdJOKb",
        "colab_type": "text"
      },
      "source": [
        "We can change the first element of the array to 100 as follows:"
      ]
    },
    {
      "cell_type": "code",
      "metadata": {
        "id": "_3E-9C-9JOKb",
        "colab_type": "code",
        "colab": {}
      },
      "source": [
        "c[0]=100\n",
        "c"
      ],
      "execution_count": 0,
      "outputs": []
    },
    {
      "cell_type": "markdown",
      "metadata": {
        "id": "5Sn0GoO9JOKd",
        "colab_type": "text"
      },
      "source": [
        "We can change the 5th element of the array as follows:"
      ]
    },
    {
      "cell_type": "code",
      "metadata": {
        "id": "mFTpEoERJOKd",
        "colab_type": "code",
        "colab": {}
      },
      "source": [
        "c[4]=0\n",
        "c"
      ],
      "execution_count": 0,
      "outputs": []
    },
    {
      "cell_type": "markdown",
      "metadata": {
        "id": "3I4Q3_c-JOKf",
        "colab_type": "text"
      },
      "source": [
        "\n",
        "Like lists, we can slice the numpy array, and we can select the elements from 1 to 3 and assign it to a new numpy array 'd' as follows:\n"
      ]
    },
    {
      "cell_type": "code",
      "metadata": {
        "id": "7O3fF_JuJOKf",
        "colab_type": "code",
        "colab": {}
      },
      "source": [
        "d=c[1:4]\n",
        "d"
      ],
      "execution_count": 0,
      "outputs": []
    },
    {
      "cell_type": "markdown",
      "metadata": {
        "id": "d0255ElfJOKk",
        "colab_type": "text"
      },
      "source": [
        "We can assign the corresponding indexes to  new values as follows: "
      ]
    },
    {
      "cell_type": "code",
      "metadata": {
        "id": "M9qTiw0NJOKk",
        "colab_type": "code",
        "colab": {}
      },
      "source": [
        "c[3:5]=300,400\n",
        "c"
      ],
      "execution_count": 0,
      "outputs": []
    },
    {
      "cell_type": "markdown",
      "metadata": {
        "id": "HLc5JI-GJOKn",
        "colab_type": "text"
      },
      "source": [
        "Similarly, we can use a list to select a specific index.\n",
        "The list ' select ' contains several values:\n"
      ]
    },
    {
      "cell_type": "code",
      "metadata": {
        "id": "neYS5YU1JOKo",
        "colab_type": "code",
        "colab": {}
      },
      "source": [
        "select=[0,2,3]"
      ],
      "execution_count": 0,
      "outputs": []
    },
    {
      "cell_type": "markdown",
      "metadata": {
        "id": "XLrosQhqJOKq",
        "colab_type": "text"
      },
      "source": [
        "We can use the list as an argument in the brackets. The output is the elements corresponding to the particular index:"
      ]
    },
    {
      "cell_type": "code",
      "metadata": {
        "id": "whXYVeIPJOKr",
        "colab_type": "code",
        "colab": {}
      },
      "source": [
        "d=c[select]\n",
        "d"
      ],
      "execution_count": 0,
      "outputs": []
    },
    {
      "cell_type": "markdown",
      "metadata": {
        "id": "ubGnFONgJOKs",
        "colab_type": "text"
      },
      "source": [
        "We can assign the specified elements to  a new value. For example, we can assign the values to 100 000 as follows:"
      ]
    },
    {
      "cell_type": "code",
      "metadata": {
        "id": "tLSE60-4JOKs",
        "colab_type": "code",
        "colab": {}
      },
      "source": [
        "c[select]=100000\n",
        "c"
      ],
      "execution_count": 0,
      "outputs": []
    },
    {
      "cell_type": "markdown",
      "metadata": {
        "id": "wlFuK7S-JOKu",
        "colab_type": "text"
      },
      "source": [
        "Let's review some basic array attributes using the array ‘a’:"
      ]
    },
    {
      "cell_type": "code",
      "metadata": {
        "id": "FZ6Vk958JOKu",
        "colab_type": "code",
        "colab": {}
      },
      "source": [
        "a=np.array([0,1,2,3, 4])\n",
        "a"
      ],
      "execution_count": 0,
      "outputs": []
    },
    {
      "cell_type": "markdown",
      "metadata": {
        "id": "4UOsVAgoJOKw",
        "colab_type": "text"
      },
      "source": [
        "The attribute size is the Number of elements in the array:"
      ]
    },
    {
      "cell_type": "code",
      "metadata": {
        "id": "kxeLqkWCJOKw",
        "colab_type": "code",
        "colab": {}
      },
      "source": [
        "a.size"
      ],
      "execution_count": 0,
      "outputs": []
    },
    {
      "cell_type": "markdown",
      "metadata": {
        "id": "_iJFiMXEJOKx",
        "colab_type": "text"
      },
      "source": [
        "The next two attributes will make more sense when we get to higher dimensions but let's review them. The attribute “ndim” represents the Number of array dimensions or the rank of the array, in this case, one:"
      ]
    },
    {
      "cell_type": "code",
      "metadata": {
        "id": "6A0dPjnPJOKy",
        "colab_type": "code",
        "colab": {}
      },
      "source": [
        "a.ndim"
      ],
      "execution_count": 0,
      "outputs": []
    },
    {
      "cell_type": "markdown",
      "metadata": {
        "id": "-csotviZJOKz",
        "colab_type": "text"
      },
      "source": [
        "The attribute “shape” is a tuple of integers indicating the size of the array in each dimension:"
      ]
    },
    {
      "cell_type": "code",
      "metadata": {
        "id": "khUP_cKDJOK0",
        "colab_type": "code",
        "colab": {}
      },
      "source": [
        "a.shape"
      ],
      "execution_count": 0,
      "outputs": []
    },
    {
      "cell_type": "code",
      "metadata": {
        "id": "Xz_s1a6LJOK2",
        "colab_type": "code",
        "colab": {}
      },
      "source": [
        "a=np.array([1,-1,1,-1])"
      ],
      "execution_count": 0,
      "outputs": []
    },
    {
      "cell_type": "code",
      "metadata": {
        "id": "ra9eYZsBJOK3",
        "colab_type": "code",
        "colab": {}
      },
      "source": [
        "mean=a.mean()\n",
        "mean"
      ],
      "execution_count": 0,
      "outputs": []
    },
    {
      "cell_type": "code",
      "metadata": {
        "id": "gPS8Dms_JOK5",
        "colab_type": "code",
        "colab": {}
      },
      "source": [
        "standard_deviation=a.std()\n",
        "standard_deviation"
      ],
      "execution_count": 0,
      "outputs": []
    },
    {
      "cell_type": "code",
      "metadata": {
        "id": "c5rzyH8TJOK7",
        "colab_type": "code",
        "colab": {}
      },
      "source": [
        "b=np.array([1,2,3,4,5])\n",
        "b"
      ],
      "execution_count": 0,
      "outputs": []
    },
    {
      "cell_type": "code",
      "metadata": {
        "id": "blDfqYu7JOK8",
        "colab_type": "code",
        "colab": {}
      },
      "source": [
        "max_b=b.max()"
      ],
      "execution_count": 0,
      "outputs": []
    },
    {
      "cell_type": "code",
      "metadata": {
        "id": "jR-j9oixJOK9",
        "colab_type": "code",
        "colab": {}
      },
      "source": [
        "max_b=b.min()"
      ],
      "execution_count": 0,
      "outputs": []
    },
    {
      "cell_type": "markdown",
      "metadata": {
        "id": "e1IFBNJOJOK-",
        "colab_type": "text"
      },
      "source": [
        "## Array Addition "
      ]
    },
    {
      "cell_type": "markdown",
      "metadata": {
        "id": "2eJzZDqrJOK_",
        "colab_type": "text"
      },
      "source": [
        "Consider the numpy array 'u':"
      ]
    },
    {
      "cell_type": "code",
      "metadata": {
        "id": "44PCyyVVJOK_",
        "colab_type": "code",
        "colab": {}
      },
      "source": [
        "u=np.array([1,0])\n",
        "u"
      ],
      "execution_count": 0,
      "outputs": []
    },
    {
      "cell_type": "markdown",
      "metadata": {
        "id": "_r1e5kYnJOLB",
        "colab_type": "text"
      },
      "source": [
        "Consider the numpy array 'v':"
      ]
    },
    {
      "cell_type": "code",
      "metadata": {
        "id": "k9ntlZynJOLC",
        "colab_type": "code",
        "colab": {}
      },
      "source": [
        "v=np.array([0,1])\n",
        "v"
      ],
      "execution_count": 0,
      "outputs": []
    },
    {
      "cell_type": "markdown",
      "metadata": {
        "id": "CBU1ZwGSJOLF",
        "colab_type": "text"
      },
      "source": [
        "We can add the two arrays and assign it to z:"
      ]
    },
    {
      "cell_type": "code",
      "metadata": {
        "id": "7ebA1tsnJOLG",
        "colab_type": "code",
        "colab": {}
      },
      "source": [
        "z=u+v\n",
        "z"
      ],
      "execution_count": 0,
      "outputs": []
    },
    {
      "cell_type": "markdown",
      "metadata": {
        "id": "zTZHXYwGJOLH",
        "colab_type": "text"
      },
      "source": [
        " The operation is equivalent to vector addition:"
      ]
    },
    {
      "cell_type": "code",
      "metadata": {
        "id": "IoU6YK4MJOLH",
        "colab_type": "code",
        "colab": {}
      },
      "source": [
        "Plotvec1(u,z,v)"
      ],
      "execution_count": 0,
      "outputs": []
    },
    {
      "cell_type": "markdown",
      "metadata": {
        "id": "u_GU4abaJOLK",
        "colab_type": "text"
      },
      "source": [
        "####   Implement the following vector subtraction in numpy: u-v  "
      ]
    },
    {
      "cell_type": "code",
      "metadata": {
        "id": "oSWvdtXiJOLK",
        "colab_type": "code",
        "colab": {}
      },
      "source": [
        ""
      ],
      "execution_count": 0,
      "outputs": []
    },
    {
      "cell_type": "markdown",
      "metadata": {
        "id": "hpIWsny2JOLN",
        "colab_type": "text"
      },
      "source": [
        "Consider the vector numpy array 'y':"
      ]
    },
    {
      "cell_type": "code",
      "metadata": {
        "id": "Lc5FXxO1JOLP",
        "colab_type": "code",
        "colab": {}
      },
      "source": [
        "y=np.array([1,2])\n",
        "y"
      ],
      "execution_count": 0,
      "outputs": []
    },
    {
      "cell_type": "markdown",
      "metadata": {
        "id": "_W0MLaM-JOLQ",
        "colab_type": "text"
      },
      "source": [
        "We can multiply every element in the array by 2:"
      ]
    },
    {
      "cell_type": "code",
      "metadata": {
        "id": "_wfLHMPmJOLQ",
        "colab_type": "code",
        "colab": {}
      },
      "source": [
        "z=2*y\n",
        "z"
      ],
      "execution_count": 0,
      "outputs": []
    },
    {
      "cell_type": "markdown",
      "metadata": {
        "id": "nDk0WtprJOLS",
        "colab_type": "text"
      },
      "source": [
        " This is equivalent to multiplying a vector by a scaler: "
      ]
    },
    {
      "cell_type": "markdown",
      "metadata": {
        "id": "3xHI61OIJOLS",
        "colab_type": "text"
      },
      "source": [
        "####   Multiply the numpy array z with -2:"
      ]
    },
    {
      "cell_type": "code",
      "metadata": {
        "id": "oocB_kMQJOLS",
        "colab_type": "code",
        "colab": {}
      },
      "source": [
        ""
      ],
      "execution_count": 0,
      "outputs": []
    },
    {
      "cell_type": "markdown",
      "metadata": {
        "id": "4-DKaedXJOLU",
        "colab_type": "text"
      },
      "source": [
        "## Product of two numpy arrays "
      ]
    },
    {
      "cell_type": "markdown",
      "metadata": {
        "id": "PUeQT8jPJOLU",
        "colab_type": "text"
      },
      "source": [
        " Consider the following array 'u':"
      ]
    },
    {
      "cell_type": "code",
      "metadata": {
        "id": "7UB1agDmJOLV",
        "colab_type": "code",
        "colab": {}
      },
      "source": [
        "u=np.array([1,2])\n",
        "u"
      ],
      "execution_count": 0,
      "outputs": []
    },
    {
      "cell_type": "markdown",
      "metadata": {
        "id": "u1PQSmsSJOLW",
        "colab_type": "text"
      },
      "source": [
        " Consider the following array 'v':"
      ]
    },
    {
      "cell_type": "code",
      "metadata": {
        "id": "3srgK0jjJOLW",
        "colab_type": "code",
        "colab": {}
      },
      "source": [
        "v=np.array([3,2])\n",
        "v"
      ],
      "execution_count": 0,
      "outputs": []
    },
    {
      "cell_type": "markdown",
      "metadata": {
        "id": "1EisZPnJJOLY",
        "colab_type": "text"
      },
      "source": [
        " The product of the two numpy arrays 'u' and 'v' is given by:"
      ]
    },
    {
      "cell_type": "code",
      "metadata": {
        "id": "qJk5rMRcJOLZ",
        "colab_type": "code",
        "colab": {}
      },
      "source": [
        "z=u*v\n",
        "z"
      ],
      "execution_count": 0,
      "outputs": []
    },
    {
      "cell_type": "markdown",
      "metadata": {
        "id": "o6E3I_I1JOLa",
        "colab_type": "text"
      },
      "source": [
        "####  Consider the list [1,2,3,4,5] and [1,0,1,0,1], and cast both lists to a numpy array then multiply them together:"
      ]
    },
    {
      "cell_type": "code",
      "metadata": {
        "id": "ME7sSak0JOLc",
        "colab_type": "code",
        "colab": {}
      },
      "source": [
        ""
      ],
      "execution_count": 0,
      "outputs": []
    },
    {
      "cell_type": "markdown",
      "metadata": {
        "id": "GwYHhSqlJOLd",
        "colab_type": "text"
      },
      "source": [
        "#### Dot Product"
      ]
    },
    {
      "cell_type": "markdown",
      "metadata": {
        "id": "ni_Y0no7JOLd",
        "colab_type": "text"
      },
      "source": [
        " The dot product of the two numpy arrays 'u' and 'v' is given by:"
      ]
    },
    {
      "cell_type": "code",
      "metadata": {
        "id": "yPmc4gX0JOLe",
        "colab_type": "code",
        "colab": {}
      },
      "source": [
        "np.dot(u,v)"
      ],
      "execution_count": 0,
      "outputs": []
    },
    {
      "cell_type": "markdown",
      "metadata": {
        "id": "5rPSW-TDJOLg",
        "colab_type": "text"
      },
      "source": [
        "####  Convert the list [-1,1] and [1,1] to  numpy arrays 'a' and 'b'.  Then, plot the arrays as vectors using the fuction Plotvec2  and find the dot product:"
      ]
    },
    {
      "cell_type": "code",
      "metadata": {
        "id": "BqHEmxVIJOLg",
        "colab_type": "code",
        "colab": {}
      },
      "source": [
        ""
      ],
      "execution_count": 0,
      "outputs": []
    },
    {
      "cell_type": "markdown",
      "metadata": {
        "id": "-kXUfBWTJOLj",
        "colab_type": "text"
      },
      "source": [
        " <div align=\"right\">\n",
        "<a href=\"#4\" class=\"btn btn-default\" data-toggle=\"collapse\">Click here for the solution</a>\n",
        "\n",
        "</div>\n",
        "<div id=\"4\" class=\"collapse\">\n",
        "```\n",
        "a=np.array([-1,1])\n",
        "b=np.array([1,1])\n",
        "Plotvec2(a,b)\n",
        "print(\"the dot product is\",np.dot(a,b) )\n",
        "```\n",
        "</div>\n"
      ]
    },
    {
      "cell_type": "markdown",
      "metadata": {
        "id": "DrFl_lSXJgPw",
        "colab_type": "text"
      },
      "source": [
        ""
      ]
    },
    {
      "cell_type": "markdown",
      "metadata": {
        "id": "gqzqtSetJOLj",
        "colab_type": "text"
      },
      "source": [
        "#### Convert the list [1,0] and [0,1] to numpy arrays 'a' and 'b'. Then, plot the arrays as vectors using the function Plotvec2 and find the dot product:\n"
      ]
    },
    {
      "cell_type": "code",
      "metadata": {
        "id": "DJzG4PmFJOLj",
        "colab_type": "code",
        "colab": {}
      },
      "source": [
        ""
      ],
      "execution_count": 0,
      "outputs": []
    },
    {
      "cell_type": "markdown",
      "metadata": {
        "id": "qSDAs9_DJOLl",
        "colab_type": "text"
      },
      "source": [
        " <div align=\"right\">\n",
        "<a href=\"#5\" class=\"btn btn-default\" data-toggle=\"collapse\">Click here for the solution</a>\n",
        "\n",
        "</div>\n",
        "<div id=\"5\" class=\"collapse\">\n",
        "```\n",
        "a=np.array([1,0])\n",
        "b=np.array([0,1])\n",
        "Plotvec2(a,b)\n",
        "print(\"the dot product is\",np.dot(a,b) )\n",
        "```\n",
        "</div>"
      ]
    },
    {
      "cell_type": "markdown",
      "metadata": {
        "id": "4TeGOT0QJOLm",
        "colab_type": "text"
      },
      "source": [
        "#### Convert the list [1,1] and [0,1] to numpy arrays 'a' and 'b'. Then plot the arrays as vectors using the fuction Plotvec2 and find the dot product:\n",
        "\n",
        "\n"
      ]
    },
    {
      "cell_type": "code",
      "metadata": {
        "id": "TcZb66eqJOLm",
        "colab_type": "code",
        "colab": {}
      },
      "source": [
        ""
      ],
      "execution_count": 0,
      "outputs": []
    },
    {
      "cell_type": "markdown",
      "metadata": {
        "id": "rkb_Y_m8JOLn",
        "colab_type": "text"
      },
      "source": [
        " <div align=\"right\">\n",
        "<a href=\"#6\" class=\"btn btn-default\" data-toggle=\"collapse\">Click here for the solution</a>\n",
        "\n",
        "</div>\n",
        "<div id=\"6\" class=\"collapse\">\n",
        "```\n",
        "a=np.array([1,1])\n",
        "b=np.array([0,1])\n",
        "Plotvec2(a,b)\n",
        "print(\"the dot product is\",np.dot(a,b) )\n",
        "print(\"the dot product is\",np.dot(a,b) )\n",
        "```\n",
        "</div>"
      ]
    },
    {
      "cell_type": "markdown",
      "metadata": {
        "id": "BH7WBGyCJOLo",
        "colab_type": "text"
      },
      "source": [
        "####   Why is the result of the dot product for question 4 and 5 zero, but not zero for question 6? Hint: study the corresponding figures, pay attention to the direction the arrows are pointing to. "
      ]
    },
    {
      "cell_type": "code",
      "metadata": {
        "id": "OA2H_splJOLp",
        "colab_type": "code",
        "colab": {}
      },
      "source": [
        ""
      ],
      "execution_count": 0,
      "outputs": []
    },
    {
      "cell_type": "markdown",
      "metadata": {
        "id": "ibTF-HdPJOLr",
        "colab_type": "text"
      },
      "source": [
        "<div align=\"right\">\n",
        "<a href=\"#7\" class=\"btn btn-default\" data-toggle=\"collapse\">Click here for the solution</a>\n",
        "\n",
        "</div>\n",
        "<div id=\"7\" class=\"collapse\">\n",
        "```\n",
        "The vectors used for question 4 and 5 are perpendicular. As a result, the dot product is zero.\n",
        "```\n",
        "</div>"
      ]
    },
    {
      "cell_type": "markdown",
      "metadata": {
        "id": "lRHTWUKvJOLr",
        "colab_type": "text"
      },
      "source": [
        "### Adding Constant to a numpy Array "
      ]
    },
    {
      "cell_type": "markdown",
      "metadata": {
        "id": "4L0YCE79JOLs",
        "colab_type": "text"
      },
      "source": [
        "Consider the following array: "
      ]
    },
    {
      "cell_type": "code",
      "metadata": {
        "id": "tvF8brAIJOLs",
        "colab_type": "code",
        "colab": {}
      },
      "source": [
        "u=np.array([1,2,3,-1]) \n",
        "u"
      ],
      "execution_count": 0,
      "outputs": []
    },
    {
      "cell_type": "markdown",
      "metadata": {
        "id": "ZgLB2aKgJOLu",
        "colab_type": "text"
      },
      "source": [
        " Adding the constant 1 to the array adds 1 to each element in the array:"
      ]
    },
    {
      "cell_type": "code",
      "metadata": {
        "id": "lvNlas33JOLu",
        "colab_type": "code",
        "colab": {}
      },
      "source": [
        "u+1"
      ],
      "execution_count": 0,
      "outputs": []
    },
    {
      "cell_type": "markdown",
      "metadata": {
        "id": "VXvGU09eJOLw",
        "colab_type": "text"
      },
      "source": [
        " The process is summarised in the following animation:"
      ]
    },
    {
      "cell_type": "markdown",
      "metadata": {
        "id": "dmNMfzdgJOLx",
        "colab_type": "text"
      },
      "source": [
        " <img src = \"https://ibm.box.com/shared/static/aqcmsph1r0p5la73p1zw8p9vj01opx3h.gif\" width = 500, align = \"center\">"
      ]
    },
    {
      "cell_type": "markdown",
      "metadata": {
        "id": "ilhxGHXfJOLx",
        "colab_type": "text"
      },
      "source": [
        " This part of <a href=\"https://docs.scipy.org/doc/numpy-1.13.0/user/basics.broadcasting.html\" > Broadcasting</a> check out the link for more detail. "
      ]
    },
    {
      "cell_type": "markdown",
      "metadata": {
        "id": "e75WUZ6SJOLy",
        "colab_type": "text"
      },
      "source": [
        "### Mathematical Functions "
      ]
    },
    {
      "cell_type": "markdown",
      "metadata": {
        "id": "9KNPPbRLJOLy",
        "colab_type": "text"
      },
      "source": [
        " We can access the value of pie in numpy as follows :"
      ]
    },
    {
      "cell_type": "code",
      "metadata": {
        "id": "t3HGaAkxJOLy",
        "colab_type": "code",
        "colab": {}
      },
      "source": [
        "np.pi"
      ],
      "execution_count": 0,
      "outputs": []
    },
    {
      "cell_type": "markdown",
      "metadata": {
        "id": "VKKa9sYFJOL0",
        "colab_type": "text"
      },
      "source": [
        " We can create the following numpy array in Radians:"
      ]
    },
    {
      "cell_type": "code",
      "metadata": {
        "id": "kUf1IrrzJOL0",
        "colab_type": "code",
        "colab": {}
      },
      "source": [
        "x=np.array([0,np.pi/2 , np.pi] )"
      ],
      "execution_count": 0,
      "outputs": []
    },
    {
      "cell_type": "markdown",
      "metadata": {
        "id": "z7vIrJ06JOL2",
        "colab_type": "text"
      },
      "source": [
        " We can apply the function \"sine\" to the array 'x' and assign the values to the array 'y'; this applies the sine function to each element in the array:  "
      ]
    },
    {
      "cell_type": "code",
      "metadata": {
        "id": "cF-mk8KNJOL2",
        "colab_type": "code",
        "colab": {}
      },
      "source": [
        "y=np.sin(x)\n",
        "y"
      ],
      "execution_count": 0,
      "outputs": []
    },
    {
      "cell_type": "markdown",
      "metadata": {
        "id": "O4tMwzxdJOL3",
        "colab_type": "text"
      },
      "source": [
        "#### Linspace"
      ]
    },
    {
      "cell_type": "markdown",
      "metadata": {
        "id": "L0QxfYI_JOL3",
        "colab_type": "text"
      },
      "source": [
        " A useful function for plotting mathematical functions is \"linespace\".   Linespace returns evenly spaced numbers over a specified interval. We specify the starting point of the sequence and the ending point of the sequence. The parameter \"num\" indicates the Number of samples to generate, in this case 5:"
      ]
    },
    {
      "cell_type": "code",
      "metadata": {
        "id": "tG7id_QtJOL4",
        "colab_type": "code",
        "colab": {}
      },
      "source": [
        "np.linspace(-2,2,num=5)"
      ],
      "execution_count": 0,
      "outputs": []
    },
    {
      "cell_type": "markdown",
      "metadata": {
        "id": "AEb5kvRcJOL5",
        "colab_type": "text"
      },
      "source": [
        " If we change the parameter **num** to 9, we get 9  evenly spaced numbers over the interval from -2 to 2: "
      ]
    },
    {
      "cell_type": "code",
      "metadata": {
        "id": "-UjirYtiJOL6",
        "colab_type": "code",
        "colab": {}
      },
      "source": [
        "np.linspace(-2,2,num=9)"
      ],
      "execution_count": 0,
      "outputs": []
    },
    {
      "cell_type": "markdown",
      "metadata": {
        "id": "uqoSCU6MJOL8",
        "colab_type": "text"
      },
      "source": [
        "We can use the function line space to generate 100 evenly spaced samples from the interval 0 to 2 pi: "
      ]
    },
    {
      "cell_type": "code",
      "metadata": {
        "id": "q-Z7AlH0JOL8",
        "colab_type": "code",
        "colab": {}
      },
      "source": [
        "x=np.linspace(0,2*np.pi,num=100)\n"
      ],
      "execution_count": 0,
      "outputs": []
    },
    {
      "cell_type": "markdown",
      "metadata": {
        "id": "b5MUM9_OJOL-",
        "colab_type": "text"
      },
      "source": [
        "We can apply the sine function to each element in the array 'x' and assign it to the array 'y': "
      ]
    },
    {
      "cell_type": "code",
      "metadata": {
        "id": "cQJ6EE0sJOL_",
        "colab_type": "code",
        "colab": {}
      },
      "source": [
        "y=np.sin(x)"
      ],
      "execution_count": 0,
      "outputs": []
    },
    {
      "cell_type": "code",
      "metadata": {
        "id": "2PbCdApSJOMA",
        "colab_type": "code",
        "colab": {}
      },
      "source": [
        "plt.plot(x,y)"
      ],
      "execution_count": 0,
      "outputs": []
    }
  ]
}