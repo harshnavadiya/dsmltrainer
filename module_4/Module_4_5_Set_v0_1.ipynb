{
  "nbformat": 4,
  "nbformat_minor": 0,
  "metadata": {
    "colab": {
      "name": "Module_4.5_Set_v0.1.ipynb",
      "version": "0.3.2",
      "provenance": [],
      "include_colab_link": true
    },
    "language_info": {
      "codemirror_mode": {
        "name": "ipython",
        "version": 3
      },
      "file_extension": ".py",
      "mimetype": "text/x-python",
      "name": "python",
      "nbconvert_exporter": "python",
      "pygments_lexer": "ipython3",
      "version": "3.6.2"
    },
    "kernelspec": {
      "display_name": "Python 3",
      "language": "python",
      "name": "python3"
    }
  },
  "cells": [
    {
      "cell_type": "markdown",
      "metadata": {
        "id": "view-in-github",
        "colab_type": "text"
      },
      "source": [
        "<a href=\"https://colab.research.google.com/github/harshnavadiya/dsmltrainer/blob/master/module_4/Module_4_5_Set_v0_1.ipynb\" target=\"_parent\"><img src=\"https://colab.research.google.com/assets/colab-badge.svg\" alt=\"Open In Colab\"/></a>"
      ]
    },
    {
      "cell_type": "markdown",
      "metadata": {
        "id": "heVcQs0BifgP",
        "colab_type": "text"
      },
      "source": [
        "# The Series Data Structure"
      ]
    },
    {
      "cell_type": "code",
      "metadata": {
        "id": "sXIXm5hLifgQ",
        "colab_type": "code",
        "colab": {}
      },
      "source": [
        "import pandas as pd\n",
        "pd.Series?"
      ],
      "execution_count": 0,
      "outputs": []
    },
    {
      "cell_type": "code",
      "metadata": {
        "id": "lBzJQiktifgT",
        "colab_type": "code",
        "colab": {}
      },
      "source": [
        "animals = ['Tiger', 'Bear', 'Moose']\n",
        "pd.Series(animals)"
      ],
      "execution_count": 0,
      "outputs": []
    },
    {
      "cell_type": "code",
      "metadata": {
        "id": "v1aHXMT1ifgV",
        "colab_type": "code",
        "outputId": "0f5491ff-c6b6-4471-a530-6e5ed8fb6ce3",
        "colab": {
          "base_uri": "https://localhost:8080/",
          "height": 85
        }
      },
      "source": [
        "numbers = [1, 2, 3]\n",
        "pd.Series(numbers)"
      ],
      "execution_count": 0,
      "outputs": [
        {
          "output_type": "execute_result",
          "data": {
            "text/plain": [
              "0    1\n",
              "1    2\n",
              "2    3\n",
              "dtype: int64"
            ]
          },
          "metadata": {
            "tags": []
          },
          "execution_count": 3
        }
      ]
    },
    {
      "cell_type": "code",
      "metadata": {
        "id": "ySd8LHjUifgX",
        "colab_type": "code",
        "outputId": "6cf8e80f-074e-4d0d-b5a8-2c5650c56e7b",
        "colab": {
          "base_uri": "https://localhost:8080/",
          "height": 85
        }
      },
      "source": [
        "animals = ['Tiger', 'Bear', None]\n",
        "pd.Series(animals)"
      ],
      "execution_count": 0,
      "outputs": [
        {
          "output_type": "execute_result",
          "data": {
            "text/plain": [
              "0    Tiger\n",
              "1     Bear\n",
              "2     None\n",
              "dtype: object"
            ]
          },
          "metadata": {
            "tags": []
          },
          "execution_count": 4
        }
      ]
    },
    {
      "cell_type": "code",
      "metadata": {
        "id": "4CsloBaSifgY",
        "colab_type": "code",
        "outputId": "993ac2df-cfd9-414f-dec6-a65496cc5399",
        "colab": {
          "base_uri": "https://localhost:8080/",
          "height": 85
        }
      },
      "source": [
        "numbers = [1, 2, None]\n",
        "pd.Series(numbers)"
      ],
      "execution_count": 0,
      "outputs": [
        {
          "output_type": "execute_result",
          "data": {
            "text/plain": [
              "0    1.0\n",
              "1    2.0\n",
              "2    NaN\n",
              "dtype: float64"
            ]
          },
          "metadata": {
            "tags": []
          },
          "execution_count": 5
        }
      ]
    },
    {
      "cell_type": "code",
      "metadata": {
        "id": "3KakborNifga",
        "colab_type": "code",
        "outputId": "9231de22-0e81-4e10-e034-264524b45366",
        "colab": {
          "base_uri": "https://localhost:8080/",
          "height": 34
        }
      },
      "source": [
        "import numpy as np\n",
        "np.nan == None"
      ],
      "execution_count": 0,
      "outputs": [
        {
          "output_type": "execute_result",
          "data": {
            "text/plain": [
              "False"
            ]
          },
          "metadata": {
            "tags": []
          },
          "execution_count": 6
        }
      ]
    },
    {
      "cell_type": "code",
      "metadata": {
        "id": "cgVvdntjifgc",
        "colab_type": "code",
        "outputId": "9ebe4d49-a74a-4ea4-dee3-8013d5f0dbf7",
        "colab": {
          "base_uri": "https://localhost:8080/",
          "height": 34
        }
      },
      "source": [
        "np.nan == np.nan"
      ],
      "execution_count": 0,
      "outputs": [
        {
          "output_type": "execute_result",
          "data": {
            "text/plain": [
              "False"
            ]
          },
          "metadata": {
            "tags": []
          },
          "execution_count": 7
        }
      ]
    },
    {
      "cell_type": "code",
      "metadata": {
        "id": "Zcxc_LVnifge",
        "colab_type": "code",
        "outputId": "a61bb4c3-d0ed-493f-8a42-eac41b90aad5",
        "colab": {
          "base_uri": "https://localhost:8080/",
          "height": 34
        }
      },
      "source": [
        "np.isnan(np.nan)"
      ],
      "execution_count": 0,
      "outputs": [
        {
          "output_type": "execute_result",
          "data": {
            "text/plain": [
              "True"
            ]
          },
          "metadata": {
            "tags": []
          },
          "execution_count": 8
        }
      ]
    },
    {
      "cell_type": "code",
      "metadata": {
        "id": "qj5x1Othifgg",
        "colab_type": "code",
        "outputId": "d3dfd345-dc6e-4a68-c478-d39f801bbd33",
        "colab": {
          "base_uri": "https://localhost:8080/",
          "height": 102
        }
      },
      "source": [
        "sports = {'Archery': 'Bhutan',\n",
        "          'Golf': 'Scotland',\n",
        "          'Sumo': 'Japan',\n",
        "          'Taekwondo': 'South Korea'}\n",
        "s = pd.Series(sports)\n",
        "s"
      ],
      "execution_count": 0,
      "outputs": [
        {
          "output_type": "execute_result",
          "data": {
            "text/plain": [
              "Archery           Bhutan\n",
              "Golf            Scotland\n",
              "Sumo               Japan\n",
              "Taekwondo    South Korea\n",
              "dtype: object"
            ]
          },
          "metadata": {
            "tags": []
          },
          "execution_count": 10
        }
      ]
    },
    {
      "cell_type": "code",
      "metadata": {
        "id": "9OfwWqYtifgj",
        "colab_type": "code",
        "outputId": "3688ebfe-6304-4df9-dad5-bdc1bc53a277",
        "colab": {
          "base_uri": "https://localhost:8080/",
          "height": 34
        }
      },
      "source": [
        "s.index"
      ],
      "execution_count": 0,
      "outputs": [
        {
          "output_type": "execute_result",
          "data": {
            "text/plain": [
              "Index(['Archery', 'Golf', 'Sumo', 'Taekwondo'], dtype='object')"
            ]
          },
          "metadata": {
            "tags": []
          },
          "execution_count": 11
        }
      ]
    },
    {
      "cell_type": "code",
      "metadata": {
        "id": "2oUUnGjHifgl",
        "colab_type": "code",
        "outputId": "b555f2fa-282c-459e-d391-10f72a85bd54",
        "colab": {
          "base_uri": "https://localhost:8080/",
          "height": 85
        }
      },
      "source": [
        "s = pd.Series(['Tiger', 'Bear', 'Moose'], index=['India', 'America', 'Canada'])\n",
        "s"
      ],
      "execution_count": 0,
      "outputs": [
        {
          "output_type": "execute_result",
          "data": {
            "text/plain": [
              "India      Tiger\n",
              "America     Bear\n",
              "Canada     Moose\n",
              "dtype: object"
            ]
          },
          "metadata": {
            "tags": []
          },
          "execution_count": 12
        }
      ]
    },
    {
      "cell_type": "code",
      "metadata": {
        "id": "hmpTBT3Zifgm",
        "colab_type": "code",
        "outputId": "43366334-72a1-4883-edcf-6a9503e039ab",
        "colab": {
          "base_uri": "https://localhost:8080/",
          "height": 85
        }
      },
      "source": [
        "sports = {'Archery': 'Bhutan',\n",
        "          'Golf': 'Scotland',\n",
        "          'Sumo': 'Japan',\n",
        "          'Taekwondo': 'South Korea'}\n",
        "s = pd.Series(sports, index=['Golf', 'Sumo', 'Hockey'])\n",
        "s"
      ],
      "execution_count": 0,
      "outputs": [
        {
          "output_type": "execute_result",
          "data": {
            "text/plain": [
              "Golf      Scotland\n",
              "Sumo         Japan\n",
              "Hockey         NaN\n",
              "dtype: object"
            ]
          },
          "metadata": {
            "tags": []
          },
          "execution_count": 13
        }
      ]
    },
    {
      "cell_type": "markdown",
      "metadata": {
        "id": "YBMFQOSzifgo",
        "colab_type": "text"
      },
      "source": [
        "# Querying a Series"
      ]
    },
    {
      "cell_type": "code",
      "metadata": {
        "id": "K93zihU8ifgo",
        "colab_type": "code",
        "outputId": "ee5aaf19-0268-451c-bde9-3bd266b81e78",
        "colab": {
          "base_uri": "https://localhost:8080/",
          "height": 102
        }
      },
      "source": [
        "sports = {'Archery': 'Bhutan',\n",
        "          'Golf': 'Scotland',\n",
        "          'Sumo': 'Japan',\n",
        "          'Taekwondo': 'South Korea'}\n",
        "s = pd.Series(sports)\n",
        "s"
      ],
      "execution_count": 0,
      "outputs": [
        {
          "output_type": "execute_result",
          "data": {
            "text/plain": [
              "Archery           Bhutan\n",
              "Golf            Scotland\n",
              "Sumo               Japan\n",
              "Taekwondo    South Korea\n",
              "dtype: object"
            ]
          },
          "metadata": {
            "tags": []
          },
          "execution_count": 14
        }
      ]
    },
    {
      "cell_type": "code",
      "metadata": {
        "id": "hDItbBxOifgq",
        "colab_type": "code",
        "outputId": "42a7da65-4732-4eea-df6e-0f882722b7f3",
        "colab": {
          "base_uri": "https://localhost:8080/",
          "height": 34
        }
      },
      "source": [
        "s.iloc[3]"
      ],
      "execution_count": 0,
      "outputs": [
        {
          "output_type": "execute_result",
          "data": {
            "text/plain": [
              "'South Korea'"
            ]
          },
          "metadata": {
            "tags": []
          },
          "execution_count": 15
        }
      ]
    },
    {
      "cell_type": "code",
      "metadata": {
        "id": "eu-ZTJ0rifgs",
        "colab_type": "code",
        "outputId": "5799057f-001c-4ef3-f0fb-b36554a58e2a",
        "colab": {
          "base_uri": "https://localhost:8080/",
          "height": 34
        }
      },
      "source": [
        "s.loc['Golf']"
      ],
      "execution_count": 0,
      "outputs": [
        {
          "output_type": "execute_result",
          "data": {
            "text/plain": [
              "'Scotland'"
            ]
          },
          "metadata": {
            "tags": []
          },
          "execution_count": 16
        }
      ]
    },
    {
      "cell_type": "code",
      "metadata": {
        "id": "n66I7ttWifg1",
        "colab_type": "code",
        "outputId": "5efa789a-399d-44cc-b4be-9f3b9c296cc9",
        "colab": {
          "base_uri": "https://localhost:8080/",
          "height": 102
        }
      },
      "source": [
        "s = pd.Series([100.00, 120.00, 101.00, 3.00])\n",
        "s"
      ],
      "execution_count": 0,
      "outputs": [
        {
          "output_type": "execute_result",
          "data": {
            "text/plain": [
              "0    100.0\n",
              "1    120.0\n",
              "2    101.0\n",
              "3      3.0\n",
              "dtype: float64"
            ]
          },
          "metadata": {
            "tags": []
          },
          "execution_count": 19
        }
      ]
    },
    {
      "cell_type": "code",
      "metadata": {
        "id": "FskEOzexifg3",
        "colab_type": "code",
        "outputId": "fee1dd4e-6b0d-495b-cec7-670a01d03577",
        "colab": {
          "base_uri": "https://localhost:8080/",
          "height": 34
        }
      },
      "source": [
        "total = 0\n",
        "for item in s:\n",
        "    total+=item\n",
        "print(total)"
      ],
      "execution_count": 0,
      "outputs": [
        {
          "output_type": "stream",
          "text": [
            "324.0\n"
          ],
          "name": "stdout"
        }
      ]
    },
    {
      "cell_type": "code",
      "metadata": {
        "id": "A2yAbxHUifg5",
        "colab_type": "code",
        "outputId": "8ba3d203-0558-45ac-a5e1-066298393137",
        "colab": {
          "base_uri": "https://localhost:8080/",
          "height": 34
        }
      },
      "source": [
        "import numpy as np\n",
        "\n",
        "total = np.sum(s)\n",
        "print(total)"
      ],
      "execution_count": 0,
      "outputs": [
        {
          "output_type": "stream",
          "text": [
            "324.0\n"
          ],
          "name": "stdout"
        }
      ]
    },
    {
      "cell_type": "code",
      "metadata": {
        "id": "iCDrSxXWifg7",
        "colab_type": "code",
        "outputId": "6dd5f9f3-7336-4ea0-fdc8-75f11cce4337",
        "colab": {
          "base_uri": "https://localhost:8080/",
          "height": 119
        }
      },
      "source": [
        "#this creates a big series of random numbers\n",
        "s = pd.Series(np.random.randint(0,1000,10000))\n",
        "s.head()"
      ],
      "execution_count": 0,
      "outputs": [
        {
          "output_type": "execute_result",
          "data": {
            "text/plain": [
              "0    781\n",
              "1    750\n",
              "2    924\n",
              "3    932\n",
              "4    817\n",
              "dtype: int64"
            ]
          },
          "metadata": {
            "tags": []
          },
          "execution_count": 22
        }
      ]
    },
    {
      "cell_type": "code",
      "metadata": {
        "id": "BREx4SSdifg9",
        "colab_type": "code",
        "outputId": "68544721-7dee-47b8-9548-c4f7e4a6899e",
        "colab": {
          "base_uri": "https://localhost:8080/",
          "height": 34
        }
      },
      "source": [
        "len(s)"
      ],
      "execution_count": 0,
      "outputs": [
        {
          "output_type": "execute_result",
          "data": {
            "text/plain": [
              "10000"
            ]
          },
          "metadata": {
            "tags": []
          },
          "execution_count": 23
        }
      ]
    },
    {
      "cell_type": "code",
      "metadata": {
        "id": "6zF7diI-ifg_",
        "colab_type": "code",
        "outputId": "2c4646d5-77f5-4234-c712-d3c1d9dad89e",
        "colab": {
          "base_uri": "https://localhost:8080/",
          "height": 34
        }
      },
      "source": [
        "%%timeit -n 100\n",
        "summary = 0\n",
        "for item in s:\n",
        "    summary+=item"
      ],
      "execution_count": 0,
      "outputs": [
        {
          "output_type": "stream",
          "text": [
            "100 loops, best of 3: 1.48 ms per loop\n"
          ],
          "name": "stdout"
        }
      ]
    },
    {
      "cell_type": "code",
      "metadata": {
        "id": "Q4-qBQ2JifhA",
        "colab_type": "code",
        "outputId": "4c0e9d57-58d4-4be0-cc29-dd32cd7b1658",
        "colab": {
          "base_uri": "https://localhost:8080/",
          "height": 34
        }
      },
      "source": [
        "%%timeit -n 100\n",
        "summary = np.sum(s)"
      ],
      "execution_count": 0,
      "outputs": [
        {
          "output_type": "stream",
          "text": [
            "100 loops, best of 3: 147 µs per loop\n"
          ],
          "name": "stdout"
        }
      ]
    },
    {
      "cell_type": "code",
      "metadata": {
        "id": "R7YOVo-difhB",
        "colab_type": "code",
        "outputId": "13c28cd0-a200-41bf-a6d3-9603edcbf2b7",
        "colab": {
          "base_uri": "https://localhost:8080/",
          "height": 119
        }
      },
      "source": [
        "s+=2 #adds two to each item in s using broadcasting\n",
        "s.head()"
      ],
      "execution_count": 0,
      "outputs": [
        {
          "output_type": "execute_result",
          "data": {
            "text/plain": [
              "0    783\n",
              "1    752\n",
              "2    926\n",
              "3    934\n",
              "4    819\n",
              "dtype: int64"
            ]
          },
          "metadata": {
            "tags": []
          },
          "execution_count": 26
        }
      ]
    },
    {
      "cell_type": "code",
      "metadata": {
        "id": "GU-n1-JWifhD",
        "colab_type": "code",
        "outputId": "ade3112b-4b47-44b0-ce5a-e0592e5c7cb0",
        "colab": {
          "base_uri": "https://localhost:8080/",
          "height": 173
        }
      },
      "source": [
        "for label, value in s.iteritems():\n",
        "    s.set_value(label, value+2)\n",
        "s.head()"
      ],
      "execution_count": 0,
      "outputs": [
        {
          "output_type": "stream",
          "text": [
            "/usr/local/lib/python3.6/dist-packages/ipykernel_launcher.py:2: FutureWarning: set_value is deprecated and will be removed in a future release. Please use .at[] or .iat[] accessors instead\n",
            "  \n"
          ],
          "name": "stderr"
        },
        {
          "output_type": "execute_result",
          "data": {
            "text/plain": [
              "0    785\n",
              "1    754\n",
              "2    928\n",
              "3    936\n",
              "4    821\n",
              "dtype: int64"
            ]
          },
          "metadata": {
            "tags": []
          },
          "execution_count": 27
        }
      ]
    },
    {
      "cell_type": "code",
      "metadata": {
        "id": "qXuB_4xDifhF",
        "colab_type": "code",
        "outputId": "5c8a94cb-1e58-4672-9e78-500dd01899c4",
        "colab": {
          "base_uri": "https://localhost:8080/",
          "height": 34
        }
      },
      "source": [
        "%%timeit -n 10\n",
        "s = pd.Series(np.random.randint(0,1000,10000))\n",
        "for label, value in s.iteritems():\n",
        "    s.loc[label]= value+2"
      ],
      "execution_count": 0,
      "outputs": [
        {
          "output_type": "stream",
          "text": [
            "10 loops, best of 3: 6.33 s per loop\n"
          ],
          "name": "stdout"
        }
      ]
    },
    {
      "cell_type": "code",
      "metadata": {
        "id": "k4UzFO1VifhH",
        "colab_type": "code",
        "outputId": "2aeb3183-c987-44c6-ff24-4d51d944ecff",
        "colab": {
          "base_uri": "https://localhost:8080/",
          "height": 34
        }
      },
      "source": [
        "%%timeit -n 10\n",
        "s = pd.Series(np.random.randint(0,1000,10000))\n",
        "s+=2\n"
      ],
      "execution_count": 0,
      "outputs": [
        {
          "output_type": "stream",
          "text": [
            "10 loops, best of 3: 432 µs per loop\n"
          ],
          "name": "stdout"
        }
      ]
    },
    {
      "cell_type": "code",
      "metadata": {
        "id": "IUfDOPkQifhJ",
        "colab_type": "code",
        "outputId": "280ae6c0-abf0-4a04-a22c-d87dacc0543c",
        "colab": {
          "base_uri": "https://localhost:8080/",
          "height": 102
        }
      },
      "source": [
        "s = pd.Series([1, 2, 3])\n",
        "s.loc['Animal'] = 'Bears'\n",
        "s"
      ],
      "execution_count": 0,
      "outputs": [
        {
          "output_type": "execute_result",
          "data": {
            "text/plain": [
              "0             1\n",
              "1             2\n",
              "2             3\n",
              "Animal    Bears\n",
              "dtype: object"
            ]
          },
          "metadata": {
            "tags": []
          },
          "execution_count": 30
        }
      ]
    },
    {
      "cell_type": "code",
      "metadata": {
        "id": "k9gTISlPifhL",
        "colab_type": "code",
        "colab": {}
      },
      "source": [
        "original_sports = pd.Series({'Archery': 'Bhutan',\n",
        "                             'Golf': 'Scotland',\n",
        "                             'Sumo': 'Japan',\n",
        "                             'Taekwondo': 'South Korea'})\n",
        "cricket_loving_countries = pd.Series(['Australia',\n",
        "                                      'Barbados',\n",
        "                                      'Pakistan',\n",
        "                                      'England'], \n",
        "                                   index=['Cricket',\n",
        "                                          'Cricket',\n",
        "                                          'Cricket',\n",
        "                                          'Cricket'])\n",
        "all_countries = original_sports.append(cricket_loving_countries)"
      ],
      "execution_count": 0,
      "outputs": []
    },
    {
      "cell_type": "code",
      "metadata": {
        "id": "6DgAoIz1ifhN",
        "colab_type": "code",
        "outputId": "51246da2-f8e2-4d1d-d398-dfe40401a31f",
        "colab": {
          "base_uri": "https://localhost:8080/",
          "height": 102
        }
      },
      "source": [
        "original_sports"
      ],
      "execution_count": 0,
      "outputs": [
        {
          "output_type": "execute_result",
          "data": {
            "text/plain": [
              "Archery           Bhutan\n",
              "Golf            Scotland\n",
              "Sumo               Japan\n",
              "Taekwondo    South Korea\n",
              "dtype: object"
            ]
          },
          "metadata": {
            "tags": []
          },
          "execution_count": 32
        }
      ]
    },
    {
      "cell_type": "code",
      "metadata": {
        "id": "MuNKyOHKifhP",
        "colab_type": "code",
        "outputId": "da595452-5059-4d13-e1f4-edf6ab212b75",
        "colab": {
          "base_uri": "https://localhost:8080/",
          "height": 102
        }
      },
      "source": [
        "cricket_loving_countries"
      ],
      "execution_count": 0,
      "outputs": [
        {
          "output_type": "execute_result",
          "data": {
            "text/plain": [
              "Cricket    Australia\n",
              "Cricket     Barbados\n",
              "Cricket     Pakistan\n",
              "Cricket      England\n",
              "dtype: object"
            ]
          },
          "metadata": {
            "tags": []
          },
          "execution_count": 33
        }
      ]
    },
    {
      "cell_type": "code",
      "metadata": {
        "id": "G45FHKU3ifhR",
        "colab_type": "code",
        "outputId": "ad16730a-9364-473f-d8c7-4fae971a8fd0",
        "colab": {
          "base_uri": "https://localhost:8080/",
          "height": 170
        }
      },
      "source": [
        "all_countries"
      ],
      "execution_count": 0,
      "outputs": [
        {
          "output_type": "execute_result",
          "data": {
            "text/plain": [
              "Archery           Bhutan\n",
              "Golf            Scotland\n",
              "Sumo               Japan\n",
              "Taekwondo    South Korea\n",
              "Cricket        Australia\n",
              "Cricket         Barbados\n",
              "Cricket         Pakistan\n",
              "Cricket          England\n",
              "dtype: object"
            ]
          },
          "metadata": {
            "tags": []
          },
          "execution_count": 34
        }
      ]
    },
    {
      "cell_type": "code",
      "metadata": {
        "id": "i6iFwnn1ifhT",
        "colab_type": "code",
        "outputId": "fde003f0-a5b7-4539-cb8b-99434ea3dae2",
        "colab": {
          "base_uri": "https://localhost:8080/",
          "height": 102
        }
      },
      "source": [
        "all_countries.loc['Cricket']"
      ],
      "execution_count": 0,
      "outputs": [
        {
          "output_type": "execute_result",
          "data": {
            "text/plain": [
              "Cricket    Australia\n",
              "Cricket     Barbados\n",
              "Cricket     Pakistan\n",
              "Cricket      England\n",
              "dtype: object"
            ]
          },
          "metadata": {
            "tags": []
          },
          "execution_count": 35
        }
      ]
    }
  ]
}