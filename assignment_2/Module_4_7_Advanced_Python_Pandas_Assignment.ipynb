{
  "nbformat": 4,
  "nbformat_minor": 0,
  "metadata": {
    "colab": {
      "name": "Module_4.7_Advanced_Python_Pandas_Assignment.ipynb",
      "version": "0.3.2",
      "provenance": [],
      "collapsed_sections": [],
      "include_colab_link": true
    },
    "language_info": {
      "codemirror_mode": {
        "name": "ipython",
        "version": 3
      },
      "file_extension": ".py",
      "mimetype": "text/x-python",
      "name": "python",
      "nbconvert_exporter": "python",
      "pygments_lexer": "ipython3",
      "version": "3.6.0"
    },
    "kernelspec": {
      "display_name": "Python 3",
      "language": "python",
      "name": "python3"
    }
  },
  "cells": [
    {
      "cell_type": "markdown",
      "metadata": {
        "id": "view-in-github",
        "colab_type": "text"
      },
      "source": [
        "<a href=\"https://colab.research.google.com/github/harshnavadiya/dsmltrainer/blob/master/assignment_2/Module_4_7_Advanced_Python_Pandas_Assignment.ipynb\" target=\"_parent\"><img src=\"https://colab.research.google.com/assets/colab-badge.svg\" alt=\"Open In Colab\"/></a>"
      ]
    },
    {
      "cell_type": "markdown",
      "metadata": {
        "id": "1MEgS7S-ffR1",
        "colab_type": "text"
      },
      "source": [
        "\n",
        "This assignment requires more individual learning then the last one did - you are encouraged to check out the [pandas documentation](http://pandas.pydata.org/pandas-docs/stable/) to find functions or methods you might not have used yet, or ask questions on [Stack Overflow](http://stackoverflow.com/) and tag them as pandas and python related. And of course, the discussion forums are open for interaction with your peers and the course staff."
      ]
    },
    {
      "cell_type": "code",
      "metadata": {
        "id": "EhG4z8gfgI9V",
        "colab_type": "code",
        "outputId": "8caab7e9-e4ab-4dde-a4db-5734f36e2279",
        "colab": {
          "base_uri": "https://localhost:8080/",
          "height": 284
        }
      },
      "source": [
        "!wget -O \"EnergyIndicators.xlsx\" \"https://drive.google.com/open?id=1TZTIY43j_jLZD3bCBWednfN43cjE1DgH\"\n",
        "!ls"
      ],
      "execution_count": 22,
      "outputs": [
        {
          "output_type": "stream",
          "text": [
            "--2019-06-09 05:07:38--  https://drive.google.com/open?id=1TZTIY43j_jLZD3bCBWednfN43cjE1DgH\n",
            "Resolving drive.google.com (drive.google.com)... 172.217.193.139, 172.217.193.113, 172.217.193.102, ...\n",
            "Connecting to drive.google.com (drive.google.com)|172.217.193.139|:443... connected.\n",
            "HTTP request sent, awaiting response... 307 OK\n",
            "Location: https://drive.google.com/file/d/1TZTIY43j_jLZD3bCBWednfN43cjE1DgH/view?usp=drive_open [following]\n",
            "--2019-06-09 05:07:38--  https://drive.google.com/file/d/1TZTIY43j_jLZD3bCBWednfN43cjE1DgH/view?usp=drive_open\n",
            "Reusing existing connection to drive.google.com:443.\n",
            "HTTP request sent, awaiting response... 200 OK\n",
            "Length: unspecified [text/html]\n",
            "Saving to: ‘EnergyIndicators.xlsx’\n",
            "\n",
            "\rEnergyIndicators.xl     [<=>                 ]       0  --.-KB/s               \rEnergyIndicators.xl     [ <=>                ] 120.81K  --.-KB/s    in 0.01s   \n",
            "\n",
            "2019-06-09 05:07:38 (10.0 MB/s) - ‘EnergyIndicators.xlsx’ saved [123706]\n",
            "\n",
            "EnergyIndicators.xls  EnergyIndicators.xlsx  sample_data\n"
          ],
          "name": "stdout"
        }
      ]
    },
    {
      "cell_type": "code",
      "metadata": {
        "id": "VO4SWj86prDc",
        "colab_type": "code",
        "colab": {}
      },
      "source": [
        "from google.colab import files\n",
        "files.upload()\n"
      ],
      "execution_count": 0,
      "outputs": []
    },
    {
      "cell_type": "code",
      "metadata": {
        "id": "TOMtDetApQ0v",
        "colab_type": "code",
        "colab": {
          "base_uri": "https://localhost:8080/",
          "height": 33
        },
        "outputId": "95eabbeb-0b5a-4a58-9f3a-1f3dcd9a20d8"
      },
      "source": [
        "!ls"
      ],
      "execution_count": 25,
      "outputs": [
        {
          "output_type": "stream",
          "text": [
            "Energy+Indicators.xls  EnergyIndicators.xls  EnergyIndicators.xlsx  sample_data\n"
          ],
          "name": "stdout"
        }
      ]
    },
    {
      "cell_type": "code",
      "metadata": {
        "id": "9S2eTVklyGme",
        "colab_type": "code",
        "colab": {}
      },
      "source": [
        "# error:- Unsupported format, or corrupt file: Expected BOF record; found b'<!DOCTYP\n",
        "# solution:-\n",
        "#add file in your pc by this link :- https://drive.google.com/open?id=1TZTIY43j_jLZD3bCBWednfN43cjE1DgH\n",
        "from google.colab import files\n",
        "files.upload()"
      ],
      "execution_count": 0,
      "outputs": []
    },
    {
      "cell_type": "code",
      "metadata": {
        "id": "Vlgn25TsyIcN",
        "colab_type": "code",
        "colab": {}
      },
      "source": [
        "!ls"
      ],
      "execution_count": 0,
      "outputs": []
    },
    {
      "cell_type": "markdown",
      "metadata": {
        "id": "AtCj2xQhLXvo",
        "colab_type": "text"
      },
      "source": [
        "Load the energy data from the file Energy Indicators.xls, which is a list of indicators of energy supply and renewable electricity production from the United Nations for the year 2013, and should be put into a DataFrame with the variable name of energy.\n",
        "\n",
        "Keep in mind that this is an Excel file, and not a comma separated values file. Also, make sure to exclude the footer and header information from the datafile. The first two columns are unneccessary, so you should get rid of them, and you should change the column labels so that the columns are:\n",
        "\n",
        "['Country', 'Energy Supply', 'Energy Supply per Capita', '% Renewable']\n",
        "\n",
        "Convert Energy Supply to gigajoules (there are 1,000,000 gigajoules in a petajoule). For all countries which have missing data (e.g. data with \"...\") make sure this is reflected as np.NaN values.\n",
        "\n",
        "Rename the following list of countries (for use in later questions):\n",
        "\n",
        "\"Republic of Korea\": \"South Korea\", \"United States of America\": \"United States\", \"United Kingdom of Great Britain and Northern Ireland\": \"United Kingdom\", \"China, Hong Kong Special Administrative Region\": \"Hong Kong\"\n",
        "\n",
        "There are also several countries with numbers and/or parenthesis in their name. Be sure to remove these,\n",
        "\n",
        "e.g.\n",
        "\n",
        "'Bolivia (Plurinational State of)' should be 'Bolivia',\n",
        "\n",
        "'Switzerland17' should be 'Switzerland'."
      ]
    },
    {
      "cell_type": "code",
      "metadata": {
        "id": "w5hr1yDUHXBk",
        "colab_type": "code",
        "colab": {}
      },
      "source": [
        "import pandas as pd\n",
        "import numpy as np\n",
        "\n",
        "df = pd.read_excel('Energy+Indicators.xls',usecols =[2,3,4,5])\n",
        "\n",
        "              \n",
        "row_start=17\n",
        "energy = df.loc[row_start:243]\n",
        "energy.columns = ['Country', 'Energy Supply(Petajoules)', 'Energy Supply per Capita(Gigajoules)', '% Renewable']\n",
        "# energy=pd.DataFrame(energy)\n",
        "energy=energy.set_index(\"Country\")\n",
        "energy=energy.replace('...', np.nan, regex=True)\n",
        "energy[\"Energy Supply(gigajoules)\"]=1000000*energy['Energy Supply(Petajoules)']\n",
        "energy=energy.rename(index={\"Republic of Korea\": \"South Korea\", \n",
        "                            \"United States of America\":\"United States\", \n",
        "                            \"United Kingdom of Great Britain and Northern Ireland\": \"United Kingdom\", \n",
        "                            \"China, Hong Kong Special Administrative Region\": \"Hong Kong\",\n",
        "                           'Bolivia (Plurinational State of)':'Bolivia',\n",
        "                            'Switzerland17':'Switzerland',\n",
        "                            \"Australia1\":\"Australia\",\n",
        "                            \"Ukraine18\":\"Ukraine\",\n",
        "                            \"United Kingdom of Great Britain and Northern Ireland19\":\"United Kingdom of Great Britain and Northern Ireland\",\n",
        "                           \"United States of America20\":\"United States of America\",\n",
        "                            \"Venezuela (Bolivarian Republic of)\":\"Venezuela\"})\n",
        "energy"
      ],
      "execution_count": 0,
      "outputs": []
    },
    {
      "cell_type": "markdown",
      "metadata": {
        "id": "v6mymngfLe63",
        "colab_type": "text"
      },
      "source": [
        "Next, load the GDP data from the file world_bank.csv, which is a csv containing countries' GDP from 1960 to 2015 from World Bank. Call this DataFrame GDP.\n",
        "\n",
        "Make sure to skip the header, and rename the following list of countries:\n",
        "\n",
        "\"Korea, Rep.\": \"South Korea\", \"Iran, Islamic Rep.\": \"Iran\", \"Hong Kong SAR, China\": \"Hong Kong\""
      ]
    },
    {
      "cell_type": "code",
      "metadata": {
        "id": "Wnqmqz3YHw4j",
        "colab_type": "code",
        "colab": {
          "base_uri": "https://localhost:8080/",
          "height": 196
        },
        "outputId": "fac509d7-d327-4c3e-e662-7f359739f173"
      },
      "source": [
        "GDP = pd.read_csv('world_bank.csv',skiprows=4)\n",
        "GDP['Country Name']=GDP['Country Name'].replace({\"Korea, Rep.\": \"South Korea\", \"Iran, Islamic Rep.\": \"Iran\", \"Hong Kong SAR, China\": \"Hong Kong\"})\n",
        "GDP = GDP[['Country Name','2006','2007','2008','2009','2010','2011','2012','2013','2014','2015']]\n",
        "GDP.columns = ['Country','2006','2007','2008','2009','2010','2011','2012','2013','2014','2015']\n",
        "GDP.head()"
      ],
      "execution_count": 136,
      "outputs": [
        {
          "output_type": "execute_result",
          "data": {
            "text/html": [
              "<div>\n",
              "<style scoped>\n",
              "    .dataframe tbody tr th:only-of-type {\n",
              "        vertical-align: middle;\n",
              "    }\n",
              "\n",
              "    .dataframe tbody tr th {\n",
              "        vertical-align: top;\n",
              "    }\n",
              "\n",
              "    .dataframe thead th {\n",
              "        text-align: right;\n",
              "    }\n",
              "</style>\n",
              "<table border=\"1\" class=\"dataframe\">\n",
              "  <thead>\n",
              "    <tr style=\"text-align: right;\">\n",
              "      <th></th>\n",
              "      <th>Country</th>\n",
              "      <th>2006</th>\n",
              "      <th>2007</th>\n",
              "      <th>2008</th>\n",
              "      <th>2009</th>\n",
              "      <th>2010</th>\n",
              "      <th>2011</th>\n",
              "      <th>2012</th>\n",
              "      <th>2013</th>\n",
              "      <th>2014</th>\n",
              "      <th>2015</th>\n",
              "    </tr>\n",
              "  </thead>\n",
              "  <tbody>\n",
              "    <tr>\n",
              "      <th>0</th>\n",
              "      <td>Aruba</td>\n",
              "      <td>2.424581e+09</td>\n",
              "      <td>2.615084e+09</td>\n",
              "      <td>2.745251e+09</td>\n",
              "      <td>2.498883e+09</td>\n",
              "      <td>2.390503e+09</td>\n",
              "      <td>2.549721e+09</td>\n",
              "      <td>2.534637e+09</td>\n",
              "      <td>2.581564e+09</td>\n",
              "      <td>2.649721e+09</td>\n",
              "      <td>2.691620e+09</td>\n",
              "    </tr>\n",
              "    <tr>\n",
              "      <th>1</th>\n",
              "      <td>Afghanistan</td>\n",
              "      <td>6.971286e+09</td>\n",
              "      <td>9.747880e+09</td>\n",
              "      <td>1.010923e+10</td>\n",
              "      <td>1.243909e+10</td>\n",
              "      <td>1.585657e+10</td>\n",
              "      <td>1.780429e+10</td>\n",
              "      <td>1.990732e+10</td>\n",
              "      <td>2.056107e+10</td>\n",
              "      <td>2.048489e+10</td>\n",
              "      <td>1.990711e+10</td>\n",
              "    </tr>\n",
              "    <tr>\n",
              "      <th>2</th>\n",
              "      <td>Angola</td>\n",
              "      <td>5.238101e+10</td>\n",
              "      <td>6.526645e+10</td>\n",
              "      <td>8.853861e+10</td>\n",
              "      <td>7.030716e+10</td>\n",
              "      <td>8.379950e+10</td>\n",
              "      <td>1.117897e+11</td>\n",
              "      <td>1.280529e+11</td>\n",
              "      <td>1.367099e+11</td>\n",
              "      <td>1.457122e+11</td>\n",
              "      <td>1.161936e+11</td>\n",
              "    </tr>\n",
              "    <tr>\n",
              "      <th>3</th>\n",
              "      <td>Albania</td>\n",
              "      <td>8.896073e+09</td>\n",
              "      <td>1.067732e+10</td>\n",
              "      <td>1.288135e+10</td>\n",
              "      <td>1.204421e+10</td>\n",
              "      <td>1.192696e+10</td>\n",
              "      <td>1.289087e+10</td>\n",
              "      <td>1.231978e+10</td>\n",
              "      <td>1.277628e+10</td>\n",
              "      <td>1.322825e+10</td>\n",
              "      <td>1.138693e+10</td>\n",
              "    </tr>\n",
              "    <tr>\n",
              "      <th>4</th>\n",
              "      <td>Andorra</td>\n",
              "      <td>3.543257e+09</td>\n",
              "      <td>4.016972e+09</td>\n",
              "      <td>4.007353e+09</td>\n",
              "      <td>3.660531e+09</td>\n",
              "      <td>3.355695e+09</td>\n",
              "      <td>3.442063e+09</td>\n",
              "      <td>3.164615e+09</td>\n",
              "      <td>3.281585e+09</td>\n",
              "      <td>3.350736e+09</td>\n",
              "      <td>2.811489e+09</td>\n",
              "    </tr>\n",
              "  </tbody>\n",
              "</table>\n",
              "</div>"
            ],
            "text/plain": [
              "       Country          2006  ...          2014          2015\n",
              "0        Aruba  2.424581e+09  ...  2.649721e+09  2.691620e+09\n",
              "1  Afghanistan  6.971286e+09  ...  2.048489e+10  1.990711e+10\n",
              "2       Angola  5.238101e+10  ...  1.457122e+11  1.161936e+11\n",
              "3      Albania  8.896073e+09  ...  1.322825e+10  1.138693e+10\n",
              "4      Andorra  3.543257e+09  ...  3.350736e+09  2.811489e+09\n",
              "\n",
              "[5 rows x 11 columns]"
            ]
          },
          "metadata": {
            "tags": []
          },
          "execution_count": 136
        }
      ]
    },
    {
      "cell_type": "markdown",
      "metadata": {
        "id": "-zvwGpG2LsNt",
        "colab_type": "text"
      },
      "source": [
        "Finally, load the Sciamgo Journal and Country Rank data for Energy Engineering and Power Technology from the file scimagojr-3.xlsx, which ranks countries based on their journal contributions in the aforementioned area. Call this DataFrame ScimEn.\n",
        "\n",
        "Join the three datasets: GDP, Energy, and ScimEn into a new dataset (using the intersection of country names). Use only the last 10 years (2006-2015) of GDP data and only the top 15 countries by Scimagojr 'Rank' (Rank 1 through 15).\n",
        "\n",
        "The index of this DataFrame should be the name of the country, and the columns should be ['Rank', 'Documents', 'Citable documents', 'Citations', 'Self-citations', 'Citations per document', 'H index', 'Energy Supply', 'Energy Supply per Capita', '% Renewable', '2006', '2007', '2008', '2009', '2010', '2011', '2012', '2013', '2014', '2015'].\n",
        "\n",
        "This function should return a DataFrame with 20 columns and 15 entries."
      ]
    },
    {
      "cell_type": "code",
      "metadata": {
        "id": "0az4WH0SKRh4",
        "colab_type": "code",
        "colab": {
          "base_uri": "https://localhost:8080/",
          "height": 373
        },
        "outputId": "b6e07833-a0b5-4595-d6e6-b90df80b767b"
      },
      "source": [
        "sci=pd.read_excel('scimagojr.xlsx')\n",
        "join = sci[:15].merge(energy,how='inner',left_on='Country',right_on='Country')\n",
        "last_join = join.merge(GDP,how='inner',left_on='Country',right_on='Country')\n",
        "last_join = last_join.set_index('Country')\n",
        "last_join"
      ],
      "execution_count": 144,
      "outputs": [
        {
          "output_type": "execute_result",
          "data": {
            "text/html": [
              "<div>\n",
              "<style scoped>\n",
              "    .dataframe tbody tr th:only-of-type {\n",
              "        vertical-align: middle;\n",
              "    }\n",
              "\n",
              "    .dataframe tbody tr th {\n",
              "        vertical-align: top;\n",
              "    }\n",
              "\n",
              "    .dataframe thead th {\n",
              "        text-align: right;\n",
              "    }\n",
              "</style>\n",
              "<table border=\"1\" class=\"dataframe\">\n",
              "  <thead>\n",
              "    <tr style=\"text-align: right;\">\n",
              "      <th></th>\n",
              "      <th>Rank</th>\n",
              "      <th>Documents</th>\n",
              "      <th>Citable documents</th>\n",
              "      <th>Citations</th>\n",
              "      <th>Self-citations</th>\n",
              "      <th>Citations per document</th>\n",
              "      <th>H index</th>\n",
              "      <th>Energy Supply(Petajoules)</th>\n",
              "      <th>Energy Supply per Capita(Gigajoules)</th>\n",
              "      <th>% Renewable</th>\n",
              "      <th>Energy Supply(gigajoules)</th>\n",
              "      <th>2006</th>\n",
              "      <th>2007</th>\n",
              "      <th>2008</th>\n",
              "      <th>2009</th>\n",
              "      <th>2010</th>\n",
              "      <th>2011</th>\n",
              "      <th>2012</th>\n",
              "      <th>2013</th>\n",
              "      <th>2014</th>\n",
              "      <th>2015</th>\n",
              "    </tr>\n",
              "    <tr>\n",
              "      <th>Country</th>\n",
              "      <th></th>\n",
              "      <th></th>\n",
              "      <th></th>\n",
              "      <th></th>\n",
              "      <th></th>\n",
              "      <th></th>\n",
              "      <th></th>\n",
              "      <th></th>\n",
              "      <th></th>\n",
              "      <th></th>\n",
              "      <th></th>\n",
              "      <th></th>\n",
              "      <th></th>\n",
              "      <th></th>\n",
              "      <th></th>\n",
              "      <th></th>\n",
              "      <th></th>\n",
              "      <th></th>\n",
              "      <th></th>\n",
              "      <th></th>\n",
              "      <th></th>\n",
              "    </tr>\n",
              "  </thead>\n",
              "  <tbody>\n",
              "    <tr>\n",
              "      <th>India</th>\n",
              "      <td>5</td>\n",
              "      <td>32064</td>\n",
              "      <td>31167</td>\n",
              "      <td>268746</td>\n",
              "      <td>87658</td>\n",
              "      <td>8.38</td>\n",
              "      <td>153</td>\n",
              "      <td>33195.0</td>\n",
              "      <td>26.0</td>\n",
              "      <td>14.969080</td>\n",
              "      <td>3.319500e+10</td>\n",
              "      <td>9.402599e+11</td>\n",
              "      <td>1.216735e+12</td>\n",
              "      <td>1.198895e+12</td>\n",
              "      <td>1.341887e+12</td>\n",
              "      <td>1.675615e+12</td>\n",
              "      <td>1.823050e+12</td>\n",
              "      <td>1.827638e+12</td>\n",
              "      <td>1.856722e+12</td>\n",
              "      <td>2.039127e+12</td>\n",
              "      <td>2.103588e+12</td>\n",
              "    </tr>\n",
              "    <tr>\n",
              "      <th>Germany</th>\n",
              "      <td>6</td>\n",
              "      <td>27966</td>\n",
              "      <td>27370</td>\n",
              "      <td>278237</td>\n",
              "      <td>59495</td>\n",
              "      <td>9.95</td>\n",
              "      <td>166</td>\n",
              "      <td>13261.0</td>\n",
              "      <td>165.0</td>\n",
              "      <td>17.901530</td>\n",
              "      <td>1.326100e+10</td>\n",
              "      <td>3.002446e+12</td>\n",
              "      <td>3.439953e+12</td>\n",
              "      <td>3.752366e+12</td>\n",
              "      <td>3.418005e+12</td>\n",
              "      <td>3.417095e+12</td>\n",
              "      <td>3.757698e+12</td>\n",
              "      <td>3.543984e+12</td>\n",
              "      <td>3.752514e+12</td>\n",
              "      <td>3.898727e+12</td>\n",
              "      <td>3.381389e+12</td>\n",
              "    </tr>\n",
              "    <tr>\n",
              "      <th>Russian Federation</th>\n",
              "      <td>7</td>\n",
              "      <td>26435</td>\n",
              "      <td>26196</td>\n",
              "      <td>68424</td>\n",
              "      <td>29544</td>\n",
              "      <td>2.59</td>\n",
              "      <td>75</td>\n",
              "      <td>30709.0</td>\n",
              "      <td>214.0</td>\n",
              "      <td>17.288680</td>\n",
              "      <td>3.070900e+10</td>\n",
              "      <td>9.899305e+11</td>\n",
              "      <td>1.299706e+12</td>\n",
              "      <td>1.660846e+12</td>\n",
              "      <td>1.222644e+12</td>\n",
              "      <td>1.524917e+12</td>\n",
              "      <td>2.051662e+12</td>\n",
              "      <td>2.210257e+12</td>\n",
              "      <td>2.297128e+12</td>\n",
              "      <td>2.063663e+12</td>\n",
              "      <td>1.363705e+12</td>\n",
              "    </tr>\n",
              "    <tr>\n",
              "      <th>Canada</th>\n",
              "      <td>8</td>\n",
              "      <td>26148</td>\n",
              "      <td>25571</td>\n",
              "      <td>395467</td>\n",
              "      <td>74112</td>\n",
              "      <td>15.12</td>\n",
              "      <td>193</td>\n",
              "      <td>10431.0</td>\n",
              "      <td>296.0</td>\n",
              "      <td>61.945430</td>\n",
              "      <td>1.043100e+10</td>\n",
              "      <td>1.315415e+12</td>\n",
              "      <td>1.464977e+12</td>\n",
              "      <td>1.549131e+12</td>\n",
              "      <td>1.371153e+12</td>\n",
              "      <td>1.613464e+12</td>\n",
              "      <td>1.788648e+12</td>\n",
              "      <td>1.824289e+12</td>\n",
              "      <td>1.842628e+12</td>\n",
              "      <td>1.799269e+12</td>\n",
              "      <td>1.552522e+12</td>\n",
              "    </tr>\n",
              "    <tr>\n",
              "      <th>South Korea</th>\n",
              "      <td>11</td>\n",
              "      <td>18217</td>\n",
              "      <td>17994</td>\n",
              "      <td>208150</td>\n",
              "      <td>39811</td>\n",
              "      <td>11.43</td>\n",
              "      <td>132</td>\n",
              "      <td>11007.0</td>\n",
              "      <td>221.0</td>\n",
              "      <td>2.279353</td>\n",
              "      <td>1.100700e+10</td>\n",
              "      <td>1.011797e+12</td>\n",
              "      <td>1.122679e+12</td>\n",
              "      <td>1.002219e+12</td>\n",
              "      <td>9.019350e+11</td>\n",
              "      <td>1.094499e+12</td>\n",
              "      <td>1.202464e+12</td>\n",
              "      <td>1.222807e+12</td>\n",
              "      <td>1.305605e+12</td>\n",
              "      <td>1.411334e+12</td>\n",
              "      <td>1.382764e+12</td>\n",
              "    </tr>\n",
              "    <tr>\n",
              "      <th>Brazil</th>\n",
              "      <td>13</td>\n",
              "      <td>15332</td>\n",
              "      <td>15132</td>\n",
              "      <td>118483</td>\n",
              "      <td>28818</td>\n",
              "      <td>7.73</td>\n",
              "      <td>109</td>\n",
              "      <td>12149.0</td>\n",
              "      <td>59.0</td>\n",
              "      <td>69.648030</td>\n",
              "      <td>1.214900e+10</td>\n",
              "      <td>1.107640e+12</td>\n",
              "      <td>1.397084e+12</td>\n",
              "      <td>1.695825e+12</td>\n",
              "      <td>1.667020e+12</td>\n",
              "      <td>2.208872e+12</td>\n",
              "      <td>2.616202e+12</td>\n",
              "      <td>2.465189e+12</td>\n",
              "      <td>2.472807e+12</td>\n",
              "      <td>2.455994e+12</td>\n",
              "      <td>1.802214e+12</td>\n",
              "    </tr>\n",
              "    <tr>\n",
              "      <th>Australia</th>\n",
              "      <td>14</td>\n",
              "      <td>14907</td>\n",
              "      <td>14564</td>\n",
              "      <td>196567</td>\n",
              "      <td>34134</td>\n",
              "      <td>13.19</td>\n",
              "      <td>143</td>\n",
              "      <td>5386.0</td>\n",
              "      <td>231.0</td>\n",
              "      <td>11.810810</td>\n",
              "      <td>5.386000e+09</td>\n",
              "      <td>7.455219e+11</td>\n",
              "      <td>8.519628e+11</td>\n",
              "      <td>1.052585e+12</td>\n",
              "      <td>9.264482e+11</td>\n",
              "      <td>1.144261e+12</td>\n",
              "      <td>1.394281e+12</td>\n",
              "      <td>1.543411e+12</td>\n",
              "      <td>1.573697e+12</td>\n",
              "      <td>1.464955e+12</td>\n",
              "      <td>1.349034e+12</td>\n",
              "    </tr>\n",
              "  </tbody>\n",
              "</table>\n",
              "</div>"
            ],
            "text/plain": [
              "                    Rank  Documents  ...          2014          2015\n",
              "Country                              ...                            \n",
              "India                  5      32064  ...  2.039127e+12  2.103588e+12\n",
              "Germany                6      27966  ...  3.898727e+12  3.381389e+12\n",
              "Russian Federation     7      26435  ...  2.063663e+12  1.363705e+12\n",
              "Canada                 8      26148  ...  1.799269e+12  1.552522e+12\n",
              "South Korea           11      18217  ...  1.411334e+12  1.382764e+12\n",
              "Brazil                13      15332  ...  2.455994e+12  1.802214e+12\n",
              "Australia             14      14907  ...  1.464955e+12  1.349034e+12\n",
              "\n",
              "[7 rows x 21 columns]"
            ]
          },
          "metadata": {
            "tags": []
          },
          "execution_count": 144
        }
      ]
    },
    {
      "cell_type": "markdown",
      "metadata": {
        "id": "1iS3dQsONL24",
        "colab_type": "text"
      },
      "source": [
        "Full Ans:-"
      ]
    },
    {
      "cell_type": "code",
      "metadata": {
        "umich_part_id": "009",
        "umich_partlist_id": "003",
        "id": "ePJwbYUBffR3",
        "colab_type": "code",
        "colab": {
          "base_uri": "https://localhost:8080/",
          "height": 611
        },
        "outputId": "83213fc9-6e3f-4de2-db96-36bd50471ef4"
      },
      "source": [
        " import pandas as pd\n",
        "import numpy as np\n",
        "pre_count=0\n",
        "def answer_one():\n",
        "    global pre_count\n",
        "    df = pd.read_excel('Energy+Indicators.xls',usecols =[2,3,4,5])\n",
        "\n",
        "\n",
        "    row_start=17\n",
        "    energy = df.loc[row_start:243]\n",
        "    energy.columns = ['Country', 'Energy Supply(Petajoules)', 'Energy Supply per Capita(Gigajoules)', '% Renewable']\n",
        "    # energy=pd.DataFrame(energy)\n",
        "    energy=energy.set_index(\"Country\")\n",
        "    energy=energy.replace('...', np.nan, regex=True)\n",
        "    energy[\"Energy Supply(gigajoules)\"]=1000000*energy['Energy Supply(Petajoules)']\n",
        "    energy=energy.rename(index={\"Republic of Korea\": \"South Korea\", \n",
        "                                \"United States of America\":\"United States\", \n",
        "                                \"United Kingdom of Great Britain and Northern Ireland\": \"United Kingdom\", \n",
        "                                \"China, Hong Kong Special Administrative Region\": \"Hong Kong\",\n",
        "                               'Bolivia (Plurinational State of)':'Bolivia',\n",
        "                                'Switzerland17':'Switzerland',\n",
        "                                \"Australia1\":\"Australia\",\n",
        "                                \"Ukraine18\":\"Ukraine\",\n",
        "                                \"United Kingdom of Great Britain and Northern Ireland19\":\"United Kingdom of Great Britain and Northern Ireland\",\n",
        "                               \"United States of America20\":\"United States of America\",\n",
        "                                \"Venezuela (Bolivarian Republic of)\":\"Venezuela\"})\n",
        "    GDP=pd.read_csv('world_bank.csv',skiprows=4)\n",
        "    GDP['Country Name']=GDP['Country Name'].replace({\"Korea, Rep.\": \"South Korea\", \"Iran, Islamic Rep.\": \"Iran\", \"Hong Kong SAR, China\": \"Hong Kong\"})\n",
        "    GDP=GDP[['Country Name','2006','2007','2008','2009','2010','2011','2012','2013','2014','2015']]\n",
        "    GDP.columns=['Country','2006','2007','2008','2009','2010','2011','2012','2013','2014','2015']\n",
        "    GDP.head()\n",
        "    sci=pd.read_excel('scimagojr.xlsx')\n",
        "    join = sci.merge(energy,how='inner',left_on='Country',right_on='Country')\n",
        "    last_join = join.merge(GDP,how='inner',left_on='Country',right_on='Country')\n",
        "    pre_count=last_join.count()\n",
        "    last_join=last_join[:15]\n",
        "    last_join = last_join.set_index('Country')\n",
        "\n",
        "\n",
        "    return last_join\n",
        "answer_one()"
      ],
      "execution_count": 162,
      "outputs": [
        {
          "output_type": "execute_result",
          "data": {
            "text/html": [
              "<div>\n",
              "<style scoped>\n",
              "    .dataframe tbody tr th:only-of-type {\n",
              "        vertical-align: middle;\n",
              "    }\n",
              "\n",
              "    .dataframe tbody tr th {\n",
              "        vertical-align: top;\n",
              "    }\n",
              "\n",
              "    .dataframe thead th {\n",
              "        text-align: right;\n",
              "    }\n",
              "</style>\n",
              "<table border=\"1\" class=\"dataframe\">\n",
              "  <thead>\n",
              "    <tr style=\"text-align: right;\">\n",
              "      <th></th>\n",
              "      <th>Rank</th>\n",
              "      <th>Documents</th>\n",
              "      <th>Citable documents</th>\n",
              "      <th>Citations</th>\n",
              "      <th>Self-citations</th>\n",
              "      <th>Citations per document</th>\n",
              "      <th>H index</th>\n",
              "      <th>Energy Supply(Petajoules)</th>\n",
              "      <th>Energy Supply per Capita(Gigajoules)</th>\n",
              "      <th>% Renewable</th>\n",
              "      <th>Energy Supply(gigajoules)</th>\n",
              "      <th>2006</th>\n",
              "      <th>2007</th>\n",
              "      <th>2008</th>\n",
              "      <th>2009</th>\n",
              "      <th>2010</th>\n",
              "      <th>2011</th>\n",
              "      <th>2012</th>\n",
              "      <th>2013</th>\n",
              "      <th>2014</th>\n",
              "      <th>2015</th>\n",
              "    </tr>\n",
              "    <tr>\n",
              "      <th>Country</th>\n",
              "      <th></th>\n",
              "      <th></th>\n",
              "      <th></th>\n",
              "      <th></th>\n",
              "      <th></th>\n",
              "      <th></th>\n",
              "      <th></th>\n",
              "      <th></th>\n",
              "      <th></th>\n",
              "      <th></th>\n",
              "      <th></th>\n",
              "      <th></th>\n",
              "      <th></th>\n",
              "      <th></th>\n",
              "      <th></th>\n",
              "      <th></th>\n",
              "      <th></th>\n",
              "      <th></th>\n",
              "      <th></th>\n",
              "      <th></th>\n",
              "      <th></th>\n",
              "    </tr>\n",
              "  </thead>\n",
              "  <tbody>\n",
              "    <tr>\n",
              "      <th>India</th>\n",
              "      <td>5</td>\n",
              "      <td>32064</td>\n",
              "      <td>31167</td>\n",
              "      <td>268746</td>\n",
              "      <td>87658</td>\n",
              "      <td>8.38</td>\n",
              "      <td>153</td>\n",
              "      <td>33195.0</td>\n",
              "      <td>26.0</td>\n",
              "      <td>14.969080</td>\n",
              "      <td>3.319500e+10</td>\n",
              "      <td>9.402599e+11</td>\n",
              "      <td>1.216735e+12</td>\n",
              "      <td>1.198895e+12</td>\n",
              "      <td>1.341887e+12</td>\n",
              "      <td>1.675615e+12</td>\n",
              "      <td>1.823050e+12</td>\n",
              "      <td>1.827638e+12</td>\n",
              "      <td>1.856722e+12</td>\n",
              "      <td>2.039127e+12</td>\n",
              "      <td>2.103588e+12</td>\n",
              "    </tr>\n",
              "    <tr>\n",
              "      <th>Germany</th>\n",
              "      <td>6</td>\n",
              "      <td>27966</td>\n",
              "      <td>27370</td>\n",
              "      <td>278237</td>\n",
              "      <td>59495</td>\n",
              "      <td>9.95</td>\n",
              "      <td>166</td>\n",
              "      <td>13261.0</td>\n",
              "      <td>165.0</td>\n",
              "      <td>17.901530</td>\n",
              "      <td>1.326100e+10</td>\n",
              "      <td>3.002446e+12</td>\n",
              "      <td>3.439953e+12</td>\n",
              "      <td>3.752366e+12</td>\n",
              "      <td>3.418005e+12</td>\n",
              "      <td>3.417095e+12</td>\n",
              "      <td>3.757698e+12</td>\n",
              "      <td>3.543984e+12</td>\n",
              "      <td>3.752514e+12</td>\n",
              "      <td>3.898727e+12</td>\n",
              "      <td>3.381389e+12</td>\n",
              "    </tr>\n",
              "    <tr>\n",
              "      <th>Russian Federation</th>\n",
              "      <td>7</td>\n",
              "      <td>26435</td>\n",
              "      <td>26196</td>\n",
              "      <td>68424</td>\n",
              "      <td>29544</td>\n",
              "      <td>2.59</td>\n",
              "      <td>75</td>\n",
              "      <td>30709.0</td>\n",
              "      <td>214.0</td>\n",
              "      <td>17.288680</td>\n",
              "      <td>3.070900e+10</td>\n",
              "      <td>9.899305e+11</td>\n",
              "      <td>1.299706e+12</td>\n",
              "      <td>1.660846e+12</td>\n",
              "      <td>1.222644e+12</td>\n",
              "      <td>1.524917e+12</td>\n",
              "      <td>2.051662e+12</td>\n",
              "      <td>2.210257e+12</td>\n",
              "      <td>2.297128e+12</td>\n",
              "      <td>2.063663e+12</td>\n",
              "      <td>1.363705e+12</td>\n",
              "    </tr>\n",
              "    <tr>\n",
              "      <th>Canada</th>\n",
              "      <td>8</td>\n",
              "      <td>26148</td>\n",
              "      <td>25571</td>\n",
              "      <td>395467</td>\n",
              "      <td>74112</td>\n",
              "      <td>15.12</td>\n",
              "      <td>193</td>\n",
              "      <td>10431.0</td>\n",
              "      <td>296.0</td>\n",
              "      <td>61.945430</td>\n",
              "      <td>1.043100e+10</td>\n",
              "      <td>1.315415e+12</td>\n",
              "      <td>1.464977e+12</td>\n",
              "      <td>1.549131e+12</td>\n",
              "      <td>1.371153e+12</td>\n",
              "      <td>1.613464e+12</td>\n",
              "      <td>1.788648e+12</td>\n",
              "      <td>1.824289e+12</td>\n",
              "      <td>1.842628e+12</td>\n",
              "      <td>1.799269e+12</td>\n",
              "      <td>1.552522e+12</td>\n",
              "    </tr>\n",
              "    <tr>\n",
              "      <th>South Korea</th>\n",
              "      <td>11</td>\n",
              "      <td>18217</td>\n",
              "      <td>17994</td>\n",
              "      <td>208150</td>\n",
              "      <td>39811</td>\n",
              "      <td>11.43</td>\n",
              "      <td>132</td>\n",
              "      <td>11007.0</td>\n",
              "      <td>221.0</td>\n",
              "      <td>2.279353</td>\n",
              "      <td>1.100700e+10</td>\n",
              "      <td>1.011797e+12</td>\n",
              "      <td>1.122679e+12</td>\n",
              "      <td>1.002219e+12</td>\n",
              "      <td>9.019350e+11</td>\n",
              "      <td>1.094499e+12</td>\n",
              "      <td>1.202464e+12</td>\n",
              "      <td>1.222807e+12</td>\n",
              "      <td>1.305605e+12</td>\n",
              "      <td>1.411334e+12</td>\n",
              "      <td>1.382764e+12</td>\n",
              "    </tr>\n",
              "    <tr>\n",
              "      <th>Brazil</th>\n",
              "      <td>13</td>\n",
              "      <td>15332</td>\n",
              "      <td>15132</td>\n",
              "      <td>118483</td>\n",
              "      <td>28818</td>\n",
              "      <td>7.73</td>\n",
              "      <td>109</td>\n",
              "      <td>12149.0</td>\n",
              "      <td>59.0</td>\n",
              "      <td>69.648030</td>\n",
              "      <td>1.214900e+10</td>\n",
              "      <td>1.107640e+12</td>\n",
              "      <td>1.397084e+12</td>\n",
              "      <td>1.695825e+12</td>\n",
              "      <td>1.667020e+12</td>\n",
              "      <td>2.208872e+12</td>\n",
              "      <td>2.616202e+12</td>\n",
              "      <td>2.465189e+12</td>\n",
              "      <td>2.472807e+12</td>\n",
              "      <td>2.455994e+12</td>\n",
              "      <td>1.802214e+12</td>\n",
              "    </tr>\n",
              "    <tr>\n",
              "      <th>Australia</th>\n",
              "      <td>14</td>\n",
              "      <td>14907</td>\n",
              "      <td>14564</td>\n",
              "      <td>196567</td>\n",
              "      <td>34134</td>\n",
              "      <td>13.19</td>\n",
              "      <td>143</td>\n",
              "      <td>5386.0</td>\n",
              "      <td>231.0</td>\n",
              "      <td>11.810810</td>\n",
              "      <td>5.386000e+09</td>\n",
              "      <td>7.455219e+11</td>\n",
              "      <td>8.519628e+11</td>\n",
              "      <td>1.052585e+12</td>\n",
              "      <td>9.264482e+11</td>\n",
              "      <td>1.144261e+12</td>\n",
              "      <td>1.394281e+12</td>\n",
              "      <td>1.543411e+12</td>\n",
              "      <td>1.573697e+12</td>\n",
              "      <td>1.464955e+12</td>\n",
              "      <td>1.349034e+12</td>\n",
              "    </tr>\n",
              "    <tr>\n",
              "      <th>Turkey</th>\n",
              "      <td>17</td>\n",
              "      <td>8968</td>\n",
              "      <td>8707</td>\n",
              "      <td>157567</td>\n",
              "      <td>33600</td>\n",
              "      <td>17.57</td>\n",
              "      <td>136</td>\n",
              "      <td>4897.0</td>\n",
              "      <td>64.0</td>\n",
              "      <td>28.536690</td>\n",
              "      <td>4.897000e+09</td>\n",
              "      <td>5.524872e+11</td>\n",
              "      <td>6.757702e+11</td>\n",
              "      <td>7.643358e+11</td>\n",
              "      <td>6.446400e+11</td>\n",
              "      <td>7.719018e+11</td>\n",
              "      <td>8.325236e+11</td>\n",
              "      <td>8.739822e+11</td>\n",
              "      <td>9.505794e+11</td>\n",
              "      <td>9.341860e+11</td>\n",
              "      <td>8.597967e+11</td>\n",
              "    </tr>\n",
              "    <tr>\n",
              "      <th>Norway</th>\n",
              "      <td>18</td>\n",
              "      <td>8437</td>\n",
              "      <td>8323</td>\n",
              "      <td>79053</td>\n",
              "      <td>17256</td>\n",
              "      <td>9.37</td>\n",
              "      <td>98</td>\n",
              "      <td>1388.0</td>\n",
              "      <td>273.0</td>\n",
              "      <td>97.635580</td>\n",
              "      <td>1.388000e+09</td>\n",
              "      <td>3.454247e+11</td>\n",
              "      <td>4.010826e+11</td>\n",
              "      <td>4.625544e+11</td>\n",
              "      <td>3.866225e+11</td>\n",
              "      <td>4.291310e+11</td>\n",
              "      <td>4.988316e+11</td>\n",
              "      <td>5.102291e+11</td>\n",
              "      <td>5.235021e+11</td>\n",
              "      <td>4.993385e+11</td>\n",
              "      <td>3.866631e+11</td>\n",
              "    </tr>\n",
              "    <tr>\n",
              "      <th>Malaysia</th>\n",
              "      <td>20</td>\n",
              "      <td>7253</td>\n",
              "      <td>7002</td>\n",
              "      <td>70334</td>\n",
              "      <td>16961</td>\n",
              "      <td>9.70</td>\n",
              "      <td>98</td>\n",
              "      <td>3417.0</td>\n",
              "      <td>116.0</td>\n",
              "      <td>7.754589</td>\n",
              "      <td>3.417000e+09</td>\n",
              "      <td>1.626910e+11</td>\n",
              "      <td>1.935478e+11</td>\n",
              "      <td>2.308136e+11</td>\n",
              "      <td>2.022576e+11</td>\n",
              "      <td>2.550166e+11</td>\n",
              "      <td>2.979520e+11</td>\n",
              "      <td>3.144431e+11</td>\n",
              "      <td>3.232772e+11</td>\n",
              "      <td>3.380620e+11</td>\n",
              "      <td>2.966363e+11</td>\n",
              "    </tr>\n",
              "    <tr>\n",
              "      <th>Sweden</th>\n",
              "      <td>21</td>\n",
              "      <td>7144</td>\n",
              "      <td>6961</td>\n",
              "      <td>112443</td>\n",
              "      <td>17916</td>\n",
              "      <td>15.74</td>\n",
              "      <td>126</td>\n",
              "      <td>2044.0</td>\n",
              "      <td>212.0</td>\n",
              "      <td>46.598460</td>\n",
              "      <td>2.044000e+09</td>\n",
              "      <td>4.200321e+11</td>\n",
              "      <td>4.878163e+11</td>\n",
              "      <td>5.139657e+11</td>\n",
              "      <td>4.296570e+11</td>\n",
              "      <td>4.889091e+11</td>\n",
              "      <td>5.637974e+11</td>\n",
              "      <td>5.444815e+11</td>\n",
              "      <td>5.793607e+11</td>\n",
              "      <td>5.744131e+11</td>\n",
              "      <td>4.981176e+11</td>\n",
              "    </tr>\n",
              "    <tr>\n",
              "      <th>Switzerland</th>\n",
              "      <td>24</td>\n",
              "      <td>5513</td>\n",
              "      <td>5395</td>\n",
              "      <td>77315</td>\n",
              "      <td>11413</td>\n",
              "      <td>14.02</td>\n",
              "      <td>108</td>\n",
              "      <td>1113.0</td>\n",
              "      <td>136.0</td>\n",
              "      <td>57.745480</td>\n",
              "      <td>1.113000e+09</td>\n",
              "      <td>4.309212e+11</td>\n",
              "      <td>4.799130e+11</td>\n",
              "      <td>5.543635e+11</td>\n",
              "      <td>5.415065e+11</td>\n",
              "      <td>5.837830e+11</td>\n",
              "      <td>6.995796e+11</td>\n",
              "      <td>6.680436e+11</td>\n",
              "      <td>6.885042e+11</td>\n",
              "      <td>7.091826e+11</td>\n",
              "      <td>6.798323e+11</td>\n",
              "    </tr>\n",
              "    <tr>\n",
              "      <th>Poland</th>\n",
              "      <td>25</td>\n",
              "      <td>5346</td>\n",
              "      <td>5199</td>\n",
              "      <td>47581</td>\n",
              "      <td>11065</td>\n",
              "      <td>8.90</td>\n",
              "      <td>74</td>\n",
              "      <td>4121.0</td>\n",
              "      <td>107.0</td>\n",
              "      <td>5.537899</td>\n",
              "      <td>4.121000e+09</td>\n",
              "      <td>3.447486e+11</td>\n",
              "      <td>4.290635e+11</td>\n",
              "      <td>5.338158e+11</td>\n",
              "      <td>4.397962e+11</td>\n",
              "      <td>4.792579e+11</td>\n",
              "      <td>5.287251e+11</td>\n",
              "      <td>5.002840e+11</td>\n",
              "      <td>5.242012e+11</td>\n",
              "      <td>5.452854e+11</td>\n",
              "      <td>4.769709e+11</td>\n",
              "    </tr>\n",
              "    <tr>\n",
              "      <th>Mexico</th>\n",
              "      <td>26</td>\n",
              "      <td>5020</td>\n",
              "      <td>4833</td>\n",
              "      <td>41545</td>\n",
              "      <td>7422</td>\n",
              "      <td>8.28</td>\n",
              "      <td>72</td>\n",
              "      <td>7944.0</td>\n",
              "      <td>64.0</td>\n",
              "      <td>12.913400</td>\n",
              "      <td>7.944000e+09</td>\n",
              "      <td>9.753871e+11</td>\n",
              "      <td>1.052696e+12</td>\n",
              "      <td>1.109989e+12</td>\n",
              "      <td>9.000454e+11</td>\n",
              "      <td>1.057801e+12</td>\n",
              "      <td>1.180490e+12</td>\n",
              "      <td>1.201090e+12</td>\n",
              "      <td>1.274443e+12</td>\n",
              "      <td>1.314564e+12</td>\n",
              "      <td>1.170565e+12</td>\n",
              "    </tr>\n",
              "    <tr>\n",
              "      <th>Ukraine</th>\n",
              "      <td>28</td>\n",
              "      <td>4729</td>\n",
              "      <td>4585</td>\n",
              "      <td>11032</td>\n",
              "      <td>4870</td>\n",
              "      <td>2.33</td>\n",
              "      <td>33</td>\n",
              "      <td>4844.0</td>\n",
              "      <td>107.0</td>\n",
              "      <td>8.067312</td>\n",
              "      <td>4.844000e+09</td>\n",
              "      <td>1.076479e+11</td>\n",
              "      <td>1.425796e+11</td>\n",
              "      <td>1.798168e+11</td>\n",
              "      <td>1.171134e+11</td>\n",
              "      <td>1.360132e+11</td>\n",
              "      <td>1.631597e+11</td>\n",
              "      <td>1.757814e+11</td>\n",
              "      <td>1.833101e+11</td>\n",
              "      <td>1.335034e+11</td>\n",
              "      <td>9.103096e+10</td>\n",
              "    </tr>\n",
              "  </tbody>\n",
              "</table>\n",
              "</div>"
            ],
            "text/plain": [
              "                    Rank  Documents  ...          2014          2015\n",
              "Country                              ...                            \n",
              "India                  5      32064  ...  2.039127e+12  2.103588e+12\n",
              "Germany                6      27966  ...  3.898727e+12  3.381389e+12\n",
              "Russian Federation     7      26435  ...  2.063663e+12  1.363705e+12\n",
              "Canada                 8      26148  ...  1.799269e+12  1.552522e+12\n",
              "South Korea           11      18217  ...  1.411334e+12  1.382764e+12\n",
              "Brazil                13      15332  ...  2.455994e+12  1.802214e+12\n",
              "Australia             14      14907  ...  1.464955e+12  1.349034e+12\n",
              "Turkey                17       8968  ...  9.341860e+11  8.597967e+11\n",
              "Norway                18       8437  ...  4.993385e+11  3.866631e+11\n",
              "Malaysia              20       7253  ...  3.380620e+11  2.966363e+11\n",
              "Sweden                21       7144  ...  5.744131e+11  4.981176e+11\n",
              "Switzerland           24       5513  ...  7.091826e+11  6.798323e+11\n",
              "Poland                25       5346  ...  5.452854e+11  4.769709e+11\n",
              "Mexico                26       5020  ...  1.314564e+12  1.170565e+12\n",
              "Ukraine               28       4729  ...  1.335034e+11  9.103096e+10\n",
              "\n",
              "[15 rows x 21 columns]"
            ]
          },
          "metadata": {
            "tags": []
          },
          "execution_count": 162
        }
      ]
    },
    {
      "cell_type": "markdown",
      "metadata": {
        "id": "iueuSKF2ffR6",
        "colab_type": "text"
      },
      "source": [
        "### Question 2 (6.6%)\n",
        "The previous question joined three datasets then reduced this to just the top 15 entries. When you joined the datasets, but before you reduced this to the top 15 items, how many entries did you lose?\n",
        "\n",
        "*This function should return a single number.*"
      ]
    },
    {
      "cell_type": "code",
      "metadata": {
        "id": "z6chAqRyffR6",
        "colab_type": "code",
        "outputId": "459fafc9-de8c-421c-a26a-76623367044e",
        "colab": {
          "base_uri": "https://localhost:8080/",
          "height": 321
        }
      },
      "source": [
        "%%HTML\n",
        "<svg width=\"800\" height=\"300\">\n",
        "  <circle cx=\"150\" cy=\"180\" r=\"80\" fill-opacity=\"0.2\" stroke=\"black\" stroke-width=\"2\" fill=\"blue\" />\n",
        "  <circle cx=\"200\" cy=\"100\" r=\"80\" fill-opacity=\"0.2\" stroke=\"black\" stroke-width=\"2\" fill=\"red\" />\n",
        "  <circle cx=\"100\" cy=\"100\" r=\"80\" fill-opacity=\"0.2\" stroke=\"black\" stroke-width=\"2\" fill=\"green\" />\n",
        "  <line x1=\"150\" y1=\"125\" x2=\"300\" y2=\"150\" stroke=\"black\" stroke-width=\"2\" fill=\"black\" stroke-dasharray=\"5,3\"/>\n",
        "  <text  x=\"300\" y=\"165\" font-family=\"Verdana\" font-size=\"35\">Everything but this!</text>\n",
        "</svg>"
      ],
      "execution_count": 147,
      "outputs": [
        {
          "output_type": "display_data",
          "data": {
            "text/html": [
              "<svg width=\"800\" height=\"300\">\n",
              "  <circle cx=\"150\" cy=\"180\" r=\"80\" fill-opacity=\"0.2\" stroke=\"black\" stroke-width=\"2\" fill=\"blue\" />\n",
              "  <circle cx=\"200\" cy=\"100\" r=\"80\" fill-opacity=\"0.2\" stroke=\"black\" stroke-width=\"2\" fill=\"red\" />\n",
              "  <circle cx=\"100\" cy=\"100\" r=\"80\" fill-opacity=\"0.2\" stroke=\"black\" stroke-width=\"2\" fill=\"green\" />\n",
              "  <line x1=\"150\" y1=\"125\" x2=\"300\" y2=\"150\" stroke=\"black\" stroke-width=\"2\" fill=\"black\" stroke-dasharray=\"5,3\"/>\n",
              "  <text  x=\"300\" y=\"165\" font-family=\"Verdana\" font-size=\"35\">Everything but this!</text>\n",
              "</svg>"
            ],
            "text/plain": [
              "<IPython.core.display.HTML object>"
            ]
          },
          "metadata": {
            "tags": []
          }
        }
      ]
    },
    {
      "cell_type": "code",
      "metadata": {
        "umich_part_id": "010",
        "umich_partlist_id": "003",
        "id": "ZO8uT19QffR_",
        "colab_type": "code",
        "colab": {
          "base_uri": "https://localhost:8080/",
          "height": 33
        },
        "outputId": "5ffc902d-6d12-4d8b-a3ce-9dcfa71c832e"
      },
      "source": [
        "def answer_two():\n",
        "    ans=pre_count-15\n",
        "    return ans.Country\n",
        "answer_two()"
      ],
      "execution_count": 172,
      "outputs": [
        {
          "output_type": "execute_result",
          "data": {
            "text/plain": [
              "132"
            ]
          },
          "metadata": {
            "tags": []
          },
          "execution_count": 172
        }
      ]
    },
    {
      "cell_type": "markdown",
      "metadata": {
        "id": "cgUMKiXcffSB",
        "colab_type": "text"
      },
      "source": [
        "## Answer the following questions in the context of only the top 15 countries by Scimagojr Rank (aka the DataFrame returned by `answer_one()`)"
      ]
    },
    {
      "cell_type": "markdown",
      "metadata": {
        "id": "Fmi6N4QTffSB",
        "colab_type": "text"
      },
      "source": [
        "### Question 3 (6.6%)\n",
        "What is the average GDP over the last 10 years for each country? (exclude missing values from this calculation.)\n",
        "\n",
        "*This function should return a Series named `avgGDP` with 15 countries and their average GDP sorted in descending order.*"
      ]
    },
    {
      "cell_type": "code",
      "metadata": {
        "scrolled": true,
        "umich_part_id": "011",
        "umich_partlist_id": "003",
        "id": "wfMF_yknffSC",
        "colab_type": "code",
        "colab": {
          "base_uri": "https://localhost:8080/",
          "height": 284
        },
        "outputId": "3f8d6546-46f1-441c-f33f-f0446d09a72f"
      },
      "source": [
        "def answer_three():\n",
        "    Top15=answer_one()\n",
        "    avg=Top15[['2006','2007','2008','2009','2010','2011','2012','2013','2014','2015']].mean(axis = 1).rename('GDP(avg)')\n",
        "    avg=sorted(avg,reverse = True);\n",
        "    return pd.Series(avg)\n",
        "answer_three()    "
      ],
      "execution_count": 238,
      "outputs": [
        {
          "output_type": "execute_result",
          "data": {
            "text/plain": [
              "0     3.536418e+12\n",
              "1     1.988885e+12\n",
              "2     1.668446e+12\n",
              "3     1.612150e+12\n",
              "4     1.602352e+12\n",
              "5     1.204616e+12\n",
              "6     1.165810e+12\n",
              "7     1.123707e+12\n",
              "8     7.860203e+11\n",
              "9     6.035629e+11\n",
              "10    5.100551e+11\n",
              "11    4.802149e+11\n",
              "12    4.443380e+11\n",
              "13    2.614697e+11\n",
              "14    1.429956e+11\n",
              "dtype: float64"
            ]
          },
          "metadata": {
            "tags": []
          },
          "execution_count": 238
        }
      ]
    },
    {
      "cell_type": "markdown",
      "metadata": {
        "id": "K_bT7M80ffSF",
        "colab_type": "text"
      },
      "source": [
        "### Question 4 (6.6%)\n",
        "By how much had the GDP changed over the 10 year span for the country with the 6th largest average GDP?\n",
        "\n",
        "*This function should return a single number.*"
      ]
    },
    {
      "cell_type": "code",
      "metadata": {
        "scrolled": true,
        "umich_part_id": "012",
        "umich_partlist_id": "003",
        "id": "3k_T1MYKffSG",
        "colab_type": "code",
        "colab": {
          "base_uri": "https://localhost:8080/",
          "height": 33
        },
        "outputId": "9bf8a26f-fbff-496a-9062-059d10fcf005"
      },
      "source": [
        "def answer_four():\n",
        "    Top15 = answer_one()\n",
        "    sixlarge=Top15.iloc[6,20]-Top15.iloc[6,11] \n",
        "\n",
        "    return sixlarge\n",
        "answer_four()\n"
      ],
      "execution_count": 195,
      "outputs": [
        {
          "output_type": "execute_result",
          "data": {
            "text/plain": [
              "603512166620.186"
            ]
          },
          "metadata": {
            "tags": []
          },
          "execution_count": 195
        }
      ]
    },
    {
      "cell_type": "markdown",
      "metadata": {
        "id": "iWhv7AU-ffSI",
        "colab_type": "text"
      },
      "source": [
        "### Question 5 (6.6%)\n",
        "What is the mean `Energy Supply per Capita`?\n",
        "\n",
        "*This function should return a single number.*"
      ]
    },
    {
      "cell_type": "code",
      "metadata": {
        "umich_part_id": "013",
        "umich_partlist_id": "003",
        "id": "cPELMh1DffSI",
        "colab_type": "code",
        "colab": {
          "base_uri": "https://localhost:8080/",
          "height": 33
        },
        "outputId": "4f5a9fb0-bfd0-4ce7-af1c-c5d459350cc3"
      },
      "source": [
        "def answer_five():\n",
        "    Top15 = answer_one()\n",
        "    menergy=Top15.iloc[:,8].mean()\n",
        "    return menergy\n",
        "answer_five()"
      ],
      "execution_count": 198,
      "outputs": [
        {
          "output_type": "execute_result",
          "data": {
            "text/plain": [
              "152.73333333333332"
            ]
          },
          "metadata": {
            "tags": []
          },
          "execution_count": 198
        }
      ]
    },
    {
      "cell_type": "markdown",
      "metadata": {
        "id": "7Ds3dcB2ffSK",
        "colab_type": "text"
      },
      "source": [
        "### Question 6 (6.6%)\n",
        "What country has the maximum % Renewable and what is the percentage?\n",
        "\n",
        "*This function should return a tuple with the name of the country and the percentage.*"
      ]
    },
    {
      "cell_type": "code",
      "metadata": {
        "umich_part_id": "014",
        "umich_partlist_id": "003",
        "id": "ixQyBVV0ffSM",
        "colab_type": "code",
        "colab": {
          "base_uri": "https://localhost:8080/",
          "height": 33
        },
        "outputId": "a411ac43-53e7-4ac4-8e26-4ddc93af82e4"
      },
      "source": [
        "def answer_six():\n",
        "    Top15 = answer_one()\n",
        "    mr=Top15.iloc[:,9].max()\n",
        "    mr_filds=Top15.loc[Top15['% Renewable'].idxmax()]\n",
        "    return (mr_filds.name,mr)\n",
        "answer_six()"
      ],
      "execution_count": 221,
      "outputs": [
        {
          "output_type": "execute_result",
          "data": {
            "text/plain": [
              "('Norway', 97.63558)"
            ]
          },
          "metadata": {
            "tags": []
          },
          "execution_count": 221
        }
      ]
    },
    {
      "cell_type": "markdown",
      "metadata": {
        "id": "qJ0AuC_-ffSO",
        "colab_type": "text"
      },
      "source": [
        "### Question 7 (6.6%)\n",
        "Create a new column that is the ratio of Self-Citations to Total Citations. \n",
        "What is the maximum value for this new column, and what country has the highest ratio?\n",
        "\n",
        "*This function should return a tuple with the name of the country and the ratio.*"
      ]
    },
    {
      "cell_type": "code",
      "metadata": {
        "umich_part_id": "015",
        "umich_partlist_id": "003",
        "id": "-0xYCTZgffSP",
        "colab_type": "code",
        "colab": {
          "base_uri": "https://localhost:8080/",
          "height": 33
        },
        "outputId": "bcc15268-b3c7-4792-86a9-85844e96ada7"
      },
      "source": [
        "def answer_seven():\n",
        "    Top15 = answer_one()\n",
        "    Top15['Ratio'] = Top15.iloc[:,4]/Top15.iloc[:,3]\n",
        "    mr=Top15['Ratio'].max()\n",
        "    mx_filds=Top15.loc[Top15['Ratio'].idxmax()]\n",
        "    return (mx_filds.name,mr)\n",
        "answer_seven()"
      ],
      "execution_count": 232,
      "outputs": [
        {
          "output_type": "execute_result",
          "data": {
            "text/plain": [
              "('Ukraine', 0.44144307469180566)"
            ]
          },
          "metadata": {
            "tags": []
          },
          "execution_count": 232
        }
      ]
    },
    {
      "cell_type": "markdown",
      "metadata": {
        "id": "Ij2W3wFoffSQ",
        "colab_type": "text"
      },
      "source": [
        "### Question 8 (6.6%)\n",
        "\n",
        "Create a column that estimates the population using Energy Supply and Energy Supply per capita. \n",
        "What is the third most populous country according to this estimate?\n",
        "\n",
        "*This function should return a single string value.*"
      ]
    },
    {
      "cell_type": "code",
      "metadata": {
        "umich_part_id": "016",
        "umich_partlist_id": "003",
        "id": "sn_Sh-HkffSR",
        "colab_type": "code",
        "colab": {
          "base_uri": "https://localhost:8080/",
          "height": 33
        },
        "outputId": "60e0c6b9-a041-412c-e7ab-4faafbb9cabf"
      },
      "source": [
        "def answer_eight():\n",
        "    Top15 = answer_one()\n",
        "    Top15['Pop'] = Top15.iloc[:,7]/Top15.iloc[:,8]\n",
        "    mx3 = sorted(Top15['Pop'],reverse = True)[2]\n",
        "   \n",
        "    a = Top15[Top15['Pop']==mx3].index\n",
        "    return str(a[0])\n",
        "answer_eight()"
      ],
      "execution_count": 258,
      "outputs": [
        {
          "output_type": "execute_result",
          "data": {
            "text/plain": [
              "'Russian Federation'"
            ]
          },
          "metadata": {
            "tags": []
          },
          "execution_count": 258
        }
      ]
    },
    {
      "cell_type": "markdown",
      "metadata": {
        "id": "poy_LDdQffST",
        "colab_type": "text"
      },
      "source": [
        "### Question 9 (6.6%)\n",
        "Create a column that estimates the number of citable documents per person. \n",
        "What is the correlation between the number of citable documents per capita and the energy supply per capita? Use the `.corr()` method, (Pearson's correlation).\n",
        "\n",
        "*This function should return a single number.*\n",
        "\n",
        "*(Optional: Use the built-in function `plot9()` to visualize the relationship between Energy Supply per Capita vs. Citable docs per Capita)*"
      ]
    },
    {
      "cell_type": "code",
      "metadata": {
        "umich_part_id": "017",
        "umich_partlist_id": "003",
        "id": "5G5vkRHbffST",
        "colab_type": "code",
        "colab": {
          "base_uri": "https://localhost:8080/",
          "height": 33
        },
        "outputId": "93e2685c-0d62-440c-fc91-f95a36faab14"
      },
      "source": [
        "# import matplotlib as plt\n",
        "#     %matplotlib inline\n",
        "def answer_nine():\n",
        "    Top15 = answer_one()\n",
        "    Top15['Pop'] = Top15.iloc[:,7]/Top15.iloc[:,8]\n",
        "    Top15['Citable docs per Capita'] = Top15.iloc[:,2]/Top15['Pop']\n",
        "#     Top15.plot(x='Citable docs per Capita', y='Energy Supply per Capita(Gigajoules)', kind='scatter', xlim=[0, 0.0006])\n",
        "    return Top15[['Citable docs per Capita','Energy Supply per Capita(Gigajoules)']].corr(method='pearson').iloc[0,1]\n",
        "answer_nine()"
      ],
      "execution_count": 268,
      "outputs": [
        {
          "output_type": "execute_result",
          "data": {
            "text/plain": [
              "0.7500989147476808"
            ]
          },
          "metadata": {
            "tags": []
          },
          "execution_count": 268
        }
      ]
    },
    {
      "cell_type": "code",
      "metadata": {
        "id": "heBfmjUyffSV",
        "colab_type": "code",
        "colab": {}
      },
      "source": [
        "def plot9():\n",
        "    import matplotlib as plt\n",
        "    %matplotlib inline\n",
        "    \n",
        "    Top15 = answer_one()\n",
        "    Top15['PopEst'] = Top15['Energy Supply(Petajoules)'] / Top15['Energy Supply per Capita(Gigajoules)']\n",
        "    Top15['Citable docs per Capita'] = Top15['Citable documents'] / Top15['PopEst']\n",
        "    Top15.plot(x='Citable docs per Capita', y='Energy Supply per Capita(Gigajoules)',kind='scatter')"
      ],
      "execution_count": 0,
      "outputs": []
    },
    {
      "cell_type": "code",
      "metadata": {
        "id": "OIqiaGHpffSX",
        "colab_type": "code",
        "colab": {
          "base_uri": "https://localhost:8080/",
          "height": 283
        },
        "outputId": "fc428e9c-e643-4874-ab2a-71b1b98a3fbb"
      },
      "source": [
        "plot9() # Be sure to comment out plot9() before submitting the assignment!"
      ],
      "execution_count": 293,
      "outputs": [
        {
          "output_type": "display_data",
          "data": {
            "image/png": "[encoded data removed]",
            "text/plain": [
              "<Figure size 432x288 with 1 Axes>"
            ]
          },
          "metadata": {
            "tags": []
          }
        }
      ]
    },
    {
      "cell_type": "markdown",
      "metadata": {
        "id": "Ewsai7IwffSZ",
        "colab_type": "text"
      },
      "source": [
        "### Question 10 (6.6%)\n",
        "Create a new column with a 1 if the country's % Renewable value is at or above the median for all countries in the top 15, and a 0 if the country's % Renewable value is below the median.\n",
        "\n",
        "*This function should return a series named `HighRenew` whose index is the country name sorted in ascending order of rank.*"
      ]
    },
    {
      "cell_type": "code",
      "metadata": {
        "umich_part_id": "018",
        "umich_partlist_id": "003",
        "id": "PolcZ8aaffSa",
        "colab_type": "code",
        "colab": {
          "base_uri": "https://localhost:8080/",
          "height": 301
        },
        "outputId": "53548c26-4d5a-4d31-c6d1-548165bf006a"
      },
      "source": [
        "def answer_ten():\n",
        "    Top15=answer_one()\n",
        "    med=Top15['% Renewable'].median()\n",
        "#     return med\n",
        "    Top15['HighRenew']=None\n",
        "    for i in range(len(Top15)):\n",
        "        if Top15.iloc[i,9] > med:\n",
        "            Top15.iloc[i,21] = 1\n",
        "        else:\n",
        "            Top15.iloc[i,21] = 0\n",
        "    return pd.Series(Top15['HighRenew'])\n",
        "answer_ten()"
      ],
      "execution_count": 306,
      "outputs": [
        {
          "output_type": "execute_result",
          "data": {
            "text/plain": [
              "Country\n",
              "India                 0\n",
              "Germany               1\n",
              "Russian Federation    0\n",
              "Canada                1\n",
              "South Korea           0\n",
              "Brazil                1\n",
              "Australia             0\n",
              "Turkey                1\n",
              "Norway                1\n",
              "Malaysia              0\n",
              "Sweden                1\n",
              "Switzerland           1\n",
              "Poland                0\n",
              "Mexico                0\n",
              "Ukraine               0\n",
              "Name: HighRenew, dtype: int64"
            ]
          },
          "metadata": {
            "tags": []
          },
          "execution_count": 306
        }
      ]
    },
    {
      "cell_type": "markdown",
      "metadata": {
        "id": "VXfzhEb4ffSc",
        "colab_type": "text"
      },
      "source": [
        "### Question 11 (6.6%)\n",
        "Use the following dictionary to group the Countries by Continent, then create a dateframe that displays the sample size (the number of countries in each continent bin), and the sum, mean, and std deviation for the estimated population of each country.\n",
        "\n",
        "```python\n",
        "ContinentDict  = {'China':'Asia', \n",
        "                  'United States':'North America', \n",
        "                  'Japan':'Asia', \n",
        "                  'United Kingdom':'Europe', \n",
        "                  'Russian Federation':'Europe', \n",
        "                  'Canada':'North America', \n",
        "                  'Germany':'Europe', \n",
        "                  'India':'Asia',\n",
        "                  'France':'Europe', \n",
        "                  'South Korea':'Asia', \n",
        "                  'Italy':'Europe', \n",
        "                  'Spain':'Europe', \n",
        "                  'Iran':'Asia',\n",
        "                  'Australia':'Australia', \n",
        "                  'Brazil':'South America'}\n",
        "```\n",
        "\n",
        "*This function should return a DataFrame with index named Continent `['Asia', 'Australia', 'Europe', 'North America', 'South America']` and columns `['size', 'sum', 'mean', 'std']`*"
      ]
    },
    {
      "cell_type": "code",
      "metadata": {
        "umich_part_id": "019",
        "umich_partlist_id": "003",
        "id": "indCGfPkffSd",
        "colab_type": "code",
        "colab": {
          "base_uri": "https://localhost:8080/",
          "height": 260
        },
        "outputId": "c983c51a-f15b-406d-d059-8bd5ba6bfc58"
      },
      "source": [
        "def answer_eleven():\n",
        "    ContinentDict  = {'Turkey':'Asia', \n",
        "                  'Norway':'North America', \n",
        "                  'Switzerland':'Asia', \n",
        "                  'Ukraine':'Europe', \n",
        "                  'Russian Federation':'Europe', \n",
        "                  'Canada':'North America', \n",
        "                  'Germany':'Europe', \n",
        "                  'India':'Asia',\n",
        "                  'Sweden':'Europe', \n",
        "                  'South Korea':'Asia', \n",
        "                  'Mexico':'Europe', \n",
        "                  'Malaysia':'Europe', \n",
        "                  'Iran':'Asia',\n",
        "                  'Australia':'Australia', \n",
        "                  'Brazil':'South America',\n",
        "                      'Poland':'South America'\n",
        "                   }\n",
        "    Top15 = answer_one()\n",
        "    Top15['size'] = None\n",
        "    Top15['Pop'] = Top15['Energy Supply(Petajoules)']/Top15['Energy Supply per Capita(Gigajoules)']\n",
        "    Top15['Continent'] = None\n",
        "    for i in range(len(Top15)):\n",
        "\n",
        "        Top15.iloc[i,21] = 1\n",
        "        Top15.iloc[i,23]= ContinentDict[Top15.index[i]]\n",
        "        \n",
        "    ans = Top15.set_index('Continent').groupby(level=0)['Pop'].agg({'size': np.size, 'sum': np.sum, 'mean': np.mean,'std': np.std})\n",
        "    ans = ans[['size','sum','mean','std']]\n",
        "    return ans\n",
        "answer_eleven()"
      ],
      "execution_count": 347,
      "outputs": [
        {
          "output_type": "stream",
          "text": [
            "/usr/local/lib/python3.6/dist-packages/ipykernel_launcher.py:28: FutureWarning: using a dict on a Series for aggregation\n",
            "is deprecated and will be removed in a future version\n"
          ],
          "name": "stderr"
        },
        {
          "output_type": "execute_result",
          "data": {
            "text/html": [
              "<div>\n",
              "<style scoped>\n",
              "    .dataframe tbody tr th:only-of-type {\n",
              "        vertical-align: middle;\n",
              "    }\n",
              "\n",
              "    .dataframe tbody tr th {\n",
              "        vertical-align: top;\n",
              "    }\n",
              "\n",
              "    .dataframe thead th {\n",
              "        text-align: right;\n",
              "    }\n",
              "</style>\n",
              "<table border=\"1\" class=\"dataframe\">\n",
              "  <thead>\n",
              "    <tr style=\"text-align: right;\">\n",
              "      <th></th>\n",
              "      <th>size</th>\n",
              "      <th>sum</th>\n",
              "      <th>mean</th>\n",
              "      <th>std</th>\n",
              "    </tr>\n",
              "    <tr>\n",
              "      <th>Continent</th>\n",
              "      <th></th>\n",
              "      <th></th>\n",
              "      <th></th>\n",
              "      <th></th>\n",
              "    </tr>\n",
              "  </thead>\n",
              "  <tbody>\n",
              "    <tr>\n",
              "      <th>Asia</th>\n",
              "      <td>4.0</td>\n",
              "      <td>1411.235648</td>\n",
              "      <td>352.808912</td>\n",
              "      <td>616.589312</td>\n",
              "    </tr>\n",
              "    <tr>\n",
              "      <th>Australia</th>\n",
              "      <td>1.0</td>\n",
              "      <td>23.316017</td>\n",
              "      <td>23.316017</td>\n",
              "      <td>NaN</td>\n",
              "    </tr>\n",
              "    <tr>\n",
              "      <th>Europe</th>\n",
              "      <td>6.0</td>\n",
              "      <td>432.364131</td>\n",
              "      <td>72.060688</td>\n",
              "      <td>53.501832</td>\n",
              "    </tr>\n",
              "    <tr>\n",
              "      <th>North America</th>\n",
              "      <td>2.0</td>\n",
              "      <td>40.324114</td>\n",
              "      <td>20.162057</td>\n",
              "      <td>21.323240</td>\n",
              "    </tr>\n",
              "    <tr>\n",
              "      <th>South America</th>\n",
              "      <td>2.0</td>\n",
              "      <td>244.429273</td>\n",
              "      <td>122.214636</td>\n",
              "      <td>118.370549</td>\n",
              "    </tr>\n",
              "  </tbody>\n",
              "</table>\n",
              "</div>"
            ],
            "text/plain": [
              "               size          sum        mean         std\n",
              "Continent                                               \n",
              "Asia            4.0  1411.235648  352.808912  616.589312\n",
              "Australia       1.0    23.316017   23.316017         NaN\n",
              "Europe          6.0   432.364131   72.060688   53.501832\n",
              "North America   2.0    40.324114   20.162057   21.323240\n",
              "South America   2.0   244.429273  122.214636  118.370549"
            ]
          },
          "metadata": {
            "tags": []
          },
          "execution_count": 347
        }
      ]
    },
    {
      "cell_type": "markdown",
      "metadata": {
        "id": "cEdNkzHYffSh",
        "colab_type": "text"
      },
      "source": [
        "### Question 12 (6.6%)\n",
        "Cut % Renewable into 5 bins. Group Top15 by the Continent, as well as these new % Renewable bins. How many countries are in each of these groups?\n",
        "\n",
        "*This function should return a __Series__ with a MultiIndex of `Continent`, then the bins for `% Renewable`. Do not include groups with no countries.*"
      ]
    },
    {
      "cell_type": "code",
      "metadata": {
        "scrolled": true,
        "id": "nSPyXK-yffSi",
        "colab_type": "code",
        "colab": {
          "base_uri": "https://localhost:8080/",
          "height": 217
        },
        "outputId": "78dcaf2a-251e-4892-a6c6-1f2de35df5c8"
      },
      "source": [
        "def answer_twelve():\n",
        "    Top15=answer_one()\n",
        "    ContinentDict={'Turkey':'Asia', \n",
        "                  'Norway':'North America', \n",
        "                  'Switzerland':'Asia', \n",
        "                  'Ukraine':'Europe', \n",
        "                  'Russian Federation':'Europe', \n",
        "                  'Canada':'North America', \n",
        "                  'Germany':'Europe', \n",
        "                  'India':'Asia',\n",
        "                  'Sweden':'Europe', \n",
        "                  'South Korea':'Asia', \n",
        "                  'Mexico':'Europe', \n",
        "                  'Malaysia':'Europe', \n",
        "                  'Iran':'Asia',\n",
        "                  'Australia':'Australia', \n",
        "                  'Brazil':'South America',\n",
        "                   'Poland':'South America'\n",
        "                    }\n",
        "    \n",
        "    \n",
        "    Top15['Continent'] = None\n",
        "    for i in range(len(Top15)):\n",
        "        Top15.iloc[i,21]= ContinentDict[Top15.index[i]]\n",
        "    Top15['bins'] = pd.cut(Top15['% Renewable'],5)\n",
        "    return Top15.groupby(['Continent','bins']).size()\n",
        "answer_twelve()"
      ],
      "execution_count": 358,
      "outputs": [
        {
          "output_type": "execute_result",
          "data": {
            "text/plain": [
              "Continent      bins            \n",
              "Asia           (2.184, 21.351]     2\n",
              "               (21.351, 40.422]    1\n",
              "               (40.422, 59.493]    1\n",
              "Australia      (2.184, 21.351]     1\n",
              "Europe         (2.184, 21.351]     5\n",
              "               (40.422, 59.493]    1\n",
              "North America  (59.493, 78.564]    1\n",
              "               (78.564, 97.636]    1\n",
              "South America  (2.184, 21.351]     1\n",
              "               (59.493, 78.564]    1\n",
              "dtype: int64"
            ]
          },
          "metadata": {
            "tags": []
          },
          "execution_count": 358
        }
      ]
    },
    {
      "cell_type": "markdown",
      "metadata": {
        "id": "NYJnQUm7ffSl",
        "colab_type": "text"
      },
      "source": [
        "### Question 13 (6.6%)\n",
        "Convert the Population Estimate series to a string with thousands separator (using commas). Do not round the results.\n",
        "\n",
        "e.g. 317615384.61538464 -> 317,615,384.61538464\n",
        "\n",
        "*This function should return a Series `PopEst` whose index is the country name and whose values are the population estimate string.*"
      ]
    },
    {
      "cell_type": "code",
      "metadata": {
        "scrolled": true,
        "umich_part_id": "020",
        "umich_partlist_id": "003",
        "id": "klMaUAkiffSm",
        "colab_type": "code",
        "colab": {
          "base_uri": "https://localhost:8080/",
          "height": 301
        },
        "outputId": "e5cd0aee-5a45-4018-b187-f4513da32e34"
      },
      "source": [
        "def answer_thirteen():\n",
        "    Top15 = answer_one()\n",
        "    Top15['Pop'] = (Top15['Energy Supply(Petajoules)']/Top15['Energy Supply per Capita(Gigajoules)']).astype(float)\n",
        "    return Top15['Pop']\n",
        "answer_thirteen()"
      ],
      "execution_count": 359,
      "outputs": [
        {
          "output_type": "execute_result",
          "data": {
            "text/plain": [
              "Country\n",
              "India                 1276.730769\n",
              "Germany                 80.369697\n",
              "Russian Federation     143.500000\n",
              "Canada                  35.239865\n",
              "South Korea             49.805430\n",
              "Brazil                 205.915254\n",
              "Australia               23.316017\n",
              "Turkey                  76.515625\n",
              "Norway                   5.084249\n",
              "Malaysia                29.456897\n",
              "Sweden                   9.641509\n",
              "Switzerland              8.183824\n",
              "Poland                  38.514019\n",
              "Mexico                 124.125000\n",
              "Ukraine                 45.271028\n",
              "Name: Pop, dtype: float64"
            ]
          },
          "metadata": {
            "tags": []
          },
          "execution_count": 359
        }
      ]
    },
    {
      "cell_type": "markdown",
      "metadata": {
        "id": "xa1wwzvRffSn",
        "colab_type": "text"
      },
      "source": [
        "### Optional\n",
        "\n",
        "Use the built in function `plot_optional()` to see an example visualization."
      ]
    },
    {
      "cell_type": "code",
      "metadata": {
        "scrolled": true,
        "id": "Rx9tOlwEffSo",
        "colab_type": "code",
        "colab": {}
      },
      "source": [
        "def plot_optional():\n",
        "    import matplotlib as plt\n",
        "    %matplotlib inline\n",
        "    Top15 = answer_one()\n",
        "    ax = Top15.plot(x='Rank', y='% Renewable', kind='scatter', \n",
        "                    c=['#e41a1c','#377eb8','#e41a1c','#4daf4a','#4daf4a','#377eb8','#4daf4a','#e41a1c',\n",
        "                       '#4daf4a','#e41a1c','#4daf4a','#4daf4a','#e41a1c','#dede00','#ff7f00'], \n",
        "                    xticks=range(1,16), s=6*Top15['2014']/10**10, alpha=.75, figsize=[16,6]);\n",
        "\n",
        "    for i, txt in enumerate(Top15.index):\n",
        "        ax.annotate(txt, [Top15['Rank'][i], Top15['% Renewable'][i]], ha='center')\n",
        "\n",
        "    print(\"This is an example of a visualization that can be created to help understand the data. \\\n",
        "This is a bubble chart showing % Renewable vs. Rank. The size of the bubble corresponds to the countries' \\\n",
        "2014 GDP, and the color corresponds to the continent.\")"
      ],
      "execution_count": 0,
      "outputs": []
    },
    {
      "cell_type": "code",
      "metadata": {
        "id": "9wqddOn5ffSq",
        "colab_type": "code",
        "colab": {
          "base_uri": "https://localhost:8080/",
          "height": 429
        },
        "outputId": "e70b4c1f-4c90-4fce-b089-7aa68c6ea2b1"
      },
      "source": [
        "plot_optional() # Be sure to comment out plot_optional() before submitting the assignment!"
      ],
      "execution_count": 361,
      "outputs": [
        {
          "output_type": "stream",
          "text": [
            "This is an example of a visualization that can be created to help understand the data. This is a bubble chart showing % Renewable vs. Rank. The size of the bubble corresponds to the countries' 2014 GDP, and the color corresponds to the continent.\n"
          ],
          "name": "stdout"
        },
        {
          "output_type": "display_data",
          "data": {
            "image/png": "[encoded data removed]",
            "text/plain": [
              "<Figure size 1152x432 with 1 Axes>"
            ]
          },
          "metadata": {
            "tags": []
          }
        }
      ]
    }
  ]
}