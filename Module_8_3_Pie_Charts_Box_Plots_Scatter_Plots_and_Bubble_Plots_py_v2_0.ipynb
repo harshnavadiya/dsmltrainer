{
  "nbformat": 4,
  "nbformat_minor": 0,
  "metadata": {
    "colab": {
      "name": "Module 8.3 -Pie-Charts-Box-Plots-Scatter-Plots-and-Bubble-Plots-py-v2.0.ipynb",
      "version": "0.3.2",
      "provenance": [],
      "collapsed_sections": [
        "5jRpjZzCqF4q",
        "6P5BQbh2qF4u",
        "yRqKiJsWqF46",
        "ROLM_7maqF5h",
        "yM9uoKJ5qF5z",
        "Xg4wGi0dqF6C"
      ],
      "include_colab_link": true
    },
    "language_info": {
      "codemirror_mode": {
        "name": "ipython",
        "version": 3
      },
      "file_extension": ".py",
      "mimetype": "text/x-python",
      "name": "python",
      "nbconvert_exporter": "python",
      "pygments_lexer": "ipython3",
      "version": "3.6.8"
    },
    "kernelspec": {
      "display_name": "Python 3",
      "language": "python",
      "name": "python3"
    }
  },
  "cells": [
    {
      "cell_type": "markdown",
      "metadata": {
        "id": "view-in-github",
        "colab_type": "text"
      },
      "source": [
        "<a href=\"https://colab.research.google.com/github/harshnavadiya/dsmltrainer/blob/master/Module_8_3_Pie_Charts_Box_Plots_Scatter_Plots_and_Bubble_Plots_py_v2_0.ipynb\" target=\"_parent\"><img src=\"https://colab.research.google.com/assets/colab-badge.svg\" alt=\"Open In Colab\"/></a>"
      ]
    },
    {
      "cell_type": "markdown",
      "metadata": {
        "button": false,
        "deletable": true,
        "editable": true,
        "new_sheet": false,
        "run_control": {
          "read_only": false
        },
        "id": "afLWeeCxqF4a",
        "colab_type": "text"
      },
      "source": [
        "<h1 align=center><font size = 5>Pie Charts, Box Plots, Scatter Plots, and Bubble Plots</font></h1>"
      ]
    },
    {
      "cell_type": "markdown",
      "metadata": {
        "button": false,
        "deletable": true,
        "editable": true,
        "new_sheet": false,
        "run_control": {
          "read_only": false
        },
        "id": "7d1hNxtnqF4b",
        "colab_type": "text"
      },
      "source": [
        "## Introduction\n",
        "\n",
        "In this lab session, we continue exploring the Matplotlib library. More specificatlly, we will learn how to create pie charts, box plots, scatter plots, and bubble charts."
      ]
    },
    {
      "cell_type": "markdown",
      "metadata": {
        "button": false,
        "deletable": true,
        "editable": true,
        "new_sheet": false,
        "run_control": {
          "read_only": false
        },
        "id": "XaQPCrX_qF4c",
        "colab_type": "text"
      },
      "source": [
        "## Table of Contents\n",
        "\n",
        "<div class=\"alert alert-block alert-info\" style=\"margin-top: 20px\">\n",
        "\n",
        "1. [Exploring Datasets with *p*andas](#0)<br>\n",
        "2. [Downloading and Prepping Data](#2)<br>\n",
        "3. [Visualizing Data using Matplotlib](#4) <br>\n",
        "4. [Pie Charts](#6) <br>\n",
        "5. [Box Plots](#8) <br>\n",
        "6. [Scatter Plots](#10) <br>\n",
        "7. [Bubble Plots](#12) <br> \n",
        "</div>\n",
        "<hr>"
      ]
    },
    {
      "cell_type": "markdown",
      "metadata": {
        "button": false,
        "deletable": true,
        "editable": true,
        "new_sheet": false,
        "run_control": {
          "read_only": false
        },
        "id": "uHtttbZKqF4d",
        "colab_type": "text"
      },
      "source": [
        "# Exploring Datasets with *pandas* and Matplotlib<a id=\"0\"></a>\n",
        "\n",
        "Toolkits: The course heavily relies on [*pandas*](http://pandas.pydata.org/) and [**Numpy**](http://www.numpy.org/) for data wrangling, analysis, and visualization. The primary plotting library we will explore in the course is [Matplotlib](http://matplotlib.org/).\n",
        "\n",
        "Dataset: Immigration to Canada from 1980 to 2013 - [International migration flows to and from selected countries - The 2015 revision](http://www.un.org/en/development/desa/population/migration/data/empirical2/migrationflows.shtml) from United Nation's website.\n",
        "\n",
        "The dataset contains annual data on the flows of international migrants as recorded by the countries of destination. The data presents both inflows and outflows according to the place of birth, citizenship or place of previous / next residence both for foreigners and nationals. In this lab, we will focus on the Canadian Immigration data."
      ]
    },
    {
      "cell_type": "markdown",
      "metadata": {
        "button": false,
        "deletable": true,
        "editable": true,
        "new_sheet": false,
        "run_control": {
          "read_only": false
        },
        "id": "aUzVu00PqF4d",
        "colab_type": "text"
      },
      "source": [
        "# Downloading and Prepping Data <a id=\"2\"></a>"
      ]
    },
    {
      "cell_type": "markdown",
      "metadata": {
        "button": false,
        "deletable": true,
        "editable": true,
        "new_sheet": false,
        "run_control": {
          "read_only": false
        },
        "id": "GcjocH7PqF4e",
        "colab_type": "text"
      },
      "source": [
        "Import primary modules."
      ]
    },
    {
      "cell_type": "code",
      "metadata": {
        "button": false,
        "deletable": true,
        "editable": true,
        "new_sheet": false,
        "run_control": {
          "read_only": false
        },
        "id": "R3qBGL5oqF4e",
        "colab_type": "code",
        "colab": {}
      },
      "source": [
        "import numpy as np  # useful for many scientific computing in Python\n",
        "import pandas as pd # primary data structure library"
      ],
      "execution_count": 0,
      "outputs": []
    },
    {
      "cell_type": "markdown",
      "metadata": {
        "button": false,
        "deletable": true,
        "editable": true,
        "new_sheet": false,
        "run_control": {
          "read_only": false
        },
        "id": "n8D_CCvfqF4h",
        "colab_type": "text"
      },
      "source": [
        "Let's download and import our primary Canadian Immigration dataset using *pandas* `read_excel()` method. Normally, before we can do that, we would need to download a module which *pandas* requires to read in excel files. This module is **xlrd**. For your convenience, we have pre-installed this module, so you would not have to worry about that. Otherwise, you would need to run the following line of code to install the **xlrd** module:\n",
        "```\n",
        "!conda install -c anaconda xlrd --yes\n",
        "```"
      ]
    },
    {
      "cell_type": "markdown",
      "metadata": {
        "button": false,
        "deletable": true,
        "editable": true,
        "new_sheet": false,
        "run_control": {
          "read_only": false
        },
        "id": "Wv2lEtxeqF4h",
        "colab_type": "text"
      },
      "source": [
        "Download the dataset and read it into a *pandas* dataframe."
      ]
    },
    {
      "cell_type": "code",
      "metadata": {
        "button": false,
        "deletable": true,
        "editable": true,
        "new_sheet": false,
        "run_control": {
          "read_only": false
        },
        "id": "n3Ys53VsqF4i",
        "colab_type": "code",
        "colab": {
          "base_uri": "https://localhost:8080/",
          "height": 67
        },
        "outputId": "a1ec276d-e3d2-4393-d428-a32dc390b4c0"
      },
      "source": [
        "df_can = pd.read_excel('Canada.xlsx',\n",
        "                       sheet_name='Canada by Citizenship',\n",
        "                       skiprows=range(20),\n",
        "                       skip_footer=2\n",
        "                      )\n",
        "\n",
        "print('Data downloaded and read into a dataframe!')"
      ],
      "execution_count": 3,
      "outputs": [
        {
          "output_type": "stream",
          "text": [
            "/usr/local/lib/python3.6/dist-packages/pandas/util/_decorators.py:188: FutureWarning: the 'skip_footer' keyword is deprecated, use 'skipfooter' instead\n",
            "  return func(*args, **kwargs)\n"
          ],
          "name": "stderr"
        },
        {
          "output_type": "stream",
          "text": [
            "Data downloaded and read into a dataframe!\n"
          ],
          "name": "stdout"
        }
      ]
    },
    {
      "cell_type": "markdown",
      "metadata": {
        "button": false,
        "deletable": true,
        "editable": true,
        "new_sheet": false,
        "run_control": {
          "read_only": false
        },
        "id": "oV22odpUqF4k",
        "colab_type": "text"
      },
      "source": [
        "Let's take a look at the first five items in our dataset."
      ]
    },
    {
      "cell_type": "code",
      "metadata": {
        "button": false,
        "deletable": true,
        "editable": true,
        "new_sheet": false,
        "run_control": {
          "read_only": false
        },
        "id": "n5n1fcvhqF4k",
        "colab_type": "code",
        "colab": {
          "base_uri": "https://localhost:8080/",
          "height": 300
        },
        "outputId": "6f63b0ce-b3f7-478d-9262-547dfd8cac74"
      },
      "source": [
        "df_can.head()"
      ],
      "execution_count": 4,
      "outputs": [
        {
          "output_type": "execute_result",
          "data": {
            "text/html": [
              "<div>\n",
              "<style scoped>\n",
              "    .dataframe tbody tr th:only-of-type {\n",
              "        vertical-align: middle;\n",
              "    }\n",
              "\n",
              "    .dataframe tbody tr th {\n",
              "        vertical-align: top;\n",
              "    }\n",
              "\n",
              "    .dataframe thead th {\n",
              "        text-align: right;\n",
              "    }\n",
              "</style>\n",
              "<table border=\"1\" class=\"dataframe\">\n",
              "  <thead>\n",
              "    <tr style=\"text-align: right;\">\n",
              "      <th></th>\n",
              "      <th>Type</th>\n",
              "      <th>Coverage</th>\n",
              "      <th>OdName</th>\n",
              "      <th>AREA</th>\n",
              "      <th>AreaName</th>\n",
              "      <th>REG</th>\n",
              "      <th>RegName</th>\n",
              "      <th>DEV</th>\n",
              "      <th>DevName</th>\n",
              "      <th>1980</th>\n",
              "      <th>1981</th>\n",
              "      <th>1982</th>\n",
              "      <th>1983</th>\n",
              "      <th>1984</th>\n",
              "      <th>1985</th>\n",
              "      <th>1986</th>\n",
              "      <th>1987</th>\n",
              "      <th>1988</th>\n",
              "      <th>1989</th>\n",
              "      <th>1990</th>\n",
              "      <th>1991</th>\n",
              "      <th>1992</th>\n",
              "      <th>1993</th>\n",
              "      <th>1994</th>\n",
              "      <th>1995</th>\n",
              "      <th>1996</th>\n",
              "      <th>1997</th>\n",
              "      <th>1998</th>\n",
              "      <th>1999</th>\n",
              "      <th>2000</th>\n",
              "      <th>2001</th>\n",
              "      <th>2002</th>\n",
              "      <th>2003</th>\n",
              "      <th>2004</th>\n",
              "      <th>2005</th>\n",
              "      <th>2006</th>\n",
              "      <th>2007</th>\n",
              "      <th>2008</th>\n",
              "      <th>2009</th>\n",
              "      <th>2010</th>\n",
              "      <th>2011</th>\n",
              "      <th>2012</th>\n",
              "      <th>2013</th>\n",
              "    </tr>\n",
              "  </thead>\n",
              "  <tbody>\n",
              "    <tr>\n",
              "      <th>0</th>\n",
              "      <td>Immigrants</td>\n",
              "      <td>Foreigners</td>\n",
              "      <td>Afghanistan</td>\n",
              "      <td>935</td>\n",
              "      <td>Asia</td>\n",
              "      <td>5501</td>\n",
              "      <td>Southern Asia</td>\n",
              "      <td>902</td>\n",
              "      <td>Developing regions</td>\n",
              "      <td>16</td>\n",
              "      <td>39</td>\n",
              "      <td>39</td>\n",
              "      <td>47</td>\n",
              "      <td>71</td>\n",
              "      <td>340</td>\n",
              "      <td>496</td>\n",
              "      <td>741</td>\n",
              "      <td>828</td>\n",
              "      <td>1076</td>\n",
              "      <td>1028</td>\n",
              "      <td>1378</td>\n",
              "      <td>1170</td>\n",
              "      <td>713</td>\n",
              "      <td>858</td>\n",
              "      <td>1537</td>\n",
              "      <td>2212</td>\n",
              "      <td>2555</td>\n",
              "      <td>1999</td>\n",
              "      <td>2395</td>\n",
              "      <td>3326</td>\n",
              "      <td>4067</td>\n",
              "      <td>3697</td>\n",
              "      <td>3479</td>\n",
              "      <td>2978</td>\n",
              "      <td>3436</td>\n",
              "      <td>3009</td>\n",
              "      <td>2652</td>\n",
              "      <td>2111</td>\n",
              "      <td>1746</td>\n",
              "      <td>1758</td>\n",
              "      <td>2203</td>\n",
              "      <td>2635</td>\n",
              "      <td>2004</td>\n",
              "    </tr>\n",
              "    <tr>\n",
              "      <th>1</th>\n",
              "      <td>Immigrants</td>\n",
              "      <td>Foreigners</td>\n",
              "      <td>Albania</td>\n",
              "      <td>908</td>\n",
              "      <td>Europe</td>\n",
              "      <td>925</td>\n",
              "      <td>Southern Europe</td>\n",
              "      <td>901</td>\n",
              "      <td>Developed regions</td>\n",
              "      <td>1</td>\n",
              "      <td>0</td>\n",
              "      <td>0</td>\n",
              "      <td>0</td>\n",
              "      <td>0</td>\n",
              "      <td>0</td>\n",
              "      <td>1</td>\n",
              "      <td>2</td>\n",
              "      <td>2</td>\n",
              "      <td>3</td>\n",
              "      <td>3</td>\n",
              "      <td>21</td>\n",
              "      <td>56</td>\n",
              "      <td>96</td>\n",
              "      <td>71</td>\n",
              "      <td>63</td>\n",
              "      <td>113</td>\n",
              "      <td>307</td>\n",
              "      <td>574</td>\n",
              "      <td>1264</td>\n",
              "      <td>1816</td>\n",
              "      <td>1602</td>\n",
              "      <td>1021</td>\n",
              "      <td>853</td>\n",
              "      <td>1450</td>\n",
              "      <td>1223</td>\n",
              "      <td>856</td>\n",
              "      <td>702</td>\n",
              "      <td>560</td>\n",
              "      <td>716</td>\n",
              "      <td>561</td>\n",
              "      <td>539</td>\n",
              "      <td>620</td>\n",
              "      <td>603</td>\n",
              "    </tr>\n",
              "    <tr>\n",
              "      <th>2</th>\n",
              "      <td>Immigrants</td>\n",
              "      <td>Foreigners</td>\n",
              "      <td>Algeria</td>\n",
              "      <td>903</td>\n",
              "      <td>Africa</td>\n",
              "      <td>912</td>\n",
              "      <td>Northern Africa</td>\n",
              "      <td>902</td>\n",
              "      <td>Developing regions</td>\n",
              "      <td>80</td>\n",
              "      <td>67</td>\n",
              "      <td>71</td>\n",
              "      <td>69</td>\n",
              "      <td>63</td>\n",
              "      <td>44</td>\n",
              "      <td>69</td>\n",
              "      <td>132</td>\n",
              "      <td>242</td>\n",
              "      <td>434</td>\n",
              "      <td>491</td>\n",
              "      <td>872</td>\n",
              "      <td>795</td>\n",
              "      <td>717</td>\n",
              "      <td>595</td>\n",
              "      <td>1106</td>\n",
              "      <td>2054</td>\n",
              "      <td>1842</td>\n",
              "      <td>2292</td>\n",
              "      <td>2389</td>\n",
              "      <td>2867</td>\n",
              "      <td>3418</td>\n",
              "      <td>3406</td>\n",
              "      <td>3072</td>\n",
              "      <td>3616</td>\n",
              "      <td>3626</td>\n",
              "      <td>4807</td>\n",
              "      <td>3623</td>\n",
              "      <td>4005</td>\n",
              "      <td>5393</td>\n",
              "      <td>4752</td>\n",
              "      <td>4325</td>\n",
              "      <td>3774</td>\n",
              "      <td>4331</td>\n",
              "    </tr>\n",
              "    <tr>\n",
              "      <th>3</th>\n",
              "      <td>Immigrants</td>\n",
              "      <td>Foreigners</td>\n",
              "      <td>American Samoa</td>\n",
              "      <td>909</td>\n",
              "      <td>Oceania</td>\n",
              "      <td>957</td>\n",
              "      <td>Polynesia</td>\n",
              "      <td>902</td>\n",
              "      <td>Developing regions</td>\n",
              "      <td>0</td>\n",
              "      <td>1</td>\n",
              "      <td>0</td>\n",
              "      <td>0</td>\n",
              "      <td>0</td>\n",
              "      <td>0</td>\n",
              "      <td>0</td>\n",
              "      <td>1</td>\n",
              "      <td>0</td>\n",
              "      <td>1</td>\n",
              "      <td>2</td>\n",
              "      <td>0</td>\n",
              "      <td>0</td>\n",
              "      <td>0</td>\n",
              "      <td>0</td>\n",
              "      <td>0</td>\n",
              "      <td>0</td>\n",
              "      <td>0</td>\n",
              "      <td>0</td>\n",
              "      <td>0</td>\n",
              "      <td>0</td>\n",
              "      <td>0</td>\n",
              "      <td>0</td>\n",
              "      <td>0</td>\n",
              "      <td>0</td>\n",
              "      <td>0</td>\n",
              "      <td>1</td>\n",
              "      <td>0</td>\n",
              "      <td>0</td>\n",
              "      <td>0</td>\n",
              "      <td>0</td>\n",
              "      <td>0</td>\n",
              "      <td>0</td>\n",
              "      <td>0</td>\n",
              "    </tr>\n",
              "    <tr>\n",
              "      <th>4</th>\n",
              "      <td>Immigrants</td>\n",
              "      <td>Foreigners</td>\n",
              "      <td>Andorra</td>\n",
              "      <td>908</td>\n",
              "      <td>Europe</td>\n",
              "      <td>925</td>\n",
              "      <td>Southern Europe</td>\n",
              "      <td>901</td>\n",
              "      <td>Developed regions</td>\n",
              "      <td>0</td>\n",
              "      <td>0</td>\n",
              "      <td>0</td>\n",
              "      <td>0</td>\n",
              "      <td>0</td>\n",
              "      <td>0</td>\n",
              "      <td>2</td>\n",
              "      <td>0</td>\n",
              "      <td>0</td>\n",
              "      <td>0</td>\n",
              "      <td>3</td>\n",
              "      <td>0</td>\n",
              "      <td>1</td>\n",
              "      <td>0</td>\n",
              "      <td>0</td>\n",
              "      <td>0</td>\n",
              "      <td>0</td>\n",
              "      <td>0</td>\n",
              "      <td>2</td>\n",
              "      <td>0</td>\n",
              "      <td>0</td>\n",
              "      <td>1</td>\n",
              "      <td>0</td>\n",
              "      <td>2</td>\n",
              "      <td>0</td>\n",
              "      <td>0</td>\n",
              "      <td>1</td>\n",
              "      <td>1</td>\n",
              "      <td>0</td>\n",
              "      <td>0</td>\n",
              "      <td>0</td>\n",
              "      <td>0</td>\n",
              "      <td>1</td>\n",
              "      <td>1</td>\n",
              "    </tr>\n",
              "  </tbody>\n",
              "</table>\n",
              "</div>"
            ],
            "text/plain": [
              "         Type    Coverage          OdName  AREA  ...  2010  2011  2012  2013\n",
              "0  Immigrants  Foreigners     Afghanistan   935  ...  1758  2203  2635  2004\n",
              "1  Immigrants  Foreigners         Albania   908  ...   561   539   620   603\n",
              "2  Immigrants  Foreigners         Algeria   903  ...  4752  4325  3774  4331\n",
              "3  Immigrants  Foreigners  American Samoa   909  ...     0     0     0     0\n",
              "4  Immigrants  Foreigners         Andorra   908  ...     0     0     1     1\n",
              "\n",
              "[5 rows x 43 columns]"
            ]
          },
          "metadata": {
            "tags": []
          },
          "execution_count": 4
        }
      ]
    },
    {
      "cell_type": "markdown",
      "metadata": {
        "button": false,
        "deletable": true,
        "editable": true,
        "new_sheet": false,
        "run_control": {
          "read_only": false
        },
        "id": "MLJdey5EqF4m",
        "colab_type": "text"
      },
      "source": [
        "Let's find out how many entries there are in our dataset."
      ]
    },
    {
      "cell_type": "code",
      "metadata": {
        "button": false,
        "deletable": true,
        "editable": true,
        "new_sheet": false,
        "run_control": {
          "read_only": false
        },
        "id": "52PuvEoqqF4m",
        "colab_type": "code",
        "colab": {
          "base_uri": "https://localhost:8080/",
          "height": 33
        },
        "outputId": "8507e5a5-ac10-4bf4-8aaa-ebea39d9f459"
      },
      "source": [
        "# print the dimensions of the dataframe\n",
        "print(df_can.shape)"
      ],
      "execution_count": 5,
      "outputs": [
        {
          "output_type": "stream",
          "text": [
            "(195, 43)\n"
          ],
          "name": "stdout"
        }
      ]
    },
    {
      "cell_type": "markdown",
      "metadata": {
        "button": false,
        "deletable": true,
        "editable": true,
        "new_sheet": false,
        "run_control": {
          "read_only": false
        },
        "id": "xkF6JeyvqF4o",
        "colab_type": "text"
      },
      "source": [
        "Clean up data. We will make some modifications to the original dataset to make it easier to create our visualizations. Refer to *Introduction to Matplotlib and Line Plots* and *Area Plots, Histograms, and Bar Plots* for a detailed description of this preprocessing."
      ]
    },
    {
      "cell_type": "code",
      "metadata": {
        "button": false,
        "deletable": true,
        "editable": true,
        "new_sheet": false,
        "run_control": {
          "read_only": false
        },
        "id": "w8yAD0SiqF4p",
        "colab_type": "code",
        "colab": {
          "base_uri": "https://localhost:8080/",
          "height": 33
        },
        "outputId": "525c33ce-44e3-4736-c218-227fb5f949d3"
      },
      "source": [
        "# clean up the dataset to remove unnecessary columns (eg. REG) \n",
        "df_can.drop(['AREA', 'REG', 'DEV', 'Type', 'Coverage'], axis=1, inplace=True)\n",
        "\n",
        "# let's rename the columns so that they make sense\n",
        "df_can.rename(columns={'OdName':'Country', 'AreaName':'Continent','RegName':'Region'}, inplace=True)\n",
        "\n",
        "# for sake of consistency, let's also make all column labels of type string\n",
        "df_can.columns = list(map(str, df_can.columns))\n",
        "\n",
        "# set the country name as index - useful for quickly looking up countries using .loc method\n",
        "df_can.set_index('Country', inplace=True)\n",
        "\n",
        "# add total column\n",
        "df_can['Total'] = df_can.sum(axis=1)\n",
        "\n",
        "# years that we will be using in this lesson - useful for plotting later on\n",
        "years = list(map(str, range(1980, 2014)))\n",
        "print('data dimensions:', df_can.shape)"
      ],
      "execution_count": 6,
      "outputs": [
        {
          "output_type": "stream",
          "text": [
            "data dimensions: (195, 38)\n"
          ],
          "name": "stdout"
        }
      ]
    },
    {
      "cell_type": "markdown",
      "metadata": {
        "button": false,
        "deletable": true,
        "editable": true,
        "new_sheet": false,
        "run_control": {
          "read_only": false
        },
        "id": "5jRpjZzCqF4q",
        "colab_type": "text"
      },
      "source": [
        "# Visualizing Data using Matplotlib<a id=\"4\"></a>"
      ]
    },
    {
      "cell_type": "markdown",
      "metadata": {
        "button": false,
        "deletable": true,
        "editable": true,
        "new_sheet": false,
        "run_control": {
          "read_only": false
        },
        "id": "w4fl8OzEqF4r",
        "colab_type": "text"
      },
      "source": [
        "Import `Matplotlib`."
      ]
    },
    {
      "cell_type": "code",
      "metadata": {
        "button": false,
        "deletable": true,
        "editable": true,
        "new_sheet": false,
        "run_control": {
          "read_only": false
        },
        "id": "XWwot20WqF4s",
        "colab_type": "code",
        "colab": {
          "base_uri": "https://localhost:8080/",
          "height": 33
        },
        "outputId": "412a102b-09d1-428d-f526-59f5c2dd8399"
      },
      "source": [
        "%matplotlib inline\n",
        "\n",
        "import matplotlib as mpl\n",
        "import matplotlib.pyplot as plt\n",
        "\n",
        "mpl.style.use('ggplot') # optional: for ggplot-like style\n",
        "\n",
        "# check for latest version of Matplotlib\n",
        "print('Matplotlib version: ', mpl.__version__) # >= 2.0.0"
      ],
      "execution_count": 7,
      "outputs": [
        {
          "output_type": "stream",
          "text": [
            "Matplotlib version:  3.0.3\n"
          ],
          "name": "stdout"
        }
      ]
    },
    {
      "cell_type": "markdown",
      "metadata": {
        "button": false,
        "deletable": true,
        "editable": true,
        "new_sheet": false,
        "run_control": {
          "read_only": false
        },
        "id": "6P5BQbh2qF4u",
        "colab_type": "text"
      },
      "source": [
        "# Pie Charts <a id=\"6\"></a>\n",
        "\n",
        "A `pie chart` is a circualr graphic that displays numeric proportions by dividing a circle (or pie) into proportional slices. You are most likely already familiar with pie charts as it is widely used in business and media. We can create pie charts in Matplotlib by passing in the `kind=pie` keyword.\n",
        "\n",
        "Let's use a pie chart to explore the proportion (percentage) of new immigrants grouped by continents for the entire time period from 1980 to 2013. "
      ]
    },
    {
      "cell_type": "markdown",
      "metadata": {
        "button": false,
        "deletable": true,
        "editable": true,
        "new_sheet": false,
        "run_control": {
          "read_only": false
        },
        "id": "oIB5-f1dqF4v",
        "colab_type": "text"
      },
      "source": [
        "Step 1: Gather data. \n",
        "\n",
        "We will use *pandas* `groupby` method to summarize the immigration data by `Continent`. The general process of `groupby` involves the following steps:\n",
        "\n",
        "1. **Split:** Splitting the data into groups based on some criteria.\n",
        "2. **Apply:** Applying a function to each group independently:\n",
        "       .sum()\n",
        "       .count()\n",
        "       .mean() \n",
        "       .std() \n",
        "       .aggregate()\n",
        "       .apply()\n",
        "       .etc..\n",
        "3. **Combine:** Combining the results into a data structure."
      ]
    },
    {
      "cell_type": "markdown",
      "metadata": {
        "id": "20lFqc10qF4w",
        "colab_type": "text"
      },
      "source": [
        "<img src=\"https://ibm.box.com/shared/static/tkfhxqkehfzpclco8f0eazhie33uxj9j.png\" height=400 align=\"center\">"
      ]
    },
    {
      "cell_type": "code",
      "metadata": {
        "button": false,
        "deletable": true,
        "editable": true,
        "new_sheet": false,
        "run_control": {
          "read_only": false
        },
        "scrolled": false,
        "id": "k7lfRWJvqF4w",
        "colab_type": "code",
        "colab": {
          "base_uri": "https://localhost:8080/",
          "height": 330
        },
        "outputId": "f41a3f6a-afc4-4cad-b18b-8d4495a8a1ea"
      },
      "source": [
        "# group countries by continents and apply sum() function \n",
        "df_continents = df_can.groupby('Continent', axis=0).sum()\n",
        "\n",
        "# note: the output of the groupby method is a `groupby' object. \n",
        "# we can not use it further until we apply a function (eg .sum())\n",
        "print(type(df_can.groupby('Continent', axis=0)))\n",
        "\n",
        "df_continents.head()"
      ],
      "execution_count": 8,
      "outputs": [
        {
          "output_type": "stream",
          "text": [
            "<class 'pandas.core.groupby.generic.DataFrameGroupBy'>\n"
          ],
          "name": "stdout"
        },
        {
          "output_type": "execute_result",
          "data": {
            "text/html": [
              "<div>\n",
              "<style scoped>\n",
              "    .dataframe tbody tr th:only-of-type {\n",
              "        vertical-align: middle;\n",
              "    }\n",
              "\n",
              "    .dataframe tbody tr th {\n",
              "        vertical-align: top;\n",
              "    }\n",
              "\n",
              "    .dataframe thead th {\n",
              "        text-align: right;\n",
              "    }\n",
              "</style>\n",
              "<table border=\"1\" class=\"dataframe\">\n",
              "  <thead>\n",
              "    <tr style=\"text-align: right;\">\n",
              "      <th></th>\n",
              "      <th>1980</th>\n",
              "      <th>1981</th>\n",
              "      <th>1982</th>\n",
              "      <th>1983</th>\n",
              "      <th>1984</th>\n",
              "      <th>1985</th>\n",
              "      <th>1986</th>\n",
              "      <th>1987</th>\n",
              "      <th>1988</th>\n",
              "      <th>1989</th>\n",
              "      <th>1990</th>\n",
              "      <th>1991</th>\n",
              "      <th>1992</th>\n",
              "      <th>1993</th>\n",
              "      <th>1994</th>\n",
              "      <th>1995</th>\n",
              "      <th>1996</th>\n",
              "      <th>1997</th>\n",
              "      <th>1998</th>\n",
              "      <th>1999</th>\n",
              "      <th>2000</th>\n",
              "      <th>2001</th>\n",
              "      <th>2002</th>\n",
              "      <th>2003</th>\n",
              "      <th>2004</th>\n",
              "      <th>2005</th>\n",
              "      <th>2006</th>\n",
              "      <th>2007</th>\n",
              "      <th>2008</th>\n",
              "      <th>2009</th>\n",
              "      <th>2010</th>\n",
              "      <th>2011</th>\n",
              "      <th>2012</th>\n",
              "      <th>2013</th>\n",
              "      <th>Total</th>\n",
              "    </tr>\n",
              "    <tr>\n",
              "      <th>Continent</th>\n",
              "      <th></th>\n",
              "      <th></th>\n",
              "      <th></th>\n",
              "      <th></th>\n",
              "      <th></th>\n",
              "      <th></th>\n",
              "      <th></th>\n",
              "      <th></th>\n",
              "      <th></th>\n",
              "      <th></th>\n",
              "      <th></th>\n",
              "      <th></th>\n",
              "      <th></th>\n",
              "      <th></th>\n",
              "      <th></th>\n",
              "      <th></th>\n",
              "      <th></th>\n",
              "      <th></th>\n",
              "      <th></th>\n",
              "      <th></th>\n",
              "      <th></th>\n",
              "      <th></th>\n",
              "      <th></th>\n",
              "      <th></th>\n",
              "      <th></th>\n",
              "      <th></th>\n",
              "      <th></th>\n",
              "      <th></th>\n",
              "      <th></th>\n",
              "      <th></th>\n",
              "      <th></th>\n",
              "      <th></th>\n",
              "      <th></th>\n",
              "      <th></th>\n",
              "      <th></th>\n",
              "    </tr>\n",
              "  </thead>\n",
              "  <tbody>\n",
              "    <tr>\n",
              "      <th>Africa</th>\n",
              "      <td>3951</td>\n",
              "      <td>4363</td>\n",
              "      <td>3819</td>\n",
              "      <td>2671</td>\n",
              "      <td>2639</td>\n",
              "      <td>2650</td>\n",
              "      <td>3782</td>\n",
              "      <td>7494</td>\n",
              "      <td>7552</td>\n",
              "      <td>9894</td>\n",
              "      <td>11012</td>\n",
              "      <td>14228</td>\n",
              "      <td>19242</td>\n",
              "      <td>16531</td>\n",
              "      <td>13072</td>\n",
              "      <td>14806</td>\n",
              "      <td>15700</td>\n",
              "      <td>14471</td>\n",
              "      <td>13791</td>\n",
              "      <td>15996</td>\n",
              "      <td>20346</td>\n",
              "      <td>24292</td>\n",
              "      <td>22710</td>\n",
              "      <td>23366</td>\n",
              "      <td>28192</td>\n",
              "      <td>27523</td>\n",
              "      <td>29188</td>\n",
              "      <td>28284</td>\n",
              "      <td>29890</td>\n",
              "      <td>34534</td>\n",
              "      <td>40892</td>\n",
              "      <td>35441</td>\n",
              "      <td>38083</td>\n",
              "      <td>38543</td>\n",
              "      <td>618948</td>\n",
              "    </tr>\n",
              "    <tr>\n",
              "      <th>Asia</th>\n",
              "      <td>31025</td>\n",
              "      <td>34314</td>\n",
              "      <td>30214</td>\n",
              "      <td>24696</td>\n",
              "      <td>27274</td>\n",
              "      <td>23850</td>\n",
              "      <td>28739</td>\n",
              "      <td>43203</td>\n",
              "      <td>47454</td>\n",
              "      <td>60256</td>\n",
              "      <td>72829</td>\n",
              "      <td>89964</td>\n",
              "      <td>90752</td>\n",
              "      <td>98737</td>\n",
              "      <td>88852</td>\n",
              "      <td>90424</td>\n",
              "      <td>103030</td>\n",
              "      <td>106383</td>\n",
              "      <td>90929</td>\n",
              "      <td>106844</td>\n",
              "      <td>134544</td>\n",
              "      <td>148083</td>\n",
              "      <td>137653</td>\n",
              "      <td>131769</td>\n",
              "      <td>134850</td>\n",
              "      <td>159253</td>\n",
              "      <td>149054</td>\n",
              "      <td>133459</td>\n",
              "      <td>139894</td>\n",
              "      <td>141434</td>\n",
              "      <td>163845</td>\n",
              "      <td>146894</td>\n",
              "      <td>152218</td>\n",
              "      <td>155075</td>\n",
              "      <td>3317794</td>\n",
              "    </tr>\n",
              "    <tr>\n",
              "      <th>Europe</th>\n",
              "      <td>39760</td>\n",
              "      <td>44802</td>\n",
              "      <td>42720</td>\n",
              "      <td>24638</td>\n",
              "      <td>22287</td>\n",
              "      <td>20844</td>\n",
              "      <td>24370</td>\n",
              "      <td>46698</td>\n",
              "      <td>54726</td>\n",
              "      <td>60893</td>\n",
              "      <td>68301</td>\n",
              "      <td>57938</td>\n",
              "      <td>64123</td>\n",
              "      <td>62937</td>\n",
              "      <td>62531</td>\n",
              "      <td>55764</td>\n",
              "      <td>55642</td>\n",
              "      <td>48841</td>\n",
              "      <td>36719</td>\n",
              "      <td>35639</td>\n",
              "      <td>38215</td>\n",
              "      <td>42779</td>\n",
              "      <td>36798</td>\n",
              "      <td>34556</td>\n",
              "      <td>38082</td>\n",
              "      <td>35955</td>\n",
              "      <td>33053</td>\n",
              "      <td>33495</td>\n",
              "      <td>34692</td>\n",
              "      <td>35078</td>\n",
              "      <td>33425</td>\n",
              "      <td>26778</td>\n",
              "      <td>29177</td>\n",
              "      <td>28691</td>\n",
              "      <td>1410947</td>\n",
              "    </tr>\n",
              "    <tr>\n",
              "      <th>Latin America and the Caribbean</th>\n",
              "      <td>13081</td>\n",
              "      <td>15215</td>\n",
              "      <td>16769</td>\n",
              "      <td>15427</td>\n",
              "      <td>13678</td>\n",
              "      <td>15171</td>\n",
              "      <td>21179</td>\n",
              "      <td>28471</td>\n",
              "      <td>21924</td>\n",
              "      <td>25060</td>\n",
              "      <td>27942</td>\n",
              "      <td>36827</td>\n",
              "      <td>37853</td>\n",
              "      <td>33840</td>\n",
              "      <td>21341</td>\n",
              "      <td>20262</td>\n",
              "      <td>18645</td>\n",
              "      <td>17174</td>\n",
              "      <td>13830</td>\n",
              "      <td>15088</td>\n",
              "      <td>16898</td>\n",
              "      <td>20067</td>\n",
              "      <td>19317</td>\n",
              "      <td>20263</td>\n",
              "      <td>22181</td>\n",
              "      <td>24747</td>\n",
              "      <td>24676</td>\n",
              "      <td>26011</td>\n",
              "      <td>26547</td>\n",
              "      <td>26867</td>\n",
              "      <td>28818</td>\n",
              "      <td>27856</td>\n",
              "      <td>27173</td>\n",
              "      <td>24950</td>\n",
              "      <td>765148</td>\n",
              "    </tr>\n",
              "    <tr>\n",
              "      <th>Northern America</th>\n",
              "      <td>9378</td>\n",
              "      <td>10030</td>\n",
              "      <td>9074</td>\n",
              "      <td>7100</td>\n",
              "      <td>6661</td>\n",
              "      <td>6543</td>\n",
              "      <td>7074</td>\n",
              "      <td>7705</td>\n",
              "      <td>6469</td>\n",
              "      <td>6790</td>\n",
              "      <td>5895</td>\n",
              "      <td>6057</td>\n",
              "      <td>6846</td>\n",
              "      <td>7438</td>\n",
              "      <td>5902</td>\n",
              "      <td>4891</td>\n",
              "      <td>5516</td>\n",
              "      <td>4753</td>\n",
              "      <td>4437</td>\n",
              "      <td>5196</td>\n",
              "      <td>5433</td>\n",
              "      <td>5604</td>\n",
              "      <td>4948</td>\n",
              "      <td>5543</td>\n",
              "      <td>6990</td>\n",
              "      <td>8394</td>\n",
              "      <td>9613</td>\n",
              "      <td>9463</td>\n",
              "      <td>10190</td>\n",
              "      <td>8995</td>\n",
              "      <td>8142</td>\n",
              "      <td>7677</td>\n",
              "      <td>7892</td>\n",
              "      <td>8503</td>\n",
              "      <td>241142</td>\n",
              "    </tr>\n",
              "  </tbody>\n",
              "</table>\n",
              "</div>"
            ],
            "text/plain": [
              "                                  1980   1981   1982  ...    2012    2013    Total\n",
              "Continent                                             ...                         \n",
              "Africa                            3951   4363   3819  ...   38083   38543   618948\n",
              "Asia                             31025  34314  30214  ...  152218  155075  3317794\n",
              "Europe                           39760  44802  42720  ...   29177   28691  1410947\n",
              "Latin America and the Caribbean  13081  15215  16769  ...   27173   24950   765148\n",
              "Northern America                  9378  10030   9074  ...    7892    8503   241142\n",
              "\n",
              "[5 rows x 35 columns]"
            ]
          },
          "metadata": {
            "tags": []
          },
          "execution_count": 8
        }
      ]
    },
    {
      "cell_type": "markdown",
      "metadata": {
        "button": false,
        "deletable": true,
        "editable": true,
        "new_sheet": false,
        "run_control": {
          "read_only": false
        },
        "id": "XB3j4lomqF4y",
        "colab_type": "text"
      },
      "source": [
        "Step 2: Plot the data. We will pass in `kind = 'pie'` keyword, along with the following additional parameters:\n",
        "- `autopct` -  is a string or function used to label the wedges with their numeric value. The label will be placed inside the wedge. If it is a format string, the label will be `fmt%pct`.\n",
        "- `startangle` - rotates the start of the pie chart by angle degrees counterclockwise from the x-axis.\n",
        "- `shadow` - Draws a shadow beneath the pie (to give a 3D feel)."
      ]
    },
    {
      "cell_type": "code",
      "metadata": {
        "button": false,
        "deletable": true,
        "editable": true,
        "new_sheet": false,
        "run_control": {
          "read_only": false
        },
        "id": "SOeH-q07qF4y",
        "colab_type": "code",
        "colab": {
          "base_uri": "https://localhost:8080/",
          "height": 377
        },
        "outputId": "12a37967-e6bc-4eb2-d623-cc4e9f992bf5"
      },
      "source": [
        "# autopct create %, start angle represent starting point\n",
        "df_continents['Total'].plot(kind='pie',\n",
        "                            figsize=(5, 6),\n",
        "                            autopct='%1.1f%%', # add in percentages\n",
        "                            startangle=90,     # start angle 90° (Africa)\n",
        "                            shadow=True,       # add shadow      \n",
        "                            )\n",
        "\n",
        "plt.title('Immigration to Canada by Continent [1980 - 2013]')\n",
        "plt.axis('equal') # Sets the pie chart to look like a circle.\n",
        "\n",
        "plt.show()"
      ],
      "execution_count": 9,
      "outputs": [
        {
          "output_type": "display_data",
          "data": {
            "image/png": "[encoded data removed]",
            "text/plain": [
              "<Figure size 360x432 with 1 Axes>"
            ]
          },
          "metadata": {
            "tags": []
          }
        }
      ]
    },
    {
      "cell_type": "markdown",
      "metadata": {
        "button": false,
        "deletable": true,
        "editable": true,
        "new_sheet": false,
        "run_control": {
          "read_only": false
        },
        "id": "g4mjuUk7qF40",
        "colab_type": "text"
      },
      "source": [
        "The above visual is not very clear, the numbers and text overlap in some instances. Let's make a few modifications to improve the visuals:\n",
        "\n",
        "* Remove the text labels on the pie chart by passing in `legend` and add it as a seperate legend using `plt.legend()`.\n",
        "* Push out the percentages to sit just outside the pie chart by passing in `pctdistance` parameter.\n",
        "* Pass in a custom set of colors for continents by passing in `colors` parameter.\n",
        "* **Explode** the pie chart to emphasize the lowest three continents (Africa, North America, and Latin America and Carribbean) by pasing in `explode` parameter.\n"
      ]
    },
    {
      "cell_type": "code",
      "metadata": {
        "button": false,
        "deletable": true,
        "new_sheet": false,
        "run_control": {
          "read_only": false
        },
        "id": "agheGzteqF41",
        "colab_type": "code",
        "colab": {
          "base_uri": "https://localhost:8080/",
          "height": 417
        },
        "outputId": "738785e9-71c0-4245-843b-8fb664e626c9"
      },
      "source": [
        "colors_list = ['gold', 'yellowgreen', 'lightcoral', 'lightskyblue', 'lightgreen', 'pink']\n",
        "explode_list = [0.1, 0, 0, 0, 0.1, 0.1] # ratio for each continent with which to offset each wedge.\n",
        "\n",
        "df_continents['Total'].plot(kind='pie',\n",
        "                            figsize=(15, 6),\n",
        "                            autopct='%1.1f%%', \n",
        "                            startangle=90,    \n",
        "                            shadow=True,       \n",
        "                            labels=None,         # turn off labels on pie chart\n",
        "                            pctdistance=1.12,    # the ratio between the center of each pie slice and the start of the text generated by autopct \n",
        "                            colors=colors_list,  # add custom colors\n",
        "                            explode=explode_list # 'explode' lowest 3 continents\n",
        "                            )\n",
        "\n",
        "# scale the title up by 12% to match pctdistance\n",
        "plt.title('Immigration to Canada by Continent [1980 - 2013]', y=1.12) \n",
        "\n",
        "plt.axis('equal') \n",
        "\n",
        "# add legend\n",
        "plt.legend(labels=df_continents.index, loc='upper left') \n",
        "\n",
        "plt.show()"
      ],
      "execution_count": 10,
      "outputs": [
        {
          "output_type": "display_data",
          "data": {
            "image/png": "[encoded data removed]",
            "text/plain": [
              "<Figure size 1080x432 with 1 Axes>"
            ]
          },
          "metadata": {
            "tags": []
          }
        }
      ]
    },
    {
      "cell_type": "markdown",
      "metadata": {
        "button": false,
        "deletable": true,
        "new_sheet": false,
        "run_control": {
          "read_only": false
        },
        "id": "ycddS5idqF44",
        "colab_type": "text"
      },
      "source": [
        "**Question:** Using a pie chart, explore the proportion (percentage) of new immigrants grouped by continents in the year 2013.\n",
        "\n",
        "**Note**: You might need to play with the explore values in order to fix any overlapping slice values."
      ]
    },
    {
      "cell_type": "code",
      "metadata": {
        "button": false,
        "deletable": true,
        "new_sheet": false,
        "run_control": {
          "read_only": false
        },
        "id": "Hh3Wl_FZqF44",
        "colab_type": "code",
        "colab": {
          "base_uri": "https://localhost:8080/",
          "height": 417
        },
        "outputId": "bd91ce9d-4f23-49c4-8877-03649ac9b15d"
      },
      "source": [
        "### type your answer here\n",
        "\n",
        "colors_list = ['gold', 'yellowgreen', 'lightcoral', 'lightskyblue', 'lightgreen', 'pink']\n",
        "explode_list = [0.1, 0, 0, 0, 0.1, 0.1] # ratio for each continent with which to offset each wedge.\n",
        "\n",
        "df_continents['2013'].plot(kind='pie',\n",
        "                            figsize=(15, 6),\n",
        "                            autopct='%1.1f%%', \n",
        "                            startangle=90,    \n",
        "                            shadow=True,       \n",
        "                            labels=None,         # turn off labels on pie chart\n",
        "                            pctdistance=1.12,    # the ratio between the center of each pie slice and the start of the text generated by autopct \n",
        "                            colors=colors_list,  # add custom colors\n",
        "                            explode=explode_list # 'explode' lowest 3 continents\n",
        "                            )\n",
        "\n",
        "# scale the title up by 12% to match pctdistance\n",
        "plt.title('Immigration to Canada by Continent [2013]', y=1.12) \n",
        "\n",
        "plt.axis('equal') \n",
        "\n",
        "# add legend\n",
        "plt.legend(labels=df_continents.index, loc='upper left') \n",
        "\n",
        "plt.show()\n",
        "\n"
      ],
      "execution_count": 11,
      "outputs": [
        {
          "output_type": "display_data",
          "data": {
            "image/png": "[encoded data removed]",
            "text/plain": [
              "<Figure size 1080x432 with 1 Axes>"
            ]
          },
          "metadata": {
            "tags": []
          }
        }
      ]
    },
    {
      "cell_type": "markdown",
      "metadata": {
        "button": false,
        "deletable": true,
        "new_sheet": false,
        "run_control": {
          "read_only": false
        },
        "id": "sQTMsB9cqF46",
        "colab_type": "text"
      },
      "source": [
        "Double-click __here__ for the solution.\n",
        "<!-- The correct answer is:\n",
        "explode_list = [0.1, 0, 0, 0, 0.1, 0.2] # ratio for each continent with which to offset each wedge.\n",
        "-->\n",
        "\n",
        "<!--\n",
        "df_continents['2013'].plot(kind='pie',\n",
        "                            figsize=(15, 6),\n",
        "                            autopct='%1.1f%%', \n",
        "                            startangle=90,    \n",
        "                            shadow=True,       \n",
        "                            labels=None,                 # turn off labels on pie chart\n",
        "                            pctdistance=1.12,            # the ratio between the pie center and start of text label\n",
        "                            explode=explode_list         # 'explode' lowest 3 continents\n",
        "                            )\n",
        "-->\n",
        "\n",
        "<!--\n",
        "\\\\ # scale the title up by 12% to match pctdistance\n",
        "plt.title('Immigration to Canada by Continent in 2013', y=1.12) \n",
        "plt.axis('equal') \n",
        "-->\n",
        "\n",
        "<!--\n",
        "\\\\ # add legend\n",
        "plt.legend(labels=df_continents.index, loc='upper left') \n",
        "-->\n",
        "\n",
        "<!--\n",
        "\\\\ # show plot\n",
        "plt.show()\n",
        "-->"
      ]
    },
    {
      "cell_type": "markdown",
      "metadata": {
        "button": false,
        "deletable": true,
        "editable": true,
        "new_sheet": false,
        "run_control": {
          "read_only": false
        },
        "id": "yRqKiJsWqF46",
        "colab_type": "text"
      },
      "source": [
        "# Box Plots <a id=\"8\"></a>\n",
        "\n",
        "A `box plot` is a way of statistically representing the *distribution* of the data through five main dimensions: \n",
        "\n",
        "- **Minimun:** Smallest number in the dataset.\n",
        "- **First quartile:** Middle number between the `minimum` and the `median`.\n",
        "- **Second quartile (Median):** Middle number of the (sorted) dataset.\n",
        "- **Third quartile:** Middle number between `median` and `maximum`.\n",
        "- **Maximum:** Highest number in the dataset."
      ]
    },
    {
      "cell_type": "markdown",
      "metadata": {
        "button": false,
        "deletable": true,
        "editable": true,
        "new_sheet": false,
        "run_control": {
          "read_only": false
        },
        "id": "gOHAhsM0qF47",
        "colab_type": "text"
      },
      "source": [
        "<img src=\"https://ibm.box.com/shared/static/9nkxsfihu8mgt1go2kfasf61sywlu123.png\" width=440, align=\"center\">"
      ]
    },
    {
      "cell_type": "markdown",
      "metadata": {
        "button": false,
        "deletable": true,
        "editable": true,
        "new_sheet": false,
        "run_control": {
          "read_only": false
        },
        "id": "pfoVuleHqF47",
        "colab_type": "text"
      },
      "source": [
        "To make a `box plot`, we can use `kind=box` in `plot` method invoked on a *pandas* series or dataframe.\n",
        "\n",
        "Let's plot the box plot for the Japanese immigrants between 1980 - 2013."
      ]
    },
    {
      "cell_type": "markdown",
      "metadata": {
        "button": false,
        "deletable": true,
        "editable": true,
        "new_sheet": false,
        "run_control": {
          "read_only": false
        },
        "id": "oJI7vOYcqF48",
        "colab_type": "text"
      },
      "source": [
        "Step 1: Get the dataset. Even though we are extracting the data for just one country, we will obtain it as a dataframe. This will help us with calling the `dataframe.describe()` method to view the percentiles."
      ]
    },
    {
      "cell_type": "code",
      "metadata": {
        "button": false,
        "deletable": true,
        "editable": true,
        "new_sheet": false,
        "run_control": {
          "read_only": false
        },
        "id": "Jx8rpjf-qF48",
        "colab_type": "code",
        "colab": {
          "base_uri": "https://localhost:8080/",
          "height": 196
        },
        "outputId": "4e8883ef-4271-4969-831b-dba8ede910cf"
      },
      "source": [
        "# to get a dataframe, place extra square brackets around 'Japan'.\n",
        "df_japan = df_can.loc[['Japan'], years].transpose()\n",
        "df_japan.head()"
      ],
      "execution_count": 12,
      "outputs": [
        {
          "output_type": "execute_result",
          "data": {
            "text/html": [
              "<div>\n",
              "<style scoped>\n",
              "    .dataframe tbody tr th:only-of-type {\n",
              "        vertical-align: middle;\n",
              "    }\n",
              "\n",
              "    .dataframe tbody tr th {\n",
              "        vertical-align: top;\n",
              "    }\n",
              "\n",
              "    .dataframe thead th {\n",
              "        text-align: right;\n",
              "    }\n",
              "</style>\n",
              "<table border=\"1\" class=\"dataframe\">\n",
              "  <thead>\n",
              "    <tr style=\"text-align: right;\">\n",
              "      <th>Country</th>\n",
              "      <th>Japan</th>\n",
              "    </tr>\n",
              "  </thead>\n",
              "  <tbody>\n",
              "    <tr>\n",
              "      <th>1980</th>\n",
              "      <td>701</td>\n",
              "    </tr>\n",
              "    <tr>\n",
              "      <th>1981</th>\n",
              "      <td>756</td>\n",
              "    </tr>\n",
              "    <tr>\n",
              "      <th>1982</th>\n",
              "      <td>598</td>\n",
              "    </tr>\n",
              "    <tr>\n",
              "      <th>1983</th>\n",
              "      <td>309</td>\n",
              "    </tr>\n",
              "    <tr>\n",
              "      <th>1984</th>\n",
              "      <td>246</td>\n",
              "    </tr>\n",
              "  </tbody>\n",
              "</table>\n",
              "</div>"
            ],
            "text/plain": [
              "Country  Japan\n",
              "1980       701\n",
              "1981       756\n",
              "1982       598\n",
              "1983       309\n",
              "1984       246"
            ]
          },
          "metadata": {
            "tags": []
          },
          "execution_count": 12
        }
      ]
    },
    {
      "cell_type": "markdown",
      "metadata": {
        "button": false,
        "deletable": true,
        "editable": true,
        "new_sheet": false,
        "run_control": {
          "read_only": false
        },
        "id": "egkDUu2QqF4-",
        "colab_type": "text"
      },
      "source": [
        "Step 2: Plot by passing in `kind='box'`."
      ]
    },
    {
      "cell_type": "code",
      "metadata": {
        "button": false,
        "deletable": true,
        "editable": true,
        "new_sheet": false,
        "run_control": {
          "read_only": false
        },
        "id": "UPuAsK6kqF4_",
        "colab_type": "code",
        "colab": {
          "base_uri": "https://localhost:8080/",
          "height": 390
        },
        "outputId": "611cfa01-f2e0-4c83-d083-8a2870eb2d3f"
      },
      "source": [
        "df_japan.plot(kind='box', figsize=(8, 6))\n",
        "\n",
        "plt.title('Box plot of Japanese Immigrants from 1980 - 2013')\n",
        "plt.ylabel('Number of Immigrants')\n",
        "\n",
        "plt.show()"
      ],
      "execution_count": 13,
      "outputs": [
        {
          "output_type": "display_data",
          "data": {
            "image/png": "[encoded data removed]",
            "text/plain": [
              "<Figure size 576x432 with 1 Axes>"
            ]
          },
          "metadata": {
            "tags": []
          }
        }
      ]
    },
    {
      "cell_type": "markdown",
      "metadata": {
        "button": false,
        "deletable": true,
        "editable": true,
        "new_sheet": false,
        "run_control": {
          "read_only": false
        },
        "id": "r6qP5PLrqF5B",
        "colab_type": "text"
      },
      "source": [
        "We can immediately make a few key observations from the plot above:\n",
        "1. The minimum number of immigrants is around 200 (min), maximum number is around 1300 (max), and  median number of immigrants is around 900 (median).\n",
        "2. 25% of the years for period 1980 - 2013 had an annual immigrant count of ~500 or fewer (First quartile).\n",
        "2. 75% of the years for period 1980 - 2013 had an annual immigrant count of ~1100 or fewer (Third quartile).\n",
        "\n",
        "We can view the actual numbers by calling the `describe()` method on the dataframe."
      ]
    },
    {
      "cell_type": "code",
      "metadata": {
        "button": false,
        "deletable": true,
        "editable": true,
        "new_sheet": false,
        "run_control": {
          "read_only": false
        },
        "id": "JJd_Hms5qF5C",
        "colab_type": "code",
        "colab": {
          "base_uri": "https://localhost:8080/",
          "height": 286
        },
        "outputId": "e98b80c2-389b-4f8e-c70f-e6e481776c54"
      },
      "source": [
        "df_japan.describe()"
      ],
      "execution_count": 14,
      "outputs": [
        {
          "output_type": "execute_result",
          "data": {
            "text/html": [
              "<div>\n",
              "<style scoped>\n",
              "    .dataframe tbody tr th:only-of-type {\n",
              "        vertical-align: middle;\n",
              "    }\n",
              "\n",
              "    .dataframe tbody tr th {\n",
              "        vertical-align: top;\n",
              "    }\n",
              "\n",
              "    .dataframe thead th {\n",
              "        text-align: right;\n",
              "    }\n",
              "</style>\n",
              "<table border=\"1\" class=\"dataframe\">\n",
              "  <thead>\n",
              "    <tr style=\"text-align: right;\">\n",
              "      <th>Country</th>\n",
              "      <th>Japan</th>\n",
              "    </tr>\n",
              "  </thead>\n",
              "  <tbody>\n",
              "    <tr>\n",
              "      <th>count</th>\n",
              "      <td>34.000000</td>\n",
              "    </tr>\n",
              "    <tr>\n",
              "      <th>mean</th>\n",
              "      <td>814.911765</td>\n",
              "    </tr>\n",
              "    <tr>\n",
              "      <th>std</th>\n",
              "      <td>337.219771</td>\n",
              "    </tr>\n",
              "    <tr>\n",
              "      <th>min</th>\n",
              "      <td>198.000000</td>\n",
              "    </tr>\n",
              "    <tr>\n",
              "      <th>25%</th>\n",
              "      <td>529.000000</td>\n",
              "    </tr>\n",
              "    <tr>\n",
              "      <th>50%</th>\n",
              "      <td>902.000000</td>\n",
              "    </tr>\n",
              "    <tr>\n",
              "      <th>75%</th>\n",
              "      <td>1079.000000</td>\n",
              "    </tr>\n",
              "    <tr>\n",
              "      <th>max</th>\n",
              "      <td>1284.000000</td>\n",
              "    </tr>\n",
              "  </tbody>\n",
              "</table>\n",
              "</div>"
            ],
            "text/plain": [
              "Country        Japan\n",
              "count      34.000000\n",
              "mean      814.911765\n",
              "std       337.219771\n",
              "min       198.000000\n",
              "25%       529.000000\n",
              "50%       902.000000\n",
              "75%      1079.000000\n",
              "max      1284.000000"
            ]
          },
          "metadata": {
            "tags": []
          },
          "execution_count": 14
        }
      ]
    },
    {
      "cell_type": "markdown",
      "metadata": {
        "button": false,
        "deletable": true,
        "editable": true,
        "new_sheet": false,
        "run_control": {
          "read_only": false
        },
        "id": "EjHdkPgXqF5F",
        "colab_type": "text"
      },
      "source": [
        "One of the key benefits of box plots is comparing the distribution of multiple datasets. In one of the previous labs, we observed that China and India had very similar immigration trends. Let's analyize these two countries further using box plots.\n",
        "\n",
        "**Question:** Compare the distribution of the number of new immigrants from India and China for the period 1980 - 2013."
      ]
    },
    {
      "cell_type": "markdown",
      "metadata": {
        "button": false,
        "deletable": true,
        "editable": true,
        "new_sheet": false,
        "run_control": {
          "read_only": false
        },
        "id": "IMFIICCKqF5G",
        "colab_type": "text"
      },
      "source": [
        "Step 1: Get the dataset for China and India and call the dataframe **df_CI**."
      ]
    },
    {
      "cell_type": "code",
      "metadata": {
        "button": false,
        "deletable": true,
        "new_sheet": false,
        "run_control": {
          "read_only": false
        },
        "id": "UIA5XwA5qF5H",
        "colab_type": "code",
        "colab": {
          "base_uri": "https://localhost:8080/",
          "height": 196
        },
        "outputId": "9b1a3ed4-b2c1-4c1a-bb82-d934b228505f"
      },
      "source": [
        "### type your answer here\n",
        "\n",
        "df_CI= df_can.loc[['China', 'India'], years].transpose()\n",
        "df_CI.head()\n",
        "\n"
      ],
      "execution_count": 15,
      "outputs": [
        {
          "output_type": "execute_result",
          "data": {
            "text/html": [
              "<div>\n",
              "<style scoped>\n",
              "    .dataframe tbody tr th:only-of-type {\n",
              "        vertical-align: middle;\n",
              "    }\n",
              "\n",
              "    .dataframe tbody tr th {\n",
              "        vertical-align: top;\n",
              "    }\n",
              "\n",
              "    .dataframe thead th {\n",
              "        text-align: right;\n",
              "    }\n",
              "</style>\n",
              "<table border=\"1\" class=\"dataframe\">\n",
              "  <thead>\n",
              "    <tr style=\"text-align: right;\">\n",
              "      <th>Country</th>\n",
              "      <th>China</th>\n",
              "      <th>India</th>\n",
              "    </tr>\n",
              "  </thead>\n",
              "  <tbody>\n",
              "    <tr>\n",
              "      <th>1980</th>\n",
              "      <td>5123</td>\n",
              "      <td>8880</td>\n",
              "    </tr>\n",
              "    <tr>\n",
              "      <th>1981</th>\n",
              "      <td>6682</td>\n",
              "      <td>8670</td>\n",
              "    </tr>\n",
              "    <tr>\n",
              "      <th>1982</th>\n",
              "      <td>3308</td>\n",
              "      <td>8147</td>\n",
              "    </tr>\n",
              "    <tr>\n",
              "      <th>1983</th>\n",
              "      <td>1863</td>\n",
              "      <td>7338</td>\n",
              "    </tr>\n",
              "    <tr>\n",
              "      <th>1984</th>\n",
              "      <td>1527</td>\n",
              "      <td>5704</td>\n",
              "    </tr>\n",
              "  </tbody>\n",
              "</table>\n",
              "</div>"
            ],
            "text/plain": [
              "Country  China  India\n",
              "1980      5123   8880\n",
              "1981      6682   8670\n",
              "1982      3308   8147\n",
              "1983      1863   7338\n",
              "1984      1527   5704"
            ]
          },
          "metadata": {
            "tags": []
          },
          "execution_count": 15
        }
      ]
    },
    {
      "cell_type": "markdown",
      "metadata": {
        "button": false,
        "deletable": true,
        "new_sheet": false,
        "run_control": {
          "read_only": false
        },
        "id": "0KlhH45GqF5I",
        "colab_type": "text"
      },
      "source": [
        "Double-click __here__ for the solution.\n",
        "<!-- The correct answer is:\n",
        "df_CI= df_can.loc[['China', 'India'], years].transpose()\n",
        "df_CI.head()\n",
        "-->"
      ]
    },
    {
      "cell_type": "markdown",
      "metadata": {
        "button": false,
        "deletable": true,
        "new_sheet": false,
        "run_control": {
          "read_only": false
        },
        "id": "fRp7NzKcqF5J",
        "colab_type": "text"
      },
      "source": [
        "Let's view the percentages associated with both countries using the `describe()` method."
      ]
    },
    {
      "cell_type": "code",
      "metadata": {
        "button": false,
        "deletable": true,
        "new_sheet": false,
        "run_control": {
          "read_only": false
        },
        "scrolled": true,
        "id": "Jm59czsLqF5J",
        "colab_type": "code",
        "colab": {
          "base_uri": "https://localhost:8080/",
          "height": 286
        },
        "outputId": "8474749f-0d69-4a20-c9db-ff3f22711007"
      },
      "source": [
        "### type your answer here\n",
        "\n",
        "df_CI.describe()"
      ],
      "execution_count": 16,
      "outputs": [
        {
          "output_type": "execute_result",
          "data": {
            "text/html": [
              "<div>\n",
              "<style scoped>\n",
              "    .dataframe tbody tr th:only-of-type {\n",
              "        vertical-align: middle;\n",
              "    }\n",
              "\n",
              "    .dataframe tbody tr th {\n",
              "        vertical-align: top;\n",
              "    }\n",
              "\n",
              "    .dataframe thead th {\n",
              "        text-align: right;\n",
              "    }\n",
              "</style>\n",
              "<table border=\"1\" class=\"dataframe\">\n",
              "  <thead>\n",
              "    <tr style=\"text-align: right;\">\n",
              "      <th>Country</th>\n",
              "      <th>China</th>\n",
              "      <th>India</th>\n",
              "    </tr>\n",
              "  </thead>\n",
              "  <tbody>\n",
              "    <tr>\n",
              "      <th>count</th>\n",
              "      <td>34.000000</td>\n",
              "      <td>34.000000</td>\n",
              "    </tr>\n",
              "    <tr>\n",
              "      <th>mean</th>\n",
              "      <td>19410.647059</td>\n",
              "      <td>20350.117647</td>\n",
              "    </tr>\n",
              "    <tr>\n",
              "      <th>std</th>\n",
              "      <td>13568.230790</td>\n",
              "      <td>10007.342579</td>\n",
              "    </tr>\n",
              "    <tr>\n",
              "      <th>min</th>\n",
              "      <td>1527.000000</td>\n",
              "      <td>4211.000000</td>\n",
              "    </tr>\n",
              "    <tr>\n",
              "      <th>25%</th>\n",
              "      <td>5512.750000</td>\n",
              "      <td>10637.750000</td>\n",
              "    </tr>\n",
              "    <tr>\n",
              "      <th>50%</th>\n",
              "      <td>19945.000000</td>\n",
              "      <td>20235.000000</td>\n",
              "    </tr>\n",
              "    <tr>\n",
              "      <th>75%</th>\n",
              "      <td>31568.500000</td>\n",
              "      <td>28699.500000</td>\n",
              "    </tr>\n",
              "    <tr>\n",
              "      <th>max</th>\n",
              "      <td>42584.000000</td>\n",
              "      <td>36210.000000</td>\n",
              "    </tr>\n",
              "  </tbody>\n",
              "</table>\n",
              "</div>"
            ],
            "text/plain": [
              "Country         China         India\n",
              "count       34.000000     34.000000\n",
              "mean     19410.647059  20350.117647\n",
              "std      13568.230790  10007.342579\n",
              "min       1527.000000   4211.000000\n",
              "25%       5512.750000  10637.750000\n",
              "50%      19945.000000  20235.000000\n",
              "75%      31568.500000  28699.500000\n",
              "max      42584.000000  36210.000000"
            ]
          },
          "metadata": {
            "tags": []
          },
          "execution_count": 16
        }
      ]
    },
    {
      "cell_type": "markdown",
      "metadata": {
        "button": false,
        "deletable": true,
        "new_sheet": false,
        "run_control": {
          "read_only": false
        },
        "id": "dDm6h7RTqF5K",
        "colab_type": "text"
      },
      "source": [
        "Double-click __here__ for the solution.\n",
        "<!-- The correct answer is:\n",
        "df_CI.describe()\n",
        "-->"
      ]
    },
    {
      "cell_type": "markdown",
      "metadata": {
        "button": false,
        "deletable": true,
        "editable": true,
        "new_sheet": false,
        "run_control": {
          "read_only": false
        },
        "id": "kfkW4RnMqF5L",
        "colab_type": "text"
      },
      "source": [
        "Step 2: Plot data."
      ]
    },
    {
      "cell_type": "code",
      "metadata": {
        "button": false,
        "deletable": true,
        "new_sheet": false,
        "run_control": {
          "read_only": false
        },
        "id": "Wr680jVJqF5L",
        "colab_type": "code",
        "colab": {
          "base_uri": "https://localhost:8080/",
          "height": 462
        },
        "outputId": "360dfd77-579a-4d68-c47c-10e0c69830bc"
      },
      "source": [
        "### type your answer here\n",
        "df_CI.plot(kind='box', figsize=(10, 7))\n",
        "plt.title('Box plots of Immigrants from China and India (1980 - 2013)')\n",
        "plt.xlabel('Number of Immigrants')\n",
        "plt.show()\n",
        "\n",
        "\n"
      ],
      "execution_count": 17,
      "outputs": [
        {
          "output_type": "display_data",
          "data": {
            "image/png": "[encoded data removed]",
            "text/plain": [
              "<Figure size 720x504 with 1 Axes>"
            ]
          },
          "metadata": {
            "tags": []
          }
        }
      ]
    },
    {
      "cell_type": "markdown",
      "metadata": {
        "button": false,
        "deletable": true,
        "new_sheet": false,
        "run_control": {
          "read_only": false
        },
        "id": "dVVz8OS6qF5N",
        "colab_type": "text"
      },
      "source": [
        "Double-click __here__ for the solution.\n",
        "<!-- The correct answer is:\n",
        "df_CI.plot(kind='box', figsize=(10, 7))\n",
        "-->\n",
        "\n",
        "<!--\n",
        "plt.title('Box plots of Immigrants from China and India (1980 - 2013)')\n",
        "plt.xlabel('Number of Immigrants')\n",
        "-->\n",
        "\n",
        "<!--\n",
        "plt.show()\n",
        "-->"
      ]
    },
    {
      "cell_type": "markdown",
      "metadata": {
        "button": false,
        "deletable": true,
        "editable": true,
        "new_sheet": false,
        "run_control": {
          "read_only": false
        },
        "id": "muXVHlbqqF5N",
        "colab_type": "text"
      },
      "source": [
        "We can observe that, while both countries have around the same median immigrant population (~20,000),  China's immigrant population range is more spread out than India's. The maximum population from India for any year (36,210) is around 15% lower than the maximum population from China (42,584).\n"
      ]
    },
    {
      "cell_type": "markdown",
      "metadata": {
        "button": false,
        "deletable": true,
        "new_sheet": false,
        "run_control": {
          "read_only": false
        },
        "id": "dBDmM1bsqF5O",
        "colab_type": "text"
      },
      "source": [
        "If you prefer to create horizontal box plots, you can pass the `vert` parameter in the **plot** function and assign it to *False*. You can also specify a different color in case you are not a big fan of the default red color."
      ]
    },
    {
      "cell_type": "code",
      "metadata": {
        "button": false,
        "deletable": true,
        "new_sheet": false,
        "run_control": {
          "read_only": false
        },
        "id": "eAr9yGaSqF5O",
        "colab_type": "code",
        "colab": {
          "base_uri": "https://localhost:8080/",
          "height": 462
        },
        "outputId": "19b316ec-af45-4432-f369-f93649e3de1b"
      },
      "source": [
        "# horizontal box plots\n",
        "df_CI.plot(kind='box', figsize=(10, 7), color='blue', vert=False)\n",
        "\n",
        "plt.title('Box plots of Immigrants from China and India (1980 - 2013)')\n",
        "plt.xlabel('Number of Immigrants')\n",
        "\n",
        "plt.show()"
      ],
      "execution_count": 18,
      "outputs": [
        {
          "output_type": "display_data",
          "data": {
            "image/png": "[encoded data removed]",
            "text/plain": [
              "<Figure size 720x504 with 1 Axes>"
            ]
          },
          "metadata": {
            "tags": []
          }
        }
      ]
    },
    {
      "cell_type": "markdown",
      "metadata": {
        "button": false,
        "deletable": true,
        "editable": true,
        "new_sheet": false,
        "run_control": {
          "read_only": false
        },
        "id": "nvlleDgfqF5Q",
        "colab_type": "text"
      },
      "source": [
        "**Subplots**\n",
        "\n",
        "Often times we might want to plot multiple plots within the same figure. For example, we might want to perform a side by side comparison of the box plot with the line plot of China and India's immigration.\n",
        "\n",
        "To visualize multiple plots together, we can create a **`figure`** (overall canvas) and divide it into **`subplots`**, each containing a plot. With **subplots**, we usually work with the **artist layer** instead of the **scripting layer**. \n",
        "\n",
        "Typical syntax is : <br>\n",
        "```python\n",
        "    fig = plt.figure() # create figure\n",
        "    ax = fig.add_subplot(nrows, ncols, plot_number) # create subplots\n",
        "```\n",
        "Where\n",
        "- `nrows` and `ncols` are used to notionally split the figure into (`nrows` \\* `ncols`) sub-axes,  \n",
        "- `plot_number` is used to identify the particular subplot that this function is to create within the notional grid. `plot_number` starts at 1, increments across rows first and has a maximum of `nrows` * `ncols` as shown below.\n",
        "\n",
        "<img src=\"https://ibm.box.com/shared/static/03rhrfcealyoi83tigscovgglfchfyor.png\" width=500 align=\"center\">"
      ]
    },
    {
      "cell_type": "markdown",
      "metadata": {
        "button": false,
        "deletable": true,
        "editable": true,
        "new_sheet": false,
        "run_control": {
          "read_only": false
        },
        "id": "9I3bJKFbqF5Q",
        "colab_type": "text"
      },
      "source": [
        "We can then specify which subplot to place each plot by passing in the `ax` paramemter in `plot()` method as follows:"
      ]
    },
    {
      "cell_type": "code",
      "metadata": {
        "button": false,
        "deletable": true,
        "editable": true,
        "new_sheet": false,
        "run_control": {
          "read_only": false
        },
        "id": "YYghrOcyqF5R",
        "colab_type": "code",
        "colab": {
          "base_uri": "https://localhost:8080/",
          "height": 408
        },
        "outputId": "4cdb1114-55a5-4f81-af3d-ab941c9ebcaf"
      },
      "source": [
        "fig = plt.figure() # create figure\n",
        "\n",
        "ax0 = fig.add_subplot(1, 2, 1) # add subplot 1 (1 row, 2 columns, first plot)\n",
        "ax1 = fig.add_subplot(1, 2, 2) # add subplot 2 (1 row, 2 columns, second plot). See tip below**\n",
        "\n",
        "# Subplot 1: Box plot\n",
        "df_CI.plot(kind='box', color='blue', vert=False, figsize=(20, 6), ax=ax0) # add to subplot 1\n",
        "ax0.set_title('Box Plots of Immigrants from China and India (1980 - 2013)')\n",
        "ax0.set_xlabel('Number of Immigrants')\n",
        "ax0.set_ylabel('Countries')\n",
        "\n",
        "# Subplot 2: Line plot\n",
        "df_CI.plot(kind='line', figsize=(20, 6), ax=ax1) # add to subplot 2\n",
        "ax1.set_title ('Line Plots of Immigrants from China and India (1980 - 2013)')\n",
        "ax1.set_ylabel('Number of Immigrants')\n",
        "ax1.set_xlabel('Years')\n",
        "\n",
        "plt.show()"
      ],
      "execution_count": 19,
      "outputs": [
        {
          "output_type": "display_data",
          "data": {
            "image/png": "[encoded data removed]",
            "text/plain": [
              "<Figure size 1440x432 with 2 Axes>"
            ]
          },
          "metadata": {
            "tags": []
          }
        }
      ]
    },
    {
      "cell_type": "markdown",
      "metadata": {
        "button": false,
        "deletable": true,
        "editable": true,
        "new_sheet": false,
        "run_control": {
          "read_only": false
        },
        "id": "239mofRFqF5S",
        "colab_type": "text"
      },
      "source": [
        "** * Tip regarding subplot convention **\n",
        "\n",
        "In the case when `nrows`, `ncols`, and `plot_number` are all less than 10, a convenience exists such that the a 3 digit number can be given instead, where the hundreds represent `nrows`, the tens represent `ncols` and the units represent `plot_number`. For instance,\n",
        "```python\n",
        "   subplot(211) == subplot(2, 1, 1) \n",
        "```\n",
        "produces a subaxes in a figure which represents the top plot (i.e. the first) in a 2 rows by 1 column notional grid (no grid actually exists, but conceptually this is how the returned subplot has been positioned)."
      ]
    },
    {
      "cell_type": "markdown",
      "metadata": {
        "button": false,
        "deletable": true,
        "editable": true,
        "new_sheet": false,
        "run_control": {
          "read_only": false
        },
        "id": "QT5k241zqF5T",
        "colab_type": "text"
      },
      "source": [
        "Let's try something a little more advanced. \n",
        "\n",
        "Previously we identified the top 15 countries based on total immigration from 1980 - 2013.\n",
        "\n",
        "**Question:** Create a box plot to visualize the distribution of the top 15 countries (based on total immigration) grouped by the *decades* `1980s`, `1990s`, and `2000s`."
      ]
    },
    {
      "cell_type": "markdown",
      "metadata": {
        "button": false,
        "deletable": true,
        "editable": true,
        "new_sheet": false,
        "run_control": {
          "read_only": false
        },
        "id": "eN7eOCCFqF5U",
        "colab_type": "text"
      },
      "source": [
        "Step 1: Get the dataset. Get the top 15 countries based on Total immigrant population. Name the dataframe **df_top15**."
      ]
    },
    {
      "cell_type": "code",
      "metadata": {
        "button": false,
        "deletable": true,
        "editable": true,
        "new_sheet": false,
        "run_control": {
          "read_only": false
        },
        "scrolled": true,
        "id": "6o1vG6XFqF5U",
        "colab_type": "code",
        "colab": {
          "base_uri": "https://localhost:8080/",
          "height": 979
        },
        "outputId": "bfa31fd2-1498-414f-9649-48956f577c09"
      },
      "source": [
        "### type your answer here\n",
        "\n",
        "df_top15 = df_can.sort_values(['Total'], ascending=False, axis=0).head(15)\n",
        "df_top15\n",
        "\n"
      ],
      "execution_count": 20,
      "outputs": [
        {
          "output_type": "execute_result",
          "data": {
            "text/html": [
              "<div>\n",
              "<style scoped>\n",
              "    .dataframe tbody tr th:only-of-type {\n",
              "        vertical-align: middle;\n",
              "    }\n",
              "\n",
              "    .dataframe tbody tr th {\n",
              "        vertical-align: top;\n",
              "    }\n",
              "\n",
              "    .dataframe thead th {\n",
              "        text-align: right;\n",
              "    }\n",
              "</style>\n",
              "<table border=\"1\" class=\"dataframe\">\n",
              "  <thead>\n",
              "    <tr style=\"text-align: right;\">\n",
              "      <th></th>\n",
              "      <th>Continent</th>\n",
              "      <th>Region</th>\n",
              "      <th>DevName</th>\n",
              "      <th>1980</th>\n",
              "      <th>1981</th>\n",
              "      <th>1982</th>\n",
              "      <th>1983</th>\n",
              "      <th>1984</th>\n",
              "      <th>1985</th>\n",
              "      <th>1986</th>\n",
              "      <th>1987</th>\n",
              "      <th>1988</th>\n",
              "      <th>1989</th>\n",
              "      <th>1990</th>\n",
              "      <th>1991</th>\n",
              "      <th>1992</th>\n",
              "      <th>1993</th>\n",
              "      <th>1994</th>\n",
              "      <th>1995</th>\n",
              "      <th>1996</th>\n",
              "      <th>1997</th>\n",
              "      <th>1998</th>\n",
              "      <th>1999</th>\n",
              "      <th>2000</th>\n",
              "      <th>2001</th>\n",
              "      <th>2002</th>\n",
              "      <th>2003</th>\n",
              "      <th>2004</th>\n",
              "      <th>2005</th>\n",
              "      <th>2006</th>\n",
              "      <th>2007</th>\n",
              "      <th>2008</th>\n",
              "      <th>2009</th>\n",
              "      <th>2010</th>\n",
              "      <th>2011</th>\n",
              "      <th>2012</th>\n",
              "      <th>2013</th>\n",
              "      <th>Total</th>\n",
              "    </tr>\n",
              "    <tr>\n",
              "      <th>Country</th>\n",
              "      <th></th>\n",
              "      <th></th>\n",
              "      <th></th>\n",
              "      <th></th>\n",
              "      <th></th>\n",
              "      <th></th>\n",
              "      <th></th>\n",
              "      <th></th>\n",
              "      <th></th>\n",
              "      <th></th>\n",
              "      <th></th>\n",
              "      <th></th>\n",
              "      <th></th>\n",
              "      <th></th>\n",
              "      <th></th>\n",
              "      <th></th>\n",
              "      <th></th>\n",
              "      <th></th>\n",
              "      <th></th>\n",
              "      <th></th>\n",
              "      <th></th>\n",
              "      <th></th>\n",
              "      <th></th>\n",
              "      <th></th>\n",
              "      <th></th>\n",
              "      <th></th>\n",
              "      <th></th>\n",
              "      <th></th>\n",
              "      <th></th>\n",
              "      <th></th>\n",
              "      <th></th>\n",
              "      <th></th>\n",
              "      <th></th>\n",
              "      <th></th>\n",
              "      <th></th>\n",
              "      <th></th>\n",
              "      <th></th>\n",
              "      <th></th>\n",
              "    </tr>\n",
              "  </thead>\n",
              "  <tbody>\n",
              "    <tr>\n",
              "      <th>India</th>\n",
              "      <td>Asia</td>\n",
              "      <td>Southern Asia</td>\n",
              "      <td>Developing regions</td>\n",
              "      <td>8880</td>\n",
              "      <td>8670</td>\n",
              "      <td>8147</td>\n",
              "      <td>7338</td>\n",
              "      <td>5704</td>\n",
              "      <td>4211</td>\n",
              "      <td>7150</td>\n",
              "      <td>10189</td>\n",
              "      <td>11522</td>\n",
              "      <td>10343</td>\n",
              "      <td>12041</td>\n",
              "      <td>13734</td>\n",
              "      <td>13673</td>\n",
              "      <td>21496</td>\n",
              "      <td>18620</td>\n",
              "      <td>18489</td>\n",
              "      <td>23859</td>\n",
              "      <td>22268</td>\n",
              "      <td>17241</td>\n",
              "      <td>18974</td>\n",
              "      <td>28572</td>\n",
              "      <td>31223</td>\n",
              "      <td>31889</td>\n",
              "      <td>27155</td>\n",
              "      <td>28235</td>\n",
              "      <td>36210</td>\n",
              "      <td>33848</td>\n",
              "      <td>28742</td>\n",
              "      <td>28261</td>\n",
              "      <td>29456</td>\n",
              "      <td>34235</td>\n",
              "      <td>27509</td>\n",
              "      <td>30933</td>\n",
              "      <td>33087</td>\n",
              "      <td>691904</td>\n",
              "    </tr>\n",
              "    <tr>\n",
              "      <th>China</th>\n",
              "      <td>Asia</td>\n",
              "      <td>Eastern Asia</td>\n",
              "      <td>Developing regions</td>\n",
              "      <td>5123</td>\n",
              "      <td>6682</td>\n",
              "      <td>3308</td>\n",
              "      <td>1863</td>\n",
              "      <td>1527</td>\n",
              "      <td>1816</td>\n",
              "      <td>1960</td>\n",
              "      <td>2643</td>\n",
              "      <td>2758</td>\n",
              "      <td>4323</td>\n",
              "      <td>8076</td>\n",
              "      <td>14255</td>\n",
              "      <td>10846</td>\n",
              "      <td>9817</td>\n",
              "      <td>13128</td>\n",
              "      <td>14398</td>\n",
              "      <td>19415</td>\n",
              "      <td>20475</td>\n",
              "      <td>21049</td>\n",
              "      <td>30069</td>\n",
              "      <td>35529</td>\n",
              "      <td>36434</td>\n",
              "      <td>31961</td>\n",
              "      <td>36439</td>\n",
              "      <td>36619</td>\n",
              "      <td>42584</td>\n",
              "      <td>33518</td>\n",
              "      <td>27642</td>\n",
              "      <td>30037</td>\n",
              "      <td>29622</td>\n",
              "      <td>30391</td>\n",
              "      <td>28502</td>\n",
              "      <td>33024</td>\n",
              "      <td>34129</td>\n",
              "      <td>659962</td>\n",
              "    </tr>\n",
              "    <tr>\n",
              "      <th>United Kingdom of Great Britain and Northern Ireland</th>\n",
              "      <td>Europe</td>\n",
              "      <td>Northern Europe</td>\n",
              "      <td>Developed regions</td>\n",
              "      <td>22045</td>\n",
              "      <td>24796</td>\n",
              "      <td>20620</td>\n",
              "      <td>10015</td>\n",
              "      <td>10170</td>\n",
              "      <td>9564</td>\n",
              "      <td>9470</td>\n",
              "      <td>21337</td>\n",
              "      <td>27359</td>\n",
              "      <td>23795</td>\n",
              "      <td>31668</td>\n",
              "      <td>23380</td>\n",
              "      <td>34123</td>\n",
              "      <td>33720</td>\n",
              "      <td>39231</td>\n",
              "      <td>30145</td>\n",
              "      <td>29322</td>\n",
              "      <td>22965</td>\n",
              "      <td>10367</td>\n",
              "      <td>7045</td>\n",
              "      <td>8840</td>\n",
              "      <td>11728</td>\n",
              "      <td>8046</td>\n",
              "      <td>6797</td>\n",
              "      <td>7533</td>\n",
              "      <td>7258</td>\n",
              "      <td>7140</td>\n",
              "      <td>8216</td>\n",
              "      <td>8979</td>\n",
              "      <td>8876</td>\n",
              "      <td>8724</td>\n",
              "      <td>6204</td>\n",
              "      <td>6195</td>\n",
              "      <td>5827</td>\n",
              "      <td>551500</td>\n",
              "    </tr>\n",
              "    <tr>\n",
              "      <th>Philippines</th>\n",
              "      <td>Asia</td>\n",
              "      <td>South-Eastern Asia</td>\n",
              "      <td>Developing regions</td>\n",
              "      <td>6051</td>\n",
              "      <td>5921</td>\n",
              "      <td>5249</td>\n",
              "      <td>4562</td>\n",
              "      <td>3801</td>\n",
              "      <td>3150</td>\n",
              "      <td>4166</td>\n",
              "      <td>7360</td>\n",
              "      <td>8639</td>\n",
              "      <td>11865</td>\n",
              "      <td>12509</td>\n",
              "      <td>12718</td>\n",
              "      <td>13670</td>\n",
              "      <td>20479</td>\n",
              "      <td>19532</td>\n",
              "      <td>15864</td>\n",
              "      <td>13692</td>\n",
              "      <td>11549</td>\n",
              "      <td>8735</td>\n",
              "      <td>9734</td>\n",
              "      <td>10763</td>\n",
              "      <td>13836</td>\n",
              "      <td>11707</td>\n",
              "      <td>12758</td>\n",
              "      <td>14004</td>\n",
              "      <td>18139</td>\n",
              "      <td>18400</td>\n",
              "      <td>19837</td>\n",
              "      <td>24887</td>\n",
              "      <td>28573</td>\n",
              "      <td>38617</td>\n",
              "      <td>36765</td>\n",
              "      <td>34315</td>\n",
              "      <td>29544</td>\n",
              "      <td>511391</td>\n",
              "    </tr>\n",
              "    <tr>\n",
              "      <th>Pakistan</th>\n",
              "      <td>Asia</td>\n",
              "      <td>Southern Asia</td>\n",
              "      <td>Developing regions</td>\n",
              "      <td>978</td>\n",
              "      <td>972</td>\n",
              "      <td>1201</td>\n",
              "      <td>900</td>\n",
              "      <td>668</td>\n",
              "      <td>514</td>\n",
              "      <td>691</td>\n",
              "      <td>1072</td>\n",
              "      <td>1334</td>\n",
              "      <td>2261</td>\n",
              "      <td>2470</td>\n",
              "      <td>3079</td>\n",
              "      <td>4071</td>\n",
              "      <td>4777</td>\n",
              "      <td>4666</td>\n",
              "      <td>4994</td>\n",
              "      <td>9125</td>\n",
              "      <td>13073</td>\n",
              "      <td>9068</td>\n",
              "      <td>9979</td>\n",
              "      <td>15400</td>\n",
              "      <td>16708</td>\n",
              "      <td>15110</td>\n",
              "      <td>13205</td>\n",
              "      <td>13399</td>\n",
              "      <td>14314</td>\n",
              "      <td>13127</td>\n",
              "      <td>10124</td>\n",
              "      <td>8994</td>\n",
              "      <td>7217</td>\n",
              "      <td>6811</td>\n",
              "      <td>7468</td>\n",
              "      <td>11227</td>\n",
              "      <td>12603</td>\n",
              "      <td>241600</td>\n",
              "    </tr>\n",
              "    <tr>\n",
              "      <th>United States of America</th>\n",
              "      <td>Northern America</td>\n",
              "      <td>Northern America</td>\n",
              "      <td>Developed regions</td>\n",
              "      <td>9378</td>\n",
              "      <td>10030</td>\n",
              "      <td>9074</td>\n",
              "      <td>7100</td>\n",
              "      <td>6661</td>\n",
              "      <td>6543</td>\n",
              "      <td>7074</td>\n",
              "      <td>7705</td>\n",
              "      <td>6469</td>\n",
              "      <td>6790</td>\n",
              "      <td>5892</td>\n",
              "      <td>6054</td>\n",
              "      <td>6842</td>\n",
              "      <td>7435</td>\n",
              "      <td>5901</td>\n",
              "      <td>4890</td>\n",
              "      <td>5515</td>\n",
              "      <td>4753</td>\n",
              "      <td>4437</td>\n",
              "      <td>5196</td>\n",
              "      <td>5433</td>\n",
              "      <td>5604</td>\n",
              "      <td>4948</td>\n",
              "      <td>5543</td>\n",
              "      <td>6990</td>\n",
              "      <td>8394</td>\n",
              "      <td>9613</td>\n",
              "      <td>9463</td>\n",
              "      <td>10190</td>\n",
              "      <td>8995</td>\n",
              "      <td>8142</td>\n",
              "      <td>7676</td>\n",
              "      <td>7891</td>\n",
              "      <td>8501</td>\n",
              "      <td>241122</td>\n",
              "    </tr>\n",
              "    <tr>\n",
              "      <th>Iran (Islamic Republic of)</th>\n",
              "      <td>Asia</td>\n",
              "      <td>Southern Asia</td>\n",
              "      <td>Developing regions</td>\n",
              "      <td>1172</td>\n",
              "      <td>1429</td>\n",
              "      <td>1822</td>\n",
              "      <td>1592</td>\n",
              "      <td>1977</td>\n",
              "      <td>1648</td>\n",
              "      <td>1794</td>\n",
              "      <td>2989</td>\n",
              "      <td>3273</td>\n",
              "      <td>3781</td>\n",
              "      <td>3655</td>\n",
              "      <td>6250</td>\n",
              "      <td>6814</td>\n",
              "      <td>3959</td>\n",
              "      <td>2785</td>\n",
              "      <td>3956</td>\n",
              "      <td>6205</td>\n",
              "      <td>7982</td>\n",
              "      <td>7057</td>\n",
              "      <td>6208</td>\n",
              "      <td>5884</td>\n",
              "      <td>6169</td>\n",
              "      <td>8129</td>\n",
              "      <td>5918</td>\n",
              "      <td>6348</td>\n",
              "      <td>5837</td>\n",
              "      <td>7480</td>\n",
              "      <td>6974</td>\n",
              "      <td>6475</td>\n",
              "      <td>6580</td>\n",
              "      <td>7477</td>\n",
              "      <td>7479</td>\n",
              "      <td>7534</td>\n",
              "      <td>11291</td>\n",
              "      <td>175923</td>\n",
              "    </tr>\n",
              "    <tr>\n",
              "      <th>Sri Lanka</th>\n",
              "      <td>Asia</td>\n",
              "      <td>Southern Asia</td>\n",
              "      <td>Developing regions</td>\n",
              "      <td>185</td>\n",
              "      <td>371</td>\n",
              "      <td>290</td>\n",
              "      <td>197</td>\n",
              "      <td>1086</td>\n",
              "      <td>845</td>\n",
              "      <td>1838</td>\n",
              "      <td>4447</td>\n",
              "      <td>2779</td>\n",
              "      <td>2758</td>\n",
              "      <td>3525</td>\n",
              "      <td>7266</td>\n",
              "      <td>13102</td>\n",
              "      <td>9563</td>\n",
              "      <td>7150</td>\n",
              "      <td>9368</td>\n",
              "      <td>6484</td>\n",
              "      <td>5415</td>\n",
              "      <td>3566</td>\n",
              "      <td>4982</td>\n",
              "      <td>6081</td>\n",
              "      <td>5861</td>\n",
              "      <td>5279</td>\n",
              "      <td>4892</td>\n",
              "      <td>4495</td>\n",
              "      <td>4930</td>\n",
              "      <td>4714</td>\n",
              "      <td>4123</td>\n",
              "      <td>4756</td>\n",
              "      <td>4547</td>\n",
              "      <td>4422</td>\n",
              "      <td>3309</td>\n",
              "      <td>3338</td>\n",
              "      <td>2394</td>\n",
              "      <td>148358</td>\n",
              "    </tr>\n",
              "    <tr>\n",
              "      <th>Republic of Korea</th>\n",
              "      <td>Asia</td>\n",
              "      <td>Eastern Asia</td>\n",
              "      <td>Developing regions</td>\n",
              "      <td>1011</td>\n",
              "      <td>1456</td>\n",
              "      <td>1572</td>\n",
              "      <td>1081</td>\n",
              "      <td>847</td>\n",
              "      <td>962</td>\n",
              "      <td>1208</td>\n",
              "      <td>2338</td>\n",
              "      <td>2805</td>\n",
              "      <td>2979</td>\n",
              "      <td>2087</td>\n",
              "      <td>2598</td>\n",
              "      <td>3790</td>\n",
              "      <td>3819</td>\n",
              "      <td>3005</td>\n",
              "      <td>3501</td>\n",
              "      <td>3250</td>\n",
              "      <td>4093</td>\n",
              "      <td>4938</td>\n",
              "      <td>7108</td>\n",
              "      <td>7618</td>\n",
              "      <td>9619</td>\n",
              "      <td>7342</td>\n",
              "      <td>7117</td>\n",
              "      <td>5352</td>\n",
              "      <td>5832</td>\n",
              "      <td>6215</td>\n",
              "      <td>5920</td>\n",
              "      <td>7294</td>\n",
              "      <td>5874</td>\n",
              "      <td>5537</td>\n",
              "      <td>4588</td>\n",
              "      <td>5316</td>\n",
              "      <td>4509</td>\n",
              "      <td>142581</td>\n",
              "    </tr>\n",
              "    <tr>\n",
              "      <th>Poland</th>\n",
              "      <td>Europe</td>\n",
              "      <td>Eastern Europe</td>\n",
              "      <td>Developed regions</td>\n",
              "      <td>863</td>\n",
              "      <td>2930</td>\n",
              "      <td>5881</td>\n",
              "      <td>4546</td>\n",
              "      <td>3588</td>\n",
              "      <td>2819</td>\n",
              "      <td>4808</td>\n",
              "      <td>6931</td>\n",
              "      <td>9211</td>\n",
              "      <td>16025</td>\n",
              "      <td>17040</td>\n",
              "      <td>16028</td>\n",
              "      <td>12145</td>\n",
              "      <td>6960</td>\n",
              "      <td>3550</td>\n",
              "      <td>2405</td>\n",
              "      <td>2136</td>\n",
              "      <td>1758</td>\n",
              "      <td>1488</td>\n",
              "      <td>1354</td>\n",
              "      <td>1471</td>\n",
              "      <td>1601</td>\n",
              "      <td>1447</td>\n",
              "      <td>1394</td>\n",
              "      <td>1533</td>\n",
              "      <td>1405</td>\n",
              "      <td>1263</td>\n",
              "      <td>1235</td>\n",
              "      <td>1267</td>\n",
              "      <td>1013</td>\n",
              "      <td>795</td>\n",
              "      <td>720</td>\n",
              "      <td>779</td>\n",
              "      <td>852</td>\n",
              "      <td>139241</td>\n",
              "    </tr>\n",
              "    <tr>\n",
              "      <th>Lebanon</th>\n",
              "      <td>Asia</td>\n",
              "      <td>Western Asia</td>\n",
              "      <td>Developing regions</td>\n",
              "      <td>1409</td>\n",
              "      <td>1119</td>\n",
              "      <td>1159</td>\n",
              "      <td>789</td>\n",
              "      <td>1253</td>\n",
              "      <td>1683</td>\n",
              "      <td>2576</td>\n",
              "      <td>3803</td>\n",
              "      <td>3970</td>\n",
              "      <td>7157</td>\n",
              "      <td>13568</td>\n",
              "      <td>12567</td>\n",
              "      <td>6915</td>\n",
              "      <td>4902</td>\n",
              "      <td>2751</td>\n",
              "      <td>2228</td>\n",
              "      <td>1919</td>\n",
              "      <td>1472</td>\n",
              "      <td>1329</td>\n",
              "      <td>1594</td>\n",
              "      <td>1903</td>\n",
              "      <td>2578</td>\n",
              "      <td>2332</td>\n",
              "      <td>3179</td>\n",
              "      <td>3293</td>\n",
              "      <td>3709</td>\n",
              "      <td>3802</td>\n",
              "      <td>3467</td>\n",
              "      <td>3566</td>\n",
              "      <td>3077</td>\n",
              "      <td>3432</td>\n",
              "      <td>3072</td>\n",
              "      <td>1614</td>\n",
              "      <td>2172</td>\n",
              "      <td>115359</td>\n",
              "    </tr>\n",
              "    <tr>\n",
              "      <th>France</th>\n",
              "      <td>Europe</td>\n",
              "      <td>Western Europe</td>\n",
              "      <td>Developed regions</td>\n",
              "      <td>1729</td>\n",
              "      <td>2027</td>\n",
              "      <td>2219</td>\n",
              "      <td>1490</td>\n",
              "      <td>1169</td>\n",
              "      <td>1177</td>\n",
              "      <td>1298</td>\n",
              "      <td>1658</td>\n",
              "      <td>2038</td>\n",
              "      <td>2332</td>\n",
              "      <td>2177</td>\n",
              "      <td>2911</td>\n",
              "      <td>3487</td>\n",
              "      <td>3709</td>\n",
              "      <td>2759</td>\n",
              "      <td>3332</td>\n",
              "      <td>2623</td>\n",
              "      <td>2473</td>\n",
              "      <td>3214</td>\n",
              "      <td>3343</td>\n",
              "      <td>3765</td>\n",
              "      <td>3806</td>\n",
              "      <td>3463</td>\n",
              "      <td>3568</td>\n",
              "      <td>4391</td>\n",
              "      <td>4429</td>\n",
              "      <td>4002</td>\n",
              "      <td>4290</td>\n",
              "      <td>4532</td>\n",
              "      <td>5051</td>\n",
              "      <td>4646</td>\n",
              "      <td>4080</td>\n",
              "      <td>6280</td>\n",
              "      <td>5623</td>\n",
              "      <td>109091</td>\n",
              "    </tr>\n",
              "    <tr>\n",
              "      <th>Jamaica</th>\n",
              "      <td>Latin America and the Caribbean</td>\n",
              "      <td>Caribbean</td>\n",
              "      <td>Developing regions</td>\n",
              "      <td>3198</td>\n",
              "      <td>2634</td>\n",
              "      <td>2661</td>\n",
              "      <td>2455</td>\n",
              "      <td>2508</td>\n",
              "      <td>2938</td>\n",
              "      <td>4649</td>\n",
              "      <td>5415</td>\n",
              "      <td>3924</td>\n",
              "      <td>3946</td>\n",
              "      <td>4945</td>\n",
              "      <td>5056</td>\n",
              "      <td>5991</td>\n",
              "      <td>6065</td>\n",
              "      <td>3913</td>\n",
              "      <td>3619</td>\n",
              "      <td>3282</td>\n",
              "      <td>2847</td>\n",
              "      <td>2253</td>\n",
              "      <td>2358</td>\n",
              "      <td>2482</td>\n",
              "      <td>2838</td>\n",
              "      <td>2524</td>\n",
              "      <td>2054</td>\n",
              "      <td>2237</td>\n",
              "      <td>1945</td>\n",
              "      <td>1722</td>\n",
              "      <td>2141</td>\n",
              "      <td>2334</td>\n",
              "      <td>2456</td>\n",
              "      <td>2321</td>\n",
              "      <td>2059</td>\n",
              "      <td>2182</td>\n",
              "      <td>2479</td>\n",
              "      <td>106431</td>\n",
              "    </tr>\n",
              "    <tr>\n",
              "      <th>Viet Nam</th>\n",
              "      <td>Asia</td>\n",
              "      <td>South-Eastern Asia</td>\n",
              "      <td>Developing regions</td>\n",
              "      <td>1191</td>\n",
              "      <td>1829</td>\n",
              "      <td>2162</td>\n",
              "      <td>3404</td>\n",
              "      <td>7583</td>\n",
              "      <td>5907</td>\n",
              "      <td>2741</td>\n",
              "      <td>1406</td>\n",
              "      <td>1411</td>\n",
              "      <td>3004</td>\n",
              "      <td>3801</td>\n",
              "      <td>5870</td>\n",
              "      <td>5416</td>\n",
              "      <td>6547</td>\n",
              "      <td>5105</td>\n",
              "      <td>3723</td>\n",
              "      <td>2462</td>\n",
              "      <td>1752</td>\n",
              "      <td>1631</td>\n",
              "      <td>1419</td>\n",
              "      <td>1803</td>\n",
              "      <td>2117</td>\n",
              "      <td>2291</td>\n",
              "      <td>1713</td>\n",
              "      <td>1816</td>\n",
              "      <td>1852</td>\n",
              "      <td>3153</td>\n",
              "      <td>2574</td>\n",
              "      <td>1784</td>\n",
              "      <td>2171</td>\n",
              "      <td>1942</td>\n",
              "      <td>1723</td>\n",
              "      <td>1731</td>\n",
              "      <td>2112</td>\n",
              "      <td>97146</td>\n",
              "    </tr>\n",
              "    <tr>\n",
              "      <th>Romania</th>\n",
              "      <td>Europe</td>\n",
              "      <td>Eastern Europe</td>\n",
              "      <td>Developed regions</td>\n",
              "      <td>375</td>\n",
              "      <td>438</td>\n",
              "      <td>583</td>\n",
              "      <td>543</td>\n",
              "      <td>524</td>\n",
              "      <td>604</td>\n",
              "      <td>656</td>\n",
              "      <td>1202</td>\n",
              "      <td>1106</td>\n",
              "      <td>1582</td>\n",
              "      <td>2252</td>\n",
              "      <td>2337</td>\n",
              "      <td>3147</td>\n",
              "      <td>3676</td>\n",
              "      <td>3495</td>\n",
              "      <td>4279</td>\n",
              "      <td>3909</td>\n",
              "      <td>3993</td>\n",
              "      <td>3033</td>\n",
              "      <td>3538</td>\n",
              "      <td>4539</td>\n",
              "      <td>5652</td>\n",
              "      <td>5765</td>\n",
              "      <td>5541</td>\n",
              "      <td>5755</td>\n",
              "      <td>5048</td>\n",
              "      <td>4468</td>\n",
              "      <td>3834</td>\n",
              "      <td>2837</td>\n",
              "      <td>2076</td>\n",
              "      <td>1922</td>\n",
              "      <td>1776</td>\n",
              "      <td>1588</td>\n",
              "      <td>1512</td>\n",
              "      <td>93585</td>\n",
              "    </tr>\n",
              "  </tbody>\n",
              "</table>\n",
              "</div>"
            ],
            "text/plain": [
              "                                                                          Continent  ...   Total\n",
              "Country                                                                              ...        \n",
              "India                                                                          Asia  ...  691904\n",
              "China                                                                          Asia  ...  659962\n",
              "United Kingdom of Great Britain and Northern Ir...                           Europe  ...  551500\n",
              "Philippines                                                                    Asia  ...  511391\n",
              "Pakistan                                                                       Asia  ...  241600\n",
              "United States of America                                           Northern America  ...  241122\n",
              "Iran (Islamic Republic of)                                                     Asia  ...  175923\n",
              "Sri Lanka                                                                      Asia  ...  148358\n",
              "Republic of Korea                                                              Asia  ...  142581\n",
              "Poland                                                                       Europe  ...  139241\n",
              "Lebanon                                                                        Asia  ...  115359\n",
              "France                                                                       Europe  ...  109091\n",
              "Jamaica                                             Latin America and the Caribbean  ...  106431\n",
              "Viet Nam                                                                       Asia  ...   97146\n",
              "Romania                                                                      Europe  ...   93585\n",
              "\n",
              "[15 rows x 38 columns]"
            ]
          },
          "metadata": {
            "tags": []
          },
          "execution_count": 20
        }
      ]
    },
    {
      "cell_type": "markdown",
      "metadata": {
        "button": false,
        "deletable": true,
        "new_sheet": false,
        "run_control": {
          "read_only": false
        },
        "id": "Zcr8hd-eqF5W",
        "colab_type": "text"
      },
      "source": [
        "Double-click __here__ for the solution.\n",
        "<!-- The correct answer is:\n",
        "df_top15 = df_can.sort_values(['Total'], ascending=False, axis=0).head(15)\n",
        "df_top15\n",
        "-->"
      ]
    },
    {
      "cell_type": "markdown",
      "metadata": {
        "button": false,
        "deletable": true,
        "new_sheet": false,
        "run_control": {
          "read_only": false
        },
        "id": "HDMTShbZqF5W",
        "colab_type": "text"
      },
      "source": [
        "Step 2: Create a new dataframe which contains the aggregate for each decade. One way to do that:\n",
        "   1. Create a list of all years in decades 80's, 90's, and 00's.\n",
        "   2. Slice the original dataframe df_can to create a series for each decade and sum across all years for each country.\n",
        "   3. Merge the three series into a new data frame. Call your dataframe **new_df**."
      ]
    },
    {
      "cell_type": "code",
      "metadata": {
        "button": false,
        "deletable": true,
        "editable": true,
        "new_sheet": false,
        "run_control": {
          "read_only": false
        },
        "scrolled": true,
        "id": "uUjj0D9OqF5X",
        "colab_type": "code",
        "colab": {}
      },
      "source": [
        "### type your answer here\n",
        "\n",
        "\n",
        "\n"
      ],
      "execution_count": 0,
      "outputs": []
    },
    {
      "cell_type": "markdown",
      "metadata": {
        "button": false,
        "deletable": true,
        "new_sheet": false,
        "run_control": {
          "read_only": false
        },
        "id": "MTrzWLvKqF5Y",
        "colab_type": "text"
      },
      "source": [
        "Double-click __here__ for the solution.\n",
        "<!-- The correct answer is:\n",
        "\\\\ # create a list of all years in decades 80's, 90's, and 00's\n",
        "years_80s = list(map(str, range(1980, 1990))) \n",
        "years_90s = list(map(str, range(1990, 2000))) \n",
        "years_00s = list(map(str, range(2000, 2010))) \n",
        "-->\n",
        "\n",
        "<!--\n",
        "\\\\ # slice the original dataframe df_can to create a series for each decade\n",
        "df_80s = df_top15.loc[:, years_80s].sum(axis=1) \n",
        "df_90s = df_top15.loc[:, years_90s].sum(axis=1) \n",
        "df_00s = df_top15.loc[:, years_00s].sum(axis=1)\n",
        "-->\n",
        "\n",
        "<!--\n",
        "\\\\ # merge the three series into a new data frame\n",
        "new_df = pd.DataFrame({'1980s': df_80s, '1990s': df_90s, '2000s':df_00s}) \n",
        "-->\n",
        "\n",
        "<!--\n",
        "\\\\ # display dataframe\n",
        "new_df.head()\n",
        "-->"
      ]
    },
    {
      "cell_type": "markdown",
      "metadata": {
        "button": false,
        "deletable": true,
        "new_sheet": false,
        "run_control": {
          "read_only": false
        },
        "id": "W7v1BDzrqF5Z",
        "colab_type": "text"
      },
      "source": [
        "Let's learn more about the statistics associated with the dataframe using the `describe()` method."
      ]
    },
    {
      "cell_type": "code",
      "metadata": {
        "button": false,
        "deletable": true,
        "new_sheet": false,
        "run_control": {
          "read_only": false
        },
        "scrolled": true,
        "id": "P2EhUHTuqF5Z",
        "colab_type": "code",
        "colab": {}
      },
      "source": [
        "### type your answer here\n",
        "\n"
      ],
      "execution_count": 0,
      "outputs": []
    },
    {
      "cell_type": "markdown",
      "metadata": {
        "button": false,
        "deletable": true,
        "new_sheet": false,
        "run_control": {
          "read_only": false
        },
        "id": "0sIL5JGvqF5b",
        "colab_type": "text"
      },
      "source": [
        "Double-click __here__ for the solution.\n",
        "<!-- The correct answer is:\n",
        "new_df.describe()\n",
        "-->"
      ]
    },
    {
      "cell_type": "markdown",
      "metadata": {
        "button": false,
        "deletable": true,
        "new_sheet": false,
        "run_control": {
          "read_only": false
        },
        "id": "mw3bJ0XBqF5c",
        "colab_type": "text"
      },
      "source": [
        "Step 3: Plot the box plots."
      ]
    },
    {
      "cell_type": "code",
      "metadata": {
        "button": false,
        "deletable": true,
        "editable": true,
        "new_sheet": false,
        "run_control": {
          "read_only": false
        },
        "scrolled": false,
        "id": "aqmorf3iqF5c",
        "colab_type": "code",
        "colab": {}
      },
      "source": [
        "### type your answer here\n",
        "\n",
        "\n",
        "\n"
      ],
      "execution_count": 0,
      "outputs": []
    },
    {
      "cell_type": "markdown",
      "metadata": {
        "button": false,
        "deletable": true,
        "new_sheet": false,
        "run_control": {
          "read_only": false
        },
        "id": "21WBdX3PqF5f",
        "colab_type": "text"
      },
      "source": [
        "Double-click __here__ for the solution.\n",
        "<!-- The correct answer is:\n",
        "new_df.plot(kind='box', figsize=(10, 6))\n",
        "-->\n",
        "\n",
        "<!--\n",
        "plt.title('Immigration from top 15 countries for decades 80s, 90s and 2000s')\n",
        "-->\n",
        "\n",
        "<!--\n",
        "plt.show()\n",
        "-->"
      ]
    },
    {
      "cell_type": "markdown",
      "metadata": {
        "button": false,
        "deletable": true,
        "editable": true,
        "new_sheet": false,
        "run_control": {
          "read_only": false
        },
        "id": "jOZzWnsFqF5f",
        "colab_type": "text"
      },
      "source": [
        "Note how the box plot differs from the summary table created. The box plot scans the data and identifies the outliers. In order to be an outlier, the data value must be:<br>\n",
        "* larger than Q3 by at least 1.5 times the interquartile range (IQR), or,\n",
        "* smaller than Q1 by at least 1.5 times the IQR.\n",
        "\n",
        "Let's look at decade 2000s as an example: <br>\n",
        "* Q1 (25%) = 36,101.5 <br>\n",
        "* Q3 (75%) = 105,505.5 <br>\n",
        "* IQR = Q3 - Q1 = 69,404 <br>\n",
        "\n",
        "Using the definition of outlier, any value that is greater than Q3 by 1.5 times IQR will be flagged as outlier.\n",
        "\n",
        "Outlier > 105,505.5 + (1.5 * 69,404) <br>\n",
        "Outlier > 209,611.5"
      ]
    },
    {
      "cell_type": "code",
      "metadata": {
        "button": false,
        "deletable": true,
        "editable": true,
        "new_sheet": false,
        "run_control": {
          "read_only": false
        },
        "scrolled": true,
        "id": "gkD88odxqF5g",
        "colab_type": "code",
        "colab": {}
      },
      "source": [
        "# let's check how many entries fall above the outlier threshold \n",
        "new_df[new_df['2000s']> 209611.5]"
      ],
      "execution_count": 0,
      "outputs": []
    },
    {
      "cell_type": "markdown",
      "metadata": {
        "button": false,
        "deletable": true,
        "editable": true,
        "new_sheet": false,
        "run_control": {
          "read_only": false
        },
        "id": "I9Dj4tFjqF5h",
        "colab_type": "text"
      },
      "source": [
        "China and India are both considered as outliers since their population for the decade exceeds 209,611.5. \n",
        "\n",
        "The box plot is an advanced visualizaiton tool, and there are many options and customizations that exceed the scope of this lab. Please refer to [Matplotlib documentation](http://matplotlib.org/api/pyplot_api.html#matplotlib.pyplot.boxplot) on box plots for more information."
      ]
    },
    {
      "cell_type": "markdown",
      "metadata": {
        "button": false,
        "deletable": true,
        "editable": true,
        "new_sheet": false,
        "run_control": {
          "read_only": false
        },
        "id": "ROLM_7maqF5h",
        "colab_type": "text"
      },
      "source": [
        "# Scatter Plots <a id=\"10\"></a>\n",
        "\n",
        "A `scatter plot` (2D) is a useful method of comparing variables against each other. `Scatter` plots look similar to `line plots` in that they both map independent and dependent variables on a 2D graph. While the datapoints are connected together by a line in a line plot, they are not connected in a scatter plot. The data in a scatter plot is considered to express a trend. With further analysis using tools like regression, we can mathematically calculate this relationship and use it to predict trends outside the dataset.\n",
        "\n",
        "Let's start by exploring the following:\n",
        "\n",
        "Using a `scatter plot`, let's visualize the trend of total immigrantion to Canada (all countries combined) for the years 1980 - 2013."
      ]
    },
    {
      "cell_type": "markdown",
      "metadata": {
        "button": false,
        "deletable": true,
        "editable": true,
        "new_sheet": false,
        "run_control": {
          "read_only": false
        },
        "id": "W_yV8iqyqF5i",
        "colab_type": "text"
      },
      "source": [
        "Step 1: Get the dataset. Since we are expecting to use the relationship betewen `years` and `total population`, we will convert `years` to `int` type."
      ]
    },
    {
      "cell_type": "code",
      "metadata": {
        "button": false,
        "deletable": true,
        "editable": true,
        "new_sheet": false,
        "run_control": {
          "read_only": false
        },
        "id": "6tmFzz7vqF5i",
        "colab_type": "code",
        "colab": {}
      },
      "source": [
        "# we can use the sum() method to get the total population per year\n",
        "df_tot = pd.DataFrame(df_can[years].sum(axis=0))\n",
        "\n",
        "# change the years to type int (useful for regression later on)\n",
        "df_tot.index = map(int, df_tot.index)\n",
        "\n",
        "# reset the index to put in back in as a column in the df_tot dataframe\n",
        "df_tot.reset_index(inplace = True)\n",
        "\n",
        "# rename columns\n",
        "df_tot.columns = ['year', 'total']\n",
        "\n",
        "# view the final dataframe\n",
        "df_tot.head()"
      ],
      "execution_count": 0,
      "outputs": []
    },
    {
      "cell_type": "markdown",
      "metadata": {
        "button": false,
        "deletable": true,
        "editable": true,
        "new_sheet": false,
        "run_control": {
          "read_only": false
        },
        "id": "jKO5iHPvqF5j",
        "colab_type": "text"
      },
      "source": [
        "Step 2: Plot the data. In `Matplotlib`, we can create a `scatter` plot set by passing in `kind='scatter'` as plot argument. We will also need to pass in `x` and `y` keywords to specify the columns that go on the x- and the y-axis."
      ]
    },
    {
      "cell_type": "code",
      "metadata": {
        "button": false,
        "deletable": true,
        "editable": true,
        "new_sheet": false,
        "run_control": {
          "read_only": false
        },
        "id": "bq43SLe_qF5k",
        "colab_type": "code",
        "colab": {}
      },
      "source": [
        "df_tot.plot(kind='scatter', x='year', y='total', figsize=(10, 6), color='darkblue')\n",
        "\n",
        "plt.title('Total Immigration to Canada from 1980 - 2013')\n",
        "plt.xlabel('Year')\n",
        "plt.ylabel('Number of Immigrants')\n",
        "\n",
        "plt.show()"
      ],
      "execution_count": 0,
      "outputs": []
    },
    {
      "cell_type": "markdown",
      "metadata": {
        "button": false,
        "deletable": true,
        "editable": true,
        "new_sheet": false,
        "run_control": {
          "read_only": false
        },
        "id": "VUWK06SBqF5m",
        "colab_type": "text"
      },
      "source": [
        "Notice how the scatter plot does not connect the datapoints together. We can clearly observe an upward trend in the data: as the years go by, the total number of immigrants increases. We can mathematically analyze this upward trend using a regression line (line of best fit). "
      ]
    },
    {
      "cell_type": "markdown",
      "metadata": {
        "button": false,
        "deletable": true,
        "editable": true,
        "new_sheet": false,
        "run_control": {
          "read_only": false
        },
        "id": "Bv-Qb5ZVqF5m",
        "colab_type": "text"
      },
      "source": [
        "So let's try to plot a linear line of best fit, and use it to  predict the number of immigrants in 2015.\n",
        "\n",
        "Step 1: Get the equation of line of best fit. We will use **Numpy**'s `polyfit()` method by passing in the following:\n",
        "- `x`: x-coordinates of the data. \n",
        "- `y`: y-coordinates of the data. \n",
        "- `deg`: Degree of fitting polynomial. 1 = linear, 2 = quadratic, and so on."
      ]
    },
    {
      "cell_type": "code",
      "metadata": {
        "button": false,
        "deletable": true,
        "editable": true,
        "new_sheet": false,
        "run_control": {
          "read_only": false
        },
        "id": "4yho2C7OqF5n",
        "colab_type": "code",
        "colab": {}
      },
      "source": [
        "x = df_tot['year']      # year on x-axis\n",
        "y = df_tot['total']     # total on y-axis\n",
        "fit = np.polyfit(x, y, deg=1)\n",
        "\n",
        "fit"
      ],
      "execution_count": 0,
      "outputs": []
    },
    {
      "cell_type": "markdown",
      "metadata": {
        "button": false,
        "deletable": true,
        "editable": true,
        "new_sheet": false,
        "run_control": {
          "read_only": false
        },
        "id": "MY09Zo2_qF5r",
        "colab_type": "text"
      },
      "source": [
        "The output is an array with the polynomial coefficients, highest powers first. Since we are plotting a linear regression `y= a*x + b`, our output has 2 elements `[5.56709228e+03, -1.09261952e+07]` with the the slope in position 0 and intercept in position 1. \n",
        "\n",
        "Step 2: Plot the regression line on the `scatter plot`."
      ]
    },
    {
      "cell_type": "code",
      "metadata": {
        "button": false,
        "deletable": true,
        "editable": true,
        "new_sheet": false,
        "run_control": {
          "read_only": false
        },
        "scrolled": false,
        "id": "ioLP8BwpqF5r",
        "colab_type": "code",
        "colab": {}
      },
      "source": [
        "df_tot.plot(kind='scatter', x='year', y='total', figsize=(10, 6), color='darkblue')\n",
        "\n",
        "plt.title('Total Immigration to Canada from 1980 - 2013')\n",
        "plt.xlabel('Year')\n",
        "plt.ylabel('Number of Immigrants')\n",
        "\n",
        "# plot line of best fit\n",
        "plt.plot(x, fit[0] * x + fit[1], color='red') # recall that x is the Years\n",
        "plt.annotate('y={0:.0f} x + {1:.0f}'.format(fit[0], fit[1]), xy=(2000, 150000))\n",
        "\n",
        "plt.show()\n",
        "\n",
        "# print out the line of best fit\n",
        "'No. Immigrants = {0:.0f} * Year + {1:.0f}'.format(fit[0], fit[1]) "
      ],
      "execution_count": 0,
      "outputs": []
    },
    {
      "cell_type": "markdown",
      "metadata": {
        "button": false,
        "deletable": true,
        "editable": true,
        "new_sheet": false,
        "run_control": {
          "read_only": false
        },
        "id": "eqUirzghqF5s",
        "colab_type": "text"
      },
      "source": [
        "Using the equation of line of best fit, we can estimate the number of immigrants in 2015:\n",
        "```python\n",
        "No. Immigrants = 5567 * Year - 10926195\n",
        "No. Immigrants = 5567 * 2015 - 10926195\n",
        "No. Immigrants = 291,310\n",
        "```\n",
        "When compared to the actuals from Citizenship and Immigration Canada's (CIC) [2016 Annual Report](http://www.cic.gc.ca/english/resources/publications/annual-report-2016/index.asp), we see that Canada accepted 271,845 immigrants in 2015. Our estimated value of 291,310 is within 7% of the actual number, which is pretty good considering our original data came from United Nations (and might differ slightly from CIC data).\n",
        "\n",
        "As a side note, we can observe that immigration took a dip around 1993 - 1997. Further analysis into the topic revealed that in 1993 Canada introcuded Bill C-86 which introduced revisions to the refugee determination system, mostly restrictive. Further amendments to the Immigration Regulations cancelled the sponsorship required for \"assisted relatives\" and reduced the points awarded to them, making it more difficult for family members (other than nuclear family) to immigrate to Canada. These restrictive measures had a direct impact on the immigration numbers for the next several years."
      ]
    },
    {
      "cell_type": "markdown",
      "metadata": {
        "button": false,
        "deletable": true,
        "new_sheet": false,
        "run_control": {
          "read_only": false
        },
        "id": "ujC5eMohqF5t",
        "colab_type": "text"
      },
      "source": [
        "**Question**: Create a scatter plot of the total immigration from Denmark, Norway, and Sweden to Canada from 1980 to 2013?"
      ]
    },
    {
      "cell_type": "markdown",
      "metadata": {
        "button": false,
        "deletable": true,
        "new_sheet": false,
        "run_control": {
          "read_only": false
        },
        "id": "yQjDnRjoqF5t",
        "colab_type": "text"
      },
      "source": [
        "Step 1: Get the data:\n",
        "   1. Create a dataframe the consists of the numbers associated with Denmark, Norway, and Sweden only. Name it **df_countries**.\n",
        "   2. Sum the immigration numbers across all three countries for each year and turn the result into a dataframe. Name this new dataframe **df_total**.\n",
        "   3. Reset the index in place.\n",
        "   4. Rename the columns to **year** and **total**.\n",
        "   5. Display the resulting dataframe."
      ]
    },
    {
      "cell_type": "code",
      "metadata": {
        "button": false,
        "deletable": true,
        "new_sheet": false,
        "run_control": {
          "read_only": false
        },
        "scrolled": true,
        "id": "FuzoxM_NqF5u",
        "colab_type": "code",
        "colab": {}
      },
      "source": [
        "### type your answer here\n",
        "\n",
        "\n",
        "\n"
      ],
      "execution_count": 0,
      "outputs": []
    },
    {
      "cell_type": "markdown",
      "metadata": {
        "button": false,
        "deletable": true,
        "new_sheet": false,
        "run_control": {
          "read_only": false
        },
        "id": "JYpkK8xtqF5v",
        "colab_type": "text"
      },
      "source": [
        "Double-click __here__ for the solution.\n",
        "<!-- The correct answer is:\n",
        "\\\\ # create df_countries dataframe\n",
        "df_countries = df_can.loc[['Denmark', 'Norway', 'Sweden'], years].transpose()\n",
        "-->\n",
        "\n",
        "<!--\n",
        "\\\\ # create df_total by summing across three countries for each year\n",
        "df_total = pd.DataFrame(df_countries.sum(axis=1))\n",
        "-->\n",
        "\n",
        "<!--\n",
        "\\\\ # reset index in place\n",
        "df_total.reset_index(inplace=True)\n",
        "-->\n",
        "\n",
        "<!--\n",
        "\\\\ # rename columns\n",
        "df_total.columns = ['year', 'total']\n",
        "-->\n",
        "\n",
        "<!--\n",
        "\\\\ # change column year from string to int to create scatter plot\n",
        "df_total['year'] = df_total['year'].astype(int)\n",
        "-->\n",
        "\n",
        "<!--\n",
        "\\\\ # show resulting dataframe\n",
        "df_total.head()\n",
        "-->"
      ]
    },
    {
      "cell_type": "markdown",
      "metadata": {
        "button": false,
        "deletable": true,
        "new_sheet": false,
        "run_control": {
          "read_only": false
        },
        "id": "61cl48yXqF5w",
        "colab_type": "text"
      },
      "source": [
        "Step 2: Generate the scatter plot by plotting the total versus year in **df_total**."
      ]
    },
    {
      "cell_type": "code",
      "metadata": {
        "button": false,
        "deletable": true,
        "new_sheet": false,
        "run_control": {
          "read_only": false
        },
        "id": "CrFp5XSuqF5x",
        "colab_type": "code",
        "colab": {}
      },
      "source": [
        "### type your answer here\n",
        "\n",
        "\n",
        "\n"
      ],
      "execution_count": 0,
      "outputs": []
    },
    {
      "cell_type": "markdown",
      "metadata": {
        "button": false,
        "deletable": true,
        "new_sheet": false,
        "run_control": {
          "read_only": false
        },
        "id": "rbGLjaduqF5y",
        "colab_type": "text"
      },
      "source": [
        "Double-click __here__ for the solution.\n",
        "<!-- The correct answer is:\n",
        "\\\\ # generate scatter plot\n",
        "df_total.plot(kind='scatter', x='year', y='total', figsize=(10, 6), color='darkblue')\n",
        "-->\n",
        "\n",
        "<!--\n",
        "\\\\ # add title and label to axes\n",
        "plt.title('Immigration from Denmark, Norway, and Sweden to Canada from 1980 - 2013')\n",
        "plt.xlabel('Year')\n",
        "plt.ylabel('Number of Immigrants')\n",
        "-->\n",
        "\n",
        "<!--\n",
        "\\\\ # show plot\n",
        "plt.show()\n",
        "-->"
      ]
    },
    {
      "cell_type": "markdown",
      "metadata": {
        "button": false,
        "deletable": true,
        "editable": true,
        "new_sheet": false,
        "run_control": {
          "read_only": false
        },
        "id": "yM9uoKJ5qF5z",
        "colab_type": "text"
      },
      "source": [
        "# Bubble Plots <a id=\"12\"></a>\n",
        "\n",
        "A `bubble plot` is a variation of the `scatter plot` that displays three dimensions of data (x, y, z). The datapoints are replaced with bubbles, and the size of the bubble is determined by the third variable 'z', also known as the weight. In `maplotlib`, we can pass in an array or scalar to the keyword `s` to `plot()`, that contains the weight of each point.\n",
        "\n",
        "**Let's start by analyzing the effect of Argentina's great depression**.\n",
        "\n",
        "Argentina suffered a great depression from 1998 - 2002, which caused widespread unemployment, riots, the fall of the government, and a default on the country's foreign debt. In terms of income, over 50% of Argentines were poor, and seven out of ten Argentine children were poor at the depth of the crisis in 2002. \n",
        "\n",
        "Let's analyze the effect of this crisis, and compare Argentina's immigration to that of it's neighbour Brazil. Let's do that using a `bubble plot` of immigration from Brazil and Argentina for the years 1980 - 2013. We will set the weights for the bubble as the *normalized* value of the population for each year."
      ]
    },
    {
      "cell_type": "markdown",
      "metadata": {
        "button": false,
        "deletable": true,
        "editable": true,
        "new_sheet": false,
        "run_control": {
          "read_only": false
        },
        "id": "svhvBc6BqF5z",
        "colab_type": "text"
      },
      "source": [
        "Step 1: Get the data for Brazil and Argentina. Like in the previous example, we will convert the `Years` to type int and bring it in the dataframe."
      ]
    },
    {
      "cell_type": "code",
      "metadata": {
        "button": false,
        "deletable": true,
        "editable": true,
        "new_sheet": false,
        "run_control": {
          "read_only": false
        },
        "scrolled": true,
        "id": "wss_K8HEqF5z",
        "colab_type": "code",
        "colab": {}
      },
      "source": [
        "df_can_t = df_can[years].transpose() # transposed dataframe\n",
        "\n",
        "# cast the Years (the index) to type int\n",
        "df_can_t.index = map(int, df_can_t.index)\n",
        "\n",
        "# let's label the index. This will automatically be the column name when we reset the index\n",
        "df_can_t.index.name = 'Year'\n",
        "\n",
        "# reset index to bring the Year in as a column\n",
        "df_can_t.reset_index(inplace=True)\n",
        "\n",
        "# view the changes\n",
        "df_can_t.head()"
      ],
      "execution_count": 0,
      "outputs": []
    },
    {
      "cell_type": "markdown",
      "metadata": {
        "button": false,
        "deletable": true,
        "editable": true,
        "new_sheet": false,
        "run_control": {
          "read_only": false
        },
        "id": "mlkjIzu9qF51",
        "colab_type": "text"
      },
      "source": [
        "Step 2: Create the normalized weights. \n",
        "\n",
        "There are several methods of normalizations in statistics, each with its own use. In this case, we will use [feature scaling](https://en.wikipedia.org/wiki/Feature_scaling) to bring all values into the range [0,1]. The general formula is:\n",
        "\n",
        "<img src=\"https://ibm.box.com/shared/static/3e43kt5j9wj4326x1lh8z2jeqzgpk3jv.png\" align=\"center\">\n",
        "\n",
        "where *`X`* is an original value, *`X'`* is the normalized value. The formula sets the max value in the dataset to 1, and sets the min value to 0. The rest of the datapoints are scaled to a value between 0-1 accordingly.\n"
      ]
    },
    {
      "cell_type": "code",
      "metadata": {
        "button": false,
        "deletable": true,
        "editable": true,
        "new_sheet": false,
        "run_control": {
          "read_only": false
        },
        "scrolled": true,
        "id": "j15i_DiPqF52",
        "colab_type": "code",
        "colab": {}
      },
      "source": [
        "# normalize Brazil data\n",
        "norm_brazil = (df_can_t['Brazil'] - df_can_t['Brazil'].min()) / (df_can_t['Brazil'].max() - df_can_t['Brazil'].min())\n",
        "\n",
        "# normalize Argentina data\n",
        "norm_argentina = (df_can_t['Argentina'] - df_can_t['Argentina'].min()) / (df_can_t['Argentina'].max() - df_can_t['Argentina'].min())"
      ],
      "execution_count": 0,
      "outputs": []
    },
    {
      "cell_type": "markdown",
      "metadata": {
        "button": false,
        "deletable": true,
        "editable": true,
        "new_sheet": false,
        "run_control": {
          "read_only": false
        },
        "id": "Lv8YE3xVqF53",
        "colab_type": "text"
      },
      "source": [
        "Step 3: Plot the data. \n",
        "- To plot two different scatter plots in one plot, we can include the axes one plot into the other by passing it via the `ax` parameter. \n",
        "- We will also pass in the weights using the `s` parameter. Given that the normalized weights are between 0-1, they won't be visible on the plot. Therefore we will:\n",
        "    - multiply weights by 2000 to scale it up on the graph, and,\n",
        "    - add 10 to compensate for the min value (which has a 0 weight and therefore scale with x2000)."
      ]
    },
    {
      "cell_type": "code",
      "metadata": {
        "button": false,
        "deletable": true,
        "editable": true,
        "new_sheet": false,
        "run_control": {
          "read_only": false
        },
        "id": "ecagbbqTqF54",
        "colab_type": "code",
        "colab": {}
      },
      "source": [
        "# Brazil\n",
        "ax0 = df_can_t.plot(kind='scatter',\n",
        "                    x='Year',\n",
        "                    y='Brazil',\n",
        "                    figsize=(14, 8),\n",
        "                    alpha=0.5,                  # transparency\n",
        "                    color='green',\n",
        "                    s=norm_brazil * 2000 + 10,  # pass in weights \n",
        "                    xlim=(1975, 2015)\n",
        "                   )\n",
        "\n",
        "# Argentina\n",
        "ax1 = df_can_t.plot(kind='scatter',\n",
        "                    x='Year',\n",
        "                    y='Argentina',\n",
        "                    alpha=0.5,\n",
        "                    color=\"blue\",\n",
        "                    s=norm_argentina * 2000 + 10,\n",
        "                    ax = ax0\n",
        "                   )\n",
        "\n",
        "ax0.set_ylabel('Number of Immigrants')\n",
        "ax0.set_title('Immigration from Brazil and Argentina from 1980 - 2013')\n",
        "ax0.legend(['Brazil', 'Argentina'], loc='upper left', fontsize='x-large')"
      ],
      "execution_count": 0,
      "outputs": []
    },
    {
      "cell_type": "markdown",
      "metadata": {
        "button": false,
        "deletable": true,
        "editable": true,
        "new_sheet": false,
        "run_control": {
          "read_only": false
        },
        "id": "VuMlixbGqF57",
        "colab_type": "text"
      },
      "source": [
        "The size of the bubble corresponds to the magnitude of immigrating population for that year, compared to the 1980 - 2013 data. The larger the bubble, the more immigrants in that year.\n",
        "\n",
        "From the plot above, we can see a corresponding increase in immigration from Argentina during the 1998 - 2002 great depression. We can also observe a similar spike around 1985 to 1993. In fact, Argentina had suffered a great depression from 1974 - 1990, just before the onset of 1998 - 2002 great depression. \n",
        "\n",
        "On a similar note, Brazil suffered the *Samba Effect* where the Brazilian real (currency) dropped nearly 35% in 1999. There was a fear of a South American financial crisis as many South American countries were heavily dependent on industrial exports from Brazil. The Brazilian government subsequently adopted an austerity program, and the economy slowly recovered over the years, culminating in a surge in 2010. The immigration data reflect these events."
      ]
    },
    {
      "cell_type": "markdown",
      "metadata": {
        "button": false,
        "deletable": true,
        "new_sheet": false,
        "run_control": {
          "read_only": false
        },
        "id": "KVPGyKEbqF58",
        "colab_type": "text"
      },
      "source": [
        "**Question**: Previously in this lab, we created box plots to compare immigration from China and India to Canada. Create bubble plots of immigration from China and India to visualize any differences with time from 1980 to 2013. You can use **df_can_t** that we defined and used in the previous example."
      ]
    },
    {
      "cell_type": "markdown",
      "metadata": {
        "button": false,
        "deletable": true,
        "new_sheet": false,
        "run_control": {
          "read_only": false
        },
        "id": "1u-tNxbXqF59",
        "colab_type": "text"
      },
      "source": [
        "Step 1: Normalize the data pertaining to China and India."
      ]
    },
    {
      "cell_type": "code",
      "metadata": {
        "button": false,
        "deletable": true,
        "new_sheet": false,
        "run_control": {
          "read_only": false
        },
        "id": "Mq04_hP4qF59",
        "colab_type": "code",
        "colab": {}
      },
      "source": [
        "### type your answer here\n",
        "\n",
        "\n",
        "\n"
      ],
      "execution_count": 0,
      "outputs": []
    },
    {
      "cell_type": "markdown",
      "metadata": {
        "button": false,
        "deletable": true,
        "new_sheet": false,
        "run_control": {
          "read_only": false
        },
        "id": "T2gWkqxlqF5-",
        "colab_type": "text"
      },
      "source": [
        "Double-click __here__ for the solution.\n",
        "<!-- The correct answer is:\n",
        "\\\\ # normalize China data\n",
        "norm_china = (df_can_t['China'] - df_can_t['China'].min()) / (df_can_t['China'].max() - df_can_t['China'].min())\n",
        "-->\n",
        "\n",
        "<!--\n",
        "# normalize India data\n",
        "norm_india = (df_can_t['India'] - df_can_t['India'].min()) / (df_can_t['India'].max() - df_can_t['India'].min())\n",
        "-->"
      ]
    },
    {
      "cell_type": "markdown",
      "metadata": {
        "button": false,
        "deletable": true,
        "new_sheet": false,
        "run_control": {
          "read_only": false
        },
        "id": "jVPomZBmqF5_",
        "colab_type": "text"
      },
      "source": [
        "Step 2: Generate the bubble plots."
      ]
    },
    {
      "cell_type": "code",
      "metadata": {
        "button": false,
        "deletable": true,
        "new_sheet": false,
        "run_control": {
          "read_only": false
        },
        "id": "W2GVU7LTqF5_",
        "colab_type": "code",
        "colab": {}
      },
      "source": [
        "### type your answer here\n",
        "\n",
        "\n",
        "\n"
      ],
      "execution_count": 0,
      "outputs": []
    },
    {
      "cell_type": "markdown",
      "metadata": {
        "button": false,
        "deletable": true,
        "new_sheet": false,
        "run_control": {
          "read_only": false
        },
        "id": "TKhhi7ceqF6B",
        "colab_type": "text"
      },
      "source": [
        "Double-click __here__ for the solution.\n",
        "<!-- The correct answer is:\n",
        "\\\\ # China\n",
        "ax0 = df_can_t.plot(kind='scatter',\n",
        "                    x='Year',\n",
        "                    y='China',\n",
        "                    figsize=(14, 8),\n",
        "                    alpha=0.5,                  # transparency\n",
        "                    color='green',\n",
        "                    s=norm_china * 2000 + 10,  # pass in weights \n",
        "                    xlim=(1975, 2015)\n",
        "                   )\n",
        "-->\n",
        "\n",
        "<!--\n",
        "\\\\ # India\n",
        "ax1 = df_can_t.plot(kind='scatter',\n",
        "                    x='Year',\n",
        "                    y='India',\n",
        "                    alpha=0.5,\n",
        "                    color=\"blue\",\n",
        "                    s=norm_india * 2000 + 10,\n",
        "                    ax = ax0\n",
        "                   )\n",
        "-->\n",
        "\n",
        "<!--\n",
        "ax0.set_ylabel('Number of Immigrants')\n",
        "ax0.set_title('Immigration from China and India from 1980 - 2013')\n",
        "ax0.legend(['China', 'India'], loc='upper left', fontsize='x-large')\n",
        "-->"
      ]
    }
  ]
}