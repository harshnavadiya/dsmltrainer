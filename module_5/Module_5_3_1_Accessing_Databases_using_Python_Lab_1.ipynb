{
  "nbformat": 4,
  "nbformat_minor": 0,
  "metadata": {
    "colab": {
      "name": "Module 5.3.1 - Accessing Databases using Python - Lab 1.ipynb",
      "version": "0.3.2",
      "provenance": [],
      "collapsed_sections": [],
      "include_colab_link": true
    },
    "language_info": {
      "codemirror_mode": {
        "name": "ipython",
        "version": 3
      },
      "file_extension": ".py",
      "mimetype": "text/x-python",
      "name": "python",
      "nbconvert_exporter": "python",
      "pygments_lexer": "ipython3",
      "version": "3.6.6"
    },
    "kernelspec": {
      "display_name": "Python 3",
      "language": "python",
      "name": "python3"
    }
  },
  "cells": [
    {
      "cell_type": "markdown",
      "metadata": {
        "id": "view-in-github",
        "colab_type": "text"
      },
      "source": [
        "<a href=\"https://colab.research.google.com/github/harshnavadiya/dsmltrainer/blob/master/module_5/Module_5_3_1_Accessing_Databases_using_Python_Lab_1.ipynb\" target=\"_parent\"><img src=\"https://colab.research.google.com/assets/colab-badge.svg\" alt=\"Open In Colab\"/></a>"
      ]
    },
    {
      "cell_type": "markdown",
      "metadata": {
        "id": "cLfvc2JtH45A",
        "colab_type": "text"
      },
      "source": [
        "##Lab: Connect to Db2 database on Cloud using Python"
      ]
    },
    {
      "cell_type": "markdown",
      "metadata": {
        "id": "UEe-83fXH45B",
        "colab_type": "text"
      },
      "source": [
        "# Introduction\n",
        "\n",
        "This notebook illustrates how to access a DB2 database on Cloud using Python by following the steps below:\n",
        "1. Import the `ibm_db` Python library\n",
        "1. Enter the database connection credentials\n",
        "1. Create the database connection\n",
        "1. Close the database connection\n",
        "\n",
        "\n",
        "\n",
        "__Note:__ Please follow the instructions given in the first Lab of this course to Create a database service instance of Db2 on Cloud and retrieve your database Service Credentials.\n",
        "\n",
        "## Import the `ibm_db` Python library\n",
        "\n",
        "The `ibm_db` [API ](https://pypi.python.org/pypi/ibm_db/) provides a variety of useful Python functions for accessing and manipulating data in an IBM® data server database, including functions for connecting to a database, preparing and issuing SQL statements, fetching rows from result sets, calling stored procedures, committing and rolling back transactions, handling errors, and retrieving metadata.\n",
        "\n",
        "\n",
        "We first import the ibm_db library into our Python Application\n",
        "\n",
        "Execute the following cell by clicking within it and then \n",
        "press `Shift` and `Enter` keys simultaneously\n"
      ]
    },
    {
      "cell_type": "code",
      "metadata": {
        "id": "jiVrfW3zzGat",
        "colab_type": "code",
        "outputId": "a33b7ff0-f91f-4a9e-bac1-934b817cdb3b",
        "colab": {
          "base_uri": "https://localhost:8080/",
          "height": 153
        }
      },
      "source": [
        "!pip install ibm_db"
      ],
      "execution_count": 0,
      "outputs": [
        {
          "output_type": "stream",
          "text": [
            "Collecting ibm_db\n",
            "  Using cached https://files.pythonhosted.org/packages/98/cb/f77d9bd5f64246074af364cc30e20e3044c533890f3b67d30e89615c2fc5/ibm_db-3.0.1.tar.gz\n",
            "Building wheels for collected packages: ibm-db\n",
            "  Building wheel for ibm-db (setup.py) ... \u001b[?25l\u001b[?25hdone\n",
            "  Stored in directory: /root/.cache/pip/wheels/10/3f/74/c274ef3f7afab9b16fbfbd7814eccc229992a91151a13d91c9\n",
            "Successfully built ibm-db\n",
            "Installing collected packages: ibm-db\n",
            "Successfully installed ibm-db-3.0.1\n"
          ],
          "name": "stdout"
        }
      ]
    },
    {
      "cell_type": "code",
      "metadata": {
        "id": "6i1u5jtMH45C",
        "colab_type": "code",
        "colab": {}
      },
      "source": [
        "import ibm_db"
      ],
      "execution_count": 0,
      "outputs": []
    },
    {
      "cell_type": "markdown",
      "metadata": {
        "id": "NqZ3IsvdH45E",
        "colab_type": "text"
      },
      "source": [
        "When the command above completes, the `ibm_db` library is loaded in your notebook. \n",
        "\n",
        "\n",
        "## Identify the database connection credentials\n",
        "\n",
        "Connecting to dashDB or DB2 database requires the following information:\n",
        "* Driver Name\n",
        "* Database name \n",
        "* Host DNS name or IP address \n",
        "* Host port\n",
        "* Connection protocol\n",
        "* User ID (or username)\n",
        "* User Password\n",
        "\n",
        "\n",
        "\n",
        "__Notice:__ To obtain credentials please refer to the instructions given in the first Lab of this course\n",
        "\n",
        "Now enter your database credentials below and execute the cell with `Shift` + `Enter`\n"
      ]
    },
    {
      "cell_type": "code",
      "metadata": {
        "id": "xVTAY13DH45F",
        "colab_type": "code",
        "colab": {}
      },
      "source": [
        "#Replace the placeholder values with your actual Db2 hostname, username, and password:\n",
        "dsn_hostname = \"ys1-dashdb-small-01-lon02.services.eu-gb.bluemix.net\" # e.g.: \"dashdb-txn-sbox-yp-dal09-04.services.dal.bluemix.net\"\n",
        "dsn_uid = \"dash108246\"        # e.g. \"abc12345\"\n",
        "dsn_pwd = \"r_MBUv9q7_vY\"      # e.g. \"7dBZ3wWt9XN6$o0J\"\n",
        "\n",
        "dsn_driver = \"{IBM DB2 ODBC DRIVER}\"\n",
        "dsn_database = \"BLUDB\"            # e.g. \"BLUDB\"\n",
        "dsn_port = \"50000\"                # e.g. \"50000\" \n",
        "dsn_protocol = \"TCPIP\"            # i.e. \"TCPIP\""
      ],
      "execution_count": 0,
      "outputs": []
    },
    {
      "cell_type": "markdown",
      "metadata": {
        "id": "zKVrjFBtH45G",
        "colab_type": "text"
      },
      "source": [
        "## Create the DB2 database connection\n",
        "\n",
        "Ibm_db API uses the IBM Data Server Driver for ODBC and CLI APIs to connect to IBM DB2 and Informix.\n",
        "\n",
        "\n",
        "Lets build the dsn connection string using the credentials you entered above\n"
      ]
    },
    {
      "cell_type": "code",
      "metadata": {
        "id": "CYDNtjVzH45H",
        "colab_type": "code",
        "outputId": "09f0ab3b-fcbf-44bc-a7ac-15c9f0e47c5b",
        "colab": {
          "base_uri": "https://localhost:8080/",
          "height": 34
        }
      },
      "source": [
        "#DO NOT MODIFY THIS CELL. Just RUN it with Shift + Enter\n",
        "#Create the dsn connection string\n",
        "dsn = (\n",
        "    \"DRIVER={0};\"\n",
        "    \"DATABASE={1};\"\n",
        "    \"HOSTNAME={2};\"\n",
        "    \"PORT={3};\"\n",
        "    \"PROTOCOL={4};\"\n",
        "    \"UID={5};\"\n",
        "    \"PWD={6};\").format(dsn_driver, dsn_database, dsn_hostname, dsn_port, dsn_protocol, dsn_uid, dsn_pwd)\n",
        "\n",
        "#print the connection string to check correct values are specified\n",
        "print(dsn)"
      ],
      "execution_count": 0,
      "outputs": [
        {
          "output_type": "stream",
          "text": [
            "DRIVER={IBM DB2 ODBC DRIVER};DATABASE=BLUDB;HOSTNAME=ys1-dashdb-small-01-lon02.services.eu-gb.bluemix.net;PORT=50000;PROTOCOL=TCPIP;UID=dash108246;PWD=r_MBUv9q7_vY;\n"
          ],
          "name": "stdout"
        }
      ]
    },
    {
      "cell_type": "markdown",
      "metadata": {
        "id": "65EhzzG6H45J",
        "colab_type": "text"
      },
      "source": [
        "Now establish the connection to the database"
      ]
    },
    {
      "cell_type": "code",
      "metadata": {
        "id": "9g31zms4H45K",
        "colab_type": "code",
        "outputId": "7985fabb-b08c-44ce-c82e-24fd3002f6a3",
        "colab": {
          "base_uri": "https://localhost:8080/",
          "height": 54
        }
      },
      "source": [
        "#DO NOT MODIFY THIS CELL. Just RUN it with Shift + Enter\n",
        "#Create database connection\n",
        "\n",
        "try:\n",
        "    conn = ibm_db.connect(dsn, \"\", \"\")\n",
        "    print (\"Connected to database: \", dsn_database, \"as user: \", dsn_uid, \"on host: \", dsn_hostname)\n",
        "\n",
        "except:\n",
        "    print (\"Unable to connect: \", ibm_db.conn_errormsg() )\n"
      ],
      "execution_count": 0,
      "outputs": [
        {
          "output_type": "stream",
          "text": [
            "Unable to connect:  [IBM][CLI Driver] SQL30081N  A communication error has been detected. Communication protocol being used: \"TCP/IP\".  Communication API being used: \"SOCKETS\".  Location where the error was detected: \"5.10.110.175\".  Communication function detecting the error: \"connect\".  Protocol specific error code(s): \"110\", \"*\", \"*\".  SQLSTATE=08001 SQLCODE=-30081\n"
          ],
          "name": "stdout"
        }
      ]
    },
    {
      "cell_type": "markdown",
      "metadata": {
        "id": "DoXbymxDH45M",
        "colab_type": "text"
      },
      "source": [
        "Congratulations if you were able to connect successfuly. Otherwise check the error and try again."
      ]
    },
    {
      "cell_type": "code",
      "metadata": {
        "id": "BS05HugqH45N",
        "colab_type": "code",
        "outputId": "05d342ed-f632-4b80-98fa-a2fd4f01baf6",
        "colab": {}
      },
      "source": [
        "#Retrieve Metadata for the Database Server\n",
        "server = ibm_db.server_info(conn)\n",
        "\n",
        "print (\"DBMS_NAME: \", server.DBMS_NAME)\n",
        "print (\"DBMS_VER:  \", server.DBMS_VER)\n",
        "print (\"DB_NAME:   \", server.DB_NAME)"
      ],
      "execution_count": 0,
      "outputs": [
        {
          "output_type": "stream",
          "text": [
            "DBMS_NAME:  DB2/LINUXX8664\n",
            "DBMS_VER:   11.01.0303\n",
            "DB_NAME:    BLUDB\n"
          ],
          "name": "stdout"
        }
      ]
    },
    {
      "cell_type": "code",
      "metadata": {
        "id": "-fXFy3rjH45P",
        "colab_type": "code",
        "outputId": "d11f5e10-06e4-43d8-8cdb-b07d98737ce4",
        "colab": {}
      },
      "source": [
        "#Retrieve Metadata for the Database Client / Driver\n",
        "client = ibm_db.client_info(conn)\n",
        "\n",
        "print (\"DRIVER_NAME:          \", client.DRIVER_NAME) \n",
        "print (\"DRIVER_VER:           \", client.DRIVER_VER)\n",
        "print (\"DATA_SOURCE_NAME:     \", client.DATA_SOURCE_NAME)\n",
        "print (\"DRIVER_ODBC_VER:      \", client.DRIVER_ODBC_VER)\n",
        "print (\"ODBC_VER:             \", client.ODBC_VER)\n",
        "print (\"ODBC_SQL_CONFORMANCE: \", client.ODBC_SQL_CONFORMANCE)\n",
        "print (\"APPL_CODEPAGE:        \", client.APPL_CODEPAGE)\n",
        "print (\"CONN_CODEPAGE:        \", client.CONN_CODEPAGE)"
      ],
      "execution_count": 0,
      "outputs": [
        {
          "output_type": "stream",
          "text": [
            "DRIVER_NAME:           libdb2.a\n",
            "DRIVER_VER:            11.01.0303\n",
            "DATA_SOURCE_NAME:      BLUDB\n",
            "DRIVER_ODBC_VER:       03.51\n",
            "ODBC_VER:              03.01.0000\n",
            "ODBC_SQL_CONFORMANCE:  EXTENDED\n",
            "APPL_CODEPAGE:         1208\n",
            "CONN_CODEPAGE:         1208\n"
          ],
          "name": "stdout"
        }
      ]
    },
    {
      "cell_type": "markdown",
      "metadata": {
        "id": "rwPmnbMkH45R",
        "colab_type": "text"
      },
      "source": [
        "## Close the Connection\n",
        "We free all resources by closing the connection. Remember that it is always important to close connections so that we can avoid unused connections taking up resources."
      ]
    },
    {
      "cell_type": "code",
      "metadata": {
        "id": "sVmm6C49H45S",
        "colab_type": "code",
        "colab": {}
      },
      "source": [
        "ibm_db.close(conn)"
      ],
      "execution_count": 0,
      "outputs": []
    },
    {
      "cell_type": "markdown",
      "metadata": {
        "id": "xBog_7_6H45T",
        "colab_type": "text"
      },
      "source": [
        "## Summary\n",
        "\n",
        "In this tutorial you established a connection to a DB2 database on Cloud database from a Python notebook using ibm_db API. "
      ]
    }
  ]
}