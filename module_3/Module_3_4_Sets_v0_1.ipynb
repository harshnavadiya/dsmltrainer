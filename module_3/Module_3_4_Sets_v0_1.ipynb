{
  "nbformat": 4,
  "nbformat_minor": 0,
  "metadata": {
    "colab": {
      "name": "Module_3.4_Sets_v0.1.ipynb",
      "version": "0.3.2",
      "provenance": [],
      "include_colab_link": true
    },
    "language_info": {
      "codemirror_mode": {
        "name": "ipython",
        "version": 3
      },
      "file_extension": ".py",
      "mimetype": "text/x-python",
      "name": "python",
      "nbconvert_exporter": "python",
      "pygments_lexer": "ipython3",
      "version": "3.5.2"
    },
    "kernelspec": {
      "display_name": "Python 3",
      "language": "python",
      "name": "python3"
    }
  },
  "cells": [
    {
      "cell_type": "markdown",
      "metadata": {
        "id": "view-in-github",
        "colab_type": "text"
      },
      "source": [
        "<a href=\"https://colab.research.google.com/github/harshnavadiya/dsmltrainer/blob/master/module_3/Module_3_4_Sets_v0_1.ipynb\" target=\"_parent\"><img src=\"https://colab.research.google.com/assets/colab-badge.svg\" alt=\"Open In Colab\"/></a>"
      ]
    },
    {
      "cell_type": "markdown",
      "metadata": {
        "id": "ncEPCPpJvoPm",
        "colab_type": "text"
      },
      "source": [
        "#Sets"
      ]
    },
    {
      "cell_type": "markdown",
      "metadata": {
        "id": "rCVcAoRUvoPn",
        "colab_type": "text"
      },
      "source": [
        "\n",
        "## Table of Contents\n",
        "\n",
        "\n",
        "<div class=\"alert alert-block alert-info\" style=\"margin-top: 20px\">\n",
        "<li><a href=\"#ref1\">Sets</a></li>\n",
        "\n",
        "<br>\n",
        "<p></p>\n",
        "Estimated Time Needed: <strong>20 min</strong>\n",
        "</div>\n",
        "\n",
        "<hr>"
      ]
    },
    {
      "cell_type": "markdown",
      "metadata": {
        "id": "62Iz_todvoPo",
        "colab_type": "text"
      },
      "source": [
        "<a id=\"ref1\"></a>\n",
        "<center><h2>Sets</h2></center>\n",
        "\n",
        "In this lab, we are going to take a look at sets in Python. A set is a unique collection of objects in Python. You can denote a set with a curly bracket **{}**. Python will remove duplicate items:\n"
      ]
    },
    {
      "cell_type": "code",
      "metadata": {
        "id": "4MSYXgVgvoPo",
        "colab_type": "code",
        "colab": {}
      },
      "source": [
        "set1={\"pop\", \"rock\", \"soul\", \"hard rock\", \"rock\", \"R&B\", \"rock\", \"disco\"}\n",
        "set1"
      ],
      "execution_count": 0,
      "outputs": []
    },
    {
      "cell_type": "markdown",
      "metadata": {
        "id": "63Dn5WAovoPq",
        "colab_type": "text"
      },
      "source": [
        "The process of mapping is illustrated in the figure:\n"
      ]
    },
    {
      "cell_type": "markdown",
      "metadata": {
        "id": "YEOzyoF1voPs",
        "colab_type": "text"
      },
      "source": [
        "<a ><img src = https://ibm.box.com/shared/static/i0xb9qbetek7kbh17krx05i4lqmywahm.png width = 1100, align = \"center\"></a>\n"
      ]
    },
    {
      "cell_type": "markdown",
      "metadata": {
        "id": "5MWnIogTvoPs",
        "colab_type": "text"
      },
      "source": [
        " You can also  create a set from a list as follows:"
      ]
    },
    {
      "cell_type": "code",
      "metadata": {
        "scrolled": true,
        "id": "_xv2ZemXvoPt",
        "colab_type": "code",
        "colab": {}
      },
      "source": [
        "album_list =[ \"Michael Jackson\", \"Thriller\", 1982, \"00:42:19\", \\\n",
        "              \"Pop, Rock, R&B\", 46.0, 65, \"30-Nov-82\", None, 10.0]\n",
        "\n",
        "album_set = set(album_list)             \n",
        "album_set"
      ],
      "execution_count": 0,
      "outputs": []
    },
    {
      "cell_type": "markdown",
      "metadata": {
        "id": "n46RemUtvoPv",
        "colab_type": "text"
      },
      "source": [
        "Now let us create a set of  genres:"
      ]
    },
    {
      "cell_type": "code",
      "metadata": {
        "id": "6gWnBB_XvoPv",
        "colab_type": "code",
        "colab": {}
      },
      "source": [
        "music_genres = set([\"pop\", \"pop\", \"rock\", \"folk rock\", \"hard rock\", \"soul\", \\\n",
        "                    \"progressive rock\", \"soft rock\", \"R&B\", \"disco\"])\n",
        "music_genres"
      ],
      "execution_count": 0,
      "outputs": []
    },
    {
      "cell_type": "markdown",
      "metadata": {
        "id": "WS3MjnTavoPx",
        "colab_type": "text"
      },
      "source": [
        "#### Convert the following list to a set ['rap','house','electronic music', 'rap']:"
      ]
    },
    {
      "cell_type": "code",
      "metadata": {
        "id": "Y_kAj4VbvoPx",
        "colab_type": "code",
        "colab": {}
      },
      "source": [
        ""
      ],
      "execution_count": 0,
      "outputs": []
    },
    {
      "cell_type": "markdown",
      "metadata": {
        "id": "Ai5tOcZ5voP0",
        "colab_type": "text"
      },
      "source": [
        "Notice that the duplicates are removed and the output is sorted."
      ]
    },
    {
      "cell_type": "markdown",
      "metadata": {
        "id": "Qrse4VuEvoP1",
        "colab_type": "text"
      },
      "source": [
        "Let us get the sum of the claimed sales:"
      ]
    },
    {
      "cell_type": "markdown",
      "metadata": {
        "id": "pMOysiY8voP1",
        "colab_type": "text"
      },
      "source": [
        "#### Consider the list A=[1,2,2,1] and set B=set([1,2,2,1]), does sum(A)=sum(B) "
      ]
    },
    {
      "cell_type": "code",
      "metadata": {
        "id": "OEC6HOrDvoP2",
        "colab_type": "code",
        "outputId": "bf3ffdcb-2466-4584-ec76-d928cc3b3b25",
        "colab": {
          "base_uri": "https://localhost:8080/",
          "height": 34
        }
      },
      "source": [
        ""
      ],
      "execution_count": 0,
      "outputs": [
        {
          "output_type": "execute_result",
          "data": {
            "text/plain": [
              "3"
            ]
          },
          "metadata": {
            "tags": []
          },
          "execution_count": 4
        }
      ]
    },
    {
      "cell_type": "markdown",
      "metadata": {
        "id": "dlkeYElRvoP5",
        "colab_type": "text"
      },
      "source": [
        "### Set Operations "
      ]
    },
    {
      "cell_type": "markdown",
      "metadata": {
        "id": "WUisywwYvoP5",
        "colab_type": "text"
      },
      "source": [
        " Let us go over Set Operations, as these can be used to change the set. Consider the set **A**:"
      ]
    },
    {
      "cell_type": "code",
      "metadata": {
        "id": "kEkZPH5PvoP6",
        "colab_type": "code",
        "outputId": "d41d76ac-c7fd-4b34-cdbe-022493a14c64",
        "colab": {
          "base_uri": "https://localhost:8080/",
          "height": 34
        }
      },
      "source": [
        "A = set([\"Thriller\",\"Back in Black\", \"AC/DC\"] )\n",
        "A"
      ],
      "execution_count": 0,
      "outputs": [
        {
          "output_type": "execute_result",
          "data": {
            "text/plain": [
              "{'AC/DC', 'Back in Black', 'Thriller'}"
            ]
          },
          "metadata": {
            "tags": []
          },
          "execution_count": 5
        }
      ]
    },
    {
      "cell_type": "markdown",
      "metadata": {
        "id": "Mpl1vqrUvoP9",
        "colab_type": "text"
      },
      "source": [
        " We can add an element to a set using the **add()** method: "
      ]
    },
    {
      "cell_type": "code",
      "metadata": {
        "id": "tK8VGailvoP9",
        "colab_type": "code",
        "outputId": "1557a1e8-3652-4030-e2d7-06a2a08c9850",
        "colab": {
          "base_uri": "https://localhost:8080/",
          "height": 34
        }
      },
      "source": [
        "A.add(\"NSYNC\")\n",
        "A"
      ],
      "execution_count": 0,
      "outputs": [
        {
          "output_type": "execute_result",
          "data": {
            "text/plain": [
              "{'AC/DC', 'Back in Black', 'NSYNC', 'Thriller'}"
            ]
          },
          "metadata": {
            "tags": []
          },
          "execution_count": 6
        }
      ]
    },
    {
      "cell_type": "markdown",
      "metadata": {
        "id": "HBhLvAqHvoQA",
        "colab_type": "text"
      },
      "source": [
        " If we add the same element twice, nothing will happen as there can be no duplicates in a set:\n"
      ]
    },
    {
      "cell_type": "code",
      "metadata": {
        "id": "B18r7I3TvoQB",
        "colab_type": "code",
        "outputId": "166990ff-9054-4976-e927-a4929e333b23",
        "colab": {
          "base_uri": "https://localhost:8080/",
          "height": 34
        }
      },
      "source": [
        "A.add(\"NSYNC\")\n",
        "A"
      ],
      "execution_count": 0,
      "outputs": [
        {
          "output_type": "execute_result",
          "data": {
            "text/plain": [
              "{'AC/DC', 'Back in Black', 'NSYNC', 'Thriller'}"
            ]
          },
          "metadata": {
            "tags": []
          },
          "execution_count": 7
        }
      ]
    },
    {
      "cell_type": "markdown",
      "metadata": {
        "id": "FvH4uvCvvoQD",
        "colab_type": "text"
      },
      "source": [
        " We can remove an item from a set using the remove method:"
      ]
    },
    {
      "cell_type": "code",
      "metadata": {
        "id": "dVBUpBGmvoQE",
        "colab_type": "code",
        "outputId": "1ae37f5b-3e9d-4a8b-f71e-3aa87d83a089",
        "colab": {
          "base_uri": "https://localhost:8080/",
          "height": 34
        }
      },
      "source": [
        "A.remove(\"NSYNC\")\n",
        "A"
      ],
      "execution_count": 0,
      "outputs": [
        {
          "output_type": "execute_result",
          "data": {
            "text/plain": [
              "{'AC/DC', 'Back in Black', 'Thriller'}"
            ]
          },
          "metadata": {
            "tags": []
          },
          "execution_count": 8
        }
      ]
    },
    {
      "cell_type": "markdown",
      "metadata": {
        "id": "Xn40DxRpvoQG",
        "colab_type": "text"
      },
      "source": [
        " We can verify if an element is in the set using the **in** command :"
      ]
    },
    {
      "cell_type": "code",
      "metadata": {
        "id": "G3AGVGLavoQG",
        "colab_type": "code",
        "outputId": "68c07fad-aa06-46eb-df31-476eec665abc",
        "colab": {
          "base_uri": "https://localhost:8080/",
          "height": 34
        }
      },
      "source": [
        "\"AC/DC\"  in A\n"
      ],
      "execution_count": 0,
      "outputs": [
        {
          "output_type": "execute_result",
          "data": {
            "text/plain": [
              "True"
            ]
          },
          "metadata": {
            "tags": []
          },
          "execution_count": 9
        }
      ]
    },
    {
      "cell_type": "markdown",
      "metadata": {
        "id": "dZcnNpz_voQI",
        "colab_type": "text"
      },
      "source": [
        "### Working with sets"
      ]
    },
    {
      "cell_type": "markdown",
      "metadata": {
        "id": "5lcVaYvuvoQJ",
        "colab_type": "text"
      },
      "source": [
        "Remember that with sets you can check the difference between sets, as well as the symmetric difference, intersection, and union:"
      ]
    },
    {
      "cell_type": "markdown",
      "metadata": {
        "id": "x_zb5hrtvoQJ",
        "colab_type": "text"
      },
      "source": [
        " Consider the following two sets:"
      ]
    },
    {
      "cell_type": "code",
      "metadata": {
        "id": "3toF90gkvoQK",
        "colab_type": "code",
        "colab": {}
      },
      "source": [
        "album_set1 = set([\"Thriller\",'AC/DC', 'Back in Black'] )\n",
        "album_set2 = set([ \"AC/DC\",\"Back in Black\", \"The Dark Side of the Moon\"] )"
      ],
      "execution_count": 0,
      "outputs": []
    },
    {
      "cell_type": "markdown",
      "metadata": {
        "id": "LvQ8DOo3voQL",
        "colab_type": "text"
      },
      "source": [
        " <a ><img src = \"https://ibm.box.com/shared/static/bl6ijga6g8r7bdfkl17qw7zh62czte47.png\" width = 850, align = \"center\"></a>\n",
        "  <h4 align=center>  Visualizing the sets as two circles \n",
        " \n",
        "  </h4> "
      ]
    },
    {
      "cell_type": "code",
      "metadata": {
        "scrolled": true,
        "id": "Kryb_b_5voQM",
        "colab_type": "code",
        "outputId": "ccd55ba2-dbc2-4b1d-b1d1-cee7a1bc911c",
        "colab": {
          "base_uri": "https://localhost:8080/",
          "height": 51
        }
      },
      "source": [
        "album_set1, album_set2"
      ],
      "execution_count": 0,
      "outputs": [
        {
          "output_type": "execute_result",
          "data": {
            "text/plain": [
              "({'AC/DC', 'Back in Black', 'Thriller'},\n",
              " {'AC/DC', 'Back in Black', 'The Dark Side of the Moon'})"
            ]
          },
          "metadata": {
            "tags": []
          },
          "execution_count": 11
        }
      ]
    },
    {
      "cell_type": "markdown",
      "metadata": {
        "id": "yo11_a_BvoQO",
        "colab_type": "text"
      },
      "source": [
        " As both sets contain 'AC/DC' and 'Back in Black' we represent these common elements with the intersection of two circles.    \n"
      ]
    },
    {
      "cell_type": "markdown",
      "metadata": {
        "id": "KG2AwYpEvoQO",
        "colab_type": "text"
      },
      "source": [
        " <a ><img src = \"https://ibm.box.com/shared/static/7ttuf8otui4s6axm23csmb4s3pxz16y2.png\" width = 650, align = \"center\"></a>\n",
        "  <h4 align=center>  Visualizing common elements with the intersection of two circles.\n",
        " \n",
        "  </h4> "
      ]
    },
    {
      "cell_type": "markdown",
      "metadata": {
        "id": "rbPsB7ZlvoQP",
        "colab_type": "text"
      },
      "source": [
        "We can find the common elements of the sets as follows:"
      ]
    },
    {
      "cell_type": "code",
      "metadata": {
        "id": "9orIyDEtvoQP",
        "colab_type": "code",
        "outputId": "c4dce4ed-4b87-4f4f-b908-c1c4dacefd8a",
        "colab": {
          "base_uri": "https://localhost:8080/",
          "height": 34
        }
      },
      "source": [
        "album_set_3=album_set1 & album_set2\n",
        "album_set_3"
      ],
      "execution_count": 0,
      "outputs": [
        {
          "output_type": "execute_result",
          "data": {
            "text/plain": [
              "{'AC/DC', 'Back in Black'}"
            ]
          },
          "metadata": {
            "tags": []
          },
          "execution_count": 12
        }
      ]
    },
    {
      "cell_type": "markdown",
      "metadata": {
        "id": "MHdcjExSvoQS",
        "colab_type": "text"
      },
      "source": [
        "We can find all the elements that are only contained in **album_set1** using the **difference** method:"
      ]
    },
    {
      "cell_type": "code",
      "metadata": {
        "id": "PP_ZH0T4voQS",
        "colab_type": "code",
        "outputId": "364236bb-99e8-402d-80df-043869e64519",
        "colab": {
          "base_uri": "https://localhost:8080/",
          "height": 34
        }
      },
      "source": [
        "album_set1.difference(album_set2)  "
      ],
      "execution_count": 0,
      "outputs": [
        {
          "output_type": "execute_result",
          "data": {
            "text/plain": [
              "{'Thriller'}"
            ]
          },
          "metadata": {
            "tags": []
          },
          "execution_count": 13
        }
      ]
    },
    {
      "cell_type": "markdown",
      "metadata": {
        "id": "j7VAZTYMvoQU",
        "colab_type": "text"
      },
      "source": [
        "We only consider elements in **album_set1**; all the elements in **album_set2**, including the intersection, are not included.\n"
      ]
    },
    {
      "cell_type": "markdown",
      "metadata": {
        "id": "fdqCv92_voQU",
        "colab_type": "text"
      },
      "source": [
        " <a ><img src = \"https://ibm.box.com/shared/static/osmxw1qnb5t9odon2cx94wxhfzlkn1n8.png\" width = 650, align = \"center\"></a>\n",
        "  <h4 align=center>  The difference of “album_set1” and   “album_set2\n",
        " \n",
        "  </h4> "
      ]
    },
    {
      "cell_type": "markdown",
      "metadata": {
        "id": "qnwheWKMvoQV",
        "colab_type": "text"
      },
      "source": [
        "The difference between **album_set2** and **album_set1** is given by:"
      ]
    },
    {
      "cell_type": "code",
      "metadata": {
        "id": "An8eP-zvvoQV",
        "colab_type": "code",
        "outputId": "3955ef6d-2ec8-4a0a-8c1a-41123d12c7be",
        "colab": {
          "base_uri": "https://localhost:8080/",
          "height": 34
        }
      },
      "source": [
        "album_set2.difference(album_set1)  "
      ],
      "execution_count": 0,
      "outputs": [
        {
          "output_type": "execute_result",
          "data": {
            "text/plain": [
              "{'The Dark Side of the Moon'}"
            ]
          },
          "metadata": {
            "tags": []
          },
          "execution_count": 14
        }
      ]
    },
    {
      "cell_type": "markdown",
      "metadata": {
        "id": "1hj2oR70voQY",
        "colab_type": "text"
      },
      "source": [
        "<a ><img src = \"https://ibm.box.com/shared/static/klgc09bgpsjudr9v3wtl8yk9s2lya3hl.png\" width = 650, align = \"center\"></a>\n",
        "  <h4 align=center>  The difference of **album_set2** and   **album_set1**\n",
        " \n",
        "  </h4> "
      ]
    },
    {
      "cell_type": "markdown",
      "metadata": {
        "id": "VNDVoDyrvoQZ",
        "colab_type": "text"
      },
      "source": [
        "We can also find the intersection, i.e in both **album_list2** and **album_list1**, using the intersection command :"
      ]
    },
    {
      "cell_type": "code",
      "metadata": {
        "id": "XjwDVHLevoQZ",
        "colab_type": "code",
        "outputId": "52b434e8-6d52-4f60-ca84-66c7e7b28e62",
        "colab": {
          "base_uri": "https://localhost:8080/",
          "height": 34
        }
      },
      "source": [
        "album_set1.intersection(album_set2)   "
      ],
      "execution_count": 0,
      "outputs": [
        {
          "output_type": "execute_result",
          "data": {
            "text/plain": [
              "{'AC/DC', 'Back in Black'}"
            ]
          },
          "metadata": {
            "tags": []
          },
          "execution_count": 15
        }
      ]
    },
    {
      "cell_type": "markdown",
      "metadata": {
        "id": "jPWtaJ4evoQb",
        "colab_type": "text"
      },
      "source": [
        " This corresponds to the intersection of the two circles:"
      ]
    },
    {
      "cell_type": "markdown",
      "metadata": {
        "id": "1P2VMt41voQb",
        "colab_type": "text"
      },
      "source": [
        " <a ><img src = \"https://ibm.box.com/shared/static/s2xfytq43twp6jsvbvr4o2fir7wdablo.png\" width = 650, align = \"center\"></a>\n",
        "  <h4 align=center>  Intersection of set\n",
        " \n",
        "  </h4> "
      ]
    },
    {
      "cell_type": "markdown",
      "metadata": {
        "id": "n_33wHbDvoQc",
        "colab_type": "text"
      },
      "source": [
        " The union corresponds to all the elements in both sets, which is represented by colouring  both circles:\n"
      ]
    },
    {
      "cell_type": "markdown",
      "metadata": {
        "id": "YKRp51wmvoQd",
        "colab_type": "text"
      },
      "source": [
        " <a ><img src = \"https://ibm.box.com/shared/static/vkczce5jh50g0oh53xn0ilgriflcrog0.png\" width = 650, align = \"center\"></a>\n",
        "  <h4 align=center> Figure 7:  Union of set\n",
        " \n",
        "  </h4> "
      ]
    },
    {
      "cell_type": "markdown",
      "metadata": {
        "id": "ZmOVHHdGvoQd",
        "colab_type": "text"
      },
      "source": [
        " The union is given by:"
      ]
    },
    {
      "cell_type": "code",
      "metadata": {
        "id": "PhTNKH_AvoQe",
        "colab_type": "code",
        "colab": {}
      },
      "source": [
        "album_set1.union(album_set2)"
      ],
      "execution_count": 0,
      "outputs": []
    },
    {
      "cell_type": "markdown",
      "metadata": {
        "id": "6GKia6tSvoQf",
        "colab_type": "text"
      },
      "source": [
        "And you can check if a set is a superset or subset of another set, respectively, like this:"
      ]
    },
    {
      "cell_type": "code",
      "metadata": {
        "id": "3mfoVXDavoQf",
        "colab_type": "code",
        "colab": {}
      },
      "source": [
        "set(album_set1).issuperset(album_set2)   "
      ],
      "execution_count": 0,
      "outputs": []
    },
    {
      "cell_type": "code",
      "metadata": {
        "id": "uYmyl9NkvoQh",
        "colab_type": "code",
        "colab": {}
      },
      "source": [
        "set(album_set2).issubset(album_set1)     "
      ],
      "execution_count": 0,
      "outputs": []
    },
    {
      "cell_type": "markdown",
      "metadata": {
        "id": "Uj_swyLCvoQi",
        "colab_type": "text"
      },
      "source": [
        "Here is an example where **issubset()** is **issuperset()** is true:"
      ]
    },
    {
      "cell_type": "code",
      "metadata": {
        "id": "CAy-kzAcvoQi",
        "colab_type": "code",
        "colab": {}
      },
      "source": [
        "set({\"Back in Black\", \"AC/DC\"}).issubset(album_set1) "
      ],
      "execution_count": 0,
      "outputs": []
    },
    {
      "cell_type": "code",
      "metadata": {
        "id": "0LZZYkWdvoQl",
        "colab_type": "code",
        "colab": {}
      },
      "source": [
        "album_set1.issuperset({\"Back in Black\", \"AC/DC\"})   "
      ],
      "execution_count": 0,
      "outputs": []
    },
    {
      "cell_type": "markdown",
      "metadata": {
        "id": "duhEJnM7voQn",
        "colab_type": "text"
      },
      "source": [
        "#### Create a new set “album_set3” that is the union of “album_set1” and “album_set2”:"
      ]
    },
    {
      "cell_type": "code",
      "metadata": {
        "id": "x296YnxWvoQn",
        "colab_type": "code",
        "colab": {}
      },
      "source": [
        ""
      ],
      "execution_count": 0,
      "outputs": []
    },
    {
      "cell_type": "markdown",
      "metadata": {
        "id": "Hyrdt5G0voQq",
        "colab_type": "text"
      },
      "source": [
        "#### Find out if  \"album_set1\" is a subset of \"album_set3\":"
      ]
    },
    {
      "cell_type": "code",
      "metadata": {
        "id": "LFYhyauyvoQr",
        "colab_type": "code",
        "colab": {}
      },
      "source": [
        ""
      ],
      "execution_count": 0,
      "outputs": []
    }
  ]
}