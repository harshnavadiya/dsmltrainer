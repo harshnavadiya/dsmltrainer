{
  "nbformat": 4,
  "nbformat_minor": 0,
  "metadata": {
    "colab": {
      "name": "Module_3.4_Dictionaries_v0.1.ipynb",
      "version": "0.3.2",
      "provenance": [],
      "collapsed_sections": [],
      "include_colab_link": true
    },
    "language_info": {
      "codemirror_mode": {
        "name": "ipython",
        "version": 3
      },
      "file_extension": ".py",
      "mimetype": "text/x-python",
      "name": "python",
      "nbconvert_exporter": "python",
      "pygments_lexer": "ipython3",
      "version": "3.6.5"
    },
    "kernelspec": {
      "display_name": "Python 3",
      "language": "python",
      "name": "python3"
    }
  },
  "cells": [
    {
      "cell_type": "markdown",
      "metadata": {
        "id": "view-in-github",
        "colab_type": "text"
      },
      "source": [
        "<a href=\"https://colab.research.google.com/github/harshnavadiya/dsmltrainer/blob/master/module_3/Module_3_4_Dictionaries_v0_1.ipynb\" target=\"_parent\"><img src=\"https://colab.research.google.com/assets/colab-badge.svg\" alt=\"Open In Colab\"/></a>"
      ]
    },
    {
      "cell_type": "markdown",
      "metadata": {
        "id": "RHDQjZq_ufER",
        "colab_type": "text"
      },
      "source": [
        "#Sets and Dictionaries"
      ]
    },
    {
      "cell_type": "markdown",
      "metadata": {
        "id": "LGAgNNaSufER",
        "colab_type": "text"
      },
      "source": [
        "\n",
        "## Table of Contents\n",
        "\n",
        "\n",
        "<div class=\"alert alert-block alert-info\" style=\"margin-top: 20px\">\n",
        "\n",
        "<li><a href=\"#ref2\">Dictionaries</a></li>\n",
        "<br>\n",
        "<p></p>\n",
        "Estimated Time Needed: <strong>20 min</strong>\n",
        "</div>\n",
        "\n",
        "<hr>"
      ]
    },
    {
      "cell_type": "markdown",
      "metadata": {
        "id": "8O_yYK68ufES",
        "colab_type": "text"
      },
      "source": [
        "<a id=\"ref2\"></a>\n",
        "<h2 align=center> Dictionaries  in Python  </h2>\n"
      ]
    },
    {
      "cell_type": "markdown",
      "metadata": {
        "id": "wvNpPB2PufET",
        "colab_type": "text"
      },
      "source": [
        "A dictionary consists of keys and values. It is helpful to compare a dictionary to a list. Instead of the numerical indexes such as a list, dictionaries have keys. These keys are labels that are used to access values within a dictionary."
      ]
    },
    {
      "cell_type": "markdown",
      "metadata": {
        "id": "PH4qkZCgufET",
        "colab_type": "text"
      },
      "source": [
        "<a ><img src = \"https://ibm.box.com/shared/static/6tyznuwydogmtuv73o8l5g7xsb8o92h2.png\" width = 650, align = \"center\"></a>\n",
        "  <h4 align=center>  A  Comparison of a Dictionary to a list: Instead of the numerical indexes like a list, dictionaries have keys.\n",
        "  </h4> \n"
      ]
    },
    {
      "cell_type": "markdown",
      "metadata": {
        "id": "0SmCc0VrufEU",
        "colab_type": "text"
      },
      "source": [
        " An example of a  Dictionary **Dict**:"
      ]
    },
    {
      "cell_type": "code",
      "metadata": {
        "id": "o3OGNQd4ufEV",
        "colab_type": "code",
        "outputId": "3b4deea0-ada2-4aa1-aa8b-35dbe1e33f6f",
        "colab": {
          "base_uri": "https://localhost:8080/",
          "height": 119
        }
      },
      "source": [
        "Dict={\"key1\":1,\"key2\":\"2\",\"key3\":[3,3,3],\"key4\":(4,4,4),('key5'):5,(0,1):6}\n",
        "Dict"
      ],
      "execution_count": 0,
      "outputs": [
        {
          "output_type": "execute_result",
          "data": {
            "text/plain": [
              "{(0, 1): 6,\n",
              " 'key1': 1,\n",
              " 'key2': '2',\n",
              " 'key3': [3, 3, 3],\n",
              " 'key4': (4, 4, 4),\n",
              " 'key5': 5}"
            ]
          },
          "metadata": {
            "tags": []
          },
          "execution_count": 1
        }
      ]
    },
    {
      "cell_type": "markdown",
      "metadata": {
        "id": "VvKKdkG5ufEY",
        "colab_type": "text"
      },
      "source": [
        " The keys can be strings:"
      ]
    },
    {
      "cell_type": "code",
      "metadata": {
        "id": "GG2Goh29ufEZ",
        "colab_type": "code",
        "outputId": "058e4b29-64c8-4e9d-8bd4-04d0b373ea28",
        "colab": {
          "base_uri": "https://localhost:8080/",
          "height": 34
        }
      },
      "source": [
        "Dict[\"key1\"]"
      ],
      "execution_count": 0,
      "outputs": [
        {
          "output_type": "execute_result",
          "data": {
            "text/plain": [
              "1"
            ]
          },
          "metadata": {
            "tags": []
          },
          "execution_count": 2
        }
      ]
    },
    {
      "cell_type": "markdown",
      "metadata": {
        "id": "yr_P_fNyufEb",
        "colab_type": "text"
      },
      "source": [
        " Keys can also be any immutable object such as a tuple: "
      ]
    },
    {
      "cell_type": "code",
      "metadata": {
        "id": "LM2pCgRHufEb",
        "colab_type": "code",
        "outputId": "36dd92a7-45df-4123-f6a3-32185fe79364",
        "colab": {
          "base_uri": "https://localhost:8080/",
          "height": 34
        }
      },
      "source": [
        "Dict[(0,1)]"
      ],
      "execution_count": 0,
      "outputs": [
        {
          "output_type": "execute_result",
          "data": {
            "text/plain": [
              "6"
            ]
          },
          "metadata": {
            "tags": []
          },
          "execution_count": 3
        }
      ]
    },
    {
      "cell_type": "markdown",
      "metadata": {
        "id": "3ePptjOAufEe",
        "colab_type": "text"
      },
      "source": [
        " Each key is separated from its value by a colon \"**:**\".  Commas separate the items, and the whole dictionary is enclosed in curly braces. An empty dictionary without any items is written with just two curly braces, like this  \"**{}**\"."
      ]
    },
    {
      "cell_type": "code",
      "metadata": {
        "id": "HMnBcc1xufEe",
        "colab_type": "code",
        "outputId": "a0c8d74a-5a2a-4748-f996-d4490653608e",
        "colab": {
          "base_uri": "https://localhost:8080/",
          "height": 153
        }
      },
      "source": [
        "release_year_dict = {\"Thriller\":\"1982\", \"Back in Black\":\"1980\", \\\n",
        "                    \"The Dark Side of the Moon\":\"1973\", \"The Bodyguard\":\"1992\", \\\n",
        "                    \"Bat Out of Hell\":\"1977\", \"Their Greatest Hits (1971-1975)\":\"1976\", \\\n",
        "                    \"Saturday Night Fever\":\"1977\", \"Rumours\":\"1977\"}\n",
        "release_year_dict"
      ],
      "execution_count": 0,
      "outputs": [
        {
          "output_type": "execute_result",
          "data": {
            "text/plain": [
              "{'Back in Black': '1980',\n",
              " 'Bat Out of Hell': '1977',\n",
              " 'Rumours': '1977',\n",
              " 'Saturday Night Fever': '1977',\n",
              " 'The Bodyguard': '1992',\n",
              " 'The Dark Side of the Moon': '1973',\n",
              " 'Their Greatest Hits (1971-1975)': '1976',\n",
              " 'Thriller': '1982'}"
            ]
          },
          "metadata": {
            "tags": []
          },
          "execution_count": 4
        }
      ]
    },
    {
      "cell_type": "markdown",
      "metadata": {
        "id": "Je8E8CZTufEg",
        "colab_type": "text"
      },
      "source": [
        "In summary, like a list, a dictionary holds a sequence of elements. Each element is represented by a key and its corresponding value. Dictionaries are created with two curly braces containing keys and values separated by a colon. For every key, there can only be a single value, however,  multiple keys can hold the same value. Keys can only be strings, numbers, or tuples, but values can be any data type."
      ]
    },
    {
      "cell_type": "markdown",
      "metadata": {
        "id": "SkkOHOHAufEh",
        "colab_type": "text"
      },
      "source": [
        "It is helpful to visualize the dictionary as a table, as in figure 9. The first column represents the keys, the second column represents the values.\n"
      ]
    },
    {
      "cell_type": "markdown",
      "metadata": {
        "id": "sl573pEAufEi",
        "colab_type": "text"
      },
      "source": [
        " <a ><img src = \"https://ibm.box.com/shared/static/i45fppou18c3t0fuf2ikks48tod7chbl.png\" width = 650, align = \"center\"></a>\n",
        "  <h4 align=center> Figure 9: Table representing a Dictionary  \n",
        "\n",
        "  </h4> \n"
      ]
    },
    {
      "cell_type": "markdown",
      "metadata": {
        "id": "LT-A6xI7ufEi",
        "colab_type": "text"
      },
      "source": [
        "You will need this dictionary for the next two questions :"
      ]
    },
    {
      "cell_type": "code",
      "metadata": {
        "id": "P5lSrDSmufEj",
        "colab_type": "code",
        "outputId": "a534308b-37c0-4385-90f5-ac91fbdcbf41",
        "colab": {
          "base_uri": "https://localhost:8080/",
          "height": 34
        }
      },
      "source": [
        "soundtrack_dic = { \"The Bodyguard\":\"1992\", \"Saturday Night Fever\":\"1977\"}\n",
        "soundtrack_dic "
      ],
      "execution_count": 0,
      "outputs": [
        {
          "output_type": "execute_result",
          "data": {
            "text/plain": [
              "{'Saturday Night Fever': '1977', 'The Bodyguard': '1992'}"
            ]
          },
          "metadata": {
            "tags": []
          },
          "execution_count": 5
        }
      ]
    },
    {
      "cell_type": "markdown",
      "metadata": {
        "id": "xFcyvOozufEo",
        "colab_type": "text"
      },
      "source": [
        "#### In the dictionary \"soundtrack_dict\" what are the keys ?"
      ]
    },
    {
      "cell_type": "code",
      "metadata": {
        "id": "CPsoaIieufEp",
        "colab_type": "code",
        "outputId": "8a034f78-7eb2-4c80-e57a-55b254ef51ce",
        "colab": {
          "base_uri": "https://localhost:8080/",
          "height": 34
        }
      },
      "source": [
        ""
      ],
      "execution_count": 0,
      "outputs": [
        {
          "output_type": "execute_result",
          "data": {
            "text/plain": [
              "dict_keys(['The Bodyguard', 'Saturday Night Fever'])"
            ]
          },
          "metadata": {
            "tags": []
          },
          "execution_count": 6
        }
      ]
    },
    {
      "cell_type": "markdown",
      "metadata": {
        "id": "G0oFgm2GufEr",
        "colab_type": "text"
      },
      "source": [
        "####  In the dictionary \"soundtrack_dict\" what are the values ?"
      ]
    },
    {
      "cell_type": "markdown",
      "metadata": {
        "id": "iSHKoXOZufEs",
        "colab_type": "text"
      },
      "source": [
        "You can retrieve the values based on the names:"
      ]
    },
    {
      "cell_type": "code",
      "metadata": {
        "id": "7yM4mN6pufEt",
        "colab_type": "code",
        "colab": {}
      },
      "source": [
        "release_year_dict['Thriller'] "
      ],
      "execution_count": 0,
      "outputs": []
    },
    {
      "cell_type": "markdown",
      "metadata": {
        "id": "DLJPpZbqufEv",
        "colab_type": "text"
      },
      "source": [
        "This corresponds to: \n"
      ]
    },
    {
      "cell_type": "markdown",
      "metadata": {
        "id": "vE11UeWAufEv",
        "colab_type": "text"
      },
      "source": [
        " <a ><img src = \"https://ibm.box.com/shared/static/glbwz23cgjjxqi7rjxn7me5i16gan7h7.png\" width = 500, align = \"center\"></a>\n",
        "  <h4 align=center> \n",
        " Table used to represent accessing the value for \"Thriller\"   \n",
        "\n",
        "  </h4> \n"
      ]
    },
    {
      "cell_type": "markdown",
      "metadata": {
        "id": "P-l8zIK9ufEw",
        "colab_type": "text"
      },
      "source": [
        "Similarly for The Bodyguard     \n"
      ]
    },
    {
      "cell_type": "code",
      "metadata": {
        "id": "skgmDeYuufEw",
        "colab_type": "code",
        "colab": {}
      },
      "source": [
        "release_year_dict['The Bodyguard'] "
      ],
      "execution_count": 0,
      "outputs": []
    },
    {
      "cell_type": "markdown",
      "metadata": {
        "id": "S04g1inlufEy",
        "colab_type": "text"
      },
      "source": [
        " <a ><img src = \"https://ibm.box.com/shared/static/6t7bu8jusckaskukwq1k0a3im5ltcpsn.png  \" width = 500, align = \"center\"></a>\n",
        "  <h4 align=center> \n",
        "Accessing the value for the \"The Bodyguard\"\n",
        "\n",
        "  </h4> \n",
        "\n",
        "\n"
      ]
    },
    {
      "cell_type": "markdown",
      "metadata": {
        "id": "2aNUTElpufEy",
        "colab_type": "text"
      },
      "source": [
        "Now let us retrieve the keys of the dictionary using the method **release_year_dict()**:"
      ]
    },
    {
      "cell_type": "code",
      "metadata": {
        "id": "4I8DK0nQufEz",
        "colab_type": "code",
        "colab": {}
      },
      "source": [
        "release_year_dict.keys() "
      ],
      "execution_count": 0,
      "outputs": []
    },
    {
      "cell_type": "markdown",
      "metadata": {
        "id": "3xJFFrNAufE1",
        "colab_type": "text"
      },
      "source": [
        " You can retrieve the values using the method  **`values()`**:"
      ]
    },
    {
      "cell_type": "code",
      "metadata": {
        "id": "0XmeGXZTufE2",
        "colab_type": "code",
        "colab": {}
      },
      "source": [
        "release_year_dict.values() "
      ],
      "execution_count": 0,
      "outputs": []
    },
    {
      "cell_type": "markdown",
      "metadata": {
        "id": "e54ezMP-ufE4",
        "colab_type": "text"
      },
      "source": [
        "We can add an entry:"
      ]
    },
    {
      "cell_type": "code",
      "metadata": {
        "id": "6d7Z5Y3dufE4",
        "colab_type": "code",
        "colab": {}
      },
      "source": [
        "release_year_dict['Graduation']='2007'\n",
        "release_year_dict"
      ],
      "execution_count": 0,
      "outputs": []
    },
    {
      "cell_type": "markdown",
      "metadata": {
        "id": "POOkw5EAufE7",
        "colab_type": "text"
      },
      "source": [
        "We can delete an entry:   "
      ]
    },
    {
      "cell_type": "code",
      "metadata": {
        "id": "ZNa9Ha6CufE8",
        "colab_type": "code",
        "colab": {}
      },
      "source": [
        "del(release_year_dict['Thriller'])\n",
        "del(release_year_dict['Graduation'])\n",
        "release_year_dict"
      ],
      "execution_count": 0,
      "outputs": []
    },
    {
      "cell_type": "markdown",
      "metadata": {
        "id": "_gDPSyNoufE_",
        "colab_type": "text"
      },
      "source": [
        " We can verify if an element is in the dictionary: "
      ]
    },
    {
      "cell_type": "code",
      "metadata": {
        "id": "00RuOBw2ufFA",
        "colab_type": "code",
        "colab": {}
      },
      "source": [
        "'The Bodyguard' in release_year_dict"
      ],
      "execution_count": 0,
      "outputs": []
    },
    {
      "cell_type": "markdown",
      "metadata": {
        "id": "gO8M76FoufFC",
        "colab_type": "text"
      },
      "source": [
        "#### The Albums 'Back in Black', 'The Bodyguard' and 'Thriller' have the following music recording sales in millions 50, 50 and 65 respectively:"
      ]
    },
    {
      "cell_type": "markdown",
      "metadata": {
        "id": "253oDlJMufFC",
        "colab_type": "text"
      },
      "source": [
        "##### a) Create a dictionary “album_sales_dict” where the keys are the album name and the sales in millions are the values. "
      ]
    },
    {
      "cell_type": "code",
      "metadata": {
        "id": "-XsbVaerufFE",
        "colab_type": "code",
        "colab": {}
      },
      "source": [
        ""
      ],
      "execution_count": 0,
      "outputs": []
    },
    {
      "cell_type": "markdown",
      "metadata": {
        "id": "XX27jGGIufFG",
        "colab_type": "text"
      },
      "source": [
        "#### b) Use the dictionary to find the total sales of \"Thriller\":"
      ]
    },
    {
      "cell_type": "code",
      "metadata": {
        "id": "-GQBSxXDufFG",
        "colab_type": "code",
        "colab": {}
      },
      "source": [
        ""
      ],
      "execution_count": 0,
      "outputs": []
    },
    {
      "cell_type": "markdown",
      "metadata": {
        "id": "3c8mQsoQufFK",
        "colab_type": "text"
      },
      "source": [
        "#### c) Find the names of the albums from the dictionary using the method \"keys\":"
      ]
    },
    {
      "cell_type": "code",
      "metadata": {
        "id": "pAr6f3RjufFK",
        "colab_type": "code",
        "colab": {}
      },
      "source": [
        ""
      ],
      "execution_count": 0,
      "outputs": []
    },
    {
      "cell_type": "markdown",
      "metadata": {
        "id": "v_yyUfNXufFM",
        "colab_type": "text"
      },
      "source": [
        "#### d) Find the names of the recording sales​ from the dictionary using the method \"values\":"
      ]
    },
    {
      "cell_type": "code",
      "metadata": {
        "id": "UMBjEawSufFM",
        "colab_type": "code",
        "colab": {}
      },
      "source": [
        ""
      ],
      "execution_count": 0,
      "outputs": []
    }
  ]
}