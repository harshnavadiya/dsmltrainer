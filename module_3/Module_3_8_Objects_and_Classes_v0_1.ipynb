{
  "nbformat": 4,
  "nbformat_minor": 0,
  "metadata": {
    "colab": {
      "name": "Module_3.8_Objects_and_Classes_v0.1.ipynb",
      "version": "0.3.2",
      "provenance": [],
      "collapsed_sections": [],
      "include_colab_link": true
    },
    "language_info": {
      "codemirror_mode": {
        "name": "ipython",
        "version": 3
      },
      "file_extension": ".py",
      "mimetype": "text/x-python",
      "name": "python",
      "nbconvert_exporter": "python",
      "pygments_lexer": "ipython3",
      "version": "3.5.2"
    },
    "kernelspec": {
      "display_name": "Python 3",
      "language": "python",
      "name": "python3"
    }
  },
  "cells": [
    {
      "cell_type": "markdown",
      "metadata": {
        "id": "view-in-github",
        "colab_type": "text"
      },
      "source": [
        "<a href=\"https://colab.research.google.com/github/harshnavadiya/dsmltrainer/blob/master/module_3/Module_3_8_Objects_and_Classes_v0_1.ipynb\" target=\"_parent\"><img src=\"https://colab.research.google.com/assets/colab-badge.svg\" alt=\"Open In Colab\"/></a>"
      ]
    },
    {
      "cell_type": "markdown",
      "metadata": {
        "id": "u1LJC8jePnio",
        "colab_type": "text"
      },
      "source": [
        "#PYTHON OBJECTS AND CLASSES"
      ]
    },
    {
      "cell_type": "markdown",
      "metadata": {
        "id": "cbY48VdUPnip",
        "colab_type": "text"
      },
      "source": [
        "# Welcome!\n",
        "\n",
        "Objects in programming are like objects in real life. Like life, there are different classes of objects. In this notebook, we will create two classes called Circle and Rectangle. By the end of this notebook, you will have a better idea about :\n",
        "\n",
        "-what a class is\n",
        "\n",
        "-what an attribute is\n",
        "\n",
        "-what a method is\n",
        "\n",
        "Don’t worry if you don’t get it the first time, as much of the terminology is confusing. Don’t forget to do the practice tests in the notebook.\n"
      ]
    },
    {
      "cell_type": "markdown",
      "metadata": {
        "id": "sqW-RkcfPnip",
        "colab_type": "text"
      },
      "source": [
        "### Introduction \n",
        "\n",
        "#### Creating a Class \n",
        " The first part of creating a class is giving it a name: In this notebook, we will create two classes, Circle and Rectangle. We need to determine all the data that make up that class, and we call that an attribute. Think about this step as creating a blue print that we will use to create objects. In figure 1 we see two classes, circle and rectangle. Each has their attributes, they are variables. The class circle has the attribute radius and colour, while the rectangle has the attribute height and width. Let’s use the visual examples of these shapes before we get to the code, as this will help you get accustomed to the vocabulary.\n",
        "\n",
        "\n"
      ]
    },
    {
      "cell_type": "markdown",
      "metadata": {
        "id": "WUyw3V56Pniq",
        "colab_type": "text"
      },
      "source": [
        " <a ><img src = \"https://ibm.box.com/shared/static/h2w03relr84lb8ofto2zk0dp9naiykfg.png\" width = 500, align = \"center\"></a>\n",
        " <h4 align=center>\n"
      ]
    },
    {
      "cell_type": "markdown",
      "metadata": {
        "id": "O9mkMdigPniq",
        "colab_type": "text"
      },
      "source": [
        "#### Figure 1: Classes circle and rectangle, and each has their own attributes. The class circle has the attribute radius and colour, the rectangle has the attribute height and width. \n"
      ]
    },
    {
      "cell_type": "markdown",
      "metadata": {
        "id": "Llf1La4BPnir",
        "colab_type": "text"
      },
      "source": [
        "#### Instances of a Class: Objects and Attributes"
      ]
    },
    {
      "cell_type": "markdown",
      "metadata": {
        "id": "b3jHb003Pnir",
        "colab_type": "text"
      },
      "source": [
        "An instance of an object is the realisation of a class, and in figure 2 we see three instances of the class circle. We give each object a name: red circle, yellow circle and green circle. Each object has different attributes, so let's focus on the attribute of colour for each object."
      ]
    },
    {
      "cell_type": "markdown",
      "metadata": {
        "id": "hCaYxfjEPnis",
        "colab_type": "text"
      },
      "source": [
        " <a ><img src = \"https://ibm.box.com/shared/static/bz20uxc78sbv8knixnl3a52z2u2r74zp.png\" width = 500, align = \"center\"></a>\n",
        " <h4 align=center>\n",
        " Figure 2: Three instances of the class circle or three objects of type circle.  \n",
        "\n",
        "\n"
      ]
    },
    {
      "cell_type": "markdown",
      "metadata": {
        "id": "z7t0YjhGPnis",
        "colab_type": "text"
      },
      "source": [
        " The colour attribute for the red circle is the colour red, for the green circle object the colour attribute is green, and for the yellow circle the colour attribute is yellow.   \n"
      ]
    },
    {
      "cell_type": "markdown",
      "metadata": {
        "id": "zOuY_SaDPnit",
        "colab_type": "text"
      },
      "source": [
        "#### Methods \n",
        "\n",
        "Methods give you a way to change or interact with the object; they are functions that interact with objects. For example, let’s say we would like to increase the radius by a specified amount of a circle. We can create a method called **add_radius(r)** that increases the radius by **r**. This is shown in figure 3, where after applying the method to the \"orange circle object\", the radius of the object increases accordingly. The “dot” notation means to apply the method to the object, which is essentially applying a function to the information in the object."
      ]
    },
    {
      "cell_type": "markdown",
      "metadata": {
        "id": "YsUisTjzPnit",
        "colab_type": "text"
      },
      "source": [
        " <a ><img src = \"https://ibm.box.com/shared/static/53b39xh7snepk0my8z7t9n9wzres4drf.png\" width = 500, align = \"center\"></a>\n",
        " <h4 align=center>\n",
        " Figure 3: Applying the method “add_radius” to the object orange circle object .  \n",
        "\n",
        "\n"
      ]
    },
    {
      "cell_type": "markdown",
      "metadata": {
        "id": "aGmZ98ekPniu",
        "colab_type": "text"
      },
      "source": [
        "# Creating a Class"
      ]
    },
    {
      "cell_type": "markdown",
      "metadata": {
        "id": "QQeargmYPniu",
        "colab_type": "text"
      },
      "source": [
        "Now we are going to create a class circle, but first, we are going to import a library to draw the objects: "
      ]
    },
    {
      "cell_type": "code",
      "metadata": {
        "id": "5qE0E8Q3Pniv",
        "colab_type": "code",
        "colab": {}
      },
      "source": [
        "import matplotlib.pyplot as plt\n",
        "%matplotlib inline  \n"
      ],
      "execution_count": 0,
      "outputs": []
    },
    {
      "cell_type": "markdown",
      "metadata": {
        "id": "vPWXbU6-Pniz",
        "colab_type": "text"
      },
      "source": [
        " The first step in creating your own class is to use the **class** keyword, then the name of the class as shown in Figure 4. In this course the class parent will always be object: \n"
      ]
    },
    {
      "cell_type": "markdown",
      "metadata": {
        "id": "d8PPvqtPPni0",
        "colab_type": "text"
      },
      "source": [
        " <a ><img src = \"https://ibm.box.com/shared/static/q9394f3aip7lbu4k1yct5pczst5ec3sk.png\" width = 400, align = \"center\"></a>\n",
        " <h4 align=center>\n",
        " Figure 4: Three instances of the class circle or three objects of type circle.  \n",
        "\n"
      ]
    },
    {
      "cell_type": "markdown",
      "metadata": {
        "id": "2JpBsUTfPni0",
        "colab_type": "text"
      },
      "source": [
        "The next step is a special method called a constructor **__init__**, which is used to initialize the object. The input are data attributes. The term **self** contains all the attributes in the set. For example the **self.color** gives the  value of the attribute colour and **self.radius** will give you the radius of the object. We also have the method **add_radius()** with the parameter **r**, the method adds the value of **r** to the attribute radius. To access the radius we use the sintax **self.radius**. The labeled syntax is summarized in Figure 5:\n",
        "\n"
      ]
    },
    {
      "cell_type": "markdown",
      "metadata": {
        "id": "IDFypQsjPni1",
        "colab_type": "text"
      },
      "source": [
        " <a ><img src = \"https://ibm.box.com/shared/static/25j0jezklf6snhh3ps61d0djzwx8kgwa.png\" width = 600, align = \"center\"></a>\n",
        " <h4 align=center>\n",
        " Figure 5: Labeled  syntax of the object circle.\n",
        "\n",
        "\n"
      ]
    },
    {
      "cell_type": "markdown",
      "metadata": {
        "id": "KLMz91t7Pni1",
        "colab_type": "text"
      },
      "source": [
        "The actual object is shown below. We include the method drawCircle to display the image of a circle. We set the default radius to 3 and the default colour to blue:"
      ]
    },
    {
      "cell_type": "code",
      "metadata": {
        "id": "tka7oPG6Pni2",
        "colab_type": "code",
        "colab": {}
      },
      "source": [
        "\n",
        "class Circle(object):\n",
        "    \n",
        "    def __init__(self,radius=3,color='blue'):\n",
        "        \n",
        "        self.radius=radius\n",
        "        self.color=color \n",
        "    \n",
        "    def add_radius(self,r):\n",
        "        \n",
        "        self.radius=self.radius+r\n",
        "        return(self.radius)\n",
        "    def drawCircle(self):\n",
        "        \n",
        "        plt.gca().add_patch(plt.Circle((0, 0), radius=self.radius, fc=self.color))\n",
        "        plt.axis('scaled')\n",
        "        plt.show()  "
      ],
      "execution_count": 0,
      "outputs": []
    },
    {
      "cell_type": "markdown",
      "metadata": {
        "id": "rJNgbUZuPni4",
        "colab_type": "text"
      },
      "source": [
        "### Creating an instance of a class Circle"
      ]
    },
    {
      "cell_type": "markdown",
      "metadata": {
        "id": "bqzpx9stPni4",
        "colab_type": "text"
      },
      "source": [
        " Let’s create the object **RedCircle** of type Circle to do the following:"
      ]
    },
    {
      "cell_type": "code",
      "metadata": {
        "id": "hu9LOjKxPni5",
        "colab_type": "code",
        "colab": {}
      },
      "source": [
        "RedCircle=Circle(10,'red')"
      ],
      "execution_count": 0,
      "outputs": []
    },
    {
      "cell_type": "markdown",
      "metadata": {
        "id": "ocPVvuPzPni6",
        "colab_type": "text"
      },
      "source": [
        "We can use the **dir** command to get a list of the object's methods. Many of them are default Python methods."
      ]
    },
    {
      "cell_type": "code",
      "metadata": {
        "id": "3UHVtQDSPni7",
        "colab_type": "code",
        "colab": {}
      },
      "source": [
        "dir(RedCircle)"
      ],
      "execution_count": 0,
      "outputs": []
    },
    {
      "cell_type": "markdown",
      "metadata": {
        "id": "W7lp-F-5Pni9",
        "colab_type": "text"
      },
      "source": [
        "We can look at the data attributes of the object: "
      ]
    },
    {
      "cell_type": "code",
      "metadata": {
        "id": "ANRJymsRPni9",
        "colab_type": "code",
        "colab": {}
      },
      "source": [
        "RedCircle.radius"
      ],
      "execution_count": 0,
      "outputs": []
    },
    {
      "cell_type": "code",
      "metadata": {
        "id": "wsFm_PciPni_",
        "colab_type": "code",
        "colab": {}
      },
      "source": [
        "RedCircle.color"
      ],
      "execution_count": 0,
      "outputs": []
    },
    {
      "cell_type": "markdown",
      "metadata": {
        "id": "FruHrTo7PnjB",
        "colab_type": "text"
      },
      "source": [
        " We can change the object's data attributes: "
      ]
    },
    {
      "cell_type": "code",
      "metadata": {
        "id": "C62zOQTFPnjB",
        "colab_type": "code",
        "colab": {}
      },
      "source": [
        "RedCircle.radius=1"
      ],
      "execution_count": 0,
      "outputs": []
    },
    {
      "cell_type": "code",
      "metadata": {
        "id": "I4wPr7WXPnjD",
        "colab_type": "code",
        "colab": {}
      },
      "source": [
        "RedCircle.radius"
      ],
      "execution_count": 0,
      "outputs": []
    },
    {
      "cell_type": "markdown",
      "metadata": {
        "id": "w_5Ncgg7PnjF",
        "colab_type": "text"
      },
      "source": [
        " We can draw the object by using the method **drawCircle()**:"
      ]
    },
    {
      "cell_type": "code",
      "metadata": {
        "id": "GRf467PYPnjG",
        "colab_type": "code",
        "colab": {}
      },
      "source": [
        "RedCircle.drawCircle()"
      ],
      "execution_count": 0,
      "outputs": []
    },
    {
      "cell_type": "markdown",
      "metadata": {
        "id": "8vf7ovf1PnjH",
        "colab_type": "text"
      },
      "source": [
        "We can increase the radius of the circle by applying the method **add_radius()**. Let increases the radius by 2 and then by 5:  "
      ]
    },
    {
      "cell_type": "code",
      "metadata": {
        "id": "8OEJIMIAPnjI",
        "colab_type": "code",
        "colab": {}
      },
      "source": [
        "print('Radius of object:',RedCircle.radius)\n",
        "RedCircle.add_radius(2)\n",
        "print('Radius of object of after applying the method add_radius(2):',RedCircle.radius)\n",
        "RedCircle.add_radius(5)\n",
        "print('Radius of object of after applying the method add_radius(5):',RedCircle.radius)"
      ],
      "execution_count": 0,
      "outputs": []
    },
    {
      "cell_type": "markdown",
      "metadata": {
        "id": "PTg_AcrSPnjL",
        "colab_type": "text"
      },
      "source": [
        " Let’s  create a blue circle. As the default colour is blue, all we have to do is specify what the radius is:"
      ]
    },
    {
      "cell_type": "code",
      "metadata": {
        "id": "6syi-l06PnjM",
        "colab_type": "code",
        "colab": {}
      },
      "source": [
        "BlueCircle=Circle(radius=100)"
      ],
      "execution_count": 0,
      "outputs": []
    },
    {
      "cell_type": "markdown",
      "metadata": {
        "id": "ssuXYZZwPnjP",
        "colab_type": "text"
      },
      "source": [
        " As before we can access the attributes of the instance of the class by using the dot notation:"
      ]
    },
    {
      "cell_type": "code",
      "metadata": {
        "id": "VeY8_cqQPnjQ",
        "colab_type": "code",
        "colab": {}
      },
      "source": [
        "BlueCircle.radius"
      ],
      "execution_count": 0,
      "outputs": []
    },
    {
      "cell_type": "code",
      "metadata": {
        "id": "V4Uai94DPnjS",
        "colab_type": "code",
        "colab": {}
      },
      "source": [
        "BlueCircle.color"
      ],
      "execution_count": 0,
      "outputs": []
    },
    {
      "cell_type": "markdown",
      "metadata": {
        "id": "jMh17voLPnjT",
        "colab_type": "text"
      },
      "source": [
        " We can draw the object by using the method **drawCircle()**:"
      ]
    },
    {
      "cell_type": "code",
      "metadata": {
        "id": "d53cZuOyPnjU",
        "colab_type": "code",
        "colab": {}
      },
      "source": [
        "BlueCircle.drawCircle()"
      ],
      "execution_count": 0,
      "outputs": []
    },
    {
      "cell_type": "markdown",
      "metadata": {
        "id": "sMd8yfIRPnjV",
        "colab_type": "text"
      },
      "source": [
        " Compare the x and y axis of the figure to the figure  for **RedCircle**; they are different."
      ]
    },
    {
      "cell_type": "markdown",
      "metadata": {
        "id": "kTSvJwNpPnjW",
        "colab_type": "text"
      },
      "source": [
        "### The Rectangle  Class \n",
        "\n",
        "Let's create a class rectangle with the attributes of height, width and colour. We will only add the method to draw the rectangle object:\n"
      ]
    },
    {
      "cell_type": "code",
      "metadata": {
        "id": "MDqZl0DCPnjW",
        "colab_type": "code",
        "colab": {}
      },
      "source": [
        "class Rectangle(object):\n",
        "    \n",
        "    def __init__(self,width=2,height =3,color='r'):\n",
        "        self.height=height \n",
        "        self.width=width\n",
        "        self.color=color\n",
        "    \n",
        "    def drawRectangle(self):\n",
        "        import matplotlib.pyplot as plt\n",
        "        plt.gca().add_patch(plt.Rectangle((0, 0),self.width, self.height ,fc=self.color))\n",
        "        plt.axis('scaled')\n",
        "        plt.show()"
      ],
      "execution_count": 0,
      "outputs": []
    },
    {
      "cell_type": "markdown",
      "metadata": {
        "id": "qC7-jBc5PnjY",
        "colab_type": "text"
      },
      "source": [
        " Let’s create the object **SkinnyBlueRectangle** of type Rectangle. Its width will be 2 and height will be 3, and the colour will be blue:\n"
      ]
    },
    {
      "cell_type": "code",
      "metadata": {
        "id": "zq5h3e8IPnjY",
        "colab_type": "code",
        "colab": {}
      },
      "source": [
        "SkinnyBlueRectangle= Rectangle(2,10,'blue')"
      ],
      "execution_count": 0,
      "outputs": []
    },
    {
      "cell_type": "markdown",
      "metadata": {
        "id": "iQTxhS_iPnja",
        "colab_type": "text"
      },
      "source": [
        " As before we can access the attributes of the instance of the class by using the dot notation:"
      ]
    },
    {
      "cell_type": "code",
      "metadata": {
        "id": "pND0p4jTPnja",
        "colab_type": "code",
        "colab": {}
      },
      "source": [
        "SkinnyBlueRectangle.height "
      ],
      "execution_count": 0,
      "outputs": []
    },
    {
      "cell_type": "code",
      "metadata": {
        "id": "4YSgt_QCPnjc",
        "colab_type": "code",
        "colab": {}
      },
      "source": [
        "SkinnyBlueRectangle.width"
      ],
      "execution_count": 0,
      "outputs": []
    },
    {
      "cell_type": "code",
      "metadata": {
        "id": "PuNIFXKtPnjd",
        "colab_type": "code",
        "colab": {}
      },
      "source": [
        "SkinnyBlueRectangle.color"
      ],
      "execution_count": 0,
      "outputs": []
    },
    {
      "cell_type": "markdown",
      "metadata": {
        "id": "ZY2LtieOPnjf",
        "colab_type": "text"
      },
      "source": [
        " We can draw the object:"
      ]
    },
    {
      "cell_type": "code",
      "metadata": {
        "scrolled": true,
        "id": "3K-Uq43tPnjg",
        "colab_type": "code",
        "colab": {}
      },
      "source": [
        "SkinnyBlueRectangle.drawRectangle()"
      ],
      "execution_count": 0,
      "outputs": []
    },
    {
      "cell_type": "markdown",
      "metadata": {
        "id": "nGMFpzuhPnjh",
        "colab_type": "text"
      },
      "source": [
        "Let’s create the object “FatYellowRectangle” of type Rectangle :"
      ]
    },
    {
      "cell_type": "code",
      "metadata": {
        "id": "lCGODuCiPnji",
        "colab_type": "code",
        "colab": {}
      },
      "source": [
        "FatYellowRectangle = Rectangle(20,5,'yellow')"
      ],
      "execution_count": 0,
      "outputs": []
    },
    {
      "cell_type": "markdown",
      "metadata": {
        "id": "vzhVAiIPPnjj",
        "colab_type": "text"
      },
      "source": [
        " We can access the attributes of the instance of the class by using the dot notation:"
      ]
    },
    {
      "cell_type": "code",
      "metadata": {
        "id": "YKiSCu4IPnjk",
        "colab_type": "code",
        "colab": {}
      },
      "source": [
        "FatYellowRectangle.height "
      ],
      "execution_count": 0,
      "outputs": []
    },
    {
      "cell_type": "code",
      "metadata": {
        "id": "1Dsacn0OPnjl",
        "colab_type": "code",
        "colab": {}
      },
      "source": [
        "FatYellowRectangle.width"
      ],
      "execution_count": 0,
      "outputs": []
    },
    {
      "cell_type": "code",
      "metadata": {
        "id": "iKPRtuPdPnjn",
        "colab_type": "code",
        "colab": {}
      },
      "source": [
        "FatYellowRectangle.color"
      ],
      "execution_count": 0,
      "outputs": []
    },
    {
      "cell_type": "markdown",
      "metadata": {
        "id": "zZXL1Nv_Pnjp",
        "colab_type": "text"
      },
      "source": [
        " We can draw the object:"
      ]
    },
    {
      "cell_type": "code",
      "metadata": {
        "id": "N20t7uQyPnjp",
        "colab_type": "code",
        "colab": {}
      },
      "source": [
        "FatYellowRectangle.drawRectangle()"
      ],
      "execution_count": 0,
      "outputs": []
    }
  ]
}