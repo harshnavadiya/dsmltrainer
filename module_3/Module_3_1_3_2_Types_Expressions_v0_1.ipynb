{
  "nbformat": 4,
  "nbformat_minor": 0,
  "metadata": {
    "colab": {
      "name": "Module_3.1_3.2_Types_Expressions_v0.1.ipynb",
      "version": "0.3.2",
      "provenance": [],
      "collapsed_sections": [
        "IPlJw-5hI_Ut",
        "d-GKSAJVI_Uv",
        "N1uleIFxI_Ux",
        "ufR8a5LHI_VN",
        "XOOWqMj2I_VS"
      ],
      "include_colab_link": true
    },
    "language_info": {
      "codemirror_mode": {
        "name": "ipython",
        "version": 3
      },
      "file_extension": ".py",
      "mimetype": "text/x-python",
      "name": "python",
      "nbconvert_exporter": "python",
      "pygments_lexer": "ipython3",
      "version": "3.5.2"
    },
    "kernelspec": {
      "display_name": "Python 3",
      "language": "python",
      "name": "python3"
    }
  },
  "cells": [
    {
      "cell_type": "markdown",
      "metadata": {
        "id": "view-in-github",
        "colab_type": "text"
      },
      "source": [
        "<a href=\"https://colab.research.google.com/github/harshnavadiya/dsmltrainer/blob/master/module_3/Module_3_1_3_2_Types_Expressions_v0_1.ipynb\" target=\"_parent\"><img src=\"https://colab.research.google.com/assets/colab-badge.svg\" alt=\"Open In Colab\"/></a>"
      ]
    },
    {
      "cell_type": "markdown",
      "metadata": {
        "id": "r2UerRQwI_S_",
        "colab_type": "text"
      },
      "source": [
        "#Python - Writing Your First Python Code!"
      ]
    },
    {
      "cell_type": "markdown",
      "metadata": {
        "id": "J_OdUZ_mI_S_",
        "colab_type": "text"
      },
      "source": [
        "# Welcome!\n",
        "\n",
        "By the end of this notebook, you will have learned the basics of Python, including writing some basic commands, understanding object types, and some simple operations!  "
      ]
    },
    {
      "cell_type": "markdown",
      "metadata": {
        "id": "DMVL0FXqI_TA",
        "colab_type": "text"
      },
      "source": [
        "# Table of Contents\n",
        "\n",
        "\n",
        "<div class=\"alert alert-block alert-info\" style=\"margin-top: 20px\">\n",
        "<li><a href=\"#ref0\">First Program in Python</a></li>\n",
        "<li><a href=\"#ref1\">Object Types  </a></li>\n",
        "<li><a href=\"#ref2\">Expressions and Variables</a></li>\n",
        "\n",
        "<br>\n",
        "<p></p>\n",
        "Estimated Time Needed: <strong>25 min</strong>\n",
        "</div>\n",
        "\n",
        "<hr>"
      ]
    },
    {
      "cell_type": "markdown",
      "metadata": {
        "id": "euShRLZBI_TB",
        "colab_type": "text"
      },
      "source": [
        " <a id=\"ref0\"></a>\n",
        "<h2 align=center>Your First Program in Python </h2> "
      ]
    },
    {
      "cell_type": "markdown",
      "metadata": {
        "id": "2uiZx3HtI_TB",
        "colab_type": "text"
      },
      "source": [
        "A statement or expression is an instruction the computer will run or execute. Perhaps the simplest program you can write is to print a statement in Python."
      ]
    },
    {
      "cell_type": "markdown",
      "metadata": {
        "id": "Vxg3dvMxI_TC",
        "colab_type": "text"
      },
      "source": [
        "<div class=\"alert alert-success alertsuccess\" style=\"margin-top: 20px\">\n",
        "**Tip**: To *execute* the Python code in the grey code cell below, **click on it and press Shift + Enter**.\n",
        "</div>"
      ]
    },
    {
      "cell_type": "code",
      "metadata": {
        "id": "47m8UOA8I_TC",
        "colab_type": "code",
        "outputId": "996160fc-70ea-4d41-ef66-56a0156df207",
        "colab": {
          "base_uri": "https://localhost:8080/",
          "height": 34
        }
      },
      "source": [
        "print('Hello World!')"
      ],
      "execution_count": 0,
      "outputs": [
        {
          "output_type": "stream",
          "text": [
            "Hello World!\n"
          ],
          "name": "stdout"
        }
      ]
    },
    {
      "cell_type": "markdown",
      "metadata": {
        "id": "7WTo7lAXI_TF",
        "colab_type": "text"
      },
      "source": [
        "After executing the cell above, you should see that Python return the string, `Hello Python 101`. Congratulations on running your first Python code!"
      ]
    },
    {
      "cell_type": "markdown",
      "metadata": {
        "id": "xr5x3dpVI_TG",
        "colab_type": "text"
      },
      "source": [
        "<div class=\"alert alert-success alertsuccess\" style=\"margin-top: 20px\">\n",
        "**Tip:** **`print()`** is the **function** that you **executed**, and you *passed in* an **argument** of `'Hello World!'`.\n",
        "</div>\n"
      ]
    },
    {
      "cell_type": "markdown",
      "metadata": {
        "id": "hP88MCU3I_TI",
        "colab_type": "text"
      },
      "source": [
        "### Writing comments in Python"
      ]
    },
    {
      "cell_type": "markdown",
      "metadata": {
        "id": "dxLa-PIsI_TI",
        "colab_type": "text"
      },
      "source": [
        "In addition to writing code, note that it is customary to comment your code to help describe what it does. Not only does this help **other people** understand your code, it can also serve as a _reminder_ **to you** of what your code does. (This is especially true when you write some code and then come back to it weeks or months later.)\n",
        "\n",
        "To write comments in your Python code, use the hash symbol (#) before writing your comment. When you run the code Python will ignore everything after the # in that line."
      ]
    },
    {
      "cell_type": "code",
      "metadata": {
        "id": "86XcZTy4I_TJ",
        "colab_type": "code",
        "outputId": "66b1ad53-c634-43ff-a342-8bcd589b3b94",
        "colab": {
          "base_uri": "https://localhost:8080/",
          "height": 34
        }
      },
      "source": [
        "print('Hello Python 101') #this my comment\n",
        "#print('Hi')"
      ],
      "execution_count": 0,
      "outputs": [
        {
          "output_type": "stream",
          "text": [
            "Hello Python 101\n"
          ],
          "name": "stdout"
        }
      ]
    },
    {
      "cell_type": "markdown",
      "metadata": {
        "id": "wupMiv6gI_TL",
        "colab_type": "text"
      },
      "source": [
        "Great! After executing the cell above, you should notice that **\"this is my comment** did not appeared in the output, because it was a comment (and thus ignored by Python). \n",
        "The second line was also not executed because `print('Hi')` was preceded by a hash symbol (#) as well!"
      ]
    },
    {
      "cell_type": "markdown",
      "metadata": {
        "id": "cRDlfN1VI_TM",
        "colab_type": "text"
      },
      "source": [
        "### Errors in Python"
      ]
    },
    {
      "cell_type": "markdown",
      "metadata": {
        "id": "T30HEzLYI_TM",
        "colab_type": "text"
      },
      "source": [
        "Before continuing, it's important to note when things go wrong in Python, and we cause **errors**."
      ]
    },
    {
      "cell_type": "markdown",
      "metadata": {
        "id": "_Zk6aGxNI_TN",
        "colab_type": "text"
      },
      "source": [
        "There are many kinds of errors, and you **do not need to memorize the various types of errors**. Instead, what's most important is know **what the error messages mean**.\n",
        "\n",
        "For example, if you spell **print** as **frint**, you will get an error message."
      ]
    },
    {
      "cell_type": "code",
      "metadata": {
        "id": "A9PbfIp2I_TO",
        "colab_type": "code",
        "outputId": "95786b8b-5dfc-4404-c4a4-41973ef06117",
        "colab": {
          "base_uri": "https://localhost:8080/",
          "height": 164
        }
      },
      "source": [
        "frint(\"Hello World!\")"
      ],
      "execution_count": 0,
      "outputs": [
        {
          "output_type": "error",
          "ename": "NameError",
          "evalue": "ignored",
          "traceback": [
            "\u001b[0;31m---------------------------------------------------------------------------\u001b[0m",
            "\u001b[0;31mNameError\u001b[0m                                 Traceback (most recent call last)",
            "\u001b[0;32m<ipython-input-3-cbc42dbb0087>\u001b[0m in \u001b[0;36m<module>\u001b[0;34m()\u001b[0m\n\u001b[0;32m----> 1\u001b[0;31m \u001b[0mfrint\u001b[0m\u001b[0;34m(\u001b[0m\u001b[0;34m\"Hello World!\"\u001b[0m\u001b[0;34m)\u001b[0m\u001b[0;34m\u001b[0m\u001b[0;34m\u001b[0m\u001b[0m\n\u001b[0m",
            "\u001b[0;31mNameError\u001b[0m: name 'frint' is not defined"
          ]
        }
      ]
    },
    {
      "cell_type": "markdown",
      "metadata": {
        "id": "9Dx32FIyI_TS",
        "colab_type": "text"
      },
      "source": [
        "The error message tells you (1) where the error occurred, and (2) what kind of error it was. Here, Python attempted to run the function `frint`, but could not determine what `frint` -- since it is _undefined_."
      ]
    },
    {
      "cell_type": "markdown",
      "metadata": {
        "id": "6ylMzuPGI_TS",
        "colab_type": "text"
      },
      "source": [
        "### Does Python know the error in the script before you run it?\n",
        "No, Python is naive! Python will try to run the code line-by-line, and it will stop if it runs into an error."
      ]
    },
    {
      "cell_type": "code",
      "metadata": {
        "id": "jS3GiLWbI_TT",
        "colab_type": "code",
        "outputId": "2b2a49ea-6a1f-412e-a12e-ea6daaa215bc",
        "colab": {
          "base_uri": "https://localhost:8080/",
          "height": 34
        }
      },
      "source": [
        "#print(\"This will be printed\")\n",
        "#print(\"This will NOT be printed\")\n",
        "x=10\n",
        "y=20\n",
        "\n",
        "x\n",
        "y"
      ],
      "execution_count": 0,
      "outputs": [
        {
          "output_type": "execute_result",
          "data": {
            "text/plain": [
              "20"
            ]
          },
          "metadata": {
            "tags": []
          },
          "execution_count": 6
        }
      ]
    },
    {
      "cell_type": "markdown",
      "metadata": {
        "id": "NZZv6oRWI_TV",
        "colab_type": "text"
      },
      "source": [
        "More on errors later on in this course!"
      ]
    },
    {
      "cell_type": "markdown",
      "metadata": {
        "id": "CG2hqMnxI_TW",
        "colab_type": "text"
      },
      "source": [
        "### Exercise: Your First Program"
      ]
    },
    {
      "cell_type": "markdown",
      "metadata": {
        "id": "6-B34L3eI_TX",
        "colab_type": "text"
      },
      "source": [
        "#### Using the `print()` function, print out the phrase: \"hello world\""
      ]
    },
    {
      "cell_type": "code",
      "metadata": {
        "id": "_ucw5WKjI_TX",
        "colab_type": "code",
        "outputId": "a7b13649-5536-4646-aee5-1c1a2a6f7c00",
        "colab": {
          "base_uri": "https://localhost:8080/",
          "height": 34
        }
      },
      "source": [
        "# Write your code below and press Shift+Enter to execute \n",
        "print(\"Hello World\")\n",
        "\n",
        "\n",
        "\n"
      ],
      "execution_count": 0,
      "outputs": [
        {
          "output_type": "stream",
          "text": [
            "Hello World\n"
          ],
          "name": "stdout"
        }
      ]
    },
    {
      "cell_type": "markdown",
      "metadata": {
        "id": "GumZksVKI_Tb",
        "colab_type": "text"
      },
      "source": [
        "<div align=\"right\">\n",
        "<a href=\"#1\" class=\"btn btn-default\" data-toggle=\"collapse\">Click here for the solution</a>\n",
        "\n",
        "</div>\n",
        "<div id=\"1\" class=\"collapse\">\n",
        "```\n",
        "print(\"hello world!\")\n",
        "```\n",
        "</div>"
      ]
    },
    {
      "cell_type": "markdown",
      "metadata": {
        "id": "vgd2VROMI_Tc",
        "colab_type": "text"
      },
      "source": [
        "#### Print out the phrase: \"Hello World\"  and comment it with the phrase \"printing Hello World\" _all in one line of code_"
      ]
    },
    {
      "cell_type": "code",
      "metadata": {
        "id": "g4gAVrxQI_Tc",
        "colab_type": "code",
        "colab": {}
      },
      "source": [
        "# Write your code below\n",
        "\n",
        "\n",
        "\n"
      ],
      "execution_count": 0,
      "outputs": []
    },
    {
      "cell_type": "markdown",
      "metadata": {
        "id": "9fpb4GkmI_Te",
        "colab_type": "text"
      },
      "source": [
        " <div align=\"right\">\n",
        "<a href=\"#2\" class=\"btn btn-default\" data-toggle=\"collapse\">Click here for the solution</a>\n",
        "\n",
        "</div>\n",
        "<div id=\"2\" class=\"collapse\">\n",
        "```\n",
        "print(\"Hello World\") #print Hello World\n",
        "```\n",
        "</div>"
      ]
    },
    {
      "cell_type": "markdown",
      "metadata": {
        "id": "PhbuoNN7I_Tf",
        "colab_type": "text"
      },
      "source": [
        "<a id=\"ref1\"></a>\n",
        "<h2 align=center> Types of objects in Python </h2>"
      ]
    },
    {
      "cell_type": "markdown",
      "metadata": {
        "id": "AmT93UgII_Tf",
        "colab_type": "text"
      },
      "source": [
        "You can have many different object types in Python, let's start with **strings**, **integers** and **floats**. Anytime you write words (text) in Python, you're using character **strings** (strings for short). Numbers, on the other hand, depend: numbers can be **integers** (like -1, 0, 100) or **floats**, which are real numbers (like 3.14, -42.0)."
      ]
    },
    {
      "cell_type": "markdown",
      "metadata": {
        "id": "4OM8gt5PI_Tg",
        "colab_type": "text"
      },
      "source": [
        " <img src = \"https://ibm.box.com/shared/static/8zp0t4oh7kuzleudrszhkqukcup1708f.png\" width = 600, align = \"center\"></a>"
      ]
    },
    {
      "cell_type": "markdown",
      "metadata": {
        "id": "Mw7WteGcI_Tg",
        "colab_type": "text"
      },
      "source": [
        "The following chart summarizes three data types for the last examples,  the first column indicates the expression  the second column indicates the data type\n"
      ]
    },
    {
      "cell_type": "code",
      "metadata": {
        "id": "xwqzhLCSI_Th",
        "colab_type": "code",
        "outputId": "379a480f-afb9-4901-aef1-6dabe023a8d6",
        "colab": {
          "base_uri": "https://localhost:8080/",
          "height": 34
        }
      },
      "source": [
        "11 #integer"
      ],
      "execution_count": 0,
      "outputs": [
        {
          "output_type": "execute_result",
          "data": {
            "text/plain": [
              "11"
            ]
          },
          "metadata": {
            "tags": []
          },
          "execution_count": 8
        }
      ]
    },
    {
      "cell_type": "code",
      "metadata": {
        "id": "SbXORfVuI_Tj",
        "colab_type": "code",
        "outputId": "d51239f7-ef7e-4d04-e11d-9ff973f6789c",
        "colab": {
          "base_uri": "https://localhost:8080/",
          "height": 34
        }
      },
      "source": [
        "2.14 #float"
      ],
      "execution_count": 0,
      "outputs": [
        {
          "output_type": "execute_result",
          "data": {
            "text/plain": [
              "2.14"
            ]
          },
          "metadata": {
            "tags": []
          },
          "execution_count": 9
        }
      ]
    },
    {
      "cell_type": "code",
      "metadata": {
        "id": "pGCj2a96I_Tl",
        "colab_type": "code",
        "outputId": "facf7bc5-4f15-4858-8e87-b1855eb1c21c",
        "colab": {
          "base_uri": "https://localhost:8080/",
          "height": 34
        }
      },
      "source": [
        "\"Hello Python 101\" #character string"
      ],
      "execution_count": 0,
      "outputs": [
        {
          "output_type": "execute_result",
          "data": {
            "text/plain": [
              "'Hello Python 101'"
            ]
          },
          "metadata": {
            "tags": []
          },
          "execution_count": 10
        }
      ]
    },
    {
      "cell_type": "markdown",
      "metadata": {
        "id": "QKpcj4vCI_Tp",
        "colab_type": "text"
      },
      "source": [
        " We can see the actual data type in python by using the **`type()`** command"
      ]
    },
    {
      "cell_type": "code",
      "metadata": {
        "id": "Hys6HzXCI_Tq",
        "colab_type": "code",
        "outputId": "544931c3-2f3b-4110-845e-f58c2bd7a6fe",
        "colab": {
          "base_uri": "https://localhost:8080/",
          "height": 34
        }
      },
      "source": [
        "type(12)"
      ],
      "execution_count": 0,
      "outputs": [
        {
          "output_type": "execute_result",
          "data": {
            "text/plain": [
              "int"
            ]
          },
          "metadata": {
            "tags": []
          },
          "execution_count": 11
        }
      ]
    },
    {
      "cell_type": "code",
      "metadata": {
        "id": "vTTh5GvnI_Tt",
        "colab_type": "code",
        "outputId": "d2c0bddb-f5ed-4f2b-b085-2bf5446b8351",
        "colab": {
          "base_uri": "https://localhost:8080/",
          "height": 34
        }
      },
      "source": [
        "type(2.14)"
      ],
      "execution_count": 0,
      "outputs": [
        {
          "output_type": "execute_result",
          "data": {
            "text/plain": [
              "float"
            ]
          },
          "metadata": {
            "tags": []
          },
          "execution_count": 12
        }
      ]
    },
    {
      "cell_type": "code",
      "metadata": {
        "id": "2Xdd7FRXI_Tv",
        "colab_type": "code",
        "outputId": "42ea369a-aab6-4237-dd36-08073e7dd1de",
        "colab": {
          "base_uri": "https://localhost:8080/",
          "height": 34
        }
      },
      "source": [
        "type(\"Hello Python 101\")"
      ],
      "execution_count": 0,
      "outputs": [
        {
          "output_type": "execute_result",
          "data": {
            "text/plain": [
              "str"
            ]
          },
          "metadata": {
            "tags": []
          },
          "execution_count": 13
        }
      ]
    },
    {
      "cell_type": "markdown",
      "metadata": {
        "id": "o1VMMSyOI_Tx",
        "colab_type": "text"
      },
      "source": [
        "#### Using the `type()` function, check the object type of `12.0`?"
      ]
    },
    {
      "cell_type": "code",
      "metadata": {
        "id": "bytKgkUDI_Ty",
        "colab_type": "code",
        "outputId": "3b930556-4948-4e83-a59b-f73405f5f82d",
        "colab": {
          "base_uri": "https://localhost:8080/",
          "height": 34
        }
      },
      "source": [
        "# Write your code below\n",
        "type(12.0)\n",
        "\n",
        "\n",
        "\n"
      ],
      "execution_count": 0,
      "outputs": [
        {
          "output_type": "execute_result",
          "data": {
            "text/plain": [
              "float"
            ]
          },
          "metadata": {
            "tags": []
          },
          "execution_count": 14
        }
      ]
    },
    {
      "cell_type": "markdown",
      "metadata": {
        "id": "7M2NCmT6I_T0",
        "colab_type": "text"
      },
      "source": [
        "### Integers"
      ]
    },
    {
      "cell_type": "markdown",
      "metadata": {
        "id": "WpIlGkWYI_T1",
        "colab_type": "text"
      },
      "source": [
        "Here are some integers, integers  can be negative or positive:\n"
      ]
    },
    {
      "cell_type": "markdown",
      "metadata": {
        "id": "cPLV9sRgI_T1",
        "colab_type": "text"
      },
      "source": [
        "<img src = \"https://ibm.box.com/shared/static/19iqm3q5pvxzuwa22d5ihxcr6eftjl48.png\" width = 600, align = \"center\"></a>"
      ]
    },
    {
      "cell_type": "markdown",
      "metadata": {
        "id": "7TmoMowkI_T2",
        "colab_type": "text"
      },
      "source": [
        "We can verify some of the above examples using the type command:"
      ]
    },
    {
      "cell_type": "code",
      "metadata": {
        "id": "83ZEO0kfI_T2",
        "colab_type": "code",
        "outputId": "4ef666a4-5449-4832-a525-57cf6159e489",
        "colab": {
          "base_uri": "https://localhost:8080/",
          "height": 34
        }
      },
      "source": [
        "type(-1)"
      ],
      "execution_count": 0,
      "outputs": [
        {
          "output_type": "execute_result",
          "data": {
            "text/plain": [
              "int"
            ]
          },
          "metadata": {
            "tags": []
          },
          "execution_count": 15
        }
      ]
    },
    {
      "cell_type": "code",
      "metadata": {
        "id": "Qi116PyEI_T4",
        "colab_type": "code",
        "outputId": "6d311feb-1f22-4428-fc5e-fc5e890c67ff",
        "colab": {
          "base_uri": "https://localhost:8080/",
          "height": 34
        }
      },
      "source": [
        "type(4)"
      ],
      "execution_count": 0,
      "outputs": [
        {
          "output_type": "execute_result",
          "data": {
            "text/plain": [
              "int"
            ]
          },
          "metadata": {
            "tags": []
          },
          "execution_count": 16
        }
      ]
    },
    {
      "cell_type": "code",
      "metadata": {
        "id": "seoSF7yXI_T7",
        "colab_type": "code",
        "outputId": "a1f4a9ed-22a6-4945-9b53-238f8185bd58",
        "colab": {
          "base_uri": "https://localhost:8080/",
          "height": 34
        }
      },
      "source": [
        "type(0)"
      ],
      "execution_count": 0,
      "outputs": [
        {
          "output_type": "execute_result",
          "data": {
            "text/plain": [
              "int"
            ]
          },
          "metadata": {
            "tags": []
          },
          "execution_count": 17
        }
      ]
    },
    {
      "cell_type": "markdown",
      "metadata": {
        "id": "T7EjyaQXI_T_",
        "colab_type": "text"
      },
      "source": [
        "### Floats "
      ]
    },
    {
      "cell_type": "markdown",
      "metadata": {
        "id": "3Q-zX9RtI_UA",
        "colab_type": "text"
      },
      "source": [
        " Floats are real numbers; they include the integers but also \"numbers in-between the integers\". Consider the numbers between  0 and one we can select numbers in-between them, these numbers are floats. Similarly, consider the numbers between 0.5 and 0.6. We can select numbers in-between them, these are floats as well. We can continue the process, zooming in for different numbers, of course, there is a limit, but it is quite small."
      ]
    },
    {
      "cell_type": "markdown",
      "metadata": {
        "id": "MrgmURDTI_UA",
        "colab_type": "text"
      },
      "source": [
        " We can verify some of the above examples using the type command:"
      ]
    },
    {
      "cell_type": "code",
      "metadata": {
        "id": "XE1Ggq-EI_UA",
        "colab_type": "code",
        "outputId": "1beced93-833a-421f-ee13-c34c14d8aa6c",
        "colab": {
          "base_uri": "https://localhost:8080/",
          "height": 34
        }
      },
      "source": [
        "type(1.0)"
      ],
      "execution_count": 0,
      "outputs": [
        {
          "output_type": "execute_result",
          "data": {
            "text/plain": [
              "float"
            ]
          },
          "metadata": {
            "tags": []
          },
          "execution_count": 18
        }
      ]
    },
    {
      "cell_type": "code",
      "metadata": {
        "id": "IuJedtuqI_UD",
        "colab_type": "code",
        "outputId": "6759a8d2-02ff-45ab-9647-01aa26df8098",
        "colab": {
          "base_uri": "https://localhost:8080/",
          "height": 34
        }
      },
      "source": [
        "type(0.5)"
      ],
      "execution_count": 0,
      "outputs": [
        {
          "output_type": "execute_result",
          "data": {
            "text/plain": [
              "float"
            ]
          },
          "metadata": {
            "tags": []
          },
          "execution_count": 19
        }
      ]
    },
    {
      "cell_type": "code",
      "metadata": {
        "id": "quBHjt0cI_UF",
        "colab_type": "code",
        "outputId": "3119b123-394c-4a67-b1fd-a02ca0f0ec3b",
        "colab": {
          "base_uri": "https://localhost:8080/",
          "height": 34
        }
      },
      "source": [
        "type(0.56)"
      ],
      "execution_count": 0,
      "outputs": [
        {
          "output_type": "execute_result",
          "data": {
            "text/plain": [
              "float"
            ]
          },
          "metadata": {
            "tags": []
          },
          "execution_count": 20
        }
      ]
    },
    {
      "cell_type": "markdown",
      "metadata": {
        "id": "6lgEK2ZZI_UH",
        "colab_type": "text"
      },
      "source": [
        "### Converting from one object type to a different object type"
      ]
    },
    {
      "cell_type": "markdown",
      "metadata": {
        "id": "yHqA8ADAI_UI",
        "colab_type": "text"
      },
      "source": [
        "You can change the type of the object in Python; this is called typecasting. For example, you can convert an integer into a float, as in 2 to 2.0."
      ]
    },
    {
      "cell_type": "code",
      "metadata": {
        "id": "ifD8HiArI_UI",
        "colab_type": "code",
        "outputId": "02b92950-ba91-463f-8850-5901bc533c1d",
        "colab": {
          "base_uri": "https://localhost:8080/",
          "height": 34
        }
      },
      "source": [
        "type(2) #verify that this is an integer"
      ],
      "execution_count": 0,
      "outputs": [
        {
          "output_type": "execute_result",
          "data": {
            "text/plain": [
              "int"
            ]
          },
          "metadata": {
            "tags": []
          },
          "execution_count": 21
        }
      ]
    },
    {
      "cell_type": "markdown",
      "metadata": {
        "id": "l3naFPgQI_UK",
        "colab_type": "text"
      },
      "source": [
        "#### Converting to float:"
      ]
    },
    {
      "cell_type": "code",
      "metadata": {
        "id": "5goZhqCxI_UK",
        "colab_type": "code",
        "colab": {}
      },
      "source": [
        "float(2)"
      ],
      "execution_count": 0,
      "outputs": []
    },
    {
      "cell_type": "code",
      "metadata": {
        "id": "9Ga4IktOI_UM",
        "colab_type": "code",
        "outputId": "4bbeaa1f-4be0-4a99-ebdc-168145e5f6e1",
        "colab": {
          "base_uri": "https://localhost:8080/",
          "height": 34
        }
      },
      "source": [
        "type(float(2))"
      ],
      "execution_count": 0,
      "outputs": [
        {
          "output_type": "execute_result",
          "data": {
            "text/plain": [
              "float"
            ]
          },
          "metadata": {
            "tags": []
          },
          "execution_count": 22
        }
      ]
    },
    {
      "cell_type": "markdown",
      "metadata": {
        "id": "1SbfK7-OI_UN",
        "colab_type": "text"
      },
      "source": [
        "#### Converting to integer:"
      ]
    },
    {
      "cell_type": "markdown",
      "metadata": {
        "id": "yaQgI_jVI_UO",
        "colab_type": "text"
      },
      "source": [
        " Nothing really changes. If you cast a float to an integer, you must be careful. For example, if you cast the float 1.1 to 1 you will lose some information : "
      ]
    },
    {
      "cell_type": "code",
      "metadata": {
        "id": "VTFYoeSaI_UO",
        "colab_type": "code",
        "colab": {}
      },
      "source": [
        "int(1.1)"
      ],
      "execution_count": 0,
      "outputs": []
    },
    {
      "cell_type": "markdown",
      "metadata": {
        "id": "EJ5_LAPKI_UP",
        "colab_type": "text"
      },
      "source": [
        "#### Converting from strings to integers/floats:"
      ]
    },
    {
      "cell_type": "markdown",
      "metadata": {
        "id": "KlTeWiPYI_UQ",
        "colab_type": "text"
      },
      "source": [
        "If a string contains an integer value, you can convert it to an integer:"
      ]
    },
    {
      "cell_type": "code",
      "metadata": {
        "id": "6SPkXiifI_UQ",
        "colab_type": "code",
        "colab": {}
      },
      "source": [
        "int('1')"
      ],
      "execution_count": 0,
      "outputs": []
    },
    {
      "cell_type": "markdown",
      "metadata": {
        "id": "v1_t2RWlI_US",
        "colab_type": "text"
      },
      "source": [
        "You can also convert strings containing float values into float objects"
      ]
    },
    {
      "cell_type": "code",
      "metadata": {
        "id": "MN0g55X3I_US",
        "colab_type": "code",
        "colab": {}
      },
      "source": [
        "float('1.2')"
      ],
      "execution_count": 0,
      "outputs": []
    },
    {
      "cell_type": "markdown",
      "metadata": {
        "id": "Q0L7oVy9I_UW",
        "colab_type": "text"
      },
      "source": [
        "However, if we attempt to convert a string that contains a non-numerical value, we get an error:"
      ]
    },
    {
      "cell_type": "code",
      "metadata": {
        "id": "GlU9EFa0I_UX",
        "colab_type": "code",
        "colab": {}
      },
      "source": [
        "int(\"A\")"
      ],
      "execution_count": 0,
      "outputs": []
    },
    {
      "cell_type": "markdown",
      "metadata": {
        "id": "xL-i4nqSI_UY",
        "colab_type": "text"
      },
      "source": [
        "#### Converting to strings:"
      ]
    },
    {
      "cell_type": "markdown",
      "metadata": {
        "collapsed": true,
        "id": "aKJ6qUMjI_UZ",
        "colab_type": "text"
      },
      "source": [
        "You can convert an int to a string:"
      ]
    },
    {
      "cell_type": "code",
      "metadata": {
        "id": "sbt_fQFcI_UZ",
        "colab_type": "code",
        "outputId": "339a3716-0803-44a0-e429-d5a2e471e25c",
        "colab": {
          "base_uri": "https://localhost:8080/",
          "height": 34
        }
      },
      "source": [
        "str(1)"
      ],
      "execution_count": 0,
      "outputs": [
        {
          "output_type": "execute_result",
          "data": {
            "text/plain": [
              "'1'"
            ]
          },
          "metadata": {
            "tags": []
          },
          "execution_count": 24
        }
      ]
    },
    {
      "cell_type": "markdown",
      "metadata": {
        "collapsed": true,
        "id": "Og9Q8RUoI_Uc",
        "colab_type": "text"
      },
      "source": [
        " You can convert a  float to a string "
      ]
    },
    {
      "cell_type": "code",
      "metadata": {
        "id": "7KO0pK8kI_Ud",
        "colab_type": "code",
        "outputId": "05096655-b4ae-4067-9989-fbd87053572a",
        "colab": {
          "base_uri": "https://localhost:8080/",
          "height": 34
        }
      },
      "source": [
        "str(1.2)"
      ],
      "execution_count": 0,
      "outputs": [
        {
          "output_type": "execute_result",
          "data": {
            "text/plain": [
              "'1.2'"
            ]
          },
          "metadata": {
            "tags": []
          },
          "execution_count": 23
        }
      ]
    },
    {
      "cell_type": "markdown",
      "metadata": {
        "id": "SM7FKEtXI_Ue",
        "colab_type": "text"
      },
      "source": [
        "### Boolean "
      ]
    },
    {
      "cell_type": "markdown",
      "metadata": {
        "id": "mMoP5P8-I_Uf",
        "colab_type": "text"
      },
      "source": [
        "Boolean is another important  type in Python; a Boolean can take on two values. The first value is true, just remember we use an uppercase T:"
      ]
    },
    {
      "cell_type": "code",
      "metadata": {
        "id": "TC24C4gCI_Uf",
        "colab_type": "code",
        "colab": {}
      },
      "source": [
        "True"
      ],
      "execution_count": 0,
      "outputs": []
    },
    {
      "cell_type": "markdown",
      "metadata": {
        "id": "Jn--Tlc5I_Ug",
        "colab_type": "text"
      },
      "source": [
        " Boolean values can also be false, with  an uppercase F:"
      ]
    },
    {
      "cell_type": "code",
      "metadata": {
        "id": "zHX9rL-DI_Ug",
        "colab_type": "code",
        "colab": {}
      },
      "source": [
        "False"
      ],
      "execution_count": 0,
      "outputs": []
    },
    {
      "cell_type": "markdown",
      "metadata": {
        "id": "ssUnC7vVI_Uj",
        "colab_type": "text"
      },
      "source": [
        "Using the type command on a Boolean value we  obtain the term bool, this is short for Boolean "
      ]
    },
    {
      "cell_type": "code",
      "metadata": {
        "id": "k4MqcD8oI_Uj",
        "colab_type": "code",
        "colab": {}
      },
      "source": [
        "type(True)"
      ],
      "execution_count": 0,
      "outputs": []
    },
    {
      "cell_type": "code",
      "metadata": {
        "id": "4QPbCGmHI_Ul",
        "colab_type": "code",
        "colab": {}
      },
      "source": [
        "type(False)"
      ],
      "execution_count": 0,
      "outputs": []
    },
    {
      "cell_type": "markdown",
      "metadata": {
        "id": "d8u4e3a5I_Um",
        "colab_type": "text"
      },
      "source": [
        "If we cast a Boolean true to an integer or float we will get a 1, if we cast a Boolean false to an integer or float. If we get a zero   if you cast a 1 to a boolean, you get a true similarly, if you cast a 0 to a Boolean you get a false. "
      ]
    },
    {
      "cell_type": "code",
      "metadata": {
        "id": "t4kuuFsYI_Un",
        "colab_type": "code",
        "colab": {}
      },
      "source": [
        "int(True)"
      ],
      "execution_count": 0,
      "outputs": []
    },
    {
      "cell_type": "code",
      "metadata": {
        "id": "hC387IbBI_Up",
        "colab_type": "code",
        "colab": {}
      },
      "source": [
        "bool(1)"
      ],
      "execution_count": 0,
      "outputs": []
    },
    {
      "cell_type": "code",
      "metadata": {
        "id": "LF2xiw5GI_Ur",
        "colab_type": "code",
        "colab": {}
      },
      "source": [
        "bool(0)"
      ],
      "execution_count": 0,
      "outputs": []
    },
    {
      "cell_type": "code",
      "metadata": {
        "id": "cV1pvmIjI_Us",
        "colab_type": "code",
        "colab": {}
      },
      "source": [
        "float(True)"
      ],
      "execution_count": 0,
      "outputs": []
    },
    {
      "cell_type": "markdown",
      "metadata": {
        "id": "xRluUvJ4I_Ut",
        "colab_type": "text"
      },
      "source": [
        "### Quiz on types  "
      ]
    },
    {
      "cell_type": "markdown",
      "metadata": {
        "id": "IPlJw-5hI_Ut",
        "colab_type": "text"
      },
      "source": [
        "#### What is the type of the result of: `6 / 2`"
      ]
    },
    {
      "cell_type": "code",
      "metadata": {
        "id": "iRWldvUtI_Ut",
        "colab_type": "code",
        "outputId": "2f39aa76-4c1b-4a4f-cb83-7570a9d34d1d",
        "colab": {}
      },
      "source": [
        "type(6/2)"
      ],
      "execution_count": 0,
      "outputs": [
        {
          "output_type": "execute_result",
          "data": {
            "text/plain": [
              "float"
            ]
          },
          "metadata": {
            "tags": []
          },
          "execution_count": 18
        }
      ]
    },
    {
      "cell_type": "markdown",
      "metadata": {
        "id": "q8VdoLUYI_Uv",
        "colab_type": "text"
      },
      "source": [
        " <div align=\"right\">\n",
        "<a href=\"#3\" class=\"btn btn-default\" data-toggle=\"collapse\">Click here for the solution</a>\n",
        "\n",
        "</div>\n",
        "<div id=\"3\" class=\"collapse\">\n",
        "```\n",
        "the type if float \n",
        "type(6/2)\n",
        "```\n",
        "</div>"
      ]
    },
    {
      "cell_type": "markdown",
      "metadata": {
        "id": "d-GKSAJVI_Uv",
        "colab_type": "text"
      },
      "source": [
        "#### What is the type of the result of: `6 // 2`? (Note the double slash //)"
      ]
    },
    {
      "cell_type": "code",
      "metadata": {
        "id": "o_nMyvioI_Uv",
        "colab_type": "code",
        "outputId": "20c2bac0-b356-49da-a086-9777a5015f92",
        "colab": {}
      },
      "source": [
        "type(6//2)"
      ],
      "execution_count": 0,
      "outputs": [
        {
          "output_type": "execute_result",
          "data": {
            "text/plain": [
              "int"
            ]
          },
          "metadata": {
            "tags": []
          },
          "execution_count": 19
        }
      ]
    },
    {
      "cell_type": "markdown",
      "metadata": {
        "id": "AjT7yBrFI_Ux",
        "colab_type": "text"
      },
      "source": [
        " <div align=\"right\">\n",
        "<a href=\"#4\" class=\"btn btn-default\" data-toggle=\"collapse\">Click here for the solution</a>\n",
        "\n",
        "</div>\n",
        "<div id=\"4\" class=\"collapse\">\n",
        "```\n",
        "int:\n",
        "double slashes stand for integer division \n",
        "\n",
        "\n",
        "```\n",
        "</div>"
      ]
    },
    {
      "cell_type": "markdown",
      "metadata": {
        "id": "20a2jczHI_Ux",
        "colab_type": "text"
      },
      "source": [
        "<a id=\"ref2\"></a>\n",
        "<h2 align=center> Expression and Variables </h2>\n",
        "\n"
      ]
    },
    {
      "cell_type": "markdown",
      "metadata": {
        "id": "N1uleIFxI_Ux",
        "colab_type": "text"
      },
      "source": [
        "### Expressions "
      ]
    },
    {
      "cell_type": "markdown",
      "metadata": {
        "id": "aGJk0fqzI_Uy",
        "colab_type": "text"
      },
      "source": [
        "Expressions are operations that Python performs. For example, basic arithmetic operations like adding multiple numbers."
      ]
    },
    {
      "cell_type": "code",
      "metadata": {
        "id": "u6p-0mRhI_Uy",
        "colab_type": "code",
        "colab": {}
      },
      "source": [
        "43 + 60 + 16 + 41"
      ],
      "execution_count": 0,
      "outputs": []
    },
    {
      "cell_type": "markdown",
      "metadata": {
        "id": "9SZupOJXI_U0",
        "colab_type": "text"
      },
      "source": [
        " We can perform operations such as subtraction using the subtraction sign. In this case the result is a negative number."
      ]
    },
    {
      "cell_type": "code",
      "metadata": {
        "id": "RfVn_4aCI_U2",
        "colab_type": "code",
        "colab": {}
      },
      "source": [
        "50 - 60"
      ],
      "execution_count": 0,
      "outputs": []
    },
    {
      "cell_type": "markdown",
      "metadata": {
        "id": "Kq7M-9OUI_U4",
        "colab_type": "text"
      },
      "source": [
        "We can use multiplication using an asterisk:"
      ]
    },
    {
      "cell_type": "code",
      "metadata": {
        "id": "l6-xJwU6I_U4",
        "colab_type": "code",
        "colab": {}
      },
      "source": [
        "5 * 5"
      ],
      "execution_count": 0,
      "outputs": []
    },
    {
      "cell_type": "markdown",
      "metadata": {
        "id": "jxYnXHcDI_U6",
        "colab_type": "text"
      },
      "source": [
        "We can also perform division with the forward slash"
      ]
    },
    {
      "cell_type": "code",
      "metadata": {
        "id": "G-JbnW1II_U6",
        "colab_type": "code",
        "colab": {}
      },
      "source": [
        "25 / 5"
      ],
      "execution_count": 0,
      "outputs": []
    },
    {
      "cell_type": "code",
      "metadata": {
        "id": "1if0WbwjI_U7",
        "colab_type": "code",
        "colab": {}
      },
      "source": [
        "25 / 6"
      ],
      "execution_count": 0,
      "outputs": []
    },
    {
      "cell_type": "markdown",
      "metadata": {
        "id": "LaqAXoVFI_U8",
        "colab_type": "text"
      },
      "source": [
        "We can use the double slash for integer division, where the result is rounded "
      ]
    },
    {
      "cell_type": "code",
      "metadata": {
        "id": "OM53-CsfI_U8",
        "colab_type": "code",
        "colab": {}
      },
      "source": [
        "25//5"
      ],
      "execution_count": 0,
      "outputs": []
    },
    {
      "cell_type": "code",
      "metadata": {
        "id": "q3O7Ij3LI_U9",
        "colab_type": "code",
        "colab": {}
      },
      "source": [
        "25//6"
      ],
      "execution_count": 0,
      "outputs": []
    },
    {
      "cell_type": "markdown",
      "metadata": {
        "id": "654Fd2J9I_U-",
        "colab_type": "text"
      },
      "source": [
        "**What is 160 min in hours?**"
      ]
    },
    {
      "cell_type": "code",
      "metadata": {
        "id": "DiOmrKw_I_U-",
        "colab_type": "code",
        "outputId": "053511b8-77f3-4342-ecce-de5291a16f54",
        "colab": {}
      },
      "source": [
        "160/60"
      ],
      "execution_count": 0,
      "outputs": [
        {
          "output_type": "execute_result",
          "data": {
            "text/plain": [
              "2.6666666666666665"
            ]
          },
          "metadata": {
            "tags": []
          },
          "execution_count": 20
        }
      ]
    },
    {
      "cell_type": "markdown",
      "metadata": {
        "id": "3VSEA5tTI_U_",
        "colab_type": "text"
      },
      "source": [
        " <div align=\"right\">\n",
        "<a href=\"#6\" class=\"btn btn-default\" data-toggle=\"collapse\">Click here for the solution</a>\n",
        "\n",
        "</div>\n",
        "<div id=\"6\" class=\"collapse\">\n",
        "```\n",
        "160.0 / 60.0\n",
        "```\n",
        "</div>"
      ]
    },
    {
      "cell_type": "markdown",
      "metadata": {
        "id": "rMdFmf9VI_U_",
        "colab_type": "text"
      },
      "source": [
        " Python follows mathematical conventions when performing mathematical expressions. The following operations are in different order. In both cases Python performs multiplication, then addition to obtain the final result. "
      ]
    },
    {
      "cell_type": "code",
      "metadata": {
        "id": "LWs9LNMOI_VA",
        "colab_type": "code",
        "colab": {}
      },
      "source": [
        " 2 * 60 + 30"
      ],
      "execution_count": 0,
      "outputs": []
    },
    {
      "cell_type": "markdown",
      "metadata": {
        "id": "Fuf26z8LI_VB",
        "colab_type": "text"
      },
      "source": [
        " The expressions in the parentheses are performed first. We then multiply the result by 60, the result is 1920."
      ]
    },
    {
      "cell_type": "code",
      "metadata": {
        "id": "dgHDh2hVI_VC",
        "colab_type": "code",
        "colab": {}
      },
      "source": [
        "(30 + 2) * 60"
      ],
      "execution_count": 0,
      "outputs": []
    },
    {
      "cell_type": "markdown",
      "metadata": {
        "id": "39tP-4HHI_VC",
        "colab_type": "text"
      },
      "source": [
        " addition: **2 + 2** \n",
        "subtraction: **5 - 2** \n",
        "multiplication: **3 \\* 2**\n",
        "division: **4 / 2**\n",
        "exponentiation: **4 \\*\\* 2** \n"
      ]
    },
    {
      "cell_type": "markdown",
      "metadata": {
        "id": "maKQncauI_VD",
        "colab_type": "text"
      },
      "source": [
        "### Variables"
      ]
    },
    {
      "cell_type": "markdown",
      "metadata": {
        "id": "iFw47YOfI_VE",
        "colab_type": "text"
      },
      "source": [
        "We can also **store** our output in **variables**, so we can use them later on. For example:"
      ]
    },
    {
      "cell_type": "code",
      "metadata": {
        "id": "IW9r4kL1I_VE",
        "colab_type": "code",
        "colab": {}
      },
      "source": [
        "x = 43 + 60 + 16 + 41"
      ],
      "execution_count": 0,
      "outputs": []
    },
    {
      "cell_type": "markdown",
      "metadata": {
        "id": "PtrES2EHI_VF",
        "colab_type": "text"
      },
      "source": [
        "To return the value of **`x`**, we can simply run the variable as a command:"
      ]
    },
    {
      "cell_type": "code",
      "metadata": {
        "id": "rHteOJ3uI_VF",
        "colab_type": "code",
        "colab": {}
      },
      "source": [
        "x"
      ],
      "execution_count": 0,
      "outputs": []
    },
    {
      "cell_type": "markdown",
      "metadata": {
        "id": "JMpOY8A6I_VG",
        "colab_type": "text"
      },
      "source": [
        "We can also perform operations on **`x`** and save the result to a **new variable**:"
      ]
    },
    {
      "cell_type": "code",
      "metadata": {
        "id": "0ZtpaVTOI_VG",
        "colab_type": "code",
        "colab": {}
      },
      "source": [
        "y = x / 60\n",
        "y"
      ],
      "execution_count": 0,
      "outputs": []
    },
    {
      "cell_type": "markdown",
      "metadata": {
        "id": "S7WZYhhuI_VH",
        "colab_type": "text"
      },
      "source": [
        "If we save something to an **existing variable**, it will **overwrite** the previous value:"
      ]
    },
    {
      "cell_type": "code",
      "metadata": {
        "id": "dHRmsZ2OI_VH",
        "colab_type": "code",
        "colab": {}
      },
      "source": [
        "x = x / 60\n",
        "x"
      ],
      "execution_count": 0,
      "outputs": []
    },
    {
      "cell_type": "markdown",
      "metadata": {
        "id": "-KWzqb0HI_VJ",
        "colab_type": "text"
      },
      "source": [
        "It's good practice to use **meaningful variable names**, so you don't have to keep track of what variable is what:"
      ]
    },
    {
      "cell_type": "code",
      "metadata": {
        "id": "k_Y9zfpII_VJ",
        "colab_type": "code",
        "colab": {}
      },
      "source": [
        "total_min = (43 + 42 )\n",
        "total_min"
      ],
      "execution_count": 0,
      "outputs": []
    },
    {
      "cell_type": "code",
      "metadata": {
        "id": "bEwcSvDZI_VL",
        "colab_type": "code",
        "colab": {}
      },
      "source": [
        "total_hr = total_min / 60  \n",
        "total_hr"
      ],
      "execution_count": 0,
      "outputs": []
    },
    {
      "cell_type": "markdown",
      "metadata": {
        "id": "5KIaT-olI_VM",
        "colab_type": "text"
      },
      "source": [
        "You can put this all into a single expression, but remember to use **round brackets** to add together the album lengths first, before dividing by 60."
      ]
    },
    {
      "cell_type": "code",
      "metadata": {
        "id": "fyairadcI_VM",
        "colab_type": "code",
        "colab": {}
      },
      "source": [
        "total_hr = (43 + 42 + 57) / 60  # get total hours in a single expression\n",
        "total_hr"
      ],
      "execution_count": 0,
      "outputs": []
    },
    {
      "cell_type": "markdown",
      "metadata": {
        "id": "Ax7hPXZtI_VN",
        "colab_type": "text"
      },
      "source": [
        "<hr></hr>\n",
        "<div class=\"alert alert-success alertsuccess\" style=\"margin-top: 0px\">\n",
        "<h4> [Tip] Variables in Python </h4>\n",
        "<p></p>\n",
        "As you just learned, you can use **variables** to store values for repeated use. Here are some more **characteristics of variables in Python**:\n",
        "<li>variables store the output of a block of code </li>\n",
        "<li>variables are typically assigned using **=** (as in **x = 1**) </li>\n",
        "<p></p>\n",
        "</div>\n",
        "<hr></hr>"
      ]
    },
    {
      "cell_type": "markdown",
      "metadata": {
        "id": "xW97H6huI_VN",
        "colab_type": "text"
      },
      "source": [
        " <a id=\"#ref1a\"></a>\n",
        "<h2 align=center> Quiz on Expression and Variables in Python</h2>"
      ]
    },
    {
      "cell_type": "markdown",
      "metadata": {
        "id": "ufR8a5LHI_VN",
        "colab_type": "text"
      },
      "source": [
        "####  What is the value of x ? <p> x = 3 + 2 * 2</p>"
      ]
    },
    {
      "cell_type": "code",
      "metadata": {
        "id": "EJcJI_vzI_VO",
        "colab_type": "code",
        "outputId": "48185244-a0a3-4c3c-9706-04dcec49a2ef",
        "colab": {
          "base_uri": "https://localhost:8080/",
          "height": 34
        }
      },
      "source": [
        "x=3+2*2\n",
        "print(x)"
      ],
      "execution_count": 0,
      "outputs": [
        {
          "output_type": "stream",
          "text": [
            "7\n"
          ],
          "name": "stdout"
        }
      ]
    },
    {
      "cell_type": "markdown",
      "metadata": {
        "id": "Z9IInOYdI_VR",
        "colab_type": "text"
      },
      "source": [
        "<div align=\"right\">\n",
        "<a href=\"#SM1\" class=\"btn btn-default\" data-toggle=\"collapse\">Click here for the solution</a>\n",
        "\n",
        "</div>\n",
        "<div id=\"SM1\" class=\"collapse\">\n",
        "```\n",
        "7\n",
        "```\n",
        "</div>\n"
      ]
    },
    {
      "cell_type": "markdown",
      "metadata": {
        "id": "XOOWqMj2I_VS",
        "colab_type": "text"
      },
      "source": [
        "####  What is the value of y ? <p> y = (3 + 2) * 2</p>"
      ]
    },
    {
      "cell_type": "code",
      "metadata": {
        "id": "T8LcQEPsI_VS",
        "colab_type": "code",
        "outputId": "88d95c40-9e9a-4983-fa80-66f5af6227c3",
        "colab": {
          "base_uri": "https://localhost:8080/",
          "height": 34
        }
      },
      "source": [
        "y=(3+2)*2\n",
        "print(y)"
      ],
      "execution_count": 0,
      "outputs": [
        {
          "output_type": "stream",
          "text": [
            "10\n"
          ],
          "name": "stdout"
        }
      ]
    },
    {
      "cell_type": "markdown",
      "metadata": {
        "id": "ttA9wag0I_VT",
        "colab_type": "text"
      },
      "source": [
        "<div align=\"right\">\n",
        "<a href=\"#SM2\" class=\"btn btn-default\" data-toggle=\"collapse\">Click here for the solution</a>\n",
        "\n",
        "</div>\n",
        "<div id=\"SM2\" class=\"collapse\">\n",
        "```\n",
        "10\n",
        "```\n",
        "</div>\n"
      ]
    },
    {
      "cell_type": "markdown",
      "metadata": {
        "id": "M6zRMIkKI_VU",
        "colab_type": "text"
      },
      "source": [
        "#### What is the value of z ? <p> z = x + y</p>"
      ]
    },
    {
      "cell_type": "code",
      "metadata": {
        "id": "d9domKCvI_VV",
        "colab_type": "code",
        "outputId": "532179eb-b8d9-4ab9-c47f-5bdd22751d80",
        "colab": {
          "base_uri": "https://localhost:8080/",
          "height": 164
        }
      },
      "source": [
        "print(z)\n"
      ],
      "execution_count": 0,
      "outputs": [
        {
          "output_type": "error",
          "ename": "NameError",
          "evalue": "ignored",
          "traceback": [
            "\u001b[0;31m---------------------------------------------------------------------------\u001b[0m",
            "\u001b[0;31mNameError\u001b[0m                                 Traceback (most recent call last)",
            "\u001b[0;32m<ipython-input-27-c01ac3f50fdc>\u001b[0m in \u001b[0;36m<module>\u001b[0;34m()\u001b[0m\n\u001b[0;32m----> 1\u001b[0;31m \u001b[0mprint\u001b[0m\u001b[0;34m(\u001b[0m\u001b[0mz\u001b[0m\u001b[0;34m)\u001b[0m\u001b[0;34m\u001b[0m\u001b[0;34m\u001b[0m\u001b[0m\n\u001b[0m",
            "\u001b[0;31mNameError\u001b[0m: name 'z' is not defined"
          ]
        }
      ]
    },
    {
      "cell_type": "markdown",
      "metadata": {
        "id": "cTqzEKN2I_VW",
        "colab_type": "text"
      },
      "source": [
        "<div align=\"right\">\n",
        "<a href=\"#SM3\" class=\"btn btn-default\" data-toggle=\"collapse\">Click here for the solution</a>\n",
        "\n",
        "</div>\n",
        "<div id=\"SM3\" class=\"collapse\">\n",
        "```\n",
        "17\n",
        "```\n",
        "</div>"
      ]
    },
    {
      "cell_type": "code",
      "metadata": {
        "id": "bk-n_HzAI_VW",
        "colab_type": "code",
        "colab": {}
      },
      "source": [
        ""
      ],
      "execution_count": 0,
      "outputs": []
    }
  ]
}