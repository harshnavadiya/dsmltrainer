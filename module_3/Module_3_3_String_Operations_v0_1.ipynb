{
  "nbformat": 4,
  "nbformat_minor": 0,
  "metadata": {
    "colab": {
      "name": "Module_3.3_String_Operations_v0.1.ipynb",
      "version": "0.3.2",
      "provenance": [],
      "include_colab_link": true
    },
    "language_info": {
      "codemirror_mode": {
        "name": "ipython",
        "version": 3
      },
      "file_extension": ".py",
      "mimetype": "text/x-python",
      "name": "python",
      "nbconvert_exporter": "python",
      "pygments_lexer": "ipython3",
      "version": "3.5.2"
    },
    "kernelspec": {
      "display_name": "Python 3",
      "language": "python",
      "name": "python3"
    }
  },
  "cells": [
    {
      "cell_type": "markdown",
      "metadata": {
        "id": "view-in-github",
        "colab_type": "text"
      },
      "source": [
        "<a href=\"https://colab.research.google.com/github/harshnavadiya/dsmltrainer/blob/master/module_3/Module_3_3_String_Operations_v0_1.ipynb\" target=\"_parent\"><img src=\"https://colab.research.google.com/assets/colab-badge.svg\" alt=\"Open In Colab\"/></a>"
      ]
    },
    {
      "cell_type": "markdown",
      "metadata": {
        "id": "jKVuVNDwow_U",
        "colab_type": "text"
      },
      "source": [
        "#String Operations"
      ]
    },
    {
      "cell_type": "markdown",
      "metadata": {
        "id": "QFfroUH2ow_U",
        "colab_type": "text"
      },
      "source": [
        "<br>"
      ]
    },
    {
      "cell_type": "markdown",
      "metadata": {
        "id": "ZAX-lS6gow_V",
        "colab_type": "text"
      },
      "source": [
        "## Table of Contents\n",
        "\n",
        "\n",
        "<div class=\"alert alert-block alert-info\" style=\"margin-top: 20px\">\n",
        "<li><a href=\"#ref0\">Strings</a></li>\n",
        "<li><a href=\"#ref1\">Indexing</a></li>\n",
        "<li><a href=\"#ref2\">Escape Sequences </a></li>\n",
        "<li><a href=\"#ref3\">String Operations</a></li>\n",
        "<li><a href=\"#ref4\">Quizz </a></li>\n",
        "<br>\n",
        "<p></p>\n",
        "Estimated Time Needed: <strong>15 min</strong>\n",
        "</div>\n",
        "\n",
        "<hr>"
      ]
    },
    {
      "cell_type": "markdown",
      "metadata": {
        "id": "EO7JzA26ow_V",
        "colab_type": "text"
      },
      "source": [
        "<a id=\"ref0\"></a>\n",
        "<h2 align=center>Strings </h2>"
      ]
    },
    {
      "cell_type": "markdown",
      "metadata": {
        "id": "I6sZSwxzow_W",
        "colab_type": "text"
      },
      "source": [
        " A string is contained within 2 quotes:"
      ]
    },
    {
      "cell_type": "code",
      "metadata": {
        "id": "HCt4OJ4Low_W",
        "colab_type": "code",
        "outputId": "0fcbac20-8b96-45b1-adac-22165c3b136b",
        "colab": {
          "base_uri": "https://localhost:8080/",
          "height": 34
        }
      },
      "source": [
        "\"Michael Jackson\""
      ],
      "execution_count": 0,
      "outputs": [
        {
          "output_type": "execute_result",
          "data": {
            "text/plain": [
              "'Michael Jackson'"
            ]
          },
          "metadata": {
            "tags": []
          },
          "execution_count": 2
        }
      ]
    },
    {
      "cell_type": "markdown",
      "metadata": {
        "id": "YnVUIQ5jow_Z",
        "colab_type": "text"
      },
      "source": [
        "You can also use single  quotes:"
      ]
    },
    {
      "cell_type": "code",
      "metadata": {
        "id": "5HgVmE8Oow_Z",
        "colab_type": "code",
        "outputId": "47802691-e16c-460b-cbc0-d5521d4e18bd",
        "colab": {
          "base_uri": "https://localhost:8080/",
          "height": 34
        }
      },
      "source": [
        "'Michael Jackson'"
      ],
      "execution_count": 0,
      "outputs": [
        {
          "output_type": "execute_result",
          "data": {
            "text/plain": [
              "'Michael Jackson'"
            ]
          },
          "metadata": {
            "tags": []
          },
          "execution_count": 3
        }
      ]
    },
    {
      "cell_type": "markdown",
      "metadata": {
        "id": "w5heHvBIow_c",
        "colab_type": "text"
      },
      "source": [
        "A string can be spaces and digits: "
      ]
    },
    {
      "cell_type": "code",
      "metadata": {
        "id": "SRWrboaOow_c",
        "colab_type": "code",
        "outputId": "017b2955-55fc-436a-b1b6-f40179773dad",
        "colab": {
          "base_uri": "https://localhost:8080/",
          "height": 51
        }
      },
      "source": [
        "'1 2 3 4 5 6 '\n",
        "\n",
        "\n",
        "\n",
        "x = \"This is an escaped \\n string\"\n",
        "print(x)"
      ],
      "execution_count": 0,
      "outputs": [
        {
          "output_type": "stream",
          "text": [
            "This is an escaped \n",
            " string\n"
          ],
          "name": "stdout"
        }
      ]
    },
    {
      "cell_type": "markdown",
      "metadata": {
        "id": "B2JCxMy-ow_e",
        "colab_type": "text"
      },
      "source": [
        "A string can also be special characters : "
      ]
    },
    {
      "cell_type": "code",
      "metadata": {
        "id": "L1ytIf_Dow_e",
        "colab_type": "code",
        "outputId": "db1ea50f-110c-4402-d7d7-1c2c4da421eb",
        "colab": {
          "base_uri": "https://localhost:8080/",
          "height": 34
        }
      },
      "source": [
        "'@#2_#]&*^%$'"
      ],
      "execution_count": 0,
      "outputs": [
        {
          "output_type": "execute_result",
          "data": {
            "text/plain": [
              "'@#2_#]&*^%$'"
            ]
          },
          "metadata": {
            "tags": []
          },
          "execution_count": 5
        }
      ]
    },
    {
      "cell_type": "markdown",
      "metadata": {
        "id": "g-USaYFcow_g",
        "colab_type": "text"
      },
      "source": [
        "We can print our string using the print statement:"
      ]
    },
    {
      "cell_type": "code",
      "metadata": {
        "id": "e9Pynhgkow_h",
        "colab_type": "code",
        "outputId": "59e4860a-cebd-4826-d645-78fedb0f3a06",
        "colab": {
          "base_uri": "https://localhost:8080/",
          "height": 34
        }
      },
      "source": [
        "print(\"hello!\")"
      ],
      "execution_count": 0,
      "outputs": [
        {
          "output_type": "stream",
          "text": [
            "hello!\n"
          ],
          "name": "stdout"
        }
      ]
    },
    {
      "cell_type": "markdown",
      "metadata": {
        "id": "g2PaYdtoow_j",
        "colab_type": "text"
      },
      "source": [
        "We can bind or assign a string to another variable:\n"
      ]
    },
    {
      "cell_type": "code",
      "metadata": {
        "id": "KgXT16N7ow_k",
        "colab_type": "code",
        "outputId": "28b25563-71e4-4672-f1d4-3d18b914df84",
        "colab": {
          "base_uri": "https://localhost:8080/",
          "height": 34
        }
      },
      "source": [
        "Name= \"Michael Jackson\"\n",
        "Name"
      ],
      "execution_count": 0,
      "outputs": [
        {
          "output_type": "execute_result",
          "data": {
            "text/plain": [
              "'Michael Jackson'"
            ]
          },
          "metadata": {
            "tags": []
          },
          "execution_count": 7
        }
      ]
    },
    {
      "cell_type": "markdown",
      "metadata": {
        "id": "IgWc8G6How_n",
        "colab_type": "text"
      },
      "source": [
        " <a id=\"ref1\"></a>\n",
        "<h2 align=center>Indexing </h2>"
      ]
    },
    {
      "cell_type": "markdown",
      "metadata": {
        "id": "bfGwQRs_ow_n",
        "colab_type": "text"
      },
      "source": [
        "It is helpful to think of a string as an ordered sequence. Each element in the sequence can be accessed using an index represented by the array of numbers:  "
      ]
    },
    {
      "cell_type": "markdown",
      "metadata": {
        "id": "1GjuadVdow_o",
        "colab_type": "text"
      },
      "source": [
        " <img src = \"https://ibm.box.com/shared/static/esdu9w118rm1aldff7ff8c9b3kpjdazc.png\" width = 600, align = \"center\"></a>"
      ]
    },
    {
      "cell_type": "markdown",
      "metadata": {
        "id": "lD_lAnz2ow_p",
        "colab_type": "text"
      },
      "source": [
        " The first index can be accessed as follows:"
      ]
    },
    {
      "cell_type": "code",
      "metadata": {
        "id": "tQFBQs6Uow_p",
        "colab_type": "code",
        "outputId": "8a7181bc-a71c-419a-d34e-286e5ec06bbd",
        "colab": {
          "base_uri": "https://localhost:8080/",
          "height": 34
        }
      },
      "source": [
        "print(Name[13])"
      ],
      "execution_count": 0,
      "outputs": [
        {
          "output_type": "stream",
          "text": [
            "o\n"
          ],
          "name": "stdout"
        }
      ]
    },
    {
      "cell_type": "markdown",
      "metadata": {
        "id": "e70fC1EFow_r",
        "colab_type": "text"
      },
      "source": [
        " We can access index 6:"
      ]
    },
    {
      "cell_type": "code",
      "metadata": {
        "id": "VSIhY7xAow_s",
        "colab_type": "code",
        "outputId": "43df7c57-88f4-4738-9ea0-0d62ecffa5b8",
        "colab": {
          "base_uri": "https://localhost:8080/",
          "height": 34
        }
      },
      "source": [
        "print(Name[6])"
      ],
      "execution_count": 0,
      "outputs": [
        {
          "output_type": "stream",
          "text": [
            "l\n"
          ],
          "name": "stdout"
        }
      ]
    },
    {
      "cell_type": "markdown",
      "metadata": {
        "id": "2OLBURZ0ow_t",
        "colab_type": "text"
      },
      "source": [
        "Moreover, we can access the 13th index:"
      ]
    },
    {
      "cell_type": "code",
      "metadata": {
        "id": "vzP6p1K-ow_u",
        "colab_type": "code",
        "outputId": "7f27c643-d605-4b4f-cd91-6cb6058104be",
        "colab": {
          "base_uri": "https://localhost:8080/",
          "height": 34
        }
      },
      "source": [
        "print(Name[13])"
      ],
      "execution_count": 0,
      "outputs": [
        {
          "output_type": "stream",
          "text": [
            "o\n"
          ],
          "name": "stdout"
        }
      ]
    },
    {
      "cell_type": "markdown",
      "metadata": {
        "id": "9AP2l6Clow_w",
        "colab_type": "text"
      },
      "source": [
        " We can also use negative indexing with strings:"
      ]
    },
    {
      "cell_type": "markdown",
      "metadata": {
        "id": "ZC3wqqsUow_w",
        "colab_type": "text"
      },
      "source": [
        "<img src = \"https://ibm.box.com/shared/static/rmq8akevtt6uufox3xai7q2kqs4j9kan.png\" width = 600, align = \"center\"></a>"
      ]
    },
    {
      "cell_type": "markdown",
      "metadata": {
        "id": "n4Ryd_2Cow_y",
        "colab_type": "text"
      },
      "source": [
        " The last element is given by the  index -1: "
      ]
    },
    {
      "cell_type": "code",
      "metadata": {
        "id": "xqTBuDFHow_z",
        "colab_type": "code",
        "outputId": "f333da5a-2b4a-45df-f158-96c97ce9474a",
        "colab": {
          "base_uri": "https://localhost:8080/",
          "height": 34
        }
      },
      "source": [
        "print(Name[-1])"
      ],
      "execution_count": 0,
      "outputs": [
        {
          "output_type": "stream",
          "text": [
            "n\n"
          ],
          "name": "stdout"
        }
      ]
    },
    {
      "cell_type": "markdown",
      "metadata": {
        "id": "FIq8xilbow_2",
        "colab_type": "text"
      },
      "source": [
        " The first element can be obtained by  index -15:"
      ]
    },
    {
      "cell_type": "code",
      "metadata": {
        "id": "VL26vILLow_3",
        "colab_type": "code",
        "outputId": "6d34db64-e220-44e4-a5eb-de1172ee2579",
        "colab": {
          "base_uri": "https://localhost:8080/",
          "height": 34
        }
      },
      "source": [
        "print(Name[-15])"
      ],
      "execution_count": 0,
      "outputs": [
        {
          "output_type": "stream",
          "text": [
            "M\n"
          ],
          "name": "stdout"
        }
      ]
    },
    {
      "cell_type": "markdown",
      "metadata": {
        "id": "82H69ZLFow_5",
        "colab_type": "text"
      },
      "source": [
        " We can find the number of characters in a string by using 'len', short for length:"
      ]
    },
    {
      "cell_type": "code",
      "metadata": {
        "id": "UVDOTYBDow_6",
        "colab_type": "code",
        "outputId": "6ceff990-4007-41ec-be73-6790232c634b",
        "colab": {
          "base_uri": "https://localhost:8080/",
          "height": 34
        }
      },
      "source": [
        "len(\"Michael Jackson\")"
      ],
      "execution_count": 0,
      "outputs": [
        {
          "output_type": "execute_result",
          "data": {
            "text/plain": [
              "15"
            ]
          },
          "metadata": {
            "tags": []
          },
          "execution_count": 13
        }
      ]
    },
    {
      "cell_type": "markdown",
      "metadata": {
        "id": "5rrJ8DLUow_8",
        "colab_type": "text"
      },
      "source": [
        "We can obtain multiple characters from a string using slicing, we can obtain the 0 to 4th and 8th to the 12th element:  "
      ]
    },
    {
      "cell_type": "code",
      "metadata": {
        "id": "0wrpyPBCow_-",
        "colab_type": "code",
        "outputId": "c0b3f1b0-54f0-4a1b-876a-6a736ea71c72",
        "colab": {
          "base_uri": "https://localhost:8080/",
          "height": 34
        }
      },
      "source": [
        "Name[0:4]"
      ],
      "execution_count": 0,
      "outputs": [
        {
          "output_type": "execute_result",
          "data": {
            "text/plain": [
              "'Mich'"
            ]
          },
          "metadata": {
            "tags": []
          },
          "execution_count": 14
        }
      ]
    },
    {
      "cell_type": "code",
      "metadata": {
        "id": "4AUm3HRFoxAA",
        "colab_type": "code",
        "outputId": "1382d762-2d48-40e9-8c3e-5afdd6fa3f78",
        "colab": {
          "base_uri": "https://localhost:8080/",
          "height": 34
        }
      },
      "source": [
        "Name[8:12]"
      ],
      "execution_count": 0,
      "outputs": [
        {
          "output_type": "execute_result",
          "data": {
            "text/plain": [
              "'Jack'"
            ]
          },
          "metadata": {
            "tags": []
          },
          "execution_count": 15
        }
      ]
    },
    {
      "cell_type": "markdown",
      "metadata": {
        "id": "Id9FLsIkoxAC",
        "colab_type": "text"
      },
      "source": [
        " We can also  input a stride value as follows, with the '2' indicating that we are selecting every second variable:"
      ]
    },
    {
      "cell_type": "code",
      "metadata": {
        "id": "kx-gBFzboxAD",
        "colab_type": "code",
        "outputId": "55da3055-277c-43e0-d29e-c7ecb76d58ab",
        "colab": {
          "base_uri": "https://localhost:8080/",
          "height": 34
        }
      },
      "source": [
        "Name[::2]"
      ],
      "execution_count": 0,
      "outputs": [
        {
          "output_type": "execute_result",
          "data": {
            "text/plain": [
              "'McalJcsn'"
            ]
          },
          "metadata": {
            "tags": []
          },
          "execution_count": 16
        }
      ]
    },
    {
      "cell_type": "markdown",
      "metadata": {
        "id": "hVL1tCamoxAF",
        "colab_type": "text"
      },
      "source": [
        "We can also incorporate slicing  with the stride. In this case, we select the first five elements and then use the stride: "
      ]
    },
    {
      "cell_type": "code",
      "metadata": {
        "id": "YBJLY0bPoxAG",
        "colab_type": "code",
        "outputId": "dd131eb4-65cf-4f73-aac3-c6966489358e",
        "colab": {
          "base_uri": "https://localhost:8080/",
          "height": 34
        }
      },
      "source": [
        "Name[0:5:2]"
      ],
      "execution_count": 0,
      "outputs": [
        {
          "output_type": "execute_result",
          "data": {
            "text/plain": [
              "'Mca'"
            ]
          },
          "metadata": {
            "tags": []
          },
          "execution_count": 17
        }
      ]
    },
    {
      "cell_type": "code",
      "metadata": {
        "id": "x9xvj7VWoxAH",
        "colab_type": "code",
        "colab": {}
      },
      "source": [
        ""
      ],
      "execution_count": 0,
      "outputs": []
    },
    {
      "cell_type": "markdown",
      "metadata": {
        "id": "Pn0Cmi1PoxAJ",
        "colab_type": "text"
      },
      "source": [
        "We can concatenate or combine strings by using the addition symbols, and the result is a new string that is a combination of both:\n"
      ]
    },
    {
      "cell_type": "code",
      "metadata": {
        "id": "gVZkkfJ8oxAJ",
        "colab_type": "code",
        "outputId": "f97b71ed-0695-461c-9d22-7c69692b0c35",
        "colab": {
          "base_uri": "https://localhost:8080/",
          "height": 34
        }
      },
      "source": [
        "Statement = Name + \"is the best\"\n",
        "Statement"
      ],
      "execution_count": 0,
      "outputs": [
        {
          "output_type": "execute_result",
          "data": {
            "text/plain": [
              "'Michael Jacksonis the best'"
            ]
          },
          "metadata": {
            "tags": []
          },
          "execution_count": 18
        }
      ]
    },
    {
      "cell_type": "markdown",
      "metadata": {
        "id": "N5l-PG7soxAL",
        "colab_type": "text"
      },
      "source": [
        " To replicate values of a string we simply multiply the string by the number of times we would like to replicate it. In this case, the number is three. The result is a new string, and this new string consists of three copies of the original string:\n"
      ]
    },
    {
      "cell_type": "code",
      "metadata": {
        "id": "t2_VInsHoxAL",
        "colab_type": "code",
        "outputId": "e6e33be8-c858-47a3-bb06-772fc6ebad55",
        "colab": {
          "base_uri": "https://localhost:8080/",
          "height": 34
        }
      },
      "source": [
        "3*\"Michael Jackson \""
      ],
      "execution_count": 0,
      "outputs": [
        {
          "output_type": "execute_result",
          "data": {
            "text/plain": [
              "'Michael Jackson Michael Jackson Michael Jackson '"
            ]
          },
          "metadata": {
            "tags": []
          },
          "execution_count": 19
        }
      ]
    },
    {
      "cell_type": "markdown",
      "metadata": {
        "id": "mtdyLRHYoxAN",
        "colab_type": "text"
      },
      "source": [
        "You can create a new string by setting it to the original variable. Concatenated  with a new string, the result is a new string that changes from Michael Jackson to “Michael Jackson is the best\".\n"
      ]
    },
    {
      "cell_type": "code",
      "metadata": {
        "id": "zQC49ctwoxAO",
        "colab_type": "code",
        "outputId": "29c53223-1e92-4327-ee8f-bf3d838c4770",
        "colab": {
          "base_uri": "https://localhost:8080/",
          "height": 34
        }
      },
      "source": [
        "Name= \"Michael Jackson\"\n",
        "Name= Name+\" is the best\"\n",
        "Name\n"
      ],
      "execution_count": 0,
      "outputs": [
        {
          "output_type": "execute_result",
          "data": {
            "text/plain": [
              "'Michael Jackson is the best'"
            ]
          },
          "metadata": {
            "tags": []
          },
          "execution_count": 20
        }
      ]
    },
    {
      "cell_type": "markdown",
      "metadata": {
        "id": "pUiB4DmHoxAP",
        "colab_type": "text"
      },
      "source": [
        " <a id=\"ref2\"></a>\n",
        "<h2 align=center>Escape Sequences  </h2>"
      ]
    },
    {
      "cell_type": "markdown",
      "metadata": {
        "id": "-e0kP8EioxAP",
        "colab_type": "text"
      },
      "source": [
        "Back slashes represent the beginning  of escape sequences. Escape sequences represent strings that may be difficult to input. For example, back slash \"n\" represents a new line. The output is given by a new line after the back slash \"n” is encountered:\n"
      ]
    },
    {
      "cell_type": "code",
      "metadata": {
        "id": "4AcF_noXoxAQ",
        "colab_type": "code",
        "outputId": "1a476858-b15a-4cd7-ec5d-60f4e4b4dcea",
        "colab": {
          "base_uri": "https://localhost:8080/",
          "height": 51
        }
      },
      "source": [
        "print(\" Michael Jackson \\n is the best\" )"
      ],
      "execution_count": 0,
      "outputs": [
        {
          "output_type": "stream",
          "text": [
            " Michael Jackson \n",
            " is the best\n"
          ],
          "name": "stdout"
        }
      ]
    },
    {
      "cell_type": "markdown",
      "metadata": {
        "id": "OGLhIbDzoxAR",
        "colab_type": "text"
      },
      "source": [
        "Similarly, back slash  \"t\" represents a tab: "
      ]
    },
    {
      "cell_type": "code",
      "metadata": {
        "id": "papq5ApIoxAS",
        "colab_type": "code",
        "outputId": "4bc87fe0-99bd-4011-eb30-d29525437659",
        "colab": {
          "base_uri": "https://localhost:8080/",
          "height": 34
        }
      },
      "source": [
        "print(\" Michael Jackson \\t is the best\" )"
      ],
      "execution_count": 0,
      "outputs": [
        {
          "output_type": "stream",
          "text": [
            " Michael Jackson \t is the best\n"
          ],
          "name": "stdout"
        }
      ]
    },
    {
      "cell_type": "markdown",
      "metadata": {
        "id": "zaQQ9bYgoxAU",
        "colab_type": "text"
      },
      "source": [
        " If you want to place a back slash in your string, use a double back slash:"
      ]
    },
    {
      "cell_type": "code",
      "metadata": {
        "id": "50VhHTikoxAV",
        "colab_type": "code",
        "outputId": "a5972abf-f627-4fe9-9778-a4197d10575a",
        "colab": {
          "base_uri": "https://localhost:8080/",
          "height": 34
        }
      },
      "source": [
        "print(\" Michael Jackson \\\\ is the best\" )"
      ],
      "execution_count": 0,
      "outputs": [
        {
          "output_type": "stream",
          "text": [
            " Michael Jackson \\ is the best\n"
          ],
          "name": "stdout"
        }
      ]
    },
    {
      "cell_type": "markdown",
      "metadata": {
        "id": "M9d6MocdoxAX",
        "colab_type": "text"
      },
      "source": [
        " We can also place an \"r\" before the string to display the backslash:"
      ]
    },
    {
      "cell_type": "code",
      "metadata": {
        "id": "odE7EDo-oxAY",
        "colab_type": "code",
        "outputId": "971ef00c-c694-419f-c055-9bd36825b206",
        "colab": {
          "base_uri": "https://localhost:8080/",
          "height": 34
        }
      },
      "source": [
        "print(r\" Michael Jackson \\ is the best\" )"
      ],
      "execution_count": 0,
      "outputs": [
        {
          "output_type": "stream",
          "text": [
            " Michael Jackson \\ is the best\n"
          ],
          "name": "stdout"
        }
      ]
    },
    {
      "cell_type": "markdown",
      "metadata": {
        "id": "0gQzWeBsoxAa",
        "colab_type": "text"
      },
      "source": [
        "<a id=\"ref3\"></a>\n",
        "<h2 align=center>String Operations</h2>"
      ]
    },
    {
      "cell_type": "markdown",
      "metadata": {
        "id": "jw-PcFrDoxAa",
        "colab_type": "text"
      },
      "source": [
        "There are many string operation methods in Python that can be used to manipulate the data. We are going to use some basic string operations on the data. \n",
        "\n"
      ]
    },
    {
      "cell_type": "markdown",
      "metadata": {
        "id": "4l3eiGWsoxAb",
        "colab_type": "text"
      },
      "source": [
        "Let's try with the method \"upper\"; this method converts upper case characters to lower case characters:"
      ]
    },
    {
      "cell_type": "code",
      "metadata": {
        "id": "ggbdEnpwoxAb",
        "colab_type": "code",
        "outputId": "6c6ed26c-5f27-4e6d-f518-e3dc8ceb20c1",
        "colab": {
          "base_uri": "https://localhost:8080/",
          "height": 51
        }
      },
      "source": [
        "A=\"Thriller is the sixth studio album\"\n",
        "print(\"before upper:\",A)\n",
        "B=A.upper()\n",
        "print(\"After upper:\",B)"
      ],
      "execution_count": 0,
      "outputs": [
        {
          "output_type": "stream",
          "text": [
            "before upper: Thriller is the sixth studio album\n",
            "After upper: THRILLER IS THE SIXTH STUDIO ALBUM\n"
          ],
          "name": "stdout"
        }
      ]
    },
    {
      "cell_type": "markdown",
      "metadata": {
        "id": "7kqLCgpEoxAc",
        "colab_type": "text"
      },
      "source": [
        "<br>"
      ]
    },
    {
      "cell_type": "markdown",
      "metadata": {
        "id": "DrrJrk03oxAd",
        "colab_type": "text"
      },
      "source": [
        "The method replaces a segment of the string, i.e. a substring  with a new string. We input the part of the string we would like to change. The second argument is what we would like to exchange the segment with, and the result is a new string with the segment changed: \n"
      ]
    },
    {
      "cell_type": "code",
      "metadata": {
        "id": "yLZFGcWaoxAd",
        "colab_type": "code",
        "outputId": "110ffe00-1f18-4e8e-ad14-f9d50920b4b0",
        "colab": {
          "base_uri": "https://localhost:8080/",
          "height": 51
        }
      },
      "source": [
        "A=\"Michael Jackson is the best\"\n",
        "B=A.replace('Michael', 'Janet')\n",
        "print(A)\n",
        "print(B)"
      ],
      "execution_count": 0,
      "outputs": [
        {
          "output_type": "stream",
          "text": [
            "Michael Jackson is the best\n",
            "Janet Jackson is the best\n"
          ],
          "name": "stdout"
        }
      ]
    },
    {
      "cell_type": "markdown",
      "metadata": {
        "id": "txWUAN7loxAf",
        "colab_type": "text"
      },
      "source": [
        "The method \"find\" finds a sub-string. The argument is the substring you would like to find, and the output is the first index of the sequence. We can find the sub-string \"jack\" or \"el\".  \n"
      ]
    },
    {
      "cell_type": "code",
      "metadata": {
        "id": "nO8qaoVnoxAg",
        "colab_type": "code",
        "outputId": "557bf67c-ed29-4751-8a21-22d7befb7f84",
        "colab": {
          "base_uri": "https://localhost:8080/",
          "height": 34
        }
      },
      "source": [
        "Name=\"Michael Jackson\"\n",
        "Name.find('el')"
      ],
      "execution_count": 0,
      "outputs": [
        {
          "output_type": "execute_result",
          "data": {
            "text/plain": [
              "5"
            ]
          },
          "metadata": {
            "tags": []
          },
          "execution_count": 27
        }
      ]
    },
    {
      "cell_type": "code",
      "metadata": {
        "id": "IIk1xO65oxAh",
        "colab_type": "code",
        "outputId": "533fb71f-a381-4048-ae38-5bf6d5218774",
        "colab": {
          "base_uri": "https://localhost:8080/",
          "height": 34
        }
      },
      "source": [
        "Name.find('Jack')"
      ],
      "execution_count": 0,
      "outputs": [
        {
          "output_type": "execute_result",
          "data": {
            "text/plain": [
              "8"
            ]
          },
          "metadata": {
            "tags": []
          },
          "execution_count": 28
        }
      ]
    },
    {
      "cell_type": "markdown",
      "metadata": {
        "id": "rM1nRABboxAl",
        "colab_type": "text"
      },
      "source": [
        "If the  sub-string is not in the string then the output is a negative one. For example, the string 'Jasdfasdasdf' is not a substring:"
      ]
    },
    {
      "cell_type": "code",
      "metadata": {
        "id": "HVtEm0gAoxAl",
        "colab_type": "code",
        "outputId": "4ef38239-2bb4-4da2-b2f8-0bf4d6674afd",
        "colab": {
          "base_uri": "https://localhost:8080/",
          "height": 34
        }
      },
      "source": [
        "Name.find('Jasdfasdasdf')"
      ],
      "execution_count": 0,
      "outputs": [
        {
          "output_type": "execute_result",
          "data": {
            "text/plain": [
              "-1"
            ]
          },
          "metadata": {
            "tags": []
          },
          "execution_count": 29
        }
      ]
    },
    {
      "cell_type": "markdown",
      "metadata": {
        "id": "8hY6M1iVoxAn",
        "colab_type": "text"
      },
      "source": [
        " <a id=\"ref4\"></a>\n",
        "<h2 align=center> Quiz on Strings </h2>"
      ]
    },
    {
      "cell_type": "markdown",
      "metadata": {
        "id": "y95ZhLrqoxAo",
        "colab_type": "text"
      },
      "source": [
        "##### What is the value of the variable \"A\" after the following code is executed? \n",
        "A=\"1\""
      ]
    },
    {
      "cell_type": "code",
      "metadata": {
        "id": "Zzy5v9UioxAo",
        "colab_type": "code",
        "outputId": "a26d3074-eb38-44c7-fd30-49b5077c25cc",
        "colab": {
          "base_uri": "https://localhost:8080/",
          "height": 34
        }
      },
      "source": [
        "A =\"1\"\n",
        "A"
      ],
      "execution_count": 0,
      "outputs": [
        {
          "output_type": "execute_result",
          "data": {
            "text/plain": [
              "'1'"
            ]
          },
          "metadata": {
            "tags": []
          },
          "execution_count": 33
        }
      ]
    },
    {
      "cell_type": "markdown",
      "metadata": {
        "id": "QdvK1ZcpoxAt",
        "colab_type": "text"
      },
      "source": [
        "#### What is the value of the variable \"B\" after the following code is executed?\n",
        "`B=\"2\"`"
      ]
    },
    {
      "cell_type": "code",
      "metadata": {
        "id": "WvbtXjPyoxAu",
        "colab_type": "code",
        "outputId": "db1c0eb0-634b-4a03-efdf-cbeb9b577327",
        "colab": {}
      },
      "source": [
        "2"
      ],
      "execution_count": 0,
      "outputs": [
        {
          "output_type": "execute_result",
          "data": {
            "text/plain": [
              "2"
            ]
          },
          "metadata": {
            "tags": []
          },
          "execution_count": 2
        }
      ]
    },
    {
      "cell_type": "markdown",
      "metadata": {
        "id": "nVQfrhJ0oxAw",
        "colab_type": "text"
      },
      "source": [
        "#### What is the value of the variable \"C\" after the following code is executed?\n",
        "`C=A+B`"
      ]
    },
    {
      "cell_type": "code",
      "metadata": {
        "id": "4sue75cyoxAw",
        "colab_type": "code",
        "colab": {}
      },
      "source": [
        ""
      ],
      "execution_count": 0,
      "outputs": []
    },
    {
      "cell_type": "markdown",
      "metadata": {
        "id": "jTb4He-DoxAy",
        "colab_type": "text"
      },
      "source": [
        "#### Consider the variable \"D\": use slicing to print out the first three elements: \n"
      ]
    },
    {
      "cell_type": "code",
      "metadata": {
        "id": "wXxCuWreoxAz",
        "colab_type": "code",
        "colab": {}
      },
      "source": [
        "D=\"ABCDEFG\""
      ],
      "execution_count": 0,
      "outputs": []
    },
    {
      "cell_type": "code",
      "metadata": {
        "id": "kau554vgoxA0",
        "colab_type": "code",
        "colab": {}
      },
      "source": [
        ""
      ],
      "execution_count": 0,
      "outputs": []
    },
    {
      "cell_type": "markdown",
      "metadata": {
        "id": "M5FfKbvjoxA3",
        "colab_type": "text"
      },
      "source": [
        "#### Use a stride value of 2 to print out every second character  of the string \"E\": "
      ]
    },
    {
      "cell_type": "code",
      "metadata": {
        "id": "5etMTIqjoxA5",
        "colab_type": "code",
        "colab": {}
      },
      "source": [
        "E='clocrkr1e1c1t'"
      ],
      "execution_count": 0,
      "outputs": []
    },
    {
      "cell_type": "markdown",
      "metadata": {
        "id": "4AGzTcuHoxA9",
        "colab_type": "text"
      },
      "source": [
        "#### Print out a backslash:"
      ]
    },
    {
      "cell_type": "code",
      "metadata": {
        "id": "9TC-SUEaoxA9",
        "colab_type": "code",
        "colab": {}
      },
      "source": [
        ""
      ],
      "execution_count": 0,
      "outputs": []
    },
    {
      "cell_type": "markdown",
      "metadata": {
        "id": "wGZBMTNFoxA_",
        "colab_type": "text"
      },
      "source": [
        "#### Convert the variable \"F\" to uppercase:"
      ]
    },
    {
      "cell_type": "code",
      "metadata": {
        "id": "-mI9aCF4oxBA",
        "colab_type": "code",
        "colab": {}
      },
      "source": [
        "F=\"You are wrong\""
      ],
      "execution_count": 0,
      "outputs": []
    },
    {
      "cell_type": "code",
      "metadata": {
        "id": "by0ZmTvxoxBB",
        "colab_type": "code",
        "colab": {}
      },
      "source": [
        ""
      ],
      "execution_count": 0,
      "outputs": []
    },
    {
      "cell_type": "markdown",
      "metadata": {
        "id": "2C2ZCIlooxBD",
        "colab_type": "text"
      },
      "source": [
        "#### Consider the variable \"G\", and find the first index of the sub-string 'snow':"
      ]
    },
    {
      "cell_type": "code",
      "metadata": {
        "id": "gc8s_6waoxBD",
        "colab_type": "code",
        "colab": {}
      },
      "source": [
        "G=\"Mary had a little lamb Little lamb, little lamb Mary had a little lamb \\\n",
        "Its fleece was white as snow And everywhere that Mary went Mary went, Mary went \\\n",
        "Everywhere that Mary went The lamb was sure to go\""
      ],
      "execution_count": 0,
      "outputs": []
    },
    {
      "cell_type": "markdown",
      "metadata": {
        "id": "-Xk9maVEoxBG",
        "colab_type": "text"
      },
      "source": [
        "#### In the variable \"G\", replace the sub-string Mary with \"Bob\":"
      ]
    },
    {
      "cell_type": "code",
      "metadata": {
        "id": "LNRlLAjAoxBG",
        "colab_type": "code",
        "colab": {}
      },
      "source": [
        ""
      ],
      "execution_count": 0,
      "outputs": []
    },
    {
      "cell_type": "code",
      "metadata": {
        "id": "Un5SrxGFoxBK",
        "colab_type": "code",
        "colab": {}
      },
      "source": [
        ""
      ],
      "execution_count": 0,
      "outputs": []
    }
  ]
}