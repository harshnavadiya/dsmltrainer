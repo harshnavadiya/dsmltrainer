{
  "nbformat": 4,
  "nbformat_minor": 0,
  "metadata": {
    "colab": {
      "name": "3.7_Functions_v0.1.ipynb",
      "version": "0.3.2",
      "provenance": [],
      "collapsed_sections": [],
      "include_colab_link": true
    },
    "language_info": {
      "codemirror_mode": {
        "name": "ipython",
        "version": 3
      },
      "file_extension": ".py",
      "mimetype": "text/x-python",
      "name": "python",
      "nbconvert_exporter": "python",
      "pygments_lexer": "ipython3",
      "version": "3.6.5"
    },
    "kernelspec": {
      "display_name": "Python 3",
      "language": "python",
      "name": "python3"
    }
  },
  "cells": [
    {
      "cell_type": "markdown",
      "metadata": {
        "id": "view-in-github",
        "colab_type": "text"
      },
      "source": [
        "<a href=\"https://colab.research.google.com/github/harshnavadiya/dsmltrainer/blob/master/module_3/3_7_Functions_v0_1.ipynb\" target=\"_parent\"><img src=\"https://colab.research.google.com/assets/colab-badge.svg\" alt=\"Open In Colab\"/></a>"
      ]
    },
    {
      "cell_type": "markdown",
      "metadata": {
        "id": "eCC8BDibCXet",
        "colab_type": "text"
      },
      "source": [
        "#WRITING YOUR OWN FUNCTIONS IN PYTHON"
      ]
    },
    {
      "cell_type": "markdown",
      "metadata": {
        "id": "LoTNwESeCXeu",
        "colab_type": "text"
      },
      "source": [
        "## Table of Contents\n",
        "\n",
        "\n",
        "<div class=\"alert alert-block alert-info\" style=\"margin-top: 20px\">\n",
        "<ol>\n",
        "\n",
        "<li><a href=\"#ref1\">What is a Function?</a></li>\n",
        "<li><a href=\"#ref3\">Using if/else statements in functions</a></li>\n",
        "<li><a href=\"#ref4\">Setting default argument values in your custom functions</a></li>\n",
        "<li><a href=\"#ref6\">Global and local variables</a></li>\n",
        "<li><a href=\"#ref7\">Scope of a Variable </a></li>\n",
        "\n",
        "</ol>\n",
        "<br>\n",
        "<p></p>\n",
        "Estimated Time Needed: <strong>40 min</strong>\n",
        "</div>\n",
        "\n",
        "<hr>"
      ]
    },
    {
      "cell_type": "markdown",
      "metadata": {
        "id": "qrcTYvaVCXeu",
        "colab_type": "text"
      },
      "source": [
        "<hr>"
      ]
    },
    {
      "cell_type": "markdown",
      "metadata": {
        "id": "kWGKZQDoCXev",
        "colab_type": "text"
      },
      "source": [
        "<a id='ref1'></a>\n",
        "<center><h2>Defining a Function</h2></center>\n",
        "\n",
        "A function is a reusable block of code which performs operations specified in the function.  They let you break down tasks and allow you to reuse your code in different programs.\n",
        "\n",
        "There are two types of functions :\n",
        "\n",
        "\n",
        "- **Pre-defined functions**\n",
        "- **User defined functions**"
      ]
    },
    {
      "cell_type": "markdown",
      "metadata": {
        "id": "GLH0HCfmCXew",
        "colab_type": "text"
      },
      "source": [
        "<h3>What is a Function?</h3>"
      ]
    },
    {
      "cell_type": "markdown",
      "metadata": {
        "id": "fP1IKl0MCXew",
        "colab_type": "text"
      },
      "source": [
        " You can define functions to provide the required functionality. Here are simple rules to define a function in Python:\n",
        "-   Functions blocks begin **def** followed by the function **name** and parentheses **()**.\n",
        "-   There are input parameters or arguments that should be placed within these parentheses. \n",
        "-   You can also define parameters inside these parentheses.\n",
        "-  There is a body within every function that starts with a colon (**:**) and is indented.\n",
        "-  You can also place documentation before the body \n",
        "-  The statement **return**  exits a function, optionally passing back a value \n",
        "\n",
        "An example of a function that adds on to the parameter **a** prints and returns the output as **b**:\n",
        " "
      ]
    },
    {
      "cell_type": "code",
      "metadata": {
        "id": "R2hX1ZyiCXex",
        "colab_type": "code",
        "colab": {}
      },
      "source": [
        "def add(a):\n",
        "    \"\"\"\n",
        "    add 1 to a\n",
        "    \"\"\"\n",
        "    b=a+1; \n",
        "    print(a, \"if you add one\" ,b)\n",
        "    \n",
        "    return(b)"
      ],
      "execution_count": 0,
      "outputs": []
    },
    {
      "cell_type": "markdown",
      "metadata": {
        "id": "PjmlZn3_CXez",
        "colab_type": "text"
      },
      "source": [
        "The figure below illustrates the terminology: "
      ]
    },
    {
      "cell_type": "markdown",
      "metadata": {
        "id": "ixsX0hymCXez",
        "colab_type": "text"
      },
      "source": [
        "<a ><img src = \"https://ibm.box.com/shared/static/wsl6jcfld2c3171ob19vjr5chw9gyxrc.png\" width = 500, align = \"center\"></a>\n",
        "  <h4 align=center>  \n",
        "   A labeled function\n",
        "  </h4> "
      ]
    },
    {
      "cell_type": "markdown",
      "metadata": {
        "id": "upJo0gouCXe0",
        "colab_type": "text"
      },
      "source": [
        " We can obtain help about a function :"
      ]
    },
    {
      "cell_type": "code",
      "metadata": {
        "id": "ejxDJw41CXe1",
        "colab_type": "code",
        "colab": {}
      },
      "source": [
        "help(add)"
      ],
      "execution_count": 0,
      "outputs": []
    },
    {
      "cell_type": "markdown",
      "metadata": {
        "id": "Od6gPV-GCXe2",
        "colab_type": "text"
      },
      "source": [
        "We can call the function:"
      ]
    },
    {
      "cell_type": "code",
      "metadata": {
        "id": "ZnHrQJnoCXe3",
        "colab_type": "code",
        "colab": {}
      },
      "source": [
        "add(1)"
      ],
      "execution_count": 0,
      "outputs": []
    },
    {
      "cell_type": "markdown",
      "metadata": {
        "id": "qDOpISJRCXe5",
        "colab_type": "text"
      },
      "source": [
        "If we call the function with a new input we get a new result:"
      ]
    },
    {
      "cell_type": "code",
      "metadata": {
        "id": "kvkhZYcPCXe5",
        "colab_type": "code",
        "colab": {}
      },
      "source": [
        "add(2)"
      ],
      "execution_count": 0,
      "outputs": []
    },
    {
      "cell_type": "markdown",
      "metadata": {
        "id": "v5ncrpdICXe8",
        "colab_type": "text"
      },
      "source": [
        " We can create different functions. For example, we can create a function that multiplies two numbers. The numbers will be represented by the variables **a** and **b**:"
      ]
    },
    {
      "cell_type": "code",
      "metadata": {
        "id": "37o5ypl7CXe8",
        "colab_type": "code",
        "colab": {}
      },
      "source": [
        "def Mult(a,b):\n",
        "    c=a*b\n",
        "    return(c)"
      ],
      "execution_count": 0,
      "outputs": []
    },
    {
      "cell_type": "markdown",
      "metadata": {
        "id": "j5KpgcyyCXe-",
        "colab_type": "text"
      },
      "source": [
        "The same function can be used for different data types. For example, we can multiply two integers:\n"
      ]
    },
    {
      "cell_type": "code",
      "metadata": {
        "id": "MNBzE1m_CXe_",
        "colab_type": "code",
        "colab": {}
      },
      "source": [
        "Mult(2,3)"
      ],
      "execution_count": 0,
      "outputs": []
    },
    {
      "cell_type": "markdown",
      "metadata": {
        "id": "6CCHzp_BCXfA",
        "colab_type": "text"
      },
      "source": [
        " Two Floats: "
      ]
    },
    {
      "cell_type": "code",
      "metadata": {
        "id": "575ah3ARCXfB",
        "colab_type": "code",
        "colab": {}
      },
      "source": [
        "Mult(10,3.14)"
      ],
      "execution_count": 0,
      "outputs": []
    },
    {
      "cell_type": "markdown",
      "metadata": {
        "id": "pkTlJVglCXfD",
        "colab_type": "text"
      },
      "source": [
        "We can even replicate a string by multiplying with an integer: "
      ]
    },
    {
      "cell_type": "code",
      "metadata": {
        "id": "QwLG5afcCXfE",
        "colab_type": "code",
        "colab": {}
      },
      "source": [
        "Mult(2,\"Michael Jackson \")"
      ],
      "execution_count": 0,
      "outputs": []
    },
    {
      "cell_type": "markdown",
      "metadata": {
        "id": "27JX_cZDCXfG",
        "colab_type": "text"
      },
      "source": [
        "#### Come up with a function that divides the first input by the second input:"
      ]
    },
    {
      "cell_type": "code",
      "metadata": {
        "id": "9FjNu0O5CXfH",
        "colab_type": "code",
        "colab": {}
      },
      "source": [
        ""
      ],
      "execution_count": 0,
      "outputs": []
    },
    {
      "cell_type": "markdown",
      "metadata": {
        "id": "RWUtOB_FCXfJ",
        "colab_type": "text"
      },
      "source": [
        " <h3>Variables </h3>\n"
      ]
    },
    {
      "cell_type": "markdown",
      "metadata": {
        "id": "IMvZ2AWaCXfJ",
        "colab_type": "text"
      },
      "source": [
        "The input to a function is called a formal parameter.\n",
        "\n",
        "A variable that is declared inside a function is called a  local variable. The parameter only exists within the function (i.e. the point where the function starts and stops).  \n",
        "\n",
        "A variable that is declared outside a function definition is a global variable, and its value is accessible and modifiable throughout the program. We will discuss more about global variables at the end of the lab.\n"
      ]
    },
    {
      "cell_type": "code",
      "metadata": {
        "id": "6i5R7EmdCXfK",
        "colab_type": "code",
        "colab": {}
      },
      "source": [
        "#Function Definition   \n",
        "def square(a):\n",
        "    \"\"\"Square the input and add one  \n",
        "    \"\"\"\n",
        "    #Local variable \n",
        "    b=1\n",
        "    c=a*a+b;\n",
        "    print(a, \"if you square +1 \",c) \n",
        "    return(c)\n"
      ],
      "execution_count": 0,
      "outputs": []
    },
    {
      "cell_type": "markdown",
      "metadata": {
        "id": "0AlvoC48CXfL",
        "colab_type": "text"
      },
      "source": [
        "The labels are displayed in the figure:  "
      ]
    },
    {
      "cell_type": "markdown",
      "metadata": {
        "id": "t1Qq8aOzCXfM",
        "colab_type": "text"
      },
      "source": [
        "<a ><img src = \"https://ibm.box.com/shared/static/gpfa525nnfwxt5rhrvd3o6i8rp2iwsai.png\" width = 500, align = \"center\"></a>\n",
        "  <h4 align=center>  \n",
        "    Figure 2: A function with labeled variables  \n",
        "  </h4> \n",
        "\n",
        "\n"
      ]
    },
    {
      "cell_type": "markdown",
      "metadata": {
        "id": "QYyo9c3mCXfM",
        "colab_type": "text"
      },
      "source": [
        "We can call the function  with an input of 3:"
      ]
    },
    {
      "cell_type": "code",
      "metadata": {
        "id": "8VZqV5UqCXfN",
        "colab_type": "code",
        "colab": {}
      },
      "source": [
        "#Initializes Global variable  \n",
        "\n",
        "x=3\n",
        "#Makes function call and return function a y\n",
        "z=square(x)\n",
        "z"
      ],
      "execution_count": 0,
      "outputs": []
    },
    {
      "cell_type": "markdown",
      "metadata": {
        "id": "GsClip_nCXfO",
        "colab_type": "text"
      },
      "source": [
        " We can call the function  with an input of 2 in a different manner:"
      ]
    },
    {
      "cell_type": "code",
      "metadata": {
        "id": "ZdVLduwJCXfP",
        "colab_type": "code",
        "colab": {}
      },
      "source": [
        "square(2)"
      ],
      "execution_count": 0,
      "outputs": []
    },
    {
      "cell_type": "markdown",
      "metadata": {
        "id": "xAv6ba9FCXfR",
        "colab_type": "text"
      },
      "source": [
        " If there is no **return** statement, the function returns **None**. The following two functions are equivalent:  \n",
        "  "
      ]
    },
    {
      "cell_type": "code",
      "metadata": {
        "id": "fSI-vnB0CXfR",
        "colab_type": "code",
        "colab": {}
      },
      "source": [
        "def MJ():\n",
        "    print('Michael Jackson')\n",
        "    \n",
        "def MJ1():\n",
        "    print('Michael Jackson')\n",
        "    return(None)"
      ],
      "execution_count": 0,
      "outputs": []
    },
    {
      "cell_type": "code",
      "metadata": {
        "id": "C7rJ3Cd1CXfU",
        "colab_type": "code",
        "colab": {}
      },
      "source": [
        "MJ()"
      ],
      "execution_count": 0,
      "outputs": []
    },
    {
      "cell_type": "code",
      "metadata": {
        "id": "i4rROAUlCXfV",
        "colab_type": "code",
        "colab": {}
      },
      "source": [
        "MJ1()"
      ],
      "execution_count": 0,
      "outputs": []
    },
    {
      "cell_type": "markdown",
      "metadata": {
        "id": "lG2820EWCXfX",
        "colab_type": "text"
      },
      "source": [
        " Printing the function after a call reveals a **None** is the default return statement:"
      ]
    },
    {
      "cell_type": "code",
      "metadata": {
        "id": "tobvxUJxCXfY",
        "colab_type": "code",
        "colab": {}
      },
      "source": [
        "print(MJ())\n",
        "print(MJ1())"
      ],
      "execution_count": 0,
      "outputs": []
    },
    {
      "cell_type": "markdown",
      "metadata": {
        "id": "pPdQJAeTCXfZ",
        "colab_type": "text"
      },
      "source": [
        "#### Create a function **con** that  concatenates two strings using the addition operation:"
      ]
    },
    {
      "cell_type": "code",
      "metadata": {
        "id": "WXRvkNrGxnNv",
        "colab_type": "code",
        "colab": {}
      },
      "source": [
        ""
      ],
      "execution_count": 0,
      "outputs": []
    },
    {
      "cell_type": "markdown",
      "metadata": {
        "id": "HUsiR2dwCXfc",
        "colab_type": "text"
      },
      "source": [
        "#### Can the same function be used to add to integers or strings?"
      ]
    },
    {
      "cell_type": "code",
      "metadata": {
        "id": "V2A6CQR1CXfd",
        "colab_type": "code",
        "colab": {}
      },
      "source": [
        ""
      ],
      "execution_count": 0,
      "outputs": []
    },
    {
      "cell_type": "markdown",
      "metadata": {
        "id": "cdDsq8UdCXff",
        "colab_type": "text"
      },
      "source": [
        "#### Can the same function be used to concentrate a list or tuple?"
      ]
    },
    {
      "cell_type": "markdown",
      "metadata": {
        "id": "yMilJXqACXfi",
        "colab_type": "text"
      },
      "source": [
        "<h3><b>Pre-defined functions</b></h3>"
      ]
    },
    {
      "cell_type": "markdown",
      "metadata": {
        "id": "mBC8JGbRCXfn",
        "colab_type": "text"
      },
      "source": [
        "There are many pre-defined functions in Python, so let's start with the simple ones."
      ]
    },
    {
      "cell_type": "markdown",
      "metadata": {
        "id": "TEZNunY7CXfn",
        "colab_type": "text"
      },
      "source": [
        "The **print()** function:"
      ]
    },
    {
      "cell_type": "code",
      "metadata": {
        "id": "u-YDSkBMCXfo",
        "colab_type": "code",
        "colab": {}
      },
      "source": [
        "album_ratings = [10.0,8.5,9.5,7.0,7.0,9.5,9.0,9.5] \n",
        "print(album_ratings)"
      ],
      "execution_count": 0,
      "outputs": []
    },
    {
      "cell_type": "markdown",
      "metadata": {
        "id": "VPCr2vJTCXfp",
        "colab_type": "text"
      },
      "source": [
        "The **sum()** function adds all the  elements in a list or tuple:"
      ]
    },
    {
      "cell_type": "code",
      "metadata": {
        "id": "1ypmSk7_CXfq",
        "colab_type": "code",
        "colab": {}
      },
      "source": [
        "sum(album_ratings)"
      ],
      "execution_count": 0,
      "outputs": []
    },
    {
      "cell_type": "markdown",
      "metadata": {
        "id": "9Zuk_kKeCXfr",
        "colab_type": "text"
      },
      "source": [
        " The length function returns the length of a list or tuple: "
      ]
    },
    {
      "cell_type": "code",
      "metadata": {
        "id": "NZnXpwzUCXfs",
        "colab_type": "code",
        "colab": {}
      },
      "source": [
        "len(album_ratings)"
      ],
      "execution_count": 0,
      "outputs": []
    },
    {
      "cell_type": "markdown",
      "metadata": {
        "id": "0o_qVvdiCXft",
        "colab_type": "text"
      },
      "source": [
        "<div class=\"alert alert-success alertsuccess\" style=\"margin-top: 20px\">\n",
        "<h4> [Tip] How do I learn more about the pre-defined functions in Python? </h4>\n",
        "<p></p>\n",
        "We will be introducing a variety of **pre-defined functions** to you as you learn more about Python. There are just too many functions, so there's no way we can teach them all in one sitting. But if you'd like to take a quick peek, here's a short reference card for some of the commonly-used pre-defined functions:   \n",
        "http://www.astro.up.pt/~sousasag/Python_For_Astronomers/Python_qr.pdf\n",
        "</div>"
      ]
    },
    {
      "cell_type": "markdown",
      "metadata": {
        "id": "FwaeAHCNCXft",
        "colab_type": "text"
      },
      "source": [
        "<h3>Functions Makes Things Simple </h3>"
      ]
    },
    {
      "cell_type": "markdown",
      "metadata": {
        "id": "bHs8dW_fCXfu",
        "colab_type": "text"
      },
      "source": [
        "Consider the two lines of code in **Block 1** and **Block 2**: the procedure for each block is identical. The only thing that is different is the variable names and values.\n"
      ]
    },
    {
      "cell_type": "markdown",
      "metadata": {
        "id": "oLvADtgECXfv",
        "colab_type": "text"
      },
      "source": [
        "### Block 1:"
      ]
    },
    {
      "cell_type": "code",
      "metadata": {
        "id": "Sw88eYfpCXfv",
        "colab_type": "code",
        "colab": {}
      },
      "source": [
        "a1=4;\n",
        "b1=5;\n",
        "c1=a1+b1+2*a1*b1-1\n",
        "if(c1<0):\n",
        "    c1=0; \n",
        "else:\n",
        "    c1=5;\n",
        "c1   "
      ],
      "execution_count": 0,
      "outputs": []
    },
    {
      "cell_type": "markdown",
      "metadata": {
        "id": "3Hd9qcrbCXfw",
        "colab_type": "text"
      },
      "source": [
        "### Block 2:"
      ]
    },
    {
      "cell_type": "code",
      "metadata": {
        "id": "TcCmJodaCXfx",
        "colab_type": "code",
        "colab": {}
      },
      "source": [
        "a2=0;\n",
        "b2=0;\n",
        "c2=a2+b2+2*a2*b2-1\n",
        "if(c2<0):\n",
        "    c2=0; \n",
        "else:\n",
        "    c2=5;\n",
        "c2   "
      ],
      "execution_count": 0,
      "outputs": []
    },
    {
      "cell_type": "markdown",
      "metadata": {
        "id": "mIqdHnd1CXf1",
        "colab_type": "text"
      },
      "source": [
        "We can replace the lines of code with a function. A function combines many instructions into a single line of code. Once a function is defined, it can be used repeatedly. You can invoke the same function many times in your program. You can save your function and use it in another program or use someone else’s function. The lines of code in code **block 1** and code **block 2** can be replaced by the following function:  \n",
        " \n"
      ]
    },
    {
      "cell_type": "code",
      "metadata": {
        "id": "amUwRqYNCXf1",
        "colab_type": "code",
        "colab": {}
      },
      "source": [
        "def Equation(a,b):\n",
        "    c=a+b+2*a*b-1\n",
        "    if(c<0):\n",
        "        c=0\n",
        "        \n",
        "    else:\n",
        "        c=5\n",
        "    return(c) \n"
      ],
      "execution_count": 0,
      "outputs": []
    },
    {
      "cell_type": "markdown",
      "metadata": {
        "id": "yBn1yoGFCXf2",
        "colab_type": "text"
      },
      "source": [
        " This function takes two inputs, a and b, then applies several operations to return c. \n",
        "We simply define the function, replace the instructions with the function, and input the new values of **a1**,**b1** and **a2**,**b2** as inputs. The entire process is demonstrated in the figure: "
      ]
    },
    {
      "cell_type": "markdown",
      "metadata": {
        "id": "ndLvg7IqCXf3",
        "colab_type": "text"
      },
      "source": [
        "<a ><img src = \"https://ibm.box.com/shared/static/efn4rii75bgytjdb5c8ek6uezch7yaxq.gif\" width = 1100, align = \"center\"></a>\n",
        "  <h4 align=center>  \n",
        "    Example of a function used to replace redundant lines of code \n",
        "  </h4> "
      ]
    },
    {
      "cell_type": "markdown",
      "metadata": {
        "id": "TD0j-z44CXf3",
        "colab_type": "text"
      },
      "source": [
        "Code **Blocks 1** and **Block 2** can now be replaced with code **Block 3** and code **Block 4**."
      ]
    },
    {
      "cell_type": "markdown",
      "metadata": {
        "id": "BR-LZ-sHCXf4",
        "colab_type": "text"
      },
      "source": [
        "### Block 3:"
      ]
    },
    {
      "cell_type": "code",
      "metadata": {
        "id": "GAUcxG8VCXf4",
        "colab_type": "code",
        "colab": {}
      },
      "source": [
        "a1=4;\n",
        "b1=5;\n",
        "c1=Equation(a1,b1)\n",
        "c1"
      ],
      "execution_count": 0,
      "outputs": []
    },
    {
      "cell_type": "markdown",
      "metadata": {
        "id": "NIAMsh7_CXf6",
        "colab_type": "text"
      },
      "source": [
        "### Block 4:"
      ]
    },
    {
      "cell_type": "code",
      "metadata": {
        "id": "6oYP-BvACXf6",
        "colab_type": "code",
        "colab": {}
      },
      "source": [
        "a2=0;\n",
        "b2=0;\n",
        "c2=Equation(a2,b2)\n",
        "c2"
      ],
      "execution_count": 0,
      "outputs": []
    },
    {
      "cell_type": "markdown",
      "metadata": {
        "id": "cm7GdCRtCXf8",
        "colab_type": "text"
      },
      "source": [
        "<hr>"
      ]
    },
    {
      "cell_type": "markdown",
      "metadata": {
        "id": "7ZgaznSBCXf9",
        "colab_type": "text"
      },
      "source": [
        "<a id='ref3'></a>\n",
        "<center><h2>Using if/else statements and loops in functions</h2></center>\n",
        "\n",
        "The **return()** function is particularly useful if you have any IF statements in the function, when you want your output to be dependent on some condition: "
      ]
    },
    {
      "cell_type": "code",
      "metadata": {
        "id": "XSfidfzUCXf9",
        "colab_type": "code",
        "colab": {}
      },
      "source": [
        "def type_of_album(artist,album,year_released):\n",
        "    if year_released > 1980:\n",
        "        print(artist,album,year_released)\n",
        "        return \"Modern\"\n",
        "    else:\n",
        "        print(artist,album,year_released)\n",
        "        return \"Oldie\"\n",
        "    \n",
        "x = type_of_album(\"Michael Jackson\",\"Thriller\",1980)\n",
        "print(x)\n"
      ],
      "execution_count": 0,
      "outputs": []
    },
    {
      "cell_type": "markdown",
      "metadata": {
        "id": "cYZrYvR_CXgA",
        "colab_type": "text"
      },
      "source": [
        " We can use a loop in a function. For example, we can **print** out each element in  a list:"
      ]
    },
    {
      "cell_type": "code",
      "metadata": {
        "id": "nPCuA3lpCXgA",
        "colab_type": "code",
        "colab": {}
      },
      "source": [
        "def PrintList(the_list):\n",
        "    for element in the_list:\n",
        "        print(element)"
      ],
      "execution_count": 0,
      "outputs": []
    },
    {
      "cell_type": "code",
      "metadata": {
        "id": "nnRIrKLoCXgC",
        "colab_type": "code",
        "colab": {}
      },
      "source": [
        "PrintList(['1',1,'the man',\"abc\"])"
      ],
      "execution_count": 0,
      "outputs": []
    },
    {
      "cell_type": "markdown",
      "metadata": {
        "id": "EYm-0myBCXgD",
        "colab_type": "text"
      },
      "source": [
        "<hr>"
      ]
    },
    {
      "cell_type": "markdown",
      "metadata": {
        "id": "R3bNCtzkCXgD",
        "colab_type": "text"
      },
      "source": [
        "<a id='ref4'></a>\n",
        "<center><h2>Setting default argument values in your custom functions</h2></center>\n",
        "\n",
        "You can set a default value for arguments in your function. For example, in the **`isGoodRating()`** function, what if we wanted to create a threshold for what we consider to be a good rating? Perhaps by default, we should have a default rating of 4:\n"
      ]
    },
    {
      "cell_type": "code",
      "metadata": {
        "id": "kYkFY7uYCXgE",
        "colab_type": "code",
        "colab": {}
      },
      "source": [
        "def isGoodRating(rating=4): \n",
        "    if(rating < 7):\n",
        "        print(\"this album sucks it's rating is\",rating)\n",
        "        \n",
        "    else:\n",
        "        print(\"this album is good its rating is\",rating)\n"
      ],
      "execution_count": 0,
      "outputs": []
    },
    {
      "cell_type": "markdown",
      "metadata": {
        "id": "JurquG3cCXgF",
        "colab_type": "text"
      },
      "source": [
        "<hr>"
      ]
    },
    {
      "cell_type": "code",
      "metadata": {
        "id": "-OqC_axlCXgF",
        "colab_type": "code",
        "colab": {}
      },
      "source": [
        "isGoodRating()\n",
        "isGoodRating(10)\n",
        "   "
      ],
      "execution_count": 0,
      "outputs": []
    },
    {
      "cell_type": "markdown",
      "metadata": {
        "id": "9z05_vKXCXgG",
        "colab_type": "text"
      },
      "source": [
        "<a id='ref6'></a>\n",
        "<center><h2>Global variables</h2></center>\n",
        "<br>\n",
        "So far, we've been creating variables within functions, but we have not discussed variables outside the function.  These are called global variables. \n",
        "<br>\n",
        "Let's try to see what **printer1** returns:"
      ]
    },
    {
      "cell_type": "code",
      "metadata": {
        "id": "KWu-P2fpCXgG",
        "colab_type": "code",
        "colab": {}
      },
      "source": [
        "artist = \"Michael Jackson\"\n",
        "def printer1(artist):\n",
        "    internal_var = artist\n",
        "    print(artist,\"is an artist\")\n",
        "    \n",
        "printer1(artist)\n"
      ],
      "execution_count": 0,
      "outputs": []
    },
    {
      "cell_type": "markdown",
      "metadata": {
        "id": "NeQfC7hLCXgJ",
        "colab_type": "text"
      },
      "source": [
        " If we print **internal_var** we get an error. "
      ]
    },
    {
      "cell_type": "markdown",
      "metadata": {
        "id": "ApTU-iivCXgJ",
        "colab_type": "text"
      },
      "source": [
        "**We got a Name Error:**  `name 'internal_var' is not defined`. **Why?**  \n",
        "\n",
        "It's because all the variables we create in the function is a **local variable**, meaning that the variable assignment does not persist outside the function.  \n",
        "\n",
        "But there is a way to create **global variables** from within a function as follows:"
      ]
    },
    {
      "cell_type": "code",
      "metadata": {
        "id": "WAjCqjmsCXgK",
        "colab_type": "code",
        "colab": {}
      },
      "source": [
        "artist = \"Michael Jackson\"\n",
        "\n",
        "def printer(artist):\n",
        "    global internal_var \n",
        "    internal_var= \"Whitney Houston\"\n",
        "    print(artist,\"is an artist\")\n",
        "\n",
        "printer(artist) \n",
        "printer(internal_var)\n"
      ],
      "execution_count": 0,
      "outputs": []
    },
    {
      "cell_type": "markdown",
      "metadata": {
        "id": "-nIGFCWuCXgM",
        "colab_type": "text"
      },
      "source": [
        " <a id='ref7'></a>\n",
        "<center><h2>Scope of a Variable</h2></center>"
      ]
    },
    {
      "cell_type": "markdown",
      "metadata": {
        "id": "lPwTGxT8CXgM",
        "colab_type": "text"
      },
      "source": [
        "<hr>"
      ]
    },
    {
      "cell_type": "markdown",
      "metadata": {
        "id": "OyaKiXXNCXgM",
        "colab_type": "text"
      },
      "source": [
        " The scope of a variable is the part of that program where that variable is accessible. Variables that are declared outside of all function definitions, such as the **myFavouriteBand** variable in the code shown here, are accessible from anywhere within the program. As a result, such variables are said to have global scope, and are known as global variables. \n",
        "    **myFavouriteBand** is a global variable, so it is accessible from within the **getBandRating** function, and we can use it to determine a band's rating. We can also use it outside of the function, such as when we pass it to the print function to display it:"
      ]
    },
    {
      "cell_type": "code",
      "metadata": {
        "id": "dBwv6XYjCXgN",
        "colab_type": "code",
        "colab": {}
      },
      "source": [
        "myFavouriteBand = \"AC/DC\"\n",
        "\n",
        "def getBandRating(bandname):\n",
        "    if bandname == myFavouriteBand:\n",
        "        return 10.0\n",
        "    else:\n",
        "        return 0.0\n",
        "\n",
        "print(\"AC/DC's rating is:\", getBandRating(\"AC/DC\"))\n",
        "print(\"Deep Purple's rating is:\",getBandRating(\"Deep Purple\"))\n",
        "print(\"My favourite band is:\", myFavouriteBand)"
      ],
      "execution_count": 0,
      "outputs": []
    },
    {
      "cell_type": "markdown",
      "metadata": {
        "id": "V-C5xJBICXgO",
        "colab_type": "text"
      },
      "source": [
        " Take a look at this modified version of our code. Now the **myFavouriteBand** variable is defined within the **getBandRating** function. A variable that is defined within a function is said to be a local variable of that function. That means that it is only accessible from within the function in which it is defined. Our **getBandRating** function will still work, because **myFavouriteBand** is still defined within the function. However, we can no longer print **myFavouriteBand** outside our function, because it is a local variable of our **getBandRating** function; it is only defined within the **getBandRating** function:"
      ]
    },
    {
      "cell_type": "code",
      "metadata": {
        "id": "dD092_TZCXgO",
        "colab_type": "code",
        "colab": {}
      },
      "source": [
        "def getBandRating(bandname):\n",
        "    myFavouriteBand = \"AC/DC\"\n",
        "    if bandname == myFavouriteBand:\n",
        "        return 10.0\n",
        "    else:\n",
        "        return 0.0\n",
        "\n",
        "print(\"AC/DC's rating is: \", getBandRating(\"AC/DC\"))\n",
        "print(\"Deep Purple's rating is: \", getBandRating(\"Deep Purple\"))\n",
        "print(\"My favourite band is\", myFavouriteBand)"
      ],
      "execution_count": 0,
      "outputs": []
    },
    {
      "cell_type": "markdown",
      "metadata": {
        "id": "Db0WI2GBCXgP",
        "colab_type": "text"
      },
      "source": [
        " Finally, take a look at this example. We now have two **myFavouriteBand** variable definitions. The first one of these has a global scope, and the second of them is a local variable within the **getBandRating** function. Within the **getBandRating** function, the local variable takes precedence. **Deep Purple** will receive a rating of 10.0 when passed to the **getBandRating** function. However, outside of the **getBandRating** function, the **getBandRating** s local variable is not defined, so the **myFavouriteBand** variable we print is the global variable, which has a value of **AC/DC**:"
      ]
    },
    {
      "cell_type": "code",
      "metadata": {
        "id": "9YqF4RE5CXgQ",
        "colab_type": "code",
        "colab": {}
      },
      "source": [
        "myFavouriteBand = \"AC/DC\"\n",
        "\n",
        "def getBandRating(bandname):\n",
        "    myFavouriteBand = \"Deep Purple\"\n",
        "    if bandname == myFavouriteBand:\n",
        "        return 10.0\n",
        "    else:\n",
        "        return 0.0\n",
        "\n",
        "print(\"AC/DC's rating is:\",getBandRating(\"AC/DC\"))\n",
        "print(\"Deep Purple's rating is: \",getBandRating(\"Deep Purple\"))\n",
        "print(\"My favourite band is:\",myFavouriteBand)"
      ],
      "execution_count": 0,
      "outputs": []
    }
  ]
}