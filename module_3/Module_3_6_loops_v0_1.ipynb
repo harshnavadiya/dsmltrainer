{
  "nbformat": 4,
  "nbformat_minor": 0,
  "metadata": {
    "colab": {
      "name": "Module_3.6_loops_v0.1.ipynb",
      "version": "0.3.2",
      "provenance": [],
      "collapsed_sections": [],
      "include_colab_link": true
    },
    "language_info": {
      "codemirror_mode": {
        "name": "ipython",
        "version": 3
      },
      "file_extension": ".py",
      "mimetype": "text/x-python",
      "name": "python",
      "nbconvert_exporter": "python",
      "pygments_lexer": "ipython3",
      "version": "3.6.5"
    },
    "kernelspec": {
      "display_name": "Python 3",
      "language": "python",
      "name": "python3"
    }
  },
  "cells": [
    {
      "cell_type": "markdown",
      "metadata": {
        "id": "view-in-github",
        "colab_type": "text"
      },
      "source": [
        "<a href=\"https://colab.research.google.com/github/harshnavadiya/dsmltrainer/blob/master/module_3/Module_3_6_loops_v0_1.ipynb\" target=\"_parent\"><img src=\"https://colab.research.google.com/assets/colab-badge.svg\" alt=\"Open In Colab\"/></a>"
      ]
    },
    {
      "cell_type": "markdown",
      "metadata": {
        "id": "IkPo2R5rvSLu",
        "colab_type": "text"
      },
      "source": [
        "LOOPS  IN PYTHON"
      ]
    },
    {
      "cell_type": "markdown",
      "metadata": {
        "id": "tnae-WmpvSLu",
        "colab_type": "text"
      },
      "source": [
        "## Table of Contents\n",
        "\n",
        "\n",
        "<div class=\"alert alert-block alert-info\" style=\"margin-top: 20px\">\n",
        "<li><a href=\"#ref1\">For Loops</a></p></li>\n",
        "<li><a href=\"#ref2\">While Loops </a></p></li>\n",
        "<br>\n",
        "<p></p>\n",
        "Estimated Time Needed: <strong>15 min</strong>\n",
        "</div>\n",
        "\n",
        "<hr>"
      ]
    },
    {
      "cell_type": "markdown",
      "metadata": {
        "id": "x2Y4oQkOvSLv",
        "colab_type": "text"
      },
      "source": [
        "<a id=\"ref1\"></a>\n",
        "<center><h2>For Loops</h2></center>"
      ]
    },
    {
      "cell_type": "markdown",
      "metadata": {
        "id": "uPxZH1Q9vSLv",
        "colab_type": "text"
      },
      "source": [
        "Sometimes, you might want to repeat a given operation many times. Repeated executions like this are performed by **loops**. We will look at two types of loops, **for** loops and **while** loops.\n",
        "\n",
        "Before we discuss loops lets discuss the **range** object. It is helpful to think of the range object as an ordered list. For now, let's look at the simplest case. If we would like to generate a sequence that contains three elements ordered from 0 to 2 we simply use the following command:"
      ]
    },
    {
      "cell_type": "code",
      "metadata": {
        "id": "vp0okc1nvSLw",
        "colab_type": "code",
        "colab": {}
      },
      "source": [
        "range(3)"
      ],
      "execution_count": 0,
      "outputs": []
    },
    {
      "cell_type": "markdown",
      "metadata": {
        "id": "fX10NOP8vSLy",
        "colab_type": "text"
      },
      "source": [
        "<a ><img src = \"https://ibm.box.com/shared/static/mxzjehamhqq5dljnxeh0vwqlju67j6z8.png\" width = 300, align = \"center\"></a>\n",
        "  <h4 align=center>:Example of range function.\n",
        "\n",
        "  </h4> \n",
        "\n"
      ]
    },
    {
      "cell_type": "markdown",
      "metadata": {
        "id": "FYsCGmsavSLz",
        "colab_type": "text"
      },
      "source": [
        "### The `for` loop\n",
        "The **for** loop enables you to execute a code block multiple times. For example, you would use this if you would like to print out every element in a list.    \n",
        "Let's try to use a **for** loop to print all the years presented in the list  **dates**:"
      ]
    },
    {
      "cell_type": "markdown",
      "metadata": {
        "id": "YTf8VqLBvSLz",
        "colab_type": "text"
      },
      "source": [
        "This can be done as follows:"
      ]
    },
    {
      "cell_type": "code",
      "metadata": {
        "id": "NoKpjbLWvSL0",
        "colab_type": "code",
        "colab": {}
      },
      "source": [
        "dates = [1982,1980,1973]\n",
        "N=len(dates)\n",
        "\n",
        "for i in range(N):\n",
        "     \n",
        "    print(dates[i])     "
      ],
      "execution_count": 0,
      "outputs": []
    },
    {
      "cell_type": "markdown",
      "metadata": {
        "id": "PhqFCNAWvSL2",
        "colab_type": "text"
      },
      "source": [
        "The code in the indent is executed **N** times, each time the value of **i** is increased by 1 for every execution. The statement executed is to** print** out the value in the list at index **i** as shown here:\n"
      ]
    },
    {
      "cell_type": "markdown",
      "metadata": {
        "id": "_pX7jEIEvSL2",
        "colab_type": "text"
      },
      "source": [
        "<a ><img src = \"https://ibm.box.com/shared/static/w021psh5dtxcl2qheyc5d19d8tik7vq3.gif\" width = 1000, align = \"center\"></a>\n",
        "  <h4 align=center>  Example of printing out the elements of a list.\n",
        "  </h4> \n"
      ]
    },
    {
      "cell_type": "markdown",
      "metadata": {
        "id": "PNTKHHHuvSL3",
        "colab_type": "text"
      },
      "source": [
        "In this example we can print out a sequence of numbers from 0 to 7:"
      ]
    },
    {
      "cell_type": "code",
      "metadata": {
        "id": "UrHAzJtPvSL3",
        "colab_type": "code",
        "colab": {}
      },
      "source": [
        "for i in range(0,8):\n",
        "    print(i)"
      ],
      "execution_count": 0,
      "outputs": []
    },
    {
      "cell_type": "markdown",
      "metadata": {
        "id": "-g7fKIe5vSL5",
        "colab_type": "text"
      },
      "source": [
        "#### Write a for loop the prints out all the element between -5 and 5 using the range function."
      ]
    },
    {
      "cell_type": "markdown",
      "metadata": {
        "id": "3mV7gihrvSL6",
        "colab_type": "text"
      },
      "source": [
        "In Python we can directly access the elements in the list as follows: "
      ]
    },
    {
      "cell_type": "code",
      "metadata": {
        "id": "aeAY_FLwvSL7",
        "colab_type": "code",
        "colab": {}
      },
      "source": [
        "for year in dates:  \n",
        "    print(year)  \n",
        " "
      ],
      "execution_count": 0,
      "outputs": []
    },
    {
      "cell_type": "markdown",
      "metadata": {
        "id": "RttWVScPvSL9",
        "colab_type": "text"
      },
      "source": [
        "For each iteration, the value of the variable **years** behaves like the value of **dates[i]** in the  first example:\n"
      ]
    },
    {
      "cell_type": "markdown",
      "metadata": {
        "id": "OSMnbVCnvSL9",
        "colab_type": "text"
      },
      "source": [
        "<a ><img src = \"https://ibm.box.com/shared/static/zljq7m9stw8znv7ca2it6vkekaudfuwf.gif\" width = 1100, align = \"center\"></a>\n",
        "  <h4 align=center> Example of a for loop\n",
        "\n",
        "  </h4> "
      ]
    },
    {
      "cell_type": "markdown",
      "metadata": {
        "id": "zSj_owVkvSL-",
        "colab_type": "text"
      },
      "source": [
        "#### Print the elements of the following list:\n",
        "**Genres=[ 'rock', 'R&B', 'Soundtrack' 'R&B', 'soul', 'pop']**\n",
        "Make sure you follow Python conventions. "
      ]
    },
    {
      "cell_type": "code",
      "metadata": {
        "id": "nQKlLXbgvSL_",
        "colab_type": "code",
        "colab": {}
      },
      "source": [
        ""
      ],
      "execution_count": 0,
      "outputs": []
    },
    {
      "cell_type": "markdown",
      "metadata": {
        "id": "gXmP23RXvSMB",
        "colab_type": "text"
      },
      "source": [
        "We can change the elements in a list:"
      ]
    },
    {
      "cell_type": "code",
      "metadata": {
        "id": "boMd3dZQvSMC",
        "colab_type": "code",
        "colab": {}
      },
      "source": [
        "squares=['red','yellow','green','purple','blue ']\n",
        "\n",
        "for i in range(0,5):\n",
        "    print(\"Before square \",i, 'is',  squares[i])\n",
        "    \n",
        "    squares[i]='white'\n",
        "    \n",
        "    print(\"After square \",i, 'is',  squares[i])\n",
        "    \n",
        "    \n",
        "    "
      ],
      "execution_count": 0,
      "outputs": []
    },
    {
      "cell_type": "markdown",
      "metadata": {
        "id": "8NX4afjavSME",
        "colab_type": "text"
      },
      "source": [
        "#### Write a for loop that prints out the following list: squares=['red','yellow','green','purple','blue ']:"
      ]
    },
    {
      "cell_type": "code",
      "metadata": {
        "id": "rfwEe7oRvSME",
        "colab_type": "code",
        "colab": {}
      },
      "source": [
        ""
      ],
      "execution_count": 0,
      "outputs": []
    },
    {
      "cell_type": "markdown",
      "metadata": {
        "id": "XaqN50VKvSMG",
        "colab_type": "text"
      },
      "source": [
        " We can access the index and the elements of a list as follows: "
      ]
    },
    {
      "cell_type": "code",
      "metadata": {
        "id": "2qeAgr3PvSMH",
        "colab_type": "code",
        "colab": {}
      },
      "source": [
        "squares=['red','yellow','green','purple','blue ']\n",
        "\n",
        "for i,square in enumerate(squares):\n",
        "    print(i,square)\n",
        "    "
      ],
      "execution_count": 0,
      "outputs": []
    },
    {
      "cell_type": "markdown",
      "metadata": {
        "id": "ee5rwa36vSMI",
        "colab_type": "text"
      },
      "source": [
        " <a id=\"ref2\"></a>\n",
        "<center><h2>While Loops</h2></center>"
      ]
    },
    {
      "cell_type": "markdown",
      "metadata": {
        "id": "PWLKlBd1vSMJ",
        "colab_type": "text"
      },
      "source": [
        "As you can see, the **for** loop is used for a controlled flow of repetition. However, what if we don't know when we want to stop the loop? What if we want to keep executing a code block until a certain condition is met? The **while** loop exists as a tool for repeated execution based on a condition. The code block will keep being executed until the given logical condition returns a **False** boolean value.\n"
      ]
    },
    {
      "cell_type": "markdown",
      "metadata": {
        "id": "jthmmXetvSMJ",
        "colab_type": "text"
      },
      "source": [
        "Let’s say we would like to iterate through list **dates** and stop at the year 1973, then print out the number of iterations.  This can be done with the following block of code:"
      ]
    },
    {
      "cell_type": "code",
      "metadata": {
        "id": "WzddDrtmvSMK",
        "colab_type": "code",
        "colab": {}
      },
      "source": [
        "dates = [1982,1980,1973,2000]\n",
        "\n",
        "i=0;\n",
        "year=0\n",
        "while(year!=1973):\n",
        "    year=dates[i]\n",
        "    i=i+1\n",
        "    print(year)\n",
        "    \n",
        "    \n",
        "print(\"it took \", i ,\"repetitions to get out of loop\")"
      ],
      "execution_count": 0,
      "outputs": []
    },
    {
      "cell_type": "markdown",
      "metadata": {
        "id": "WMQ4eR8xvSML",
        "colab_type": "text"
      },
      "source": [
        "A while loop iterates merely until the condition in the argument  is not  met, as shown in the following figure :"
      ]
    },
    {
      "cell_type": "markdown",
      "metadata": {
        "id": "ZPJSB0OqvSMM",
        "colab_type": "text"
      },
      "source": [
        "<a ><img src = \"https://ibm.box.com/shared/static/hhe9tiskw1qqpycs4b8l2l2q58e2kn54.gif\" width = 1000, align = \"center\"></a>\n",
        "  <h4 align=center> An  Example of indices as negative numbers\n",
        "\n",
        "  </h4> "
      ]
    },
    {
      "cell_type": "markdown",
      "metadata": {
        "id": "46jjF180vSMM",
        "colab_type": "text"
      },
      "source": [
        "#### Write a while loop to display the values of the Rating of an album playlist stored in the list “PlayListRatings”. If the score is less than 6, exit the loop. The list “PlayListRatings” is given by: PlayListRatings = [10,9.5,10, 8,7.5, 5,10, 10]:\n",
        "\n"
      ]
    },
    {
      "cell_type": "code",
      "metadata": {
        "id": "MIyEzgzWvSMN",
        "colab_type": "code",
        "colab": {}
      },
      "source": [
        "PlayListRatings = [10,9.5,10,8,7.5,5,10,10]"
      ],
      "execution_count": 0,
      "outputs": []
    },
    {
      "cell_type": "markdown",
      "metadata": {
        "id": "HHC5tk6KvSMQ",
        "colab_type": "text"
      },
      "source": [
        "<hr>"
      ]
    },
    {
      "cell_type": "markdown",
      "metadata": {
        "id": "YqrZPQ4uvSMQ",
        "colab_type": "text"
      },
      "source": [
        "#### Write a while loop to copy the strings 'orange' of the list 'squares' to the list 'new_squares'. Stop and exit the loop if the value on the list is not 'orange':"
      ]
    },
    {
      "cell_type": "code",
      "metadata": {
        "id": "iyx3Z_vOvSMS",
        "colab_type": "code",
        "colab": {}
      },
      "source": [
        "squares=['orange','orange','purple','blue ','orange']\n",
        "new_squares=[];\n"
      ],
      "execution_count": 0,
      "outputs": []
    }
  ]
}