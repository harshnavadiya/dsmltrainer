{
  "nbformat": 4,
  "nbformat_minor": 0,
  "metadata": {
    "colab": {
      "name": "oops q&ans.ipynb",
      "version": "0.3.2",
      "provenance": [],
      "collapsed_sections": [],
      "include_colab_link": true
    },
    "kernelspec": {
      "name": "python3",
      "display_name": "Python 3"
    }
  },
  "cells": [
    {
      "cell_type": "markdown",
      "metadata": {
        "id": "view-in-github",
        "colab_type": "text"
      },
      "source": [
        "<a href=\"https://colab.research.google.com/github/harshnavadiya/dsmltrainer/blob/master/oops_q%26ans.ipynb\" target=\"_parent\"><img src=\"https://colab.research.google.com/assets/colab-badge.svg\" alt=\"Open In Colab\"/></a>"
      ]
    },
    {
      "cell_type": "code",
      "metadata": {
        "id": "U-HTwdeuivHn",
        "colab_type": "code",
        "colab": {}
      },
      "source": [
        ""
      ],
      "execution_count": 0,
      "outputs": []
    },
    {
      "cell_type": "markdown",
      "metadata": {
        "id": "XBE6TY6Ii5XO",
        "colab_type": "text"
      },
      "source": [
        "# OOPS\n",
        "\n",
        "\n",
        "---\n",
        "\n",
        "## Q-1:-What is Abstraction?\n",
        "### Ans:- Abstraction is the act of representing essential features without including the background details or explanations. In the computer science and software engineering domain, the abstraction principle is used to reduce complexity and allow efficient design and implementation of complex software systems.\n",
        "\n",
        "Some areas of software design and implementation where the abstraction principle is applied include programming languages (mainly in object-oriented programming languages), specification languages, control abstraction, data abstraction and the architecture of software systems.\n",
        "### Ex:-shaps:-Circle,Rectangle..\n",
        "\n",
        "\n",
        "---\n",
        "\n",
        "\n",
        "\n",
        "## Q-2:-What is Encapsulation?\n",
        "### Ans:-Encapsulation is one of the fundamental concepts in object-oriented programming (OOP). It describes the idea of bundling data and methods that work on that data within one unit, e.g., a class in Java. This concept is also often used to hide the internal representation, or state, of an object from the outside. Public,protected,private\n",
        "\n",
        "\n",
        "\n",
        "---\n",
        "\n",
        "##Q-3:-What is Polymorphism?\n",
        "###Ans:-Generally, the ability to appear in many forms. In object-oriented programming, polymorphism refers to a programming language's ability to process objects differently depending on their data type or class. More specifically, it is the ability to redefine methods for derived classes.\n",
        " it is the ability to redefine methods for derived classes. For example, given a base class shape, polymorphism enables the programmer to define different area methods for any number of derived classes, such as circles, rectangles and triangles. No matter what shape an object is, applying the area method to it will return the correct results. Polymorphism is considered to be a requirement of any true object-oriented programming language (OOPL)\n",
        "\n",
        "\n",
        "---\n",
        "\n",
        "\n",
        "##Q-4:-Design Patterns\n",
        "###Ans:-Design patterns are used to represent some of the best practices adapted by experienced object-oriented software developers. A design pattern systematically names, motivates, and explains a general design that addresses a recurring design problem in object-oriented systems. It describes the problem, the solution, when to apply the solution, and its consequences. It also gives implementation hints and examples.\n",
        "---\n",
        "##Q-5:-SQL\n",
        "###Ans:-Structured Query language (SQL) pronounced as \"S-Q-L\" or sometimes as \"See-Quel\"is actually the standard language for dealing with Relational Databases.\n",
        "\n",
        "SQL programming can be effectively used to insert, search, update, delete database records.\n",
        "\n",
        "---\n",
        "\n",
        "##Q-6:-temp table vs temp variable vs permenent temp table\n",
        "###Ans:-using tempdb isn't one of them, as spelt out in the MSDN link below.\n",
        "\n",
        "As a rule of thumb, for small to medium volumes of data and simple usage scenarios you should use table variables. (This is an overly broad guideline with of course lots of exceptions - see below and following articles.)\n",
        "\n",
        "Some points to consider when choosing between them:\n",
        "\n",
        "Temporary Tables are real tables so you can do things like CREATE INDEXes, etc. If you have large amounts of data for which accessing by index will be faster then temporary tables are a good option.\n",
        "\n",
        "Table variables can have indexes by using PRIMARY KEY or UNIQUE constraints. (If you want a non-unique index just include the primary key column as the last column in the unique constraint. If you don't have a unique column, you can use an identity column.) SQL 2014 has non-unique indexes too.\n",
        "\n",
        "Table variables don't participate in transactions and SELECTs are implicitly with NOLOCK. The transaction behaviour can be very helpful, for instance if you want to ROLLBACK midway through a procedure then table variables populated during that transaction will still be populated!\n",
        "\n",
        "Temp tables might result in stored procedures being recompiled, perhaps often. Table variables will not.\n",
        "\n",
        "You can create a temp table using SELECT INTO, which can be quicker to write (good for ad-hoc querying) and may allow you to deal with changing datatypes over time, since you don't need to define your temp table structure upfront.\n",
        "\n",
        "You can pass table variables back from functions, enabling you to encapsulate and reuse logic much easier (eg make a function to split a string into a table of values on some arbitrary delimiter).\n",
        "\n",
        "Using Table Variables within user-defined functions enables those functions to be used more widely (see CREATE FUNCTION documentation for details). If you're writing a function you should use table variables over temp tables unless there's a compelling need otherwise.\n",
        "\n",
        "Both table variables and temp tables are stored in tempdb. But table variables (since 2005) default to the collation of the current database versus temp tables which take the default collation of tempdb (ref). This means you should be aware of collation issues if using temp tables and your db collation is different to tempdb's, causing problems if you want to compare data in the temp table with data in your database.\n",
        "\n",
        "Global Temp Tables (##tmp) are another type of temp table available to all sessions and users.\n",
        "\n",
        "---\n",
        "\n",
        "##Q-7:-transaction , nested transaction\n",
        "###Ans:-A nested transaction is a database transaction that is started by an instruction within the scope of an already started transaction. Nested transactions are implemented differently in different databases. ... If a call to such a component function is made inside a BEGIN - COMMIT bracket, nested transactions occur.\n",
        "---\n",
        "##Q-8:-isnull vs coalease\n",
        "###Ans:-According to SQL Server Books Online, COALESCE \"returns the first nonnull expression among its arguments,\" and ISNULL \"replaces NULL with the specified replacement value.\" \n",
        "\n",
        "---\n",
        "\n",
        "##Q-9:-CTE\n",
        "###Ans:-Common Table Expression (CTE) is introduced in SQL Server 2005.It is a temporary result set that that be referenced in a SELECT,INSERT,UPDATE or DELETE statement that immediately follows the CTE.\n",
        "\n",
        "---\n",
        "\n",
        "##Q-10:-subquery vs join\n",
        "###Ans:-oins and subqueries are both used to combine data from different tables into a single result.  They share many similarities and differences.\n",
        "\n",
        "Subqueries can be used to return either a scalar (single) value or a row set; whereas, joins are used to return rows.\n",
        "\n",
        "A common use for a subquery may be to calculate a summary value for use in a query.  For instance we can use a subquery to help us obtain all products have a greater than average product price.\n",
        "\n",
        "\n"
      ]
    },
    {
      "cell_type": "markdown",
      "metadata": {
        "id": "5VxChW5iuDNN",
        "colab_type": "text"
      },
      "source": [
        ""
      ]
    }
  ]
}